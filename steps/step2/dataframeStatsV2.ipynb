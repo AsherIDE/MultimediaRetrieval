{
 "cells": [
  {
   "cell_type": "code",
   "execution_count": 7,
   "metadata": {},
   "outputs": [],
   "source": [
    "import pandas as pd\n",
    "import plotly.express as px"
   ]
  },
  {
   "cell_type": "code",
   "execution_count": 10,
   "metadata": {},
   "outputs": [
    {
     "data": {
      "text/html": [
       "<div>\n",
       "<style scoped>\n",
       "    .dataframe tbody tr th:only-of-type {\n",
       "        vertical-align: middle;\n",
       "    }\n",
       "\n",
       "    .dataframe tbody tr th {\n",
       "        vertical-align: top;\n",
       "    }\n",
       "\n",
       "    .dataframe thead th {\n",
       "        text-align: right;\n",
       "    }\n",
       "</style>\n",
       "<table border=\"1\" class=\"dataframe\">\n",
       "  <thead>\n",
       "    <tr style=\"text-align: right;\">\n",
       "      <th></th>\n",
       "      <th>name</th>\n",
       "      <th>class</th>\n",
       "      <th>vertices</th>\n",
       "      <th>faces</th>\n",
       "      <th>bbox</th>\n",
       "      <th>type</th>\n",
       "    </tr>\n",
       "  </thead>\n",
       "  <tbody>\n",
       "    <tr>\n",
       "      <th>0</th>\n",
       "      <td>m1337.obj</td>\n",
       "      <td>AircraftBuoyant</td>\n",
       "      <td>201</td>\n",
       "      <td>340</td>\n",
       "      <td>0.025 0.889234 0.025 0.975 0.025 0.889234</td>\n",
       "      <td>triangles</td>\n",
       "    </tr>\n",
       "    <tr>\n",
       "      <th>1</th>\n",
       "      <td>m1338.obj</td>\n",
       "      <td>AircraftBuoyant</td>\n",
       "      <td>8761</td>\n",
       "      <td>16960</td>\n",
       "      <td>0.025 0.933058 0.025 0.975 0.025 0.937901</td>\n",
       "      <td>triangles</td>\n",
       "    </tr>\n",
       "    <tr>\n",
       "      <th>2</th>\n",
       "      <td>m1339.obj</td>\n",
       "      <td>AircraftBuoyant</td>\n",
       "      <td>1878</td>\n",
       "      <td>6173</td>\n",
       "      <td>0.025 0.607072 0.025 0.975 0.025 0.626812</td>\n",
       "      <td>triangles</td>\n",
       "    </tr>\n",
       "    <tr>\n",
       "      <th>3</th>\n",
       "      <td>m1340.obj</td>\n",
       "      <td>AircraftBuoyant</td>\n",
       "      <td>778</td>\n",
       "      <td>1457</td>\n",
       "      <td>0.025 0.367686 0.025 0.975 0.025 0.367689</td>\n",
       "      <td>triangles</td>\n",
       "    </tr>\n",
       "    <tr>\n",
       "      <th>4</th>\n",
       "      <td>m1341.obj</td>\n",
       "      <td>AircraftBuoyant</td>\n",
       "      <td>425</td>\n",
       "      <td>824</td>\n",
       "      <td>0.025 0.379575 0.025 0.975 0.025 0.379575</td>\n",
       "      <td>triangles</td>\n",
       "    </tr>\n",
       "    <tr>\n",
       "      <th>...</th>\n",
       "      <td>...</td>\n",
       "      <td>...</td>\n",
       "      <td>...</td>\n",
       "      <td>...</td>\n",
       "      <td>...</td>\n",
       "      <td>...</td>\n",
       "    </tr>\n",
       "    <tr>\n",
       "      <th>2478</th>\n",
       "      <td>D00687.obj</td>\n",
       "      <td>WheelChair</td>\n",
       "      <td>8188</td>\n",
       "      <td>16268</td>\n",
       "      <td>-0.832973 0.997014 -0.383821 0.545195 -0.44659...</td>\n",
       "      <td>triangles</td>\n",
       "    </tr>\n",
       "    <tr>\n",
       "      <th>2479</th>\n",
       "      <td>D00720.obj</td>\n",
       "      <td>WheelChair</td>\n",
       "      <td>43966</td>\n",
       "      <td>83378</td>\n",
       "      <td>-1.25623 0.625036 -0.511296 0.625521 -0.426438...</td>\n",
       "      <td>triangles</td>\n",
       "    </tr>\n",
       "    <tr>\n",
       "      <th>2480</th>\n",
       "      <td>D00782.obj</td>\n",
       "      <td>WheelChair</td>\n",
       "      <td>1144</td>\n",
       "      <td>1940</td>\n",
       "      <td>-1.18257 0.70089 -0.425223 0.702418 -0.596103 ...</td>\n",
       "      <td>triangles</td>\n",
       "    </tr>\n",
       "    <tr>\n",
       "      <th>2481</th>\n",
       "      <td>D00821.obj</td>\n",
       "      <td>WheelChair</td>\n",
       "      <td>8188</td>\n",
       "      <td>16268</td>\n",
       "      <td>-0.824906 1.00177 -0.346825 0.528973 -0.468272...</td>\n",
       "      <td>triangles</td>\n",
       "    </tr>\n",
       "    <tr>\n",
       "      <th>2482</th>\n",
       "      <td>D00846.obj</td>\n",
       "      <td>WheelChair</td>\n",
       "      <td>8834</td>\n",
       "      <td>17196</td>\n",
       "      <td>-0.915155 0.949551 -0.560325 0.519415 -0.62717...</td>\n",
       "      <td>triangles</td>\n",
       "    </tr>\n",
       "  </tbody>\n",
       "</table>\n",
       "<p>2483 rows × 6 columns</p>\n",
       "</div>"
      ],
      "text/plain": [
       "            name            class  vertices  faces  \\\n",
       "0      m1337.obj  AircraftBuoyant       201    340   \n",
       "1      m1338.obj  AircraftBuoyant      8761  16960   \n",
       "2      m1339.obj  AircraftBuoyant      1878   6173   \n",
       "3      m1340.obj  AircraftBuoyant       778   1457   \n",
       "4      m1341.obj  AircraftBuoyant       425    824   \n",
       "...          ...              ...       ...    ...   \n",
       "2478  D00687.obj       WheelChair      8188  16268   \n",
       "2479  D00720.obj       WheelChair     43966  83378   \n",
       "2480  D00782.obj       WheelChair      1144   1940   \n",
       "2481  D00821.obj       WheelChair      8188  16268   \n",
       "2482  D00846.obj       WheelChair      8834  17196   \n",
       "\n",
       "                                                   bbox       type  \n",
       "0             0.025 0.889234 0.025 0.975 0.025 0.889234  triangles  \n",
       "1             0.025 0.933058 0.025 0.975 0.025 0.937901  triangles  \n",
       "2             0.025 0.607072 0.025 0.975 0.025 0.626812  triangles  \n",
       "3             0.025 0.367686 0.025 0.975 0.025 0.367689  triangles  \n",
       "4             0.025 0.379575 0.025 0.975 0.025 0.379575  triangles  \n",
       "...                                                 ...        ...  \n",
       "2478  -0.832973 0.997014 -0.383821 0.545195 -0.44659...  triangles  \n",
       "2479  -1.25623 0.625036 -0.511296 0.625521 -0.426438...  triangles  \n",
       "2480  -1.18257 0.70089 -0.425223 0.702418 -0.596103 ...  triangles  \n",
       "2481  -0.824906 1.00177 -0.346825 0.528973 -0.468272...  triangles  \n",
       "2482  -0.915155 0.949551 -0.560325 0.519415 -0.62717...  triangles  \n",
       "\n",
       "[2483 rows x 6 columns]"
      ]
     },
     "metadata": {},
     "output_type": "display_data"
    }
   ],
   "source": [
    "df = pd.read_csv(\"objStats.csv\")\n",
    "df_resampled = pd.read_csv(\"objStatsResampled.csv\")\n",
    "display(df)"
   ]
  },
  {
   "cell_type": "code",
   "execution_count": 3,
   "metadata": {},
   "outputs": [
    {
     "data": {
      "text/plain": [
       "class\n",
       "Hat                 15\n",
       "Sign                15\n",
       "AircraftBuoyant     16\n",
       "Wheel               17\n",
       "Fish                20\n",
       "                  ... \n",
       "PlantIndoors        65\n",
       "Insect              66\n",
       "Car                 89\n",
       "Humanoid           142\n",
       "Jet                143\n",
       "Length: 69, dtype: int64"
      ]
     },
     "execution_count": 3,
     "metadata": {},
     "output_type": "execute_result"
    }
   ],
   "source": [
    "# [General info] largest and smallest class\n",
    "df.groupby(\"class\").size().sort_values()"
   ]
  },
  {
   "cell_type": "code",
   "execution_count": 6,
   "metadata": {},
   "outputs": [
    {
     "data": {
      "text/html": [
       "<div>\n",
       "<style scoped>\n",
       "    .dataframe tbody tr th:only-of-type {\n",
       "        vertical-align: middle;\n",
       "    }\n",
       "\n",
       "    .dataframe tbody tr th {\n",
       "        vertical-align: top;\n",
       "    }\n",
       "\n",
       "    .dataframe thead th {\n",
       "        text-align: right;\n",
       "    }\n",
       "</style>\n",
       "<table border=\"1\" class=\"dataframe\">\n",
       "  <thead>\n",
       "    <tr style=\"text-align: right;\">\n",
       "      <th></th>\n",
       "      <th>name</th>\n",
       "      <th>class</th>\n",
       "      <th>vertices</th>\n",
       "      <th>faces</th>\n",
       "      <th>bbox</th>\n",
       "      <th>type</th>\n",
       "    </tr>\n",
       "  </thead>\n",
       "  <tbody>\n",
       "    <tr>\n",
       "      <th>707</th>\n",
       "      <td>D00297.obj</td>\n",
       "      <td>Drum</td>\n",
       "      <td>5561</td>\n",
       "      <td>33351</td>\n",
       "      <td>1.09723 1.68205 0.439181 0.967894 -0.000222921...</td>\n",
       "      <td>triangles</td>\n",
       "    </tr>\n",
       "    <tr>\n",
       "      <th>922</th>\n",
       "      <td>D00397.obj</td>\n",
       "      <td>Helicopter</td>\n",
       "      <td>5567</td>\n",
       "      <td>7990</td>\n",
       "      <td>-0.812536 0.953353 -0.539772 0.837998 -0.28862...</td>\n",
       "      <td>triangles</td>\n",
       "    </tr>\n",
       "    <tr>\n",
       "      <th>764</th>\n",
       "      <td>m620.obj</td>\n",
       "      <td>FloorLamp</td>\n",
       "      <td>5584</td>\n",
       "      <td>11058</td>\n",
       "      <td>0.025 0.124357 0.025 0.975 0.025 0.116258</td>\n",
       "      <td>triangles</td>\n",
       "    </tr>\n",
       "    <tr>\n",
       "      <th>2376</th>\n",
       "      <td>D00926.obj</td>\n",
       "      <td>Truck</td>\n",
       "      <td>5602</td>\n",
       "      <td>39495</td>\n",
       "      <td>9.17465 11.7069 0.0 19.3774 0.00170373 4.14456</td>\n",
       "      <td>triangles</td>\n",
       "    </tr>\n",
       "    <tr>\n",
       "      <th>1066</th>\n",
       "      <td>m370.obj</td>\n",
       "      <td>HumanHead</td>\n",
       "      <td>5641</td>\n",
       "      <td>10543</td>\n",
       "      <td>0.025 0.517741 0.025 0.975 0.025 0.646433</td>\n",
       "      <td>triangles</td>\n",
       "    </tr>\n",
       "    <tr>\n",
       "      <th>1090</th>\n",
       "      <td>m143.obj</td>\n",
       "      <td>Humanoid</td>\n",
       "      <td>5647</td>\n",
       "      <td>10737</td>\n",
       "      <td>0.025 0.408698 0.025 0.975 0.025 0.189718</td>\n",
       "      <td>triangles</td>\n",
       "    </tr>\n",
       "    <tr>\n",
       "      <th>719</th>\n",
       "      <td>D00980.obj</td>\n",
       "      <td>Drum</td>\n",
       "      <td>5653</td>\n",
       "      <td>33699</td>\n",
       "      <td>0.0 0.5834 0.0 0.5834 0.0 0.9578</td>\n",
       "      <td>triangles</td>\n",
       "    </tr>\n",
       "  </tbody>\n",
       "</table>\n",
       "</div>"
      ],
      "text/plain": [
       "            name       class  vertices  faces  \\\n",
       "707   D00297.obj        Drum      5561  33351   \n",
       "922   D00397.obj  Helicopter      5567   7990   \n",
       "764     m620.obj   FloorLamp      5584  11058   \n",
       "2376  D00926.obj       Truck      5602  39495   \n",
       "1066    m370.obj   HumanHead      5641  10543   \n",
       "1090    m143.obj    Humanoid      5647  10737   \n",
       "719   D00980.obj        Drum      5653  33699   \n",
       "\n",
       "                                                   bbox       type  \n",
       "707   1.09723 1.68205 0.439181 0.967894 -0.000222921...  triangles  \n",
       "922   -0.812536 0.953353 -0.539772 0.837998 -0.28862...  triangles  \n",
       "764           0.025 0.124357 0.025 0.975 0.025 0.116258  triangles  \n",
       "2376     9.17465 11.7069 0.0 19.3774 0.00170373 4.14456  triangles  \n",
       "1066          0.025 0.517741 0.025 0.975 0.025 0.646433  triangles  \n",
       "1090          0.025 0.408698 0.025 0.975 0.025 0.189718  triangles  \n",
       "719                    0.0 0.5834 0.0 0.5834 0.0 0.9578  triangles  "
      ]
     },
     "metadata": {},
     "output_type": "display_data"
    },
    {
     "data": {
      "text/html": [
       "<div>\n",
       "<style scoped>\n",
       "    .dataframe tbody tr th:only-of-type {\n",
       "        vertical-align: middle;\n",
       "    }\n",
       "\n",
       "    .dataframe tbody tr th {\n",
       "        vertical-align: top;\n",
       "    }\n",
       "\n",
       "    .dataframe thead th {\n",
       "        text-align: right;\n",
       "    }\n",
       "</style>\n",
       "<table border=\"1\" class=\"dataframe\">\n",
       "  <thead>\n",
       "    <tr style=\"text-align: right;\">\n",
       "      <th></th>\n",
       "      <th>name</th>\n",
       "      <th>class</th>\n",
       "      <th>vertices</th>\n",
       "      <th>faces</th>\n",
       "      <th>bbox</th>\n",
       "      <th>type</th>\n",
       "    </tr>\n",
       "  </thead>\n",
       "  <tbody>\n",
       "    <tr>\n",
       "      <th>959</th>\n",
       "      <td>m1323.obj</td>\n",
       "      <td>Helicopter</td>\n",
       "      <td>6136</td>\n",
       "      <td>10656</td>\n",
       "      <td>0.025 0.802266 0.025 0.474942 0.025 0.975</td>\n",
       "      <td>triangles</td>\n",
       "    </tr>\n",
       "    <tr>\n",
       "      <th>1734</th>\n",
       "      <td>m1011.obj</td>\n",
       "      <td>PlantIndoors</td>\n",
       "      <td>7529</td>\n",
       "      <td>10680</td>\n",
       "      <td>0.025 0.870745 0.025 0.975 0.025 0.857125</td>\n",
       "      <td>triangles</td>\n",
       "    </tr>\n",
       "    <tr>\n",
       "      <th>498</th>\n",
       "      <td>m1659.obj</td>\n",
       "      <td>City</td>\n",
       "      <td>5804</td>\n",
       "      <td>10692</td>\n",
       "      <td>0.025 0.975 0.025 0.345009 0.025 0.975</td>\n",
       "      <td>triangles</td>\n",
       "    </tr>\n",
       "    <tr>\n",
       "      <th>491</th>\n",
       "      <td>D01133.obj</td>\n",
       "      <td>City</td>\n",
       "      <td>5804</td>\n",
       "      <td>10712</td>\n",
       "      <td>0.025 0.975 0.025 0.345009 0.025 0.975</td>\n",
       "      <td>triangles</td>\n",
       "    </tr>\n",
       "    <tr>\n",
       "      <th>1983</th>\n",
       "      <td>D00631.obj</td>\n",
       "      <td>Shelf</td>\n",
       "      <td>6295</td>\n",
       "      <td>10712</td>\n",
       "      <td>-0.833323 1.00919 -0.725468 0.830073 -0.126855...</td>\n",
       "      <td>triangles</td>\n",
       "    </tr>\n",
       "    <tr>\n",
       "      <th>1090</th>\n",
       "      <td>m143.obj</td>\n",
       "      <td>Humanoid</td>\n",
       "      <td>5647</td>\n",
       "      <td>10737</td>\n",
       "      <td>0.025 0.408698 0.025 0.975 0.025 0.189718</td>\n",
       "      <td>triangles</td>\n",
       "    </tr>\n",
       "  </tbody>\n",
       "</table>\n",
       "</div>"
      ],
      "text/plain": [
       "            name         class  vertices  faces  \\\n",
       "959    m1323.obj    Helicopter      6136  10656   \n",
       "1734   m1011.obj  PlantIndoors      7529  10680   \n",
       "498    m1659.obj          City      5804  10692   \n",
       "491   D01133.obj          City      5804  10712   \n",
       "1983  D00631.obj         Shelf      6295  10712   \n",
       "1090    m143.obj      Humanoid      5647  10737   \n",
       "\n",
       "                                                   bbox       type  \n",
       "959           0.025 0.802266 0.025 0.474942 0.025 0.975  triangles  \n",
       "1734          0.025 0.870745 0.025 0.975 0.025 0.857125  triangles  \n",
       "498              0.025 0.975 0.025 0.345009 0.025 0.975  triangles  \n",
       "491              0.025 0.975 0.025 0.345009 0.025 0.975  triangles  \n",
       "1983  -0.833323 1.00919 -0.725468 0.830073 -0.126855...  triangles  \n",
       "1090          0.025 0.408698 0.025 0.975 0.025 0.189718  triangles  "
      ]
     },
     "metadata": {},
     "output_type": "display_data"
    }
   ],
   "source": [
    "# [General info] average class (5609)\n",
    "display(df[(df[\"vertices\"] > 5559) & (df[\"vertices\"] < 5659)].sort_values([\"vertices\", \"faces\"]))\n",
    "display(df[(df[\"faces\"] > 10641) & (df[\"faces\"] < 10741)].sort_values([\"faces\", \"vertices\"]))"
   ]
  },
  {
   "cell_type": "code",
   "execution_count": null,
   "metadata": {},
   "outputs": [],
   "source": [
    "# [General info] display City of Humanoid class because it seems quite average"
   ]
  },
  {
   "cell_type": "code",
   "execution_count": 48,
   "metadata": {},
   "outputs": [
    {
     "data": {
      "text/html": [
       "<div>\n",
       "<style scoped>\n",
       "    .dataframe tbody tr th:only-of-type {\n",
       "        vertical-align: middle;\n",
       "    }\n",
       "\n",
       "    .dataframe tbody tr th {\n",
       "        vertical-align: top;\n",
       "    }\n",
       "\n",
       "    .dataframe thead th {\n",
       "        text-align: right;\n",
       "    }\n",
       "</style>\n",
       "<table border=\"1\" class=\"dataframe\">\n",
       "  <thead>\n",
       "    <tr style=\"text-align: right;\">\n",
       "      <th></th>\n",
       "      <th>name</th>\n",
       "      <th>class</th>\n",
       "      <th>vertices</th>\n",
       "      <th>faces</th>\n",
       "      <th>bbox</th>\n",
       "      <th>type</th>\n",
       "    </tr>\n",
       "  </thead>\n",
       "  <tbody>\n",
       "    <tr>\n",
       "      <th>665</th>\n",
       "      <td>D01121.obj</td>\n",
       "      <td>Door</td>\n",
       "      <td>16</td>\n",
       "      <td>16</td>\n",
       "      <td>0.025 0.567857 0.025 0.975 0.025 0.0521429</td>\n",
       "      <td>triangles</td>\n",
       "    </tr>\n",
       "    <tr>\n",
       "      <th>678</th>\n",
       "      <td>m1708.obj</td>\n",
       "      <td>Door</td>\n",
       "      <td>16</td>\n",
       "      <td>16</td>\n",
       "      <td>0.025 0.567857 0.025 0.975 0.025 0.052143</td>\n",
       "      <td>triangles</td>\n",
       "    </tr>\n",
       "    <tr>\n",
       "      <th>676</th>\n",
       "      <td>D01194.obj</td>\n",
       "      <td>Door</td>\n",
       "      <td>18</td>\n",
       "      <td>18</td>\n",
       "      <td>0.025 0.0373238 0.025 0.975 0.025 0.528047</td>\n",
       "      <td>triangles</td>\n",
       "    </tr>\n",
       "    <tr>\n",
       "      <th>996</th>\n",
       "      <td>m434.obj</td>\n",
       "      <td>House</td>\n",
       "      <td>22</td>\n",
       "      <td>26</td>\n",
       "      <td>0.025 0.658333 0.025 0.975 0.025 0.975</td>\n",
       "      <td>triangles</td>\n",
       "    </tr>\n",
       "    <tr>\n",
       "      <th>1587</th>\n",
       "      <td>m784.obj</td>\n",
       "      <td>MultiSeat</td>\n",
       "      <td>24</td>\n",
       "      <td>36</td>\n",
       "      <td>0.025 0.975 0.025 0.38125 0.025 0.277356</td>\n",
       "      <td>triangles</td>\n",
       "    </tr>\n",
       "    <tr>\n",
       "      <th>...</th>\n",
       "      <td>...</td>\n",
       "      <td>...</td>\n",
       "      <td>...</td>\n",
       "      <td>...</td>\n",
       "      <td>...</td>\n",
       "      <td>...</td>\n",
       "    </tr>\n",
       "    <tr>\n",
       "      <th>1927</th>\n",
       "      <td>D00564.obj</td>\n",
       "      <td>Rocket</td>\n",
       "      <td>73398</td>\n",
       "      <td>24466</td>\n",
       "      <td>-1.19684 0.594097 -0.138064 0.245138 -0.188417...</td>\n",
       "      <td>triangles</td>\n",
       "    </tr>\n",
       "    <tr>\n",
       "      <th>2095</th>\n",
       "      <td>D00058.obj</td>\n",
       "      <td>Skyscraper</td>\n",
       "      <td>73697</td>\n",
       "      <td>53448</td>\n",
       "      <td>-0.866731 0.966261 -0.316891 0.236562 -0.18560...</td>\n",
       "      <td>triangles</td>\n",
       "    </tr>\n",
       "    <tr>\n",
       "      <th>1703</th>\n",
       "      <td>D00049.obj</td>\n",
       "      <td>PlantIndoors</td>\n",
       "      <td>78288</td>\n",
       "      <td>26096</td>\n",
       "      <td>-0.589232 1.01327 -0.512441 1.15418 -0.661781 ...</td>\n",
       "      <td>triangles</td>\n",
       "    </tr>\n",
       "    <tr>\n",
       "      <th>1709</th>\n",
       "      <td>D00238.obj</td>\n",
       "      <td>PlantIndoors</td>\n",
       "      <td>90234</td>\n",
       "      <td>30078</td>\n",
       "      <td>-0.785201 0.767284 -0.874954 0.899353 -0.77848...</td>\n",
       "      <td>triangles</td>\n",
       "    </tr>\n",
       "    <tr>\n",
       "      <th>1708</th>\n",
       "      <td>D00159.obj</td>\n",
       "      <td>PlantIndoors</td>\n",
       "      <td>98256</td>\n",
       "      <td>32752</td>\n",
       "      <td>-1.02299 0.735003 -0.76005 0.812815 -0.766566 ...</td>\n",
       "      <td>triangles</td>\n",
       "    </tr>\n",
       "  </tbody>\n",
       "</table>\n",
       "<p>2483 rows × 6 columns</p>\n",
       "</div>"
      ],
      "text/plain": [
       "            name         class  vertices  faces  \\\n",
       "665   D01121.obj          Door        16     16   \n",
       "678    m1708.obj          Door        16     16   \n",
       "676   D01194.obj          Door        18     18   \n",
       "996     m434.obj         House        22     26   \n",
       "1587    m784.obj     MultiSeat        24     36   \n",
       "...          ...           ...       ...    ...   \n",
       "1927  D00564.obj        Rocket     73398  24466   \n",
       "2095  D00058.obj    Skyscraper     73697  53448   \n",
       "1703  D00049.obj  PlantIndoors     78288  26096   \n",
       "1709  D00238.obj  PlantIndoors     90234  30078   \n",
       "1708  D00159.obj  PlantIndoors     98256  32752   \n",
       "\n",
       "                                                   bbox       type  \n",
       "665          0.025 0.567857 0.025 0.975 0.025 0.0521429  triangles  \n",
       "678           0.025 0.567857 0.025 0.975 0.025 0.052143  triangles  \n",
       "676          0.025 0.0373238 0.025 0.975 0.025 0.528047  triangles  \n",
       "996              0.025 0.658333 0.025 0.975 0.025 0.975  triangles  \n",
       "1587           0.025 0.975 0.025 0.38125 0.025 0.277356  triangles  \n",
       "...                                                 ...        ...  \n",
       "1927  -1.19684 0.594097 -0.138064 0.245138 -0.188417...  triangles  \n",
       "2095  -0.866731 0.966261 -0.316891 0.236562 -0.18560...  triangles  \n",
       "1703  -0.589232 1.01327 -0.512441 1.15418 -0.661781 ...  triangles  \n",
       "1709  -0.785201 0.767284 -0.874954 0.899353 -0.77848...  triangles  \n",
       "1708  -1.02299 0.735003 -0.76005 0.812815 -0.766566 ...  triangles  \n",
       "\n",
       "[2483 rows x 6 columns]"
      ]
     },
     "metadata": {},
     "output_type": "display_data"
    },
    {
     "name": "stdout",
     "output_type": "stream",
     "text": [
      "5609.783326621023\n",
      "10691.52597664116\n"
     ]
    },
    {
     "data": {
      "text/html": [
       "<div>\n",
       "<style scoped>\n",
       "    .dataframe tbody tr th:only-of-type {\n",
       "        vertical-align: middle;\n",
       "    }\n",
       "\n",
       "    .dataframe tbody tr th {\n",
       "        vertical-align: top;\n",
       "    }\n",
       "\n",
       "    .dataframe thead th {\n",
       "        text-align: right;\n",
       "    }\n",
       "</style>\n",
       "<table border=\"1\" class=\"dataframe\">\n",
       "  <thead>\n",
       "    <tr style=\"text-align: right;\">\n",
       "      <th></th>\n",
       "      <th>name</th>\n",
       "      <th>class</th>\n",
       "      <th>vertices</th>\n",
       "      <th>faces</th>\n",
       "      <th>bbox</th>\n",
       "      <th>type</th>\n",
       "    </tr>\n",
       "  </thead>\n",
       "  <tbody>\n",
       "    <tr>\n",
       "      <th>752</th>\n",
       "      <td>D00580.obj</td>\n",
       "      <td>FloorLamp</td>\n",
       "      <td>51</td>\n",
       "      <td>30</td>\n",
       "      <td>-1.1165982 1.0673761 -16.451353 17.630772 -0.5...</td>\n",
       "      <td>triangles</td>\n",
       "    </tr>\n",
       "    <tr>\n",
       "      <th>716</th>\n",
       "      <td>D00709.obj</td>\n",
       "      <td>Drum</td>\n",
       "      <td>792</td>\n",
       "      <td>761</td>\n",
       "      <td>1.67266 2.04694 1.34997 1.69872 0.0 0.380591</td>\n",
       "      <td>triangles</td>\n",
       "    </tr>\n",
       "    <tr>\n",
       "      <th>2122</th>\n",
       "      <td>D00497.obj</td>\n",
       "      <td>Spoon</td>\n",
       "      <td>1040</td>\n",
       "      <td>778</td>\n",
       "      <td>0.006005 0.054753 0.035645 0.058796 -0.0 0.248042</td>\n",
       "      <td>triangles</td>\n",
       "    </tr>\n",
       "    <tr>\n",
       "      <th>45</th>\n",
       "      <td>m59.obj</td>\n",
       "      <td>AquaticAnimal</td>\n",
       "      <td>1300</td>\n",
       "      <td>1483</td>\n",
       "      <td>0.025 0.225 0.025 0.225 0.025 0.975</td>\n",
       "      <td>triangles</td>\n",
       "    </tr>\n",
       "    <tr>\n",
       "      <th>2436</th>\n",
       "      <td>D00598.obj</td>\n",
       "      <td>Violin</td>\n",
       "      <td>1526</td>\n",
       "      <td>1633</td>\n",
       "      <td>-8.06654 52551.543 -13432.688 -1.72402 -0.5266...</td>\n",
       "      <td>triangles</td>\n",
       "    </tr>\n",
       "    <tr>\n",
       "      <th>...</th>\n",
       "      <td>...</td>\n",
       "      <td>...</td>\n",
       "      <td>...</td>\n",
       "      <td>...</td>\n",
       "      <td>...</td>\n",
       "      <td>...</td>\n",
       "    </tr>\n",
       "    <tr>\n",
       "      <th>998</th>\n",
       "      <td>m436.obj</td>\n",
       "      <td>House</td>\n",
       "      <td>12567</td>\n",
       "      <td>22400</td>\n",
       "      <td>0.025 0.975 0.025 0.351567 0.025 0.485656</td>\n",
       "      <td>triangles</td>\n",
       "    </tr>\n",
       "    <tr>\n",
       "      <th>1043</th>\n",
       "      <td>m347.obj</td>\n",
       "      <td>HumanHead</td>\n",
       "      <td>12676</td>\n",
       "      <td>23874</td>\n",
       "      <td>0.025683 0.577333 0.025 0.967741 0.039263 0.76...</td>\n",
       "      <td>triangles</td>\n",
       "    </tr>\n",
       "    <tr>\n",
       "      <th>269</th>\n",
       "      <td>m391.obj</td>\n",
       "      <td>BuildingNonResidential</td>\n",
       "      <td>13048</td>\n",
       "      <td>23873</td>\n",
       "      <td>0.025 0.6007801 0.0294632 0.804944 0.025004908...</td>\n",
       "      <td>triangles</td>\n",
       "    </tr>\n",
       "    <tr>\n",
       "      <th>1784</th>\n",
       "      <td>m978.obj</td>\n",
       "      <td>PlantWildNonTree</td>\n",
       "      <td>13656</td>\n",
       "      <td>21264</td>\n",
       "      <td>0.025 0.410114 0.025 0.971222 0.025 0.465016</td>\n",
       "      <td>triangles</td>\n",
       "    </tr>\n",
       "    <tr>\n",
       "      <th>1859</th>\n",
       "      <td>D00317.obj</td>\n",
       "      <td>RectangleTable</td>\n",
       "      <td>14018</td>\n",
       "      <td>24728</td>\n",
       "      <td>-1.14798 0.649039 -0.923051 0.875979 -0.032534...</td>\n",
       "      <td>triangles</td>\n",
       "    </tr>\n",
       "  </tbody>\n",
       "</table>\n",
       "<p>2483 rows × 6 columns</p>\n",
       "</div>"
      ],
      "text/plain": [
       "            name                   class  vertices  faces  \\\n",
       "752   D00580.obj               FloorLamp        51     30   \n",
       "716   D00709.obj                    Drum       792    761   \n",
       "2122  D00497.obj                   Spoon      1040    778   \n",
       "45       m59.obj           AquaticAnimal      1300   1483   \n",
       "2436  D00598.obj                  Violin      1526   1633   \n",
       "...          ...                     ...       ...    ...   \n",
       "998     m436.obj                   House     12567  22400   \n",
       "1043    m347.obj               HumanHead     12676  23874   \n",
       "269     m391.obj  BuildingNonResidential     13048  23873   \n",
       "1784    m978.obj        PlantWildNonTree     13656  21264   \n",
       "1859  D00317.obj          RectangleTable     14018  24728   \n",
       "\n",
       "                                                   bbox       type  \n",
       "752   -1.1165982 1.0673761 -16.451353 17.630772 -0.5...  triangles  \n",
       "716        1.67266 2.04694 1.34997 1.69872 0.0 0.380591  triangles  \n",
       "2122  0.006005 0.054753 0.035645 0.058796 -0.0 0.248042  triangles  \n",
       "45                  0.025 0.225 0.025 0.225 0.025 0.975  triangles  \n",
       "2436  -8.06654 52551.543 -13432.688 -1.72402 -0.5266...  triangles  \n",
       "...                                                 ...        ...  \n",
       "998           0.025 0.975 0.025 0.351567 0.025 0.485656  triangles  \n",
       "1043  0.025683 0.577333 0.025 0.967741 0.039263 0.76...  triangles  \n",
       "269   0.025 0.6007801 0.0294632 0.804944 0.025004908...  triangles  \n",
       "1784       0.025 0.410114 0.025 0.971222 0.025 0.465016  triangles  \n",
       "1859  -1.14798 0.649039 -0.923051 0.875979 -0.032534...  triangles  \n",
       "\n",
       "[2483 rows x 6 columns]"
      ]
     },
     "metadata": {},
     "output_type": "display_data"
    },
    {
     "name": "stdout",
     "output_type": "stream",
     "text": [
      "4213.902537253322\n",
      "7728.5453080950465\n"
     ]
    }
   ],
   "source": [
    "# [Comparative info] faces and verts before and after\n",
    "\n",
    "# before\n",
    "display(df.sort_values([\"vertices\", \"faces\"]))\n",
    "print(df[\"vertices\"].mean())\n",
    "print(df[\"faces\"].mean())\n",
    "\n",
    "# after\n",
    "display(df_resampled.sort_values([\"vertices\", \"faces\"]))\n",
    "print(df_resampled[\"vertices\"].mean())\n",
    "print(df_resampled[\"faces\"].mean())"
   ]
  },
  {
   "cell_type": "code",
   "execution_count": 50,
   "metadata": {},
   "outputs": [
    {
     "name": "stdout",
     "output_type": "stream",
     "text": [
      "       vertices   faces\n",
      "class                  \n",
      "Spoon    958.55  3291.0\n",
      "            vertices    faces\n",
      "class                        \n",
      "WheelChair   12465.0  22059.4\n"
     ]
    },
    {
     "data": {
      "text/html": [
       "<div>\n",
       "<style scoped>\n",
       "    .dataframe tbody tr th:only-of-type {\n",
       "        vertical-align: middle;\n",
       "    }\n",
       "\n",
       "    .dataframe tbody tr th {\n",
       "        vertical-align: top;\n",
       "    }\n",
       "\n",
       "    .dataframe thead th {\n",
       "        text-align: right;\n",
       "    }\n",
       "</style>\n",
       "<table border=\"1\" class=\"dataframe\">\n",
       "  <thead>\n",
       "    <tr style=\"text-align: right;\">\n",
       "      <th></th>\n",
       "      <th>vertices</th>\n",
       "      <th>faces</th>\n",
       "    </tr>\n",
       "    <tr>\n",
       "      <th>class</th>\n",
       "      <th></th>\n",
       "      <th></th>\n",
       "    </tr>\n",
       "  </thead>\n",
       "  <tbody>\n",
       "    <tr>\n",
       "      <th>Spoon</th>\n",
       "      <td>3135.250000</td>\n",
       "      <td>2845.800000</td>\n",
       "    </tr>\n",
       "    <tr>\n",
       "      <th>Knife</th>\n",
       "      <td>3728.740741</td>\n",
       "      <td>5144.555556</td>\n",
       "    </tr>\n",
       "    <tr>\n",
       "      <th>Violin</th>\n",
       "      <td>3863.450000</td>\n",
       "      <td>9154.500000</td>\n",
       "    </tr>\n",
       "    <tr>\n",
       "      <th>Cellphone</th>\n",
       "      <td>3865.500000</td>\n",
       "      <td>7377.000000</td>\n",
       "    </tr>\n",
       "    <tr>\n",
       "      <th>FloorLamp</th>\n",
       "      <td>3895.214286</td>\n",
       "      <td>7620.035714</td>\n",
       "    </tr>\n",
       "    <tr>\n",
       "      <th>...</th>\n",
       "      <td>...</td>\n",
       "      <td>...</td>\n",
       "    </tr>\n",
       "    <tr>\n",
       "      <th>PianoBoard</th>\n",
       "      <td>4684.600000</td>\n",
       "      <td>5436.550000</td>\n",
       "    </tr>\n",
       "    <tr>\n",
       "      <th>BuildingNonResidential</th>\n",
       "      <td>4780.977273</td>\n",
       "      <td>8902.613636</td>\n",
       "    </tr>\n",
       "    <tr>\n",
       "      <th>PlantWildNonTree</th>\n",
       "      <td>4927.259259</td>\n",
       "      <td>7893.703704</td>\n",
       "    </tr>\n",
       "    <tr>\n",
       "      <th>Fish</th>\n",
       "      <td>5004.700000</td>\n",
       "      <td>8743.050000</td>\n",
       "    </tr>\n",
       "    <tr>\n",
       "      <th>WheelChair</th>\n",
       "      <td>5158.800000</td>\n",
       "      <td>9798.350000</td>\n",
       "    </tr>\n",
       "  </tbody>\n",
       "</table>\n",
       "<p>69 rows × 2 columns</p>\n",
       "</div>"
      ],
      "text/plain": [
       "                           vertices        faces\n",
       "class                                           \n",
       "Spoon                   3135.250000  2845.800000\n",
       "Knife                   3728.740741  5144.555556\n",
       "Violin                  3863.450000  9154.500000\n",
       "Cellphone               3865.500000  7377.000000\n",
       "FloorLamp               3895.214286  7620.035714\n",
       "...                             ...          ...\n",
       "PianoBoard              4684.600000  5436.550000\n",
       "BuildingNonResidential  4780.977273  8902.613636\n",
       "PlantWildNonTree        4927.259259  7893.703704\n",
       "Fish                    5004.700000  8743.050000\n",
       "WheelChair              5158.800000  9798.350000\n",
       "\n",
       "[69 rows x 2 columns]"
      ]
     },
     "metadata": {},
     "output_type": "display_data"
    }
   ],
   "source": [
    "# [Comparative info] largest and smallest vertices average after processing\n",
    "df_specific_class = df[[\"vertices\", \"faces\", \"class\"]].groupby(\"class\").mean()\n",
    "print(df_specific_class[df_specific_class.index == \"Spoon\"])\n",
    "print(df_specific_class[df_specific_class.index == \"WheelChair\"])\n",
    "\n",
    "display(df_resampled[[\"vertices\", \"faces\", \"class\"]].groupby(\"class\").mean().sort_values([\"vertices\", \"faces\"]))"
   ]
  },
  {
   "cell_type": "code",
   "execution_count": 7,
   "metadata": {},
   "outputs": [
    {
     "data": {
      "text/html": [
       "<div>\n",
       "<style scoped>\n",
       "    .dataframe tbody tr th:only-of-type {\n",
       "        vertical-align: middle;\n",
       "    }\n",
       "\n",
       "    .dataframe tbody tr th {\n",
       "        vertical-align: top;\n",
       "    }\n",
       "\n",
       "    .dataframe thead th {\n",
       "        text-align: right;\n",
       "    }\n",
       "</style>\n",
       "<table border=\"1\" class=\"dataframe\">\n",
       "  <thead>\n",
       "    <tr style=\"text-align: right;\">\n",
       "      <th></th>\n",
       "      <th>name</th>\n",
       "      <th>class</th>\n",
       "      <th>vertices</th>\n",
       "      <th>faces</th>\n",
       "      <th>bbox</th>\n",
       "      <th>type</th>\n",
       "    </tr>\n",
       "  </thead>\n",
       "  <tbody>\n",
       "    <tr>\n",
       "      <th>2121</th>\n",
       "      <td>D00474.obj</td>\n",
       "      <td>Spoon</td>\n",
       "      <td>72</td>\n",
       "      <td>363</td>\n",
       "      <td>-0.150256 -0.01698 0.020605 0.04325 0.0 0.00685</td>\n",
       "      <td>triangles</td>\n",
       "    </tr>\n",
       "    <tr>\n",
       "      <th>2120</th>\n",
       "      <td>D00422.obj</td>\n",
       "      <td>Spoon</td>\n",
       "      <td>109</td>\n",
       "      <td>528</td>\n",
       "      <td>-0.027843 0.039432 -0.116957 -0.093315 0.06464...</td>\n",
       "      <td>triangles</td>\n",
       "    </tr>\n",
       "    <tr>\n",
       "      <th>2122</th>\n",
       "      <td>D00497.obj</td>\n",
       "      <td>Spoon</td>\n",
       "      <td>144</td>\n",
       "      <td>852</td>\n",
       "      <td>0.006005 0.054753 0.035645 0.058796 -0.0 0.248042</td>\n",
       "      <td>triangles</td>\n",
       "    </tr>\n",
       "    <tr>\n",
       "      <th>2125</th>\n",
       "      <td>D00593.obj</td>\n",
       "      <td>Spoon</td>\n",
       "      <td>144</td>\n",
       "      <td>918</td>\n",
       "      <td>0.0 1.597584 0.0 0.311811 0.0 8.357558</td>\n",
       "      <td>triangles</td>\n",
       "    </tr>\n",
       "    <tr>\n",
       "      <th>2128</th>\n",
       "      <td>D00674.obj</td>\n",
       "      <td>Spoon</td>\n",
       "      <td>173</td>\n",
       "      <td>966</td>\n",
       "      <td>-0.559925 1.050993 -2.178684 1.516141 -0.25755...</td>\n",
       "      <td>triangles</td>\n",
       "    </tr>\n",
       "    <tr>\n",
       "      <th>2133</th>\n",
       "      <td>D00964.obj</td>\n",
       "      <td>Spoon</td>\n",
       "      <td>211</td>\n",
       "      <td>1014</td>\n",
       "      <td>-2.81 2.81 -5.62 19.855871 0.88 3.13755</td>\n",
       "      <td>triangles</td>\n",
       "    </tr>\n",
       "    <tr>\n",
       "      <th>2116</th>\n",
       "      <td>D00144.obj</td>\n",
       "      <td>Spoon</td>\n",
       "      <td>243</td>\n",
       "      <td>1407</td>\n",
       "      <td>0.121356 0.186049 0.300286 0.618646 0.031978 0...</td>\n",
       "      <td>triangles</td>\n",
       "    </tr>\n",
       "    <tr>\n",
       "      <th>2130</th>\n",
       "      <td>D00790.obj</td>\n",
       "      <td>Spoon</td>\n",
       "      <td>284</td>\n",
       "      <td>1623</td>\n",
       "      <td>-0.018031 13.033793 -3.277825 8.968065 -0.0 11...</td>\n",
       "      <td>triangles</td>\n",
       "    </tr>\n",
       "    <tr>\n",
       "      <th>2131</th>\n",
       "      <td>D00842.obj</td>\n",
       "      <td>Spoon</td>\n",
       "      <td>291</td>\n",
       "      <td>1647</td>\n",
       "      <td>0.482661 1.210242 1.835353 1.964791 -0.29845 -...</td>\n",
       "      <td>triangles</td>\n",
       "    </tr>\n",
       "    <tr>\n",
       "      <th>2117</th>\n",
       "      <td>D00157.obj</td>\n",
       "      <td>Spoon</td>\n",
       "      <td>386</td>\n",
       "      <td>2499</td>\n",
       "      <td>-0.884846 0.922286 -0.6884 6.321997 -0.0 0.455736</td>\n",
       "      <td>triangles</td>\n",
       "    </tr>\n",
       "    <tr>\n",
       "      <th>2119</th>\n",
       "      <td>D00338.obj</td>\n",
       "      <td>Spoon</td>\n",
       "      <td>481</td>\n",
       "      <td>3021</td>\n",
       "      <td>-0.538977 13.447721 0.169091 12.13092 0.0 4.74...</td>\n",
       "      <td>triangles</td>\n",
       "    </tr>\n",
       "    <tr>\n",
       "      <th>2123</th>\n",
       "      <td>D00517.obj</td>\n",
       "      <td>Spoon</td>\n",
       "      <td>487</td>\n",
       "      <td>2697</td>\n",
       "      <td>-10.1767 10.1767 -10.1767 195.832 0.0 10.1767</td>\n",
       "      <td>triangles</td>\n",
       "    </tr>\n",
       "    <tr>\n",
       "      <th>2127</th>\n",
       "      <td>D00669.obj</td>\n",
       "      <td>Spoon</td>\n",
       "      <td>556</td>\n",
       "      <td>3324</td>\n",
       "      <td>-0.33655 0.33655 -0.04445 1.083619 0.018273 0....</td>\n",
       "      <td>triangles</td>\n",
       "    </tr>\n",
       "    <tr>\n",
       "      <th>2115</th>\n",
       "      <td>D00085.obj</td>\n",
       "      <td>Spoon</td>\n",
       "      <td>575</td>\n",
       "      <td>3444</td>\n",
       "      <td>-1.422137 3.04557 1.328523 2.211927 -0.001013 ...</td>\n",
       "      <td>triangles</td>\n",
       "    </tr>\n",
       "    <tr>\n",
       "      <th>2114</th>\n",
       "      <td>D00014.obj</td>\n",
       "      <td>Spoon</td>\n",
       "      <td>748</td>\n",
       "      <td>4485</td>\n",
       "      <td>3.419584 4.279629 0.835941 5.10234 -0.025512 0...</td>\n",
       "      <td>triangles</td>\n",
       "    </tr>\n",
       "    <tr>\n",
       "      <th>2132</th>\n",
       "      <td>D00927.obj</td>\n",
       "      <td>Spoon</td>\n",
       "      <td>910</td>\n",
       "      <td>5448</td>\n",
       "      <td>-0.128479 0.666226 -0.085583 0.086442 -0.0 0.1...</td>\n",
       "      <td>triangles</td>\n",
       "    </tr>\n",
       "    <tr>\n",
       "      <th>2118</th>\n",
       "      <td>D00196.obj</td>\n",
       "      <td>Spoon</td>\n",
       "      <td>1512</td>\n",
       "      <td>4812</td>\n",
       "      <td>-0.160935 0.146018 -0.102328 0.105094 0.0 0.01905</td>\n",
       "      <td>triangles</td>\n",
       "    </tr>\n",
       "    <tr>\n",
       "      <th>2126</th>\n",
       "      <td>D00661.obj</td>\n",
       "      <td>Spoon</td>\n",
       "      <td>1848</td>\n",
       "      <td>10491</td>\n",
       "      <td>2.73779 4.41013 -0.591884 -0.208667 0.011549 0...</td>\n",
       "      <td>triangles</td>\n",
       "    </tr>\n",
       "    <tr>\n",
       "      <th>2124</th>\n",
       "      <td>D00562.obj</td>\n",
       "      <td>Spoon</td>\n",
       "      <td>4958</td>\n",
       "      <td>12999</td>\n",
       "      <td>-10.6701 2.94431 7.50555 13.7349 -4.60375 1.18445</td>\n",
       "      <td>triangles</td>\n",
       "    </tr>\n",
       "    <tr>\n",
       "      <th>2129</th>\n",
       "      <td>D00683.obj</td>\n",
       "      <td>Spoon</td>\n",
       "      <td>5039</td>\n",
       "      <td>3282</td>\n",
       "      <td>-1.99653 -1.38032 1.29308 1.71307 -0.00210259 ...</td>\n",
       "      <td>triangles</td>\n",
       "    </tr>\n",
       "  </tbody>\n",
       "</table>\n",
       "</div>"
      ],
      "text/plain": [
       "            name  class  vertices  faces  \\\n",
       "2121  D00474.obj  Spoon        72    363   \n",
       "2120  D00422.obj  Spoon       109    528   \n",
       "2122  D00497.obj  Spoon       144    852   \n",
       "2125  D00593.obj  Spoon       144    918   \n",
       "2128  D00674.obj  Spoon       173    966   \n",
       "2133  D00964.obj  Spoon       211   1014   \n",
       "2116  D00144.obj  Spoon       243   1407   \n",
       "2130  D00790.obj  Spoon       284   1623   \n",
       "2131  D00842.obj  Spoon       291   1647   \n",
       "2117  D00157.obj  Spoon       386   2499   \n",
       "2119  D00338.obj  Spoon       481   3021   \n",
       "2123  D00517.obj  Spoon       487   2697   \n",
       "2127  D00669.obj  Spoon       556   3324   \n",
       "2115  D00085.obj  Spoon       575   3444   \n",
       "2114  D00014.obj  Spoon       748   4485   \n",
       "2132  D00927.obj  Spoon       910   5448   \n",
       "2118  D00196.obj  Spoon      1512   4812   \n",
       "2126  D00661.obj  Spoon      1848  10491   \n",
       "2124  D00562.obj  Spoon      4958  12999   \n",
       "2129  D00683.obj  Spoon      5039   3282   \n",
       "\n",
       "                                                   bbox       type  \n",
       "2121    -0.150256 -0.01698 0.020605 0.04325 0.0 0.00685  triangles  \n",
       "2120  -0.027843 0.039432 -0.116957 -0.093315 0.06464...  triangles  \n",
       "2122  0.006005 0.054753 0.035645 0.058796 -0.0 0.248042  triangles  \n",
       "2125             0.0 1.597584 0.0 0.311811 0.0 8.357558  triangles  \n",
       "2128  -0.559925 1.050993 -2.178684 1.516141 -0.25755...  triangles  \n",
       "2133            -2.81 2.81 -5.62 19.855871 0.88 3.13755  triangles  \n",
       "2116  0.121356 0.186049 0.300286 0.618646 0.031978 0...  triangles  \n",
       "2130  -0.018031 13.033793 -3.277825 8.968065 -0.0 11...  triangles  \n",
       "2131  0.482661 1.210242 1.835353 1.964791 -0.29845 -...  triangles  \n",
       "2117  -0.884846 0.922286 -0.6884 6.321997 -0.0 0.455736  triangles  \n",
       "2119  -0.538977 13.447721 0.169091 12.13092 0.0 4.74...  triangles  \n",
       "2123      -10.1767 10.1767 -10.1767 195.832 0.0 10.1767  triangles  \n",
       "2127  -0.33655 0.33655 -0.04445 1.083619 0.018273 0....  triangles  \n",
       "2115  -1.422137 3.04557 1.328523 2.211927 -0.001013 ...  triangles  \n",
       "2114  3.419584 4.279629 0.835941 5.10234 -0.025512 0...  triangles  \n",
       "2132  -0.128479 0.666226 -0.085583 0.086442 -0.0 0.1...  triangles  \n",
       "2118  -0.160935 0.146018 -0.102328 0.105094 0.0 0.01905  triangles  \n",
       "2126  2.73779 4.41013 -0.591884 -0.208667 0.011549 0...  triangles  \n",
       "2124  -10.6701 2.94431 7.50555 13.7349 -4.60375 1.18445  triangles  \n",
       "2129  -1.99653 -1.38032 1.29308 1.71307 -0.00210259 ...  triangles  "
      ]
     },
     "execution_count": 7,
     "metadata": {},
     "output_type": "execute_result"
    }
   ],
   "source": [
    "# [Comparative info] finding outliers\n",
    "df[df[\"class\"] == \"Spoon\"].sort_values([\"vertices\", \"faces\"])"
   ]
  },
  {
   "cell_type": "code",
   "execution_count": 47,
   "metadata": {},
   "outputs": [
    {
     "data": {
      "application/vnd.plotly.v1+json": {
       "config": {
        "plotlyServerURL": "https://plot.ly"
       },
       "data": [
        {
         "alignmentgroup": "True",
         "hovertemplate": "class=%{x}<br>vertices=%{y}<extra></extra>",
         "legendgroup": "",
         "marker": {
          "color": "lightslategray",
          "pattern": {
           "shape": ""
          }
         },
         "name": "",
         "offsetgroup": "",
         "orientation": "v",
         "showlegend": false,
         "textposition": "auto",
         "type": "bar",
         "x": [
          "Knife",
          "RectangleTable",
          "Bookset",
          "Spoon",
          "Vase",
          "Jet",
          "Door",
          "Wheel",
          "Shelf",
          "Sign",
          "Monoplane",
          "RoundTable",
          "NonWheelChair",
          "Hat",
          "AircraftBuoyant",
          "PianoBoard",
          "Drum",
          "Bird",
          "Tool",
          "ClassicPiano",
          "BuildingNonResidential",
          "Computer",
          "Bottle",
          "Violin",
          "Cup",
          "Insect",
          "Chess",
          "Fish",
          "HumanHead",
          "AquaticAnimal",
          "Humanoid",
          "ComputerKeyboard",
          "Gun",
          "Sword",
          "DeskLamp",
          "Ship",
          "MultiSeat",
          "Glasses",
          "Quadruped",
          "Train",
          "SubmachineGun",
          "Bed",
          "Starship",
          "TruckNonContainer",
          "Helicopter",
          "Mug",
          "City",
          "FloorLamp",
          "Hand",
          "Rocket",
          "Truck",
          "House",
          "Monitor",
          "PlantWildNonTree",
          "Bus",
          "Musical_Instrument",
          "Biplane",
          "Cellphone",
          "Guitar",
          "Car",
          "Apartment",
          "WheelChair",
          "Motorcycle",
          "MilitaryVehicle",
          "Bicycle",
          "Tree",
          "DeskPhone",
          "PlantIndoors",
          "Skyscraper"
         ],
         "xaxis": "x",
         "y": [
          649.8148148148148,
          816.625,
          880.2,
          958.55,
          970.95,
          1142.3146853146852,
          1150.75,
          1192.1176470588234,
          1289.2093023255813,
          1401.8,
          1644,
          1848.081081081081,
          2264.2166666666667,
          2338.733333333333,
          2509.125,
          2541.7,
          2691.8,
          2835.5,
          2950.7272727272725,
          3035.15,
          3058.0227272727275,
          3117.7272727272725,
          3291.7096774193546,
          3357.4,
          3695.2,
          3697.787878787879,
          3837.3571428571427,
          3898.45,
          4085.2549019607845,
          4215.689655172414,
          4240.19014084507,
          4308.25,
          4391.310344827586,
          4529.396226415094,
          4718.322580645161,
          5075.603174603175,
          5096,
          5160.75,
          5239.701754385965,
          5272.866666666667,
          5295.3,
          5356.925925925926,
          5596.290322580645,
          5646.5,
          5771.803921568628,
          5909.115384615385,
          5955.111111111111,
          6284.25,
          6379.945945945946,
          7091.7,
          7175.777777777777,
          7484.630434782609,
          7513.3,
          7687.592592592592,
          7732.2,
          8074.190476190476,
          8977.933333333332,
          9793.1,
          9830.6,
          11170.393258426966,
          11924.04347826087,
          12465,
          14201.807692307691,
          14749.6,
          15401.692307692309,
          15586.893617021276,
          16458.65,
          17213.26153846154,
          25559
         ],
         "yaxis": "y"
        }
       ],
       "layout": {
        "barmode": "relative",
        "legend": {
         "tracegroupgap": 0
        },
        "margin": {
         "t": 60
        },
        "template": {
         "data": {
          "bar": [
           {
            "error_x": {
             "color": "#2a3f5f"
            },
            "error_y": {
             "color": "#2a3f5f"
            },
            "marker": {
             "line": {
              "color": "#E5ECF6",
              "width": 0.5
             },
             "pattern": {
              "fillmode": "overlay",
              "size": 10,
              "solidity": 0.2
             }
            },
            "type": "bar"
           }
          ],
          "barpolar": [
           {
            "marker": {
             "line": {
              "color": "#E5ECF6",
              "width": 0.5
             },
             "pattern": {
              "fillmode": "overlay",
              "size": 10,
              "solidity": 0.2
             }
            },
            "type": "barpolar"
           }
          ],
          "carpet": [
           {
            "aaxis": {
             "endlinecolor": "#2a3f5f",
             "gridcolor": "white",
             "linecolor": "white",
             "minorgridcolor": "white",
             "startlinecolor": "#2a3f5f"
            },
            "baxis": {
             "endlinecolor": "#2a3f5f",
             "gridcolor": "white",
             "linecolor": "white",
             "minorgridcolor": "white",
             "startlinecolor": "#2a3f5f"
            },
            "type": "carpet"
           }
          ],
          "choropleth": [
           {
            "colorbar": {
             "outlinewidth": 0,
             "ticks": ""
            },
            "type": "choropleth"
           }
          ],
          "contour": [
           {
            "colorbar": {
             "outlinewidth": 0,
             "ticks": ""
            },
            "colorscale": [
             [
              0,
              "#0d0887"
             ],
             [
              0.1111111111111111,
              "#46039f"
             ],
             [
              0.2222222222222222,
              "#7201a8"
             ],
             [
              0.3333333333333333,
              "#9c179e"
             ],
             [
              0.4444444444444444,
              "#bd3786"
             ],
             [
              0.5555555555555556,
              "#d8576b"
             ],
             [
              0.6666666666666666,
              "#ed7953"
             ],
             [
              0.7777777777777778,
              "#fb9f3a"
             ],
             [
              0.8888888888888888,
              "#fdca26"
             ],
             [
              1,
              "#f0f921"
             ]
            ],
            "type": "contour"
           }
          ],
          "contourcarpet": [
           {
            "colorbar": {
             "outlinewidth": 0,
             "ticks": ""
            },
            "type": "contourcarpet"
           }
          ],
          "heatmap": [
           {
            "colorbar": {
             "outlinewidth": 0,
             "ticks": ""
            },
            "colorscale": [
             [
              0,
              "#0d0887"
             ],
             [
              0.1111111111111111,
              "#46039f"
             ],
             [
              0.2222222222222222,
              "#7201a8"
             ],
             [
              0.3333333333333333,
              "#9c179e"
             ],
             [
              0.4444444444444444,
              "#bd3786"
             ],
             [
              0.5555555555555556,
              "#d8576b"
             ],
             [
              0.6666666666666666,
              "#ed7953"
             ],
             [
              0.7777777777777778,
              "#fb9f3a"
             ],
             [
              0.8888888888888888,
              "#fdca26"
             ],
             [
              1,
              "#f0f921"
             ]
            ],
            "type": "heatmap"
           }
          ],
          "heatmapgl": [
           {
            "colorbar": {
             "outlinewidth": 0,
             "ticks": ""
            },
            "colorscale": [
             [
              0,
              "#0d0887"
             ],
             [
              0.1111111111111111,
              "#46039f"
             ],
             [
              0.2222222222222222,
              "#7201a8"
             ],
             [
              0.3333333333333333,
              "#9c179e"
             ],
             [
              0.4444444444444444,
              "#bd3786"
             ],
             [
              0.5555555555555556,
              "#d8576b"
             ],
             [
              0.6666666666666666,
              "#ed7953"
             ],
             [
              0.7777777777777778,
              "#fb9f3a"
             ],
             [
              0.8888888888888888,
              "#fdca26"
             ],
             [
              1,
              "#f0f921"
             ]
            ],
            "type": "heatmapgl"
           }
          ],
          "histogram": [
           {
            "marker": {
             "pattern": {
              "fillmode": "overlay",
              "size": 10,
              "solidity": 0.2
             }
            },
            "type": "histogram"
           }
          ],
          "histogram2d": [
           {
            "colorbar": {
             "outlinewidth": 0,
             "ticks": ""
            },
            "colorscale": [
             [
              0,
              "#0d0887"
             ],
             [
              0.1111111111111111,
              "#46039f"
             ],
             [
              0.2222222222222222,
              "#7201a8"
             ],
             [
              0.3333333333333333,
              "#9c179e"
             ],
             [
              0.4444444444444444,
              "#bd3786"
             ],
             [
              0.5555555555555556,
              "#d8576b"
             ],
             [
              0.6666666666666666,
              "#ed7953"
             ],
             [
              0.7777777777777778,
              "#fb9f3a"
             ],
             [
              0.8888888888888888,
              "#fdca26"
             ],
             [
              1,
              "#f0f921"
             ]
            ],
            "type": "histogram2d"
           }
          ],
          "histogram2dcontour": [
           {
            "colorbar": {
             "outlinewidth": 0,
             "ticks": ""
            },
            "colorscale": [
             [
              0,
              "#0d0887"
             ],
             [
              0.1111111111111111,
              "#46039f"
             ],
             [
              0.2222222222222222,
              "#7201a8"
             ],
             [
              0.3333333333333333,
              "#9c179e"
             ],
             [
              0.4444444444444444,
              "#bd3786"
             ],
             [
              0.5555555555555556,
              "#d8576b"
             ],
             [
              0.6666666666666666,
              "#ed7953"
             ],
             [
              0.7777777777777778,
              "#fb9f3a"
             ],
             [
              0.8888888888888888,
              "#fdca26"
             ],
             [
              1,
              "#f0f921"
             ]
            ],
            "type": "histogram2dcontour"
           }
          ],
          "mesh3d": [
           {
            "colorbar": {
             "outlinewidth": 0,
             "ticks": ""
            },
            "type": "mesh3d"
           }
          ],
          "parcoords": [
           {
            "line": {
             "colorbar": {
              "outlinewidth": 0,
              "ticks": ""
             }
            },
            "type": "parcoords"
           }
          ],
          "pie": [
           {
            "automargin": true,
            "type": "pie"
           }
          ],
          "scatter": [
           {
            "fillpattern": {
             "fillmode": "overlay",
             "size": 10,
             "solidity": 0.2
            },
            "type": "scatter"
           }
          ],
          "scatter3d": [
           {
            "line": {
             "colorbar": {
              "outlinewidth": 0,
              "ticks": ""
             }
            },
            "marker": {
             "colorbar": {
              "outlinewidth": 0,
              "ticks": ""
             }
            },
            "type": "scatter3d"
           }
          ],
          "scattercarpet": [
           {
            "marker": {
             "colorbar": {
              "outlinewidth": 0,
              "ticks": ""
             }
            },
            "type": "scattercarpet"
           }
          ],
          "scattergeo": [
           {
            "marker": {
             "colorbar": {
              "outlinewidth": 0,
              "ticks": ""
             }
            },
            "type": "scattergeo"
           }
          ],
          "scattergl": [
           {
            "marker": {
             "colorbar": {
              "outlinewidth": 0,
              "ticks": ""
             }
            },
            "type": "scattergl"
           }
          ],
          "scattermapbox": [
           {
            "marker": {
             "colorbar": {
              "outlinewidth": 0,
              "ticks": ""
             }
            },
            "type": "scattermapbox"
           }
          ],
          "scatterpolar": [
           {
            "marker": {
             "colorbar": {
              "outlinewidth": 0,
              "ticks": ""
             }
            },
            "type": "scatterpolar"
           }
          ],
          "scatterpolargl": [
           {
            "marker": {
             "colorbar": {
              "outlinewidth": 0,
              "ticks": ""
             }
            },
            "type": "scatterpolargl"
           }
          ],
          "scatterternary": [
           {
            "marker": {
             "colorbar": {
              "outlinewidth": 0,
              "ticks": ""
             }
            },
            "type": "scatterternary"
           }
          ],
          "surface": [
           {
            "colorbar": {
             "outlinewidth": 0,
             "ticks": ""
            },
            "colorscale": [
             [
              0,
              "#0d0887"
             ],
             [
              0.1111111111111111,
              "#46039f"
             ],
             [
              0.2222222222222222,
              "#7201a8"
             ],
             [
              0.3333333333333333,
              "#9c179e"
             ],
             [
              0.4444444444444444,
              "#bd3786"
             ],
             [
              0.5555555555555556,
              "#d8576b"
             ],
             [
              0.6666666666666666,
              "#ed7953"
             ],
             [
              0.7777777777777778,
              "#fb9f3a"
             ],
             [
              0.8888888888888888,
              "#fdca26"
             ],
             [
              1,
              "#f0f921"
             ]
            ],
            "type": "surface"
           }
          ],
          "table": [
           {
            "cells": {
             "fill": {
              "color": "#EBF0F8"
             },
             "line": {
              "color": "white"
             }
            },
            "header": {
             "fill": {
              "color": "#C8D4E3"
             },
             "line": {
              "color": "white"
             }
            },
            "type": "table"
           }
          ]
         },
         "layout": {
          "annotationdefaults": {
           "arrowcolor": "#2a3f5f",
           "arrowhead": 0,
           "arrowwidth": 1
          },
          "autotypenumbers": "strict",
          "coloraxis": {
           "colorbar": {
            "outlinewidth": 0,
            "ticks": ""
           }
          },
          "colorscale": {
           "diverging": [
            [
             0,
             "#8e0152"
            ],
            [
             0.1,
             "#c51b7d"
            ],
            [
             0.2,
             "#de77ae"
            ],
            [
             0.3,
             "#f1b6da"
            ],
            [
             0.4,
             "#fde0ef"
            ],
            [
             0.5,
             "#f7f7f7"
            ],
            [
             0.6,
             "#e6f5d0"
            ],
            [
             0.7,
             "#b8e186"
            ],
            [
             0.8,
             "#7fbc41"
            ],
            [
             0.9,
             "#4d9221"
            ],
            [
             1,
             "#276419"
            ]
           ],
           "sequential": [
            [
             0,
             "#0d0887"
            ],
            [
             0.1111111111111111,
             "#46039f"
            ],
            [
             0.2222222222222222,
             "#7201a8"
            ],
            [
             0.3333333333333333,
             "#9c179e"
            ],
            [
             0.4444444444444444,
             "#bd3786"
            ],
            [
             0.5555555555555556,
             "#d8576b"
            ],
            [
             0.6666666666666666,
             "#ed7953"
            ],
            [
             0.7777777777777778,
             "#fb9f3a"
            ],
            [
             0.8888888888888888,
             "#fdca26"
            ],
            [
             1,
             "#f0f921"
            ]
           ],
           "sequentialminus": [
            [
             0,
             "#0d0887"
            ],
            [
             0.1111111111111111,
             "#46039f"
            ],
            [
             0.2222222222222222,
             "#7201a8"
            ],
            [
             0.3333333333333333,
             "#9c179e"
            ],
            [
             0.4444444444444444,
             "#bd3786"
            ],
            [
             0.5555555555555556,
             "#d8576b"
            ],
            [
             0.6666666666666666,
             "#ed7953"
            ],
            [
             0.7777777777777778,
             "#fb9f3a"
            ],
            [
             0.8888888888888888,
             "#fdca26"
            ],
            [
             1,
             "#f0f921"
            ]
           ]
          },
          "colorway": [
           "#636efa",
           "#EF553B",
           "#00cc96",
           "#ab63fa",
           "#FFA15A",
           "#19d3f3",
           "#FF6692",
           "#B6E880",
           "#FF97FF",
           "#FECB52"
          ],
          "font": {
           "color": "#2a3f5f"
          },
          "geo": {
           "bgcolor": "white",
           "lakecolor": "white",
           "landcolor": "#E5ECF6",
           "showlakes": true,
           "showland": true,
           "subunitcolor": "white"
          },
          "hoverlabel": {
           "align": "left"
          },
          "hovermode": "closest",
          "mapbox": {
           "style": "light"
          },
          "paper_bgcolor": "white",
          "plot_bgcolor": "#E5ECF6",
          "polar": {
           "angularaxis": {
            "gridcolor": "white",
            "linecolor": "white",
            "ticks": ""
           },
           "bgcolor": "#E5ECF6",
           "radialaxis": {
            "gridcolor": "white",
            "linecolor": "white",
            "ticks": ""
           }
          },
          "scene": {
           "xaxis": {
            "backgroundcolor": "#E5ECF6",
            "gridcolor": "white",
            "gridwidth": 2,
            "linecolor": "white",
            "showbackground": true,
            "ticks": "",
            "zerolinecolor": "white"
           },
           "yaxis": {
            "backgroundcolor": "#E5ECF6",
            "gridcolor": "white",
            "gridwidth": 2,
            "linecolor": "white",
            "showbackground": true,
            "ticks": "",
            "zerolinecolor": "white"
           },
           "zaxis": {
            "backgroundcolor": "#E5ECF6",
            "gridcolor": "white",
            "gridwidth": 2,
            "linecolor": "white",
            "showbackground": true,
            "ticks": "",
            "zerolinecolor": "white"
           }
          },
          "shapedefaults": {
           "line": {
            "color": "#2a3f5f"
           }
          },
          "ternary": {
           "aaxis": {
            "gridcolor": "white",
            "linecolor": "white",
            "ticks": ""
           },
           "baxis": {
            "gridcolor": "white",
            "linecolor": "white",
            "ticks": ""
           },
           "bgcolor": "#E5ECF6",
           "caxis": {
            "gridcolor": "white",
            "linecolor": "white",
            "ticks": ""
           }
          },
          "title": {
           "x": 0.05
          },
          "xaxis": {
           "automargin": true,
           "gridcolor": "white",
           "linecolor": "white",
           "ticks": "",
           "title": {
            "standoff": 15
           },
           "zerolinecolor": "white",
           "zerolinewidth": 2
          },
          "yaxis": {
           "automargin": true,
           "gridcolor": "white",
           "linecolor": "white",
           "ticks": "",
           "title": {
            "standoff": 15
           },
           "zerolinecolor": "white",
           "zerolinewidth": 2
          }
         }
        },
        "xaxis": {
         "anchor": "y",
         "domain": [
          0,
          1
         ],
         "title": {
          "text": "class"
         }
        },
        "yaxis": {
         "anchor": "x",
         "domain": [
          0,
          1
         ],
         "title": {
          "text": "vertices"
         }
        }
       }
      }
     },
     "metadata": {},
     "output_type": "display_data"
    },
    {
     "data": {
      "application/vnd.plotly.v1+json": {
       "config": {
        "plotlyServerURL": "https://plot.ly"
       },
       "data": [
        {
         "alignmentgroup": "True",
         "hovertemplate": "class=%{x}<br>vertices=%{y}<extra></extra>",
         "legendgroup": "",
         "marker": {
          "color": "lightslategray",
          "pattern": {
           "shape": ""
          }
         },
         "name": "",
         "offsetgroup": "",
         "orientation": "v",
         "showlegend": false,
         "textposition": "auto",
         "type": "bar",
         "x": [
          "Spoon",
          "Knife",
          "Violin",
          "Cellphone",
          "FloorLamp",
          "Motorcycle",
          "Apartment",
          "Bus",
          "Drum",
          "Musical_Instrument",
          "TruckNonContainer",
          "Skyscraper",
          "MilitaryVehicle",
          "AquaticAnimal",
          "MultiSeat",
          "RoundTable",
          "Sword",
          "Chess",
          "Car",
          "Vase",
          "Bicycle",
          "Wheel",
          "SubmachineGun",
          "Tool",
          "Train",
          "Quadruped",
          "Hand",
          "Mug",
          "Bed",
          "Bookset",
          "Cup",
          "Door",
          "Sign",
          "Shelf",
          "Bottle",
          "Rocket",
          "Hat",
          "Bird",
          "DeskPhone",
          "Glasses",
          "AircraftBuoyant",
          "Jet",
          "Helicopter",
          "Monoplane",
          "Monitor",
          "ClassicPiano",
          "Biplane",
          "HumanHead",
          "NonWheelChair",
          "DeskLamp",
          "ComputerKeyboard",
          "Ship",
          "Insect",
          "Tree",
          "Humanoid",
          "Gun",
          "PlantIndoors",
          "House",
          "Starship",
          "Guitar",
          "RectangleTable",
          "Truck",
          "Computer",
          "City",
          "PianoBoard",
          "BuildingNonResidential",
          "PlantWildNonTree",
          "Fish",
          "WheelChair"
         ],
         "xaxis": "x",
         "y": [
          3135.25,
          3728.740740740741,
          3863.45,
          3865.5,
          3895.214285714286,
          3966.230769230769,
          3979.3478260869565,
          3989,
          3990.05,
          3996.809523809524,
          4015.25,
          4017.4,
          4019,
          4019.448275862069,
          4024.6,
          4031.4054054054054,
          4032.9245283018868,
          4036.7619047619046,
          4039.2696629213483,
          4044.25,
          4049.8846153846152,
          4052.3529411764707,
          4052.4,
          4053.7045454545455,
          4067.233333333333,
          4071.4736842105262,
          4077.7027027027025,
          4085.6153846153848,
          4086.5925925925926,
          4089.25,
          4096,
          4097.818181818182,
          4100.6,
          4105.953488372093,
          4112.322580645161,
          4113.9,
          4124.2,
          4129.636363636364,
          4135,
          4139.75,
          4144.25,
          4144.776223776224,
          4153.35294117647,
          4169.9,
          4208.05,
          4225.95,
          4231.977777777778,
          4245.058823529412,
          4247.416666666667,
          4283.709677419355,
          4288.15,
          4350.793650793651,
          4357.787878787879,
          4365.382978723404,
          4377.570422535211,
          4382.068965517241,
          4410.430769230769,
          4419.891304347826,
          4462.419354838709,
          4484.7,
          4497.40625,
          4521.407407407408,
          4546.424242424242,
          4636.111111111111,
          4684.6,
          4780.977272727273,
          4927.259259259259,
          5004.7,
          5158.8
         ],
         "yaxis": "y"
        }
       ],
       "layout": {
        "barmode": "relative",
        "legend": {
         "tracegroupgap": 0
        },
        "margin": {
         "t": 60
        },
        "template": {
         "data": {
          "bar": [
           {
            "error_x": {
             "color": "#2a3f5f"
            },
            "error_y": {
             "color": "#2a3f5f"
            },
            "marker": {
             "line": {
              "color": "#E5ECF6",
              "width": 0.5
             },
             "pattern": {
              "fillmode": "overlay",
              "size": 10,
              "solidity": 0.2
             }
            },
            "type": "bar"
           }
          ],
          "barpolar": [
           {
            "marker": {
             "line": {
              "color": "#E5ECF6",
              "width": 0.5
             },
             "pattern": {
              "fillmode": "overlay",
              "size": 10,
              "solidity": 0.2
             }
            },
            "type": "barpolar"
           }
          ],
          "carpet": [
           {
            "aaxis": {
             "endlinecolor": "#2a3f5f",
             "gridcolor": "white",
             "linecolor": "white",
             "minorgridcolor": "white",
             "startlinecolor": "#2a3f5f"
            },
            "baxis": {
             "endlinecolor": "#2a3f5f",
             "gridcolor": "white",
             "linecolor": "white",
             "minorgridcolor": "white",
             "startlinecolor": "#2a3f5f"
            },
            "type": "carpet"
           }
          ],
          "choropleth": [
           {
            "colorbar": {
             "outlinewidth": 0,
             "ticks": ""
            },
            "type": "choropleth"
           }
          ],
          "contour": [
           {
            "colorbar": {
             "outlinewidth": 0,
             "ticks": ""
            },
            "colorscale": [
             [
              0,
              "#0d0887"
             ],
             [
              0.1111111111111111,
              "#46039f"
             ],
             [
              0.2222222222222222,
              "#7201a8"
             ],
             [
              0.3333333333333333,
              "#9c179e"
             ],
             [
              0.4444444444444444,
              "#bd3786"
             ],
             [
              0.5555555555555556,
              "#d8576b"
             ],
             [
              0.6666666666666666,
              "#ed7953"
             ],
             [
              0.7777777777777778,
              "#fb9f3a"
             ],
             [
              0.8888888888888888,
              "#fdca26"
             ],
             [
              1,
              "#f0f921"
             ]
            ],
            "type": "contour"
           }
          ],
          "contourcarpet": [
           {
            "colorbar": {
             "outlinewidth": 0,
             "ticks": ""
            },
            "type": "contourcarpet"
           }
          ],
          "heatmap": [
           {
            "colorbar": {
             "outlinewidth": 0,
             "ticks": ""
            },
            "colorscale": [
             [
              0,
              "#0d0887"
             ],
             [
              0.1111111111111111,
              "#46039f"
             ],
             [
              0.2222222222222222,
              "#7201a8"
             ],
             [
              0.3333333333333333,
              "#9c179e"
             ],
             [
              0.4444444444444444,
              "#bd3786"
             ],
             [
              0.5555555555555556,
              "#d8576b"
             ],
             [
              0.6666666666666666,
              "#ed7953"
             ],
             [
              0.7777777777777778,
              "#fb9f3a"
             ],
             [
              0.8888888888888888,
              "#fdca26"
             ],
             [
              1,
              "#f0f921"
             ]
            ],
            "type": "heatmap"
           }
          ],
          "heatmapgl": [
           {
            "colorbar": {
             "outlinewidth": 0,
             "ticks": ""
            },
            "colorscale": [
             [
              0,
              "#0d0887"
             ],
             [
              0.1111111111111111,
              "#46039f"
             ],
             [
              0.2222222222222222,
              "#7201a8"
             ],
             [
              0.3333333333333333,
              "#9c179e"
             ],
             [
              0.4444444444444444,
              "#bd3786"
             ],
             [
              0.5555555555555556,
              "#d8576b"
             ],
             [
              0.6666666666666666,
              "#ed7953"
             ],
             [
              0.7777777777777778,
              "#fb9f3a"
             ],
             [
              0.8888888888888888,
              "#fdca26"
             ],
             [
              1,
              "#f0f921"
             ]
            ],
            "type": "heatmapgl"
           }
          ],
          "histogram": [
           {
            "marker": {
             "pattern": {
              "fillmode": "overlay",
              "size": 10,
              "solidity": 0.2
             }
            },
            "type": "histogram"
           }
          ],
          "histogram2d": [
           {
            "colorbar": {
             "outlinewidth": 0,
             "ticks": ""
            },
            "colorscale": [
             [
              0,
              "#0d0887"
             ],
             [
              0.1111111111111111,
              "#46039f"
             ],
             [
              0.2222222222222222,
              "#7201a8"
             ],
             [
              0.3333333333333333,
              "#9c179e"
             ],
             [
              0.4444444444444444,
              "#bd3786"
             ],
             [
              0.5555555555555556,
              "#d8576b"
             ],
             [
              0.6666666666666666,
              "#ed7953"
             ],
             [
              0.7777777777777778,
              "#fb9f3a"
             ],
             [
              0.8888888888888888,
              "#fdca26"
             ],
             [
              1,
              "#f0f921"
             ]
            ],
            "type": "histogram2d"
           }
          ],
          "histogram2dcontour": [
           {
            "colorbar": {
             "outlinewidth": 0,
             "ticks": ""
            },
            "colorscale": [
             [
              0,
              "#0d0887"
             ],
             [
              0.1111111111111111,
              "#46039f"
             ],
             [
              0.2222222222222222,
              "#7201a8"
             ],
             [
              0.3333333333333333,
              "#9c179e"
             ],
             [
              0.4444444444444444,
              "#bd3786"
             ],
             [
              0.5555555555555556,
              "#d8576b"
             ],
             [
              0.6666666666666666,
              "#ed7953"
             ],
             [
              0.7777777777777778,
              "#fb9f3a"
             ],
             [
              0.8888888888888888,
              "#fdca26"
             ],
             [
              1,
              "#f0f921"
             ]
            ],
            "type": "histogram2dcontour"
           }
          ],
          "mesh3d": [
           {
            "colorbar": {
             "outlinewidth": 0,
             "ticks": ""
            },
            "type": "mesh3d"
           }
          ],
          "parcoords": [
           {
            "line": {
             "colorbar": {
              "outlinewidth": 0,
              "ticks": ""
             }
            },
            "type": "parcoords"
           }
          ],
          "pie": [
           {
            "automargin": true,
            "type": "pie"
           }
          ],
          "scatter": [
           {
            "fillpattern": {
             "fillmode": "overlay",
             "size": 10,
             "solidity": 0.2
            },
            "type": "scatter"
           }
          ],
          "scatter3d": [
           {
            "line": {
             "colorbar": {
              "outlinewidth": 0,
              "ticks": ""
             }
            },
            "marker": {
             "colorbar": {
              "outlinewidth": 0,
              "ticks": ""
             }
            },
            "type": "scatter3d"
           }
          ],
          "scattercarpet": [
           {
            "marker": {
             "colorbar": {
              "outlinewidth": 0,
              "ticks": ""
             }
            },
            "type": "scattercarpet"
           }
          ],
          "scattergeo": [
           {
            "marker": {
             "colorbar": {
              "outlinewidth": 0,
              "ticks": ""
             }
            },
            "type": "scattergeo"
           }
          ],
          "scattergl": [
           {
            "marker": {
             "colorbar": {
              "outlinewidth": 0,
              "ticks": ""
             }
            },
            "type": "scattergl"
           }
          ],
          "scattermapbox": [
           {
            "marker": {
             "colorbar": {
              "outlinewidth": 0,
              "ticks": ""
             }
            },
            "type": "scattermapbox"
           }
          ],
          "scatterpolar": [
           {
            "marker": {
             "colorbar": {
              "outlinewidth": 0,
              "ticks": ""
             }
            },
            "type": "scatterpolar"
           }
          ],
          "scatterpolargl": [
           {
            "marker": {
             "colorbar": {
              "outlinewidth": 0,
              "ticks": ""
             }
            },
            "type": "scatterpolargl"
           }
          ],
          "scatterternary": [
           {
            "marker": {
             "colorbar": {
              "outlinewidth": 0,
              "ticks": ""
             }
            },
            "type": "scatterternary"
           }
          ],
          "surface": [
           {
            "colorbar": {
             "outlinewidth": 0,
             "ticks": ""
            },
            "colorscale": [
             [
              0,
              "#0d0887"
             ],
             [
              0.1111111111111111,
              "#46039f"
             ],
             [
              0.2222222222222222,
              "#7201a8"
             ],
             [
              0.3333333333333333,
              "#9c179e"
             ],
             [
              0.4444444444444444,
              "#bd3786"
             ],
             [
              0.5555555555555556,
              "#d8576b"
             ],
             [
              0.6666666666666666,
              "#ed7953"
             ],
             [
              0.7777777777777778,
              "#fb9f3a"
             ],
             [
              0.8888888888888888,
              "#fdca26"
             ],
             [
              1,
              "#f0f921"
             ]
            ],
            "type": "surface"
           }
          ],
          "table": [
           {
            "cells": {
             "fill": {
              "color": "#EBF0F8"
             },
             "line": {
              "color": "white"
             }
            },
            "header": {
             "fill": {
              "color": "#C8D4E3"
             },
             "line": {
              "color": "white"
             }
            },
            "type": "table"
           }
          ]
         },
         "layout": {
          "annotationdefaults": {
           "arrowcolor": "#2a3f5f",
           "arrowhead": 0,
           "arrowwidth": 1
          },
          "autotypenumbers": "strict",
          "coloraxis": {
           "colorbar": {
            "outlinewidth": 0,
            "ticks": ""
           }
          },
          "colorscale": {
           "diverging": [
            [
             0,
             "#8e0152"
            ],
            [
             0.1,
             "#c51b7d"
            ],
            [
             0.2,
             "#de77ae"
            ],
            [
             0.3,
             "#f1b6da"
            ],
            [
             0.4,
             "#fde0ef"
            ],
            [
             0.5,
             "#f7f7f7"
            ],
            [
             0.6,
             "#e6f5d0"
            ],
            [
             0.7,
             "#b8e186"
            ],
            [
             0.8,
             "#7fbc41"
            ],
            [
             0.9,
             "#4d9221"
            ],
            [
             1,
             "#276419"
            ]
           ],
           "sequential": [
            [
             0,
             "#0d0887"
            ],
            [
             0.1111111111111111,
             "#46039f"
            ],
            [
             0.2222222222222222,
             "#7201a8"
            ],
            [
             0.3333333333333333,
             "#9c179e"
            ],
            [
             0.4444444444444444,
             "#bd3786"
            ],
            [
             0.5555555555555556,
             "#d8576b"
            ],
            [
             0.6666666666666666,
             "#ed7953"
            ],
            [
             0.7777777777777778,
             "#fb9f3a"
            ],
            [
             0.8888888888888888,
             "#fdca26"
            ],
            [
             1,
             "#f0f921"
            ]
           ],
           "sequentialminus": [
            [
             0,
             "#0d0887"
            ],
            [
             0.1111111111111111,
             "#46039f"
            ],
            [
             0.2222222222222222,
             "#7201a8"
            ],
            [
             0.3333333333333333,
             "#9c179e"
            ],
            [
             0.4444444444444444,
             "#bd3786"
            ],
            [
             0.5555555555555556,
             "#d8576b"
            ],
            [
             0.6666666666666666,
             "#ed7953"
            ],
            [
             0.7777777777777778,
             "#fb9f3a"
            ],
            [
             0.8888888888888888,
             "#fdca26"
            ],
            [
             1,
             "#f0f921"
            ]
           ]
          },
          "colorway": [
           "#636efa",
           "#EF553B",
           "#00cc96",
           "#ab63fa",
           "#FFA15A",
           "#19d3f3",
           "#FF6692",
           "#B6E880",
           "#FF97FF",
           "#FECB52"
          ],
          "font": {
           "color": "#2a3f5f"
          },
          "geo": {
           "bgcolor": "white",
           "lakecolor": "white",
           "landcolor": "#E5ECF6",
           "showlakes": true,
           "showland": true,
           "subunitcolor": "white"
          },
          "hoverlabel": {
           "align": "left"
          },
          "hovermode": "closest",
          "mapbox": {
           "style": "light"
          },
          "paper_bgcolor": "white",
          "plot_bgcolor": "#E5ECF6",
          "polar": {
           "angularaxis": {
            "gridcolor": "white",
            "linecolor": "white",
            "ticks": ""
           },
           "bgcolor": "#E5ECF6",
           "radialaxis": {
            "gridcolor": "white",
            "linecolor": "white",
            "ticks": ""
           }
          },
          "scene": {
           "xaxis": {
            "backgroundcolor": "#E5ECF6",
            "gridcolor": "white",
            "gridwidth": 2,
            "linecolor": "white",
            "showbackground": true,
            "ticks": "",
            "zerolinecolor": "white"
           },
           "yaxis": {
            "backgroundcolor": "#E5ECF6",
            "gridcolor": "white",
            "gridwidth": 2,
            "linecolor": "white",
            "showbackground": true,
            "ticks": "",
            "zerolinecolor": "white"
           },
           "zaxis": {
            "backgroundcolor": "#E5ECF6",
            "gridcolor": "white",
            "gridwidth": 2,
            "linecolor": "white",
            "showbackground": true,
            "ticks": "",
            "zerolinecolor": "white"
           }
          },
          "shapedefaults": {
           "line": {
            "color": "#2a3f5f"
           }
          },
          "ternary": {
           "aaxis": {
            "gridcolor": "white",
            "linecolor": "white",
            "ticks": ""
           },
           "baxis": {
            "gridcolor": "white",
            "linecolor": "white",
            "ticks": ""
           },
           "bgcolor": "#E5ECF6",
           "caxis": {
            "gridcolor": "white",
            "linecolor": "white",
            "ticks": ""
           }
          },
          "title": {
           "x": 0.05
          },
          "xaxis": {
           "automargin": true,
           "gridcolor": "white",
           "linecolor": "white",
           "ticks": "",
           "title": {
            "standoff": 15
           },
           "zerolinecolor": "white",
           "zerolinewidth": 2
          },
          "yaxis": {
           "automargin": true,
           "gridcolor": "white",
           "linecolor": "white",
           "ticks": "",
           "title": {
            "standoff": 15
           },
           "zerolinecolor": "white",
           "zerolinewidth": 2
          }
         }
        },
        "xaxis": {
         "anchor": "y",
         "domain": [
          0,
          1
         ],
         "title": {
          "text": "class"
         }
        },
        "yaxis": {
         "anchor": "x",
         "domain": [
          0,
          1
         ],
         "title": {
          "text": "vertices"
         }
        }
       }
      }
     },
     "metadata": {},
     "output_type": "display_data"
    },
    {
     "data": {
      "application/vnd.plotly.v1+json": {
       "config": {
        "plotlyServerURL": "https://plot.ly"
       },
       "data": [
        {
         "alignmentgroup": "True",
         "hovertemplate": "class=%{x}<br>faces=%{y}<extra></extra>",
         "legendgroup": "",
         "marker": {
          "color": "lightslategray",
          "pattern": {
           "shape": ""
          }
         },
         "name": "",
         "offsetgroup": "",
         "orientation": "v",
         "showlegend": false,
         "textposition": "auto",
         "type": "bar",
         "x": [
          "RectangleTable",
          "Shelf",
          "Vase",
          "Jet",
          "Door",
          "Wheel",
          "Sign",
          "Knife",
          "Monoplane",
          "Spoon",
          "RoundTable",
          "Rocket",
          "NonWheelChair",
          "Bookset",
          "Hat",
          "AircraftBuoyant",
          "Bird",
          "BuildingNonResidential",
          "Computer",
          "Tool",
          "Bottle",
          "Fish",
          "Cup",
          "Insect",
          "Chess",
          "AquaticAnimal",
          "DeskLamp",
          "Humanoid",
          "Gun",
          "Ship",
          "Sword",
          "City",
          "MultiSeat",
          "Quadruped",
          "Glasses",
          "SubmachineGun",
          "Bed",
          "PlantIndoors",
          "Helicopter",
          "FloorLamp",
          "PlantWildNonTree",
          "Starship",
          "Mug",
          "Hand",
          "Monitor",
          "Tree",
          "HumanHead",
          "Apartment",
          "PianoBoard",
          "House",
          "Biplane",
          "Drum",
          "Musical_Instrument",
          "ClassicPiano",
          "Guitar",
          "Cellphone",
          "Car",
          "Violin",
          "WheelChair",
          "ComputerKeyboard",
          "MilitaryVehicle",
          "Train",
          "Skyscraper",
          "Motorcycle",
          "DeskPhone",
          "Bicycle",
          "Truck",
          "TruckNonContainer",
          "Bus"
         ],
         "xaxis": "x",
         "y": [
          1615.171875,
          1685.5116279069769,
          1935.55,
          2098.3006993006993,
          2171.181818181818,
          2218.294117647059,
          2703.0666666666666,
          2739.1111111111113,
          2920.65,
          3291,
          3433.3783783783783,
          4013.9,
          4107.516666666666,
          4540.65,
          4552.2,
          4924.625,
          5535.75,
          5725.636363636364,
          5780.363636363636,
          5827.136363636364,
          6105.870967741936,
          6529.15,
          7013.533333333334,
          7071.272727272727,
          7636.476190476191,
          8136.068965517241,
          8384.387096774193,
          8417.528169014084,
          8476.5,
          8690.238095238095,
          8700.698113207547,
          8764.518518518518,
          9451,
          9503.561403508771,
          9562.3,
          9687.05,
          9687.444444444445,
          10505.015384615384,
          10804.21568627451,
          11058.82142857143,
          11221.333333333334,
          11386.451612903225,
          11623.653846153846,
          12714.972972972973,
          12995.6,
          13812.212765957447,
          13915.941176470587,
          14837.869565217392,
          14882.7,
          15063.5,
          15099.266666666666,
          15599.55,
          15686.952380952382,
          16213.5,
          17443.35,
          18375.45,
          20281.8202247191,
          20536.5,
          22059.4,
          22553.55,
          24322.15,
          25319.6,
          25817.05,
          25866.576923076922,
          29362.85,
          30098.615384615383,
          31413.185185185186,
          33820.5,
          47260.5
         ],
         "yaxis": "y"
        }
       ],
       "layout": {
        "barmode": "relative",
        "legend": {
         "tracegroupgap": 0
        },
        "margin": {
         "t": 60
        },
        "template": {
         "data": {
          "bar": [
           {
            "error_x": {
             "color": "#2a3f5f"
            },
            "error_y": {
             "color": "#2a3f5f"
            },
            "marker": {
             "line": {
              "color": "#E5ECF6",
              "width": 0.5
             },
             "pattern": {
              "fillmode": "overlay",
              "size": 10,
              "solidity": 0.2
             }
            },
            "type": "bar"
           }
          ],
          "barpolar": [
           {
            "marker": {
             "line": {
              "color": "#E5ECF6",
              "width": 0.5
             },
             "pattern": {
              "fillmode": "overlay",
              "size": 10,
              "solidity": 0.2
             }
            },
            "type": "barpolar"
           }
          ],
          "carpet": [
           {
            "aaxis": {
             "endlinecolor": "#2a3f5f",
             "gridcolor": "white",
             "linecolor": "white",
             "minorgridcolor": "white",
             "startlinecolor": "#2a3f5f"
            },
            "baxis": {
             "endlinecolor": "#2a3f5f",
             "gridcolor": "white",
             "linecolor": "white",
             "minorgridcolor": "white",
             "startlinecolor": "#2a3f5f"
            },
            "type": "carpet"
           }
          ],
          "choropleth": [
           {
            "colorbar": {
             "outlinewidth": 0,
             "ticks": ""
            },
            "type": "choropleth"
           }
          ],
          "contour": [
           {
            "colorbar": {
             "outlinewidth": 0,
             "ticks": ""
            },
            "colorscale": [
             [
              0,
              "#0d0887"
             ],
             [
              0.1111111111111111,
              "#46039f"
             ],
             [
              0.2222222222222222,
              "#7201a8"
             ],
             [
              0.3333333333333333,
              "#9c179e"
             ],
             [
              0.4444444444444444,
              "#bd3786"
             ],
             [
              0.5555555555555556,
              "#d8576b"
             ],
             [
              0.6666666666666666,
              "#ed7953"
             ],
             [
              0.7777777777777778,
              "#fb9f3a"
             ],
             [
              0.8888888888888888,
              "#fdca26"
             ],
             [
              1,
              "#f0f921"
             ]
            ],
            "type": "contour"
           }
          ],
          "contourcarpet": [
           {
            "colorbar": {
             "outlinewidth": 0,
             "ticks": ""
            },
            "type": "contourcarpet"
           }
          ],
          "heatmap": [
           {
            "colorbar": {
             "outlinewidth": 0,
             "ticks": ""
            },
            "colorscale": [
             [
              0,
              "#0d0887"
             ],
             [
              0.1111111111111111,
              "#46039f"
             ],
             [
              0.2222222222222222,
              "#7201a8"
             ],
             [
              0.3333333333333333,
              "#9c179e"
             ],
             [
              0.4444444444444444,
              "#bd3786"
             ],
             [
              0.5555555555555556,
              "#d8576b"
             ],
             [
              0.6666666666666666,
              "#ed7953"
             ],
             [
              0.7777777777777778,
              "#fb9f3a"
             ],
             [
              0.8888888888888888,
              "#fdca26"
             ],
             [
              1,
              "#f0f921"
             ]
            ],
            "type": "heatmap"
           }
          ],
          "heatmapgl": [
           {
            "colorbar": {
             "outlinewidth": 0,
             "ticks": ""
            },
            "colorscale": [
             [
              0,
              "#0d0887"
             ],
             [
              0.1111111111111111,
              "#46039f"
             ],
             [
              0.2222222222222222,
              "#7201a8"
             ],
             [
              0.3333333333333333,
              "#9c179e"
             ],
             [
              0.4444444444444444,
              "#bd3786"
             ],
             [
              0.5555555555555556,
              "#d8576b"
             ],
             [
              0.6666666666666666,
              "#ed7953"
             ],
             [
              0.7777777777777778,
              "#fb9f3a"
             ],
             [
              0.8888888888888888,
              "#fdca26"
             ],
             [
              1,
              "#f0f921"
             ]
            ],
            "type": "heatmapgl"
           }
          ],
          "histogram": [
           {
            "marker": {
             "pattern": {
              "fillmode": "overlay",
              "size": 10,
              "solidity": 0.2
             }
            },
            "type": "histogram"
           }
          ],
          "histogram2d": [
           {
            "colorbar": {
             "outlinewidth": 0,
             "ticks": ""
            },
            "colorscale": [
             [
              0,
              "#0d0887"
             ],
             [
              0.1111111111111111,
              "#46039f"
             ],
             [
              0.2222222222222222,
              "#7201a8"
             ],
             [
              0.3333333333333333,
              "#9c179e"
             ],
             [
              0.4444444444444444,
              "#bd3786"
             ],
             [
              0.5555555555555556,
              "#d8576b"
             ],
             [
              0.6666666666666666,
              "#ed7953"
             ],
             [
              0.7777777777777778,
              "#fb9f3a"
             ],
             [
              0.8888888888888888,
              "#fdca26"
             ],
             [
              1,
              "#f0f921"
             ]
            ],
            "type": "histogram2d"
           }
          ],
          "histogram2dcontour": [
           {
            "colorbar": {
             "outlinewidth": 0,
             "ticks": ""
            },
            "colorscale": [
             [
              0,
              "#0d0887"
             ],
             [
              0.1111111111111111,
              "#46039f"
             ],
             [
              0.2222222222222222,
              "#7201a8"
             ],
             [
              0.3333333333333333,
              "#9c179e"
             ],
             [
              0.4444444444444444,
              "#bd3786"
             ],
             [
              0.5555555555555556,
              "#d8576b"
             ],
             [
              0.6666666666666666,
              "#ed7953"
             ],
             [
              0.7777777777777778,
              "#fb9f3a"
             ],
             [
              0.8888888888888888,
              "#fdca26"
             ],
             [
              1,
              "#f0f921"
             ]
            ],
            "type": "histogram2dcontour"
           }
          ],
          "mesh3d": [
           {
            "colorbar": {
             "outlinewidth": 0,
             "ticks": ""
            },
            "type": "mesh3d"
           }
          ],
          "parcoords": [
           {
            "line": {
             "colorbar": {
              "outlinewidth": 0,
              "ticks": ""
             }
            },
            "type": "parcoords"
           }
          ],
          "pie": [
           {
            "automargin": true,
            "type": "pie"
           }
          ],
          "scatter": [
           {
            "fillpattern": {
             "fillmode": "overlay",
             "size": 10,
             "solidity": 0.2
            },
            "type": "scatter"
           }
          ],
          "scatter3d": [
           {
            "line": {
             "colorbar": {
              "outlinewidth": 0,
              "ticks": ""
             }
            },
            "marker": {
             "colorbar": {
              "outlinewidth": 0,
              "ticks": ""
             }
            },
            "type": "scatter3d"
           }
          ],
          "scattercarpet": [
           {
            "marker": {
             "colorbar": {
              "outlinewidth": 0,
              "ticks": ""
             }
            },
            "type": "scattercarpet"
           }
          ],
          "scattergeo": [
           {
            "marker": {
             "colorbar": {
              "outlinewidth": 0,
              "ticks": ""
             }
            },
            "type": "scattergeo"
           }
          ],
          "scattergl": [
           {
            "marker": {
             "colorbar": {
              "outlinewidth": 0,
              "ticks": ""
             }
            },
            "type": "scattergl"
           }
          ],
          "scattermapbox": [
           {
            "marker": {
             "colorbar": {
              "outlinewidth": 0,
              "ticks": ""
             }
            },
            "type": "scattermapbox"
           }
          ],
          "scatterpolar": [
           {
            "marker": {
             "colorbar": {
              "outlinewidth": 0,
              "ticks": ""
             }
            },
            "type": "scatterpolar"
           }
          ],
          "scatterpolargl": [
           {
            "marker": {
             "colorbar": {
              "outlinewidth": 0,
              "ticks": ""
             }
            },
            "type": "scatterpolargl"
           }
          ],
          "scatterternary": [
           {
            "marker": {
             "colorbar": {
              "outlinewidth": 0,
              "ticks": ""
             }
            },
            "type": "scatterternary"
           }
          ],
          "surface": [
           {
            "colorbar": {
             "outlinewidth": 0,
             "ticks": ""
            },
            "colorscale": [
             [
              0,
              "#0d0887"
             ],
             [
              0.1111111111111111,
              "#46039f"
             ],
             [
              0.2222222222222222,
              "#7201a8"
             ],
             [
              0.3333333333333333,
              "#9c179e"
             ],
             [
              0.4444444444444444,
              "#bd3786"
             ],
             [
              0.5555555555555556,
              "#d8576b"
             ],
             [
              0.6666666666666666,
              "#ed7953"
             ],
             [
              0.7777777777777778,
              "#fb9f3a"
             ],
             [
              0.8888888888888888,
              "#fdca26"
             ],
             [
              1,
              "#f0f921"
             ]
            ],
            "type": "surface"
           }
          ],
          "table": [
           {
            "cells": {
             "fill": {
              "color": "#EBF0F8"
             },
             "line": {
              "color": "white"
             }
            },
            "header": {
             "fill": {
              "color": "#C8D4E3"
             },
             "line": {
              "color": "white"
             }
            },
            "type": "table"
           }
          ]
         },
         "layout": {
          "annotationdefaults": {
           "arrowcolor": "#2a3f5f",
           "arrowhead": 0,
           "arrowwidth": 1
          },
          "autotypenumbers": "strict",
          "coloraxis": {
           "colorbar": {
            "outlinewidth": 0,
            "ticks": ""
           }
          },
          "colorscale": {
           "diverging": [
            [
             0,
             "#8e0152"
            ],
            [
             0.1,
             "#c51b7d"
            ],
            [
             0.2,
             "#de77ae"
            ],
            [
             0.3,
             "#f1b6da"
            ],
            [
             0.4,
             "#fde0ef"
            ],
            [
             0.5,
             "#f7f7f7"
            ],
            [
             0.6,
             "#e6f5d0"
            ],
            [
             0.7,
             "#b8e186"
            ],
            [
             0.8,
             "#7fbc41"
            ],
            [
             0.9,
             "#4d9221"
            ],
            [
             1,
             "#276419"
            ]
           ],
           "sequential": [
            [
             0,
             "#0d0887"
            ],
            [
             0.1111111111111111,
             "#46039f"
            ],
            [
             0.2222222222222222,
             "#7201a8"
            ],
            [
             0.3333333333333333,
             "#9c179e"
            ],
            [
             0.4444444444444444,
             "#bd3786"
            ],
            [
             0.5555555555555556,
             "#d8576b"
            ],
            [
             0.6666666666666666,
             "#ed7953"
            ],
            [
             0.7777777777777778,
             "#fb9f3a"
            ],
            [
             0.8888888888888888,
             "#fdca26"
            ],
            [
             1,
             "#f0f921"
            ]
           ],
           "sequentialminus": [
            [
             0,
             "#0d0887"
            ],
            [
             0.1111111111111111,
             "#46039f"
            ],
            [
             0.2222222222222222,
             "#7201a8"
            ],
            [
             0.3333333333333333,
             "#9c179e"
            ],
            [
             0.4444444444444444,
             "#bd3786"
            ],
            [
             0.5555555555555556,
             "#d8576b"
            ],
            [
             0.6666666666666666,
             "#ed7953"
            ],
            [
             0.7777777777777778,
             "#fb9f3a"
            ],
            [
             0.8888888888888888,
             "#fdca26"
            ],
            [
             1,
             "#f0f921"
            ]
           ]
          },
          "colorway": [
           "#636efa",
           "#EF553B",
           "#00cc96",
           "#ab63fa",
           "#FFA15A",
           "#19d3f3",
           "#FF6692",
           "#B6E880",
           "#FF97FF",
           "#FECB52"
          ],
          "font": {
           "color": "#2a3f5f"
          },
          "geo": {
           "bgcolor": "white",
           "lakecolor": "white",
           "landcolor": "#E5ECF6",
           "showlakes": true,
           "showland": true,
           "subunitcolor": "white"
          },
          "hoverlabel": {
           "align": "left"
          },
          "hovermode": "closest",
          "mapbox": {
           "style": "light"
          },
          "paper_bgcolor": "white",
          "plot_bgcolor": "#E5ECF6",
          "polar": {
           "angularaxis": {
            "gridcolor": "white",
            "linecolor": "white",
            "ticks": ""
           },
           "bgcolor": "#E5ECF6",
           "radialaxis": {
            "gridcolor": "white",
            "linecolor": "white",
            "ticks": ""
           }
          },
          "scene": {
           "xaxis": {
            "backgroundcolor": "#E5ECF6",
            "gridcolor": "white",
            "gridwidth": 2,
            "linecolor": "white",
            "showbackground": true,
            "ticks": "",
            "zerolinecolor": "white"
           },
           "yaxis": {
            "backgroundcolor": "#E5ECF6",
            "gridcolor": "white",
            "gridwidth": 2,
            "linecolor": "white",
            "showbackground": true,
            "ticks": "",
            "zerolinecolor": "white"
           },
           "zaxis": {
            "backgroundcolor": "#E5ECF6",
            "gridcolor": "white",
            "gridwidth": 2,
            "linecolor": "white",
            "showbackground": true,
            "ticks": "",
            "zerolinecolor": "white"
           }
          },
          "shapedefaults": {
           "line": {
            "color": "#2a3f5f"
           }
          },
          "ternary": {
           "aaxis": {
            "gridcolor": "white",
            "linecolor": "white",
            "ticks": ""
           },
           "baxis": {
            "gridcolor": "white",
            "linecolor": "white",
            "ticks": ""
           },
           "bgcolor": "#E5ECF6",
           "caxis": {
            "gridcolor": "white",
            "linecolor": "white",
            "ticks": ""
           }
          },
          "title": {
           "x": 0.05
          },
          "xaxis": {
           "automargin": true,
           "gridcolor": "white",
           "linecolor": "white",
           "ticks": "",
           "title": {
            "standoff": 15
           },
           "zerolinecolor": "white",
           "zerolinewidth": 2
          },
          "yaxis": {
           "automargin": true,
           "gridcolor": "white",
           "linecolor": "white",
           "ticks": "",
           "title": {
            "standoff": 15
           },
           "zerolinecolor": "white",
           "zerolinewidth": 2
          }
         }
        },
        "xaxis": {
         "anchor": "y",
         "domain": [
          0,
          1
         ],
         "title": {
          "text": "class"
         }
        },
        "yaxis": {
         "anchor": "x",
         "domain": [
          0,
          1
         ],
         "title": {
          "text": "faces"
         }
        }
       }
      }
     },
     "metadata": {},
     "output_type": "display_data"
    },
    {
     "data": {
      "application/vnd.plotly.v1+json": {
       "config": {
        "plotlyServerURL": "https://plot.ly"
       },
       "data": [
        {
         "alignmentgroup": "True",
         "hovertemplate": "class=%{x}<br>faces=%{y}<extra></extra>",
         "legendgroup": "",
         "marker": {
          "color": "lightslategray",
          "pattern": {
           "shape": ""
          }
         },
         "name": "",
         "offsetgroup": "",
         "orientation": "v",
         "showlegend": false,
         "textposition": "auto",
         "type": "bar",
         "x": [
          "Spoon",
          "Drum",
          "Bus",
          "ClassicPiano",
          "Knife",
          "Bookset",
          "PianoBoard",
          "TruckNonContainer",
          "Tree",
          "ComputerKeyboard",
          "PlantIndoors",
          "Train",
          "Skyscraper",
          "HumanHead",
          "Apartment",
          "MilitaryVehicle",
          "Cellphone",
          "RoundTable",
          "Bicycle",
          "Motorcycle",
          "FloorLamp",
          "Car",
          "Musical_Instrument",
          "SubmachineGun",
          "AquaticAnimal",
          "Mug",
          "Vase",
          "Helicopter",
          "Bed",
          "Shelf",
          "Wheel",
          "PlantWildNonTree",
          "MultiSeat",
          "DeskPhone",
          "Jet",
          "AircraftBuoyant",
          "Cup",
          "Door",
          "City",
          "Glasses",
          "Bottle",
          "Monoplane",
          "Ship",
          "Quadruped",
          "Tool",
          "Sign",
          "Chess",
          "Rocket",
          "Sword",
          "Biplane",
          "Monitor",
          "Bird",
          "House",
          "Hand",
          "Hat",
          "DeskLamp",
          "NonWheelChair",
          "Truck",
          "Humanoid",
          "Starship",
          "Insect",
          "Gun",
          "Guitar",
          "RectangleTable",
          "Computer",
          "Fish",
          "BuildingNonResidential",
          "Violin",
          "WheelChair"
         ],
         "xaxis": "x",
         "y": [
          2845.8,
          4794.65,
          4819.55,
          4981.3,
          5144.555555555556,
          5295.95,
          5436.55,
          5938.7,
          6056.702127659574,
          6281.45,
          6928.107692307693,
          6949.833333333333,
          7092.3,
          7130.294117647059,
          7197.04347826087,
          7343.3,
          7377,
          7462.891891891892,
          7508.461538461538,
          7554.807692307692,
          7620.035714285715,
          7628.876404494382,
          7642.142857142857,
          7642.5,
          7805.6551724137935,
          7822.961538461538,
          7859.3,
          7871.568627450981,
          7875,
          7875.093023255814,
          7881.117647058823,
          7893.7037037037035,
          7896.444444444444,
          7898.25,
          7904.986013986014,
          7914.4375,
          7928.9,
          7943.409090909091,
          7950,
          7961.05,
          7993.258064516129,
          8001.3,
          8001.857142857143,
          8003.701754385965,
          8015.931818181818,
          8017.533333333334,
          8021.142857142857,
          8026,
          8027.867924528302,
          8031.7555555555555,
          8048.65,
          8094.545454545455,
          8095.630434782609,
          8099,
          8099.2,
          8234.258064516129,
          8257.966666666667,
          8308.555555555555,
          8355.401408450703,
          8359.90322580645,
          8411.530303030304,
          8449.5,
          8454.65,
          8463.921875,
          8607.121212121212,
          8743.05,
          8902.613636363636,
          9154.5,
          9798.35
         ],
         "yaxis": "y"
        }
       ],
       "layout": {
        "barmode": "relative",
        "legend": {
         "tracegroupgap": 0
        },
        "margin": {
         "t": 60
        },
        "template": {
         "data": {
          "bar": [
           {
            "error_x": {
             "color": "#2a3f5f"
            },
            "error_y": {
             "color": "#2a3f5f"
            },
            "marker": {
             "line": {
              "color": "#E5ECF6",
              "width": 0.5
             },
             "pattern": {
              "fillmode": "overlay",
              "size": 10,
              "solidity": 0.2
             }
            },
            "type": "bar"
           }
          ],
          "barpolar": [
           {
            "marker": {
             "line": {
              "color": "#E5ECF6",
              "width": 0.5
             },
             "pattern": {
              "fillmode": "overlay",
              "size": 10,
              "solidity": 0.2
             }
            },
            "type": "barpolar"
           }
          ],
          "carpet": [
           {
            "aaxis": {
             "endlinecolor": "#2a3f5f",
             "gridcolor": "white",
             "linecolor": "white",
             "minorgridcolor": "white",
             "startlinecolor": "#2a3f5f"
            },
            "baxis": {
             "endlinecolor": "#2a3f5f",
             "gridcolor": "white",
             "linecolor": "white",
             "minorgridcolor": "white",
             "startlinecolor": "#2a3f5f"
            },
            "type": "carpet"
           }
          ],
          "choropleth": [
           {
            "colorbar": {
             "outlinewidth": 0,
             "ticks": ""
            },
            "type": "choropleth"
           }
          ],
          "contour": [
           {
            "colorbar": {
             "outlinewidth": 0,
             "ticks": ""
            },
            "colorscale": [
             [
              0,
              "#0d0887"
             ],
             [
              0.1111111111111111,
              "#46039f"
             ],
             [
              0.2222222222222222,
              "#7201a8"
             ],
             [
              0.3333333333333333,
              "#9c179e"
             ],
             [
              0.4444444444444444,
              "#bd3786"
             ],
             [
              0.5555555555555556,
              "#d8576b"
             ],
             [
              0.6666666666666666,
              "#ed7953"
             ],
             [
              0.7777777777777778,
              "#fb9f3a"
             ],
             [
              0.8888888888888888,
              "#fdca26"
             ],
             [
              1,
              "#f0f921"
             ]
            ],
            "type": "contour"
           }
          ],
          "contourcarpet": [
           {
            "colorbar": {
             "outlinewidth": 0,
             "ticks": ""
            },
            "type": "contourcarpet"
           }
          ],
          "heatmap": [
           {
            "colorbar": {
             "outlinewidth": 0,
             "ticks": ""
            },
            "colorscale": [
             [
              0,
              "#0d0887"
             ],
             [
              0.1111111111111111,
              "#46039f"
             ],
             [
              0.2222222222222222,
              "#7201a8"
             ],
             [
              0.3333333333333333,
              "#9c179e"
             ],
             [
              0.4444444444444444,
              "#bd3786"
             ],
             [
              0.5555555555555556,
              "#d8576b"
             ],
             [
              0.6666666666666666,
              "#ed7953"
             ],
             [
              0.7777777777777778,
              "#fb9f3a"
             ],
             [
              0.8888888888888888,
              "#fdca26"
             ],
             [
              1,
              "#f0f921"
             ]
            ],
            "type": "heatmap"
           }
          ],
          "heatmapgl": [
           {
            "colorbar": {
             "outlinewidth": 0,
             "ticks": ""
            },
            "colorscale": [
             [
              0,
              "#0d0887"
             ],
             [
              0.1111111111111111,
              "#46039f"
             ],
             [
              0.2222222222222222,
              "#7201a8"
             ],
             [
              0.3333333333333333,
              "#9c179e"
             ],
             [
              0.4444444444444444,
              "#bd3786"
             ],
             [
              0.5555555555555556,
              "#d8576b"
             ],
             [
              0.6666666666666666,
              "#ed7953"
             ],
             [
              0.7777777777777778,
              "#fb9f3a"
             ],
             [
              0.8888888888888888,
              "#fdca26"
             ],
             [
              1,
              "#f0f921"
             ]
            ],
            "type": "heatmapgl"
           }
          ],
          "histogram": [
           {
            "marker": {
             "pattern": {
              "fillmode": "overlay",
              "size": 10,
              "solidity": 0.2
             }
            },
            "type": "histogram"
           }
          ],
          "histogram2d": [
           {
            "colorbar": {
             "outlinewidth": 0,
             "ticks": ""
            },
            "colorscale": [
             [
              0,
              "#0d0887"
             ],
             [
              0.1111111111111111,
              "#46039f"
             ],
             [
              0.2222222222222222,
              "#7201a8"
             ],
             [
              0.3333333333333333,
              "#9c179e"
             ],
             [
              0.4444444444444444,
              "#bd3786"
             ],
             [
              0.5555555555555556,
              "#d8576b"
             ],
             [
              0.6666666666666666,
              "#ed7953"
             ],
             [
              0.7777777777777778,
              "#fb9f3a"
             ],
             [
              0.8888888888888888,
              "#fdca26"
             ],
             [
              1,
              "#f0f921"
             ]
            ],
            "type": "histogram2d"
           }
          ],
          "histogram2dcontour": [
           {
            "colorbar": {
             "outlinewidth": 0,
             "ticks": ""
            },
            "colorscale": [
             [
              0,
              "#0d0887"
             ],
             [
              0.1111111111111111,
              "#46039f"
             ],
             [
              0.2222222222222222,
              "#7201a8"
             ],
             [
              0.3333333333333333,
              "#9c179e"
             ],
             [
              0.4444444444444444,
              "#bd3786"
             ],
             [
              0.5555555555555556,
              "#d8576b"
             ],
             [
              0.6666666666666666,
              "#ed7953"
             ],
             [
              0.7777777777777778,
              "#fb9f3a"
             ],
             [
              0.8888888888888888,
              "#fdca26"
             ],
             [
              1,
              "#f0f921"
             ]
            ],
            "type": "histogram2dcontour"
           }
          ],
          "mesh3d": [
           {
            "colorbar": {
             "outlinewidth": 0,
             "ticks": ""
            },
            "type": "mesh3d"
           }
          ],
          "parcoords": [
           {
            "line": {
             "colorbar": {
              "outlinewidth": 0,
              "ticks": ""
             }
            },
            "type": "parcoords"
           }
          ],
          "pie": [
           {
            "automargin": true,
            "type": "pie"
           }
          ],
          "scatter": [
           {
            "fillpattern": {
             "fillmode": "overlay",
             "size": 10,
             "solidity": 0.2
            },
            "type": "scatter"
           }
          ],
          "scatter3d": [
           {
            "line": {
             "colorbar": {
              "outlinewidth": 0,
              "ticks": ""
             }
            },
            "marker": {
             "colorbar": {
              "outlinewidth": 0,
              "ticks": ""
             }
            },
            "type": "scatter3d"
           }
          ],
          "scattercarpet": [
           {
            "marker": {
             "colorbar": {
              "outlinewidth": 0,
              "ticks": ""
             }
            },
            "type": "scattercarpet"
           }
          ],
          "scattergeo": [
           {
            "marker": {
             "colorbar": {
              "outlinewidth": 0,
              "ticks": ""
             }
            },
            "type": "scattergeo"
           }
          ],
          "scattergl": [
           {
            "marker": {
             "colorbar": {
              "outlinewidth": 0,
              "ticks": ""
             }
            },
            "type": "scattergl"
           }
          ],
          "scattermapbox": [
           {
            "marker": {
             "colorbar": {
              "outlinewidth": 0,
              "ticks": ""
             }
            },
            "type": "scattermapbox"
           }
          ],
          "scatterpolar": [
           {
            "marker": {
             "colorbar": {
              "outlinewidth": 0,
              "ticks": ""
             }
            },
            "type": "scatterpolar"
           }
          ],
          "scatterpolargl": [
           {
            "marker": {
             "colorbar": {
              "outlinewidth": 0,
              "ticks": ""
             }
            },
            "type": "scatterpolargl"
           }
          ],
          "scatterternary": [
           {
            "marker": {
             "colorbar": {
              "outlinewidth": 0,
              "ticks": ""
             }
            },
            "type": "scatterternary"
           }
          ],
          "surface": [
           {
            "colorbar": {
             "outlinewidth": 0,
             "ticks": ""
            },
            "colorscale": [
             [
              0,
              "#0d0887"
             ],
             [
              0.1111111111111111,
              "#46039f"
             ],
             [
              0.2222222222222222,
              "#7201a8"
             ],
             [
              0.3333333333333333,
              "#9c179e"
             ],
             [
              0.4444444444444444,
              "#bd3786"
             ],
             [
              0.5555555555555556,
              "#d8576b"
             ],
             [
              0.6666666666666666,
              "#ed7953"
             ],
             [
              0.7777777777777778,
              "#fb9f3a"
             ],
             [
              0.8888888888888888,
              "#fdca26"
             ],
             [
              1,
              "#f0f921"
             ]
            ],
            "type": "surface"
           }
          ],
          "table": [
           {
            "cells": {
             "fill": {
              "color": "#EBF0F8"
             },
             "line": {
              "color": "white"
             }
            },
            "header": {
             "fill": {
              "color": "#C8D4E3"
             },
             "line": {
              "color": "white"
             }
            },
            "type": "table"
           }
          ]
         },
         "layout": {
          "annotationdefaults": {
           "arrowcolor": "#2a3f5f",
           "arrowhead": 0,
           "arrowwidth": 1
          },
          "autotypenumbers": "strict",
          "coloraxis": {
           "colorbar": {
            "outlinewidth": 0,
            "ticks": ""
           }
          },
          "colorscale": {
           "diverging": [
            [
             0,
             "#8e0152"
            ],
            [
             0.1,
             "#c51b7d"
            ],
            [
             0.2,
             "#de77ae"
            ],
            [
             0.3,
             "#f1b6da"
            ],
            [
             0.4,
             "#fde0ef"
            ],
            [
             0.5,
             "#f7f7f7"
            ],
            [
             0.6,
             "#e6f5d0"
            ],
            [
             0.7,
             "#b8e186"
            ],
            [
             0.8,
             "#7fbc41"
            ],
            [
             0.9,
             "#4d9221"
            ],
            [
             1,
             "#276419"
            ]
           ],
           "sequential": [
            [
             0,
             "#0d0887"
            ],
            [
             0.1111111111111111,
             "#46039f"
            ],
            [
             0.2222222222222222,
             "#7201a8"
            ],
            [
             0.3333333333333333,
             "#9c179e"
            ],
            [
             0.4444444444444444,
             "#bd3786"
            ],
            [
             0.5555555555555556,
             "#d8576b"
            ],
            [
             0.6666666666666666,
             "#ed7953"
            ],
            [
             0.7777777777777778,
             "#fb9f3a"
            ],
            [
             0.8888888888888888,
             "#fdca26"
            ],
            [
             1,
             "#f0f921"
            ]
           ],
           "sequentialminus": [
            [
             0,
             "#0d0887"
            ],
            [
             0.1111111111111111,
             "#46039f"
            ],
            [
             0.2222222222222222,
             "#7201a8"
            ],
            [
             0.3333333333333333,
             "#9c179e"
            ],
            [
             0.4444444444444444,
             "#bd3786"
            ],
            [
             0.5555555555555556,
             "#d8576b"
            ],
            [
             0.6666666666666666,
             "#ed7953"
            ],
            [
             0.7777777777777778,
             "#fb9f3a"
            ],
            [
             0.8888888888888888,
             "#fdca26"
            ],
            [
             1,
             "#f0f921"
            ]
           ]
          },
          "colorway": [
           "#636efa",
           "#EF553B",
           "#00cc96",
           "#ab63fa",
           "#FFA15A",
           "#19d3f3",
           "#FF6692",
           "#B6E880",
           "#FF97FF",
           "#FECB52"
          ],
          "font": {
           "color": "#2a3f5f"
          },
          "geo": {
           "bgcolor": "white",
           "lakecolor": "white",
           "landcolor": "#E5ECF6",
           "showlakes": true,
           "showland": true,
           "subunitcolor": "white"
          },
          "hoverlabel": {
           "align": "left"
          },
          "hovermode": "closest",
          "mapbox": {
           "style": "light"
          },
          "paper_bgcolor": "white",
          "plot_bgcolor": "#E5ECF6",
          "polar": {
           "angularaxis": {
            "gridcolor": "white",
            "linecolor": "white",
            "ticks": ""
           },
           "bgcolor": "#E5ECF6",
           "radialaxis": {
            "gridcolor": "white",
            "linecolor": "white",
            "ticks": ""
           }
          },
          "scene": {
           "xaxis": {
            "backgroundcolor": "#E5ECF6",
            "gridcolor": "white",
            "gridwidth": 2,
            "linecolor": "white",
            "showbackground": true,
            "ticks": "",
            "zerolinecolor": "white"
           },
           "yaxis": {
            "backgroundcolor": "#E5ECF6",
            "gridcolor": "white",
            "gridwidth": 2,
            "linecolor": "white",
            "showbackground": true,
            "ticks": "",
            "zerolinecolor": "white"
           },
           "zaxis": {
            "backgroundcolor": "#E5ECF6",
            "gridcolor": "white",
            "gridwidth": 2,
            "linecolor": "white",
            "showbackground": true,
            "ticks": "",
            "zerolinecolor": "white"
           }
          },
          "shapedefaults": {
           "line": {
            "color": "#2a3f5f"
           }
          },
          "ternary": {
           "aaxis": {
            "gridcolor": "white",
            "linecolor": "white",
            "ticks": ""
           },
           "baxis": {
            "gridcolor": "white",
            "linecolor": "white",
            "ticks": ""
           },
           "bgcolor": "#E5ECF6",
           "caxis": {
            "gridcolor": "white",
            "linecolor": "white",
            "ticks": ""
           }
          },
          "title": {
           "x": 0.05
          },
          "xaxis": {
           "automargin": true,
           "gridcolor": "white",
           "linecolor": "white",
           "ticks": "",
           "title": {
            "standoff": 15
           },
           "zerolinecolor": "white",
           "zerolinewidth": 2
          },
          "yaxis": {
           "automargin": true,
           "gridcolor": "white",
           "linecolor": "white",
           "ticks": "",
           "title": {
            "standoff": 15
           },
           "zerolinecolor": "white",
           "zerolinewidth": 2
          }
         }
        },
        "xaxis": {
         "anchor": "y",
         "domain": [
          0,
          1
         ],
         "title": {
          "text": "class"
         }
        },
        "yaxis": {
         "anchor": "x",
         "domain": [
          0,
          1
         ],
         "title": {
          "text": "faces"
         }
        }
       }
      }
     },
     "metadata": {},
     "output_type": "display_data"
    }
   ],
   "source": [
    "# [Comparative info] Avg vertices before and after\n",
    "df_mean_bar = df[[\"vertices\", \"faces\", \"class\"]].groupby(\"class\").mean().sort_values([\"vertices\", \"faces\"])\n",
    "fig = px.bar(df_mean_bar, x=df_mean_bar.index, y='vertices')\n",
    "fig.update_traces(marker_color='lightslategray')\n",
    "fig.show()\n",
    "\n",
    "df_mean_bar_resampled = df_resampled[[\"vertices\", \"faces\", \"class\"]].groupby(\"class\").mean().sort_values([\"vertices\", \"faces\"])\n",
    "fig = px.bar(df_mean_bar_resampled, x=df_mean_bar_resampled.index, y='vertices')\n",
    "fig.update_traces(marker_color='lightslategray')\n",
    "fig.show()\n",
    "\n",
    "# [Comparative info] Avg faces before and after\n",
    "df_mean_bar = df[[\"vertices\", \"faces\", \"class\"]].groupby(\"class\").mean().sort_values([\"faces\", \"vertices\"])\n",
    "fig = px.bar(df_mean_bar, x=df_mean_bar.index, y='faces')\n",
    "fig.update_traces(marker_color='lightslategray')\n",
    "fig.show()\n",
    "\n",
    "df_mean_bar_resampled = df_resampled[[\"vertices\", \"faces\", \"class\"]].groupby(\"class\").mean().sort_values([\"faces\", \"vertices\"])\n",
    "fig = px.bar(df_mean_bar_resampled, x=df_mean_bar_resampled.index, y='faces')\n",
    "fig.update_traces(marker_color='lightslategray')\n",
    "fig.show()"
   ]
  }
 ],
 "metadata": {
  "kernelspec": {
   "display_name": "Python 3",
   "language": "python",
   "name": "python3"
  },
  "language_info": {
   "codemirror_mode": {
    "name": "ipython",
    "version": 3
   },
   "file_extension": ".py",
   "mimetype": "text/x-python",
   "name": "python",
   "nbconvert_exporter": "python",
   "pygments_lexer": "ipython3",
   "version": "3.11.8"
  }
 },
 "nbformat": 4,
 "nbformat_minor": 2
}

{
 "cells": [
  {
   "cell_type": "code",
   "execution_count": 1,
   "metadata": {},
   "outputs": [],
   "source": [
    "import pandas as pd\n",
    "import plotly.express as px"
   ]
  },
  {
   "cell_type": "code",
   "execution_count": 2,
   "metadata": {},
   "outputs": [
    {
     "data": {
      "text/html": [
       "<div>\n",
       "<style scoped>\n",
       "    .dataframe tbody tr th:only-of-type {\n",
       "        vertical-align: middle;\n",
       "    }\n",
       "\n",
       "    .dataframe tbody tr th {\n",
       "        vertical-align: top;\n",
       "    }\n",
       "\n",
       "    .dataframe thead th {\n",
       "        text-align: right;\n",
       "    }\n",
       "</style>\n",
       "<table border=\"1\" class=\"dataframe\">\n",
       "  <thead>\n",
       "    <tr style=\"text-align: right;\">\n",
       "      <th></th>\n",
       "      <th>name</th>\n",
       "      <th>class</th>\n",
       "      <th>vertices</th>\n",
       "      <th>faces</th>\n",
       "      <th>bbox</th>\n",
       "      <th>type</th>\n",
       "    </tr>\n",
       "  </thead>\n",
       "  <tbody>\n",
       "    <tr>\n",
       "      <th>0</th>\n",
       "      <td>m1337.obj</td>\n",
       "      <td>AircraftBuoyant</td>\n",
       "      <td>201</td>\n",
       "      <td>340</td>\n",
       "      <td>0.025 0.889234 0.025 0.975 0.025 0.889234</td>\n",
       "      <td>triangles</td>\n",
       "    </tr>\n",
       "    <tr>\n",
       "      <th>1</th>\n",
       "      <td>m1338.obj</td>\n",
       "      <td>AircraftBuoyant</td>\n",
       "      <td>8761</td>\n",
       "      <td>16960</td>\n",
       "      <td>0.025 0.933058 0.025 0.975 0.025 0.937901</td>\n",
       "      <td>triangles</td>\n",
       "    </tr>\n",
       "    <tr>\n",
       "      <th>2</th>\n",
       "      <td>m1339.obj</td>\n",
       "      <td>AircraftBuoyant</td>\n",
       "      <td>1878</td>\n",
       "      <td>6173</td>\n",
       "      <td>0.025 0.607072 0.025 0.975 0.025 0.626812</td>\n",
       "      <td>triangles</td>\n",
       "    </tr>\n",
       "    <tr>\n",
       "      <th>3</th>\n",
       "      <td>m1340.obj</td>\n",
       "      <td>AircraftBuoyant</td>\n",
       "      <td>778</td>\n",
       "      <td>1457</td>\n",
       "      <td>0.025 0.367686 0.025 0.975 0.025 0.367689</td>\n",
       "      <td>triangles</td>\n",
       "    </tr>\n",
       "    <tr>\n",
       "      <th>4</th>\n",
       "      <td>m1341.obj</td>\n",
       "      <td>AircraftBuoyant</td>\n",
       "      <td>425</td>\n",
       "      <td>824</td>\n",
       "      <td>0.025 0.379575 0.025 0.975 0.025 0.379575</td>\n",
       "      <td>triangles</td>\n",
       "    </tr>\n",
       "    <tr>\n",
       "      <th>...</th>\n",
       "      <td>...</td>\n",
       "      <td>...</td>\n",
       "      <td>...</td>\n",
       "      <td>...</td>\n",
       "      <td>...</td>\n",
       "      <td>...</td>\n",
       "    </tr>\n",
       "    <tr>\n",
       "      <th>2478</th>\n",
       "      <td>D00687.obj</td>\n",
       "      <td>WheelChair</td>\n",
       "      <td>8188</td>\n",
       "      <td>16268</td>\n",
       "      <td>-0.832973 0.997014 -0.383821 0.545195 -0.44659...</td>\n",
       "      <td>triangles</td>\n",
       "    </tr>\n",
       "    <tr>\n",
       "      <th>2479</th>\n",
       "      <td>D00720.obj</td>\n",
       "      <td>WheelChair</td>\n",
       "      <td>43966</td>\n",
       "      <td>83378</td>\n",
       "      <td>-1.25623 0.625036 -0.511296 0.625521 -0.426438...</td>\n",
       "      <td>triangles</td>\n",
       "    </tr>\n",
       "    <tr>\n",
       "      <th>2480</th>\n",
       "      <td>D00782.obj</td>\n",
       "      <td>WheelChair</td>\n",
       "      <td>1144</td>\n",
       "      <td>1940</td>\n",
       "      <td>-1.18257 0.70089 -0.425223 0.702418 -0.596103 ...</td>\n",
       "      <td>triangles</td>\n",
       "    </tr>\n",
       "    <tr>\n",
       "      <th>2481</th>\n",
       "      <td>D00821.obj</td>\n",
       "      <td>WheelChair</td>\n",
       "      <td>8188</td>\n",
       "      <td>16268</td>\n",
       "      <td>-0.824906 1.00177 -0.346825 0.528973 -0.468272...</td>\n",
       "      <td>triangles</td>\n",
       "    </tr>\n",
       "    <tr>\n",
       "      <th>2482</th>\n",
       "      <td>D00846.obj</td>\n",
       "      <td>WheelChair</td>\n",
       "      <td>8834</td>\n",
       "      <td>17196</td>\n",
       "      <td>-0.915155 0.949551 -0.560325 0.519415 -0.62717...</td>\n",
       "      <td>triangles</td>\n",
       "    </tr>\n",
       "  </tbody>\n",
       "</table>\n",
       "<p>2483 rows × 6 columns</p>\n",
       "</div>"
      ],
      "text/plain": [
       "            name            class  vertices  faces  \\\n",
       "0      m1337.obj  AircraftBuoyant       201    340   \n",
       "1      m1338.obj  AircraftBuoyant      8761  16960   \n",
       "2      m1339.obj  AircraftBuoyant      1878   6173   \n",
       "3      m1340.obj  AircraftBuoyant       778   1457   \n",
       "4      m1341.obj  AircraftBuoyant       425    824   \n",
       "...          ...              ...       ...    ...   \n",
       "2478  D00687.obj       WheelChair      8188  16268   \n",
       "2479  D00720.obj       WheelChair     43966  83378   \n",
       "2480  D00782.obj       WheelChair      1144   1940   \n",
       "2481  D00821.obj       WheelChair      8188  16268   \n",
       "2482  D00846.obj       WheelChair      8834  17196   \n",
       "\n",
       "                                                   bbox       type  \n",
       "0             0.025 0.889234 0.025 0.975 0.025 0.889234  triangles  \n",
       "1             0.025 0.933058 0.025 0.975 0.025 0.937901  triangles  \n",
       "2             0.025 0.607072 0.025 0.975 0.025 0.626812  triangles  \n",
       "3             0.025 0.367686 0.025 0.975 0.025 0.367689  triangles  \n",
       "4             0.025 0.379575 0.025 0.975 0.025 0.379575  triangles  \n",
       "...                                                 ...        ...  \n",
       "2478  -0.832973 0.997014 -0.383821 0.545195 -0.44659...  triangles  \n",
       "2479  -1.25623 0.625036 -0.511296 0.625521 -0.426438...  triangles  \n",
       "2480  -1.18257 0.70089 -0.425223 0.702418 -0.596103 ...  triangles  \n",
       "2481  -0.824906 1.00177 -0.346825 0.528973 -0.468272...  triangles  \n",
       "2482  -0.915155 0.949551 -0.560325 0.519415 -0.62717...  triangles  \n",
       "\n",
       "[2483 rows x 6 columns]"
      ]
     },
     "metadata": {},
     "output_type": "display_data"
    }
   ],
   "source": [
    "df = pd.read_csv(\"objStats.csv\")\n",
    "df_resampled = pd.read_csv(\"objStatsResampled.csv\")\n",
    "display(df)"
   ]
  },
  {
   "cell_type": "code",
   "execution_count": 3,
   "metadata": {},
   "outputs": [
    {
     "data": {
      "text/plain": [
       "class\n",
       "Hat                 15\n",
       "Sign                15\n",
       "AircraftBuoyant     16\n",
       "Wheel               17\n",
       "Fish                20\n",
       "                  ... \n",
       "PlantIndoors        65\n",
       "Insect              66\n",
       "Car                 89\n",
       "Humanoid           142\n",
       "Jet                143\n",
       "Length: 69, dtype: int64"
      ]
     },
     "execution_count": 3,
     "metadata": {},
     "output_type": "execute_result"
    }
   ],
   "source": [
    "# [General info] largest and smallest class\n",
    "df.groupby(\"class\").size().sort_values()"
   ]
  },
  {
   "cell_type": "code",
   "execution_count": 4,
   "metadata": {},
   "outputs": [
    {
     "data": {
      "text/html": [
       "<div>\n",
       "<style scoped>\n",
       "    .dataframe tbody tr th:only-of-type {\n",
       "        vertical-align: middle;\n",
       "    }\n",
       "\n",
       "    .dataframe tbody tr th {\n",
       "        vertical-align: top;\n",
       "    }\n",
       "\n",
       "    .dataframe thead th {\n",
       "        text-align: right;\n",
       "    }\n",
       "</style>\n",
       "<table border=\"1\" class=\"dataframe\">\n",
       "  <thead>\n",
       "    <tr style=\"text-align: right;\">\n",
       "      <th></th>\n",
       "      <th>name</th>\n",
       "      <th>class</th>\n",
       "      <th>vertices</th>\n",
       "      <th>faces</th>\n",
       "      <th>bbox</th>\n",
       "      <th>type</th>\n",
       "    </tr>\n",
       "  </thead>\n",
       "  <tbody>\n",
       "    <tr>\n",
       "      <th>707</th>\n",
       "      <td>D00297.obj</td>\n",
       "      <td>Drum</td>\n",
       "      <td>5561</td>\n",
       "      <td>33351</td>\n",
       "      <td>1.09723 1.68205 0.439181 0.967894 -0.000222921...</td>\n",
       "      <td>triangles</td>\n",
       "    </tr>\n",
       "    <tr>\n",
       "      <th>922</th>\n",
       "      <td>D00397.obj</td>\n",
       "      <td>Helicopter</td>\n",
       "      <td>5567</td>\n",
       "      <td>7990</td>\n",
       "      <td>-0.812536 0.953353 -0.539772 0.837998 -0.28862...</td>\n",
       "      <td>triangles</td>\n",
       "    </tr>\n",
       "    <tr>\n",
       "      <th>764</th>\n",
       "      <td>m620.obj</td>\n",
       "      <td>FloorLamp</td>\n",
       "      <td>5584</td>\n",
       "      <td>11058</td>\n",
       "      <td>0.025 0.124357 0.025 0.975 0.025 0.116258</td>\n",
       "      <td>triangles</td>\n",
       "    </tr>\n",
       "    <tr>\n",
       "      <th>2376</th>\n",
       "      <td>D00926.obj</td>\n",
       "      <td>Truck</td>\n",
       "      <td>5602</td>\n",
       "      <td>39495</td>\n",
       "      <td>9.17465 11.7069 0.0 19.3774 0.00170373 4.14456</td>\n",
       "      <td>triangles</td>\n",
       "    </tr>\n",
       "    <tr>\n",
       "      <th>1066</th>\n",
       "      <td>m370.obj</td>\n",
       "      <td>HumanHead</td>\n",
       "      <td>5641</td>\n",
       "      <td>10543</td>\n",
       "      <td>0.025 0.517741 0.025 0.975 0.025 0.646433</td>\n",
       "      <td>triangles</td>\n",
       "    </tr>\n",
       "    <tr>\n",
       "      <th>1090</th>\n",
       "      <td>m143.obj</td>\n",
       "      <td>Humanoid</td>\n",
       "      <td>5647</td>\n",
       "      <td>10737</td>\n",
       "      <td>0.025 0.408698 0.025 0.975 0.025 0.189718</td>\n",
       "      <td>triangles</td>\n",
       "    </tr>\n",
       "    <tr>\n",
       "      <th>719</th>\n",
       "      <td>D00980.obj</td>\n",
       "      <td>Drum</td>\n",
       "      <td>5653</td>\n",
       "      <td>33699</td>\n",
       "      <td>0.0 0.5834 0.0 0.5834 0.0 0.9578</td>\n",
       "      <td>triangles</td>\n",
       "    </tr>\n",
       "  </tbody>\n",
       "</table>\n",
       "</div>"
      ],
      "text/plain": [
       "            name       class  vertices  faces  \\\n",
       "707   D00297.obj        Drum      5561  33351   \n",
       "922   D00397.obj  Helicopter      5567   7990   \n",
       "764     m620.obj   FloorLamp      5584  11058   \n",
       "2376  D00926.obj       Truck      5602  39495   \n",
       "1066    m370.obj   HumanHead      5641  10543   \n",
       "1090    m143.obj    Humanoid      5647  10737   \n",
       "719   D00980.obj        Drum      5653  33699   \n",
       "\n",
       "                                                   bbox       type  \n",
       "707   1.09723 1.68205 0.439181 0.967894 -0.000222921...  triangles  \n",
       "922   -0.812536 0.953353 -0.539772 0.837998 -0.28862...  triangles  \n",
       "764           0.025 0.124357 0.025 0.975 0.025 0.116258  triangles  \n",
       "2376     9.17465 11.7069 0.0 19.3774 0.00170373 4.14456  triangles  \n",
       "1066          0.025 0.517741 0.025 0.975 0.025 0.646433  triangles  \n",
       "1090          0.025 0.408698 0.025 0.975 0.025 0.189718  triangles  \n",
       "719                    0.0 0.5834 0.0 0.5834 0.0 0.9578  triangles  "
      ]
     },
     "metadata": {},
     "output_type": "display_data"
    },
    {
     "data": {
      "text/html": [
       "<div>\n",
       "<style scoped>\n",
       "    .dataframe tbody tr th:only-of-type {\n",
       "        vertical-align: middle;\n",
       "    }\n",
       "\n",
       "    .dataframe tbody tr th {\n",
       "        vertical-align: top;\n",
       "    }\n",
       "\n",
       "    .dataframe thead th {\n",
       "        text-align: right;\n",
       "    }\n",
       "</style>\n",
       "<table border=\"1\" class=\"dataframe\">\n",
       "  <thead>\n",
       "    <tr style=\"text-align: right;\">\n",
       "      <th></th>\n",
       "      <th>name</th>\n",
       "      <th>class</th>\n",
       "      <th>vertices</th>\n",
       "      <th>faces</th>\n",
       "      <th>bbox</th>\n",
       "      <th>type</th>\n",
       "    </tr>\n",
       "  </thead>\n",
       "  <tbody>\n",
       "    <tr>\n",
       "      <th>959</th>\n",
       "      <td>m1323.obj</td>\n",
       "      <td>Helicopter</td>\n",
       "      <td>6136</td>\n",
       "      <td>10656</td>\n",
       "      <td>0.025 0.802266 0.025 0.474942 0.025 0.975</td>\n",
       "      <td>triangles</td>\n",
       "    </tr>\n",
       "    <tr>\n",
       "      <th>1734</th>\n",
       "      <td>m1011.obj</td>\n",
       "      <td>PlantIndoors</td>\n",
       "      <td>7529</td>\n",
       "      <td>10680</td>\n",
       "      <td>0.025 0.870745 0.025 0.975 0.025 0.857125</td>\n",
       "      <td>triangles</td>\n",
       "    </tr>\n",
       "    <tr>\n",
       "      <th>498</th>\n",
       "      <td>m1659.obj</td>\n",
       "      <td>City</td>\n",
       "      <td>5804</td>\n",
       "      <td>10692</td>\n",
       "      <td>0.025 0.975 0.025 0.345009 0.025 0.975</td>\n",
       "      <td>triangles</td>\n",
       "    </tr>\n",
       "    <tr>\n",
       "      <th>491</th>\n",
       "      <td>D01133.obj</td>\n",
       "      <td>City</td>\n",
       "      <td>5804</td>\n",
       "      <td>10712</td>\n",
       "      <td>0.025 0.975 0.025 0.345009 0.025 0.975</td>\n",
       "      <td>triangles</td>\n",
       "    </tr>\n",
       "    <tr>\n",
       "      <th>1983</th>\n",
       "      <td>D00631.obj</td>\n",
       "      <td>Shelf</td>\n",
       "      <td>6295</td>\n",
       "      <td>10712</td>\n",
       "      <td>-0.833323 1.00919 -0.725468 0.830073 -0.126855...</td>\n",
       "      <td>triangles</td>\n",
       "    </tr>\n",
       "    <tr>\n",
       "      <th>1090</th>\n",
       "      <td>m143.obj</td>\n",
       "      <td>Humanoid</td>\n",
       "      <td>5647</td>\n",
       "      <td>10737</td>\n",
       "      <td>0.025 0.408698 0.025 0.975 0.025 0.189718</td>\n",
       "      <td>triangles</td>\n",
       "    </tr>\n",
       "  </tbody>\n",
       "</table>\n",
       "</div>"
      ],
      "text/plain": [
       "            name         class  vertices  faces  \\\n",
       "959    m1323.obj    Helicopter      6136  10656   \n",
       "1734   m1011.obj  PlantIndoors      7529  10680   \n",
       "498    m1659.obj          City      5804  10692   \n",
       "491   D01133.obj          City      5804  10712   \n",
       "1983  D00631.obj         Shelf      6295  10712   \n",
       "1090    m143.obj      Humanoid      5647  10737   \n",
       "\n",
       "                                                   bbox       type  \n",
       "959           0.025 0.802266 0.025 0.474942 0.025 0.975  triangles  \n",
       "1734          0.025 0.870745 0.025 0.975 0.025 0.857125  triangles  \n",
       "498              0.025 0.975 0.025 0.345009 0.025 0.975  triangles  \n",
       "491              0.025 0.975 0.025 0.345009 0.025 0.975  triangles  \n",
       "1983  -0.833323 1.00919 -0.725468 0.830073 -0.126855...  triangles  \n",
       "1090          0.025 0.408698 0.025 0.975 0.025 0.189718  triangles  "
      ]
     },
     "metadata": {},
     "output_type": "display_data"
    }
   ],
   "source": [
    "# [General info] average class (5609)\n",
    "display(df[(df[\"vertices\"] > 5559) & (df[\"vertices\"] < 5659)].sort_values([\"vertices\", \"faces\"]))\n",
    "display(df[(df[\"faces\"] > 10641) & (df[\"faces\"] < 10741)].sort_values([\"faces\", \"vertices\"]))"
   ]
  },
  {
   "cell_type": "code",
   "execution_count": 5,
   "metadata": {},
   "outputs": [],
   "source": [
    "# [General info] display City of Humanoid class because it seems quite average"
   ]
  },
  {
   "cell_type": "code",
   "execution_count": 6,
   "metadata": {},
   "outputs": [
    {
     "data": {
      "text/html": [
       "<div>\n",
       "<style scoped>\n",
       "    .dataframe tbody tr th:only-of-type {\n",
       "        vertical-align: middle;\n",
       "    }\n",
       "\n",
       "    .dataframe tbody tr th {\n",
       "        vertical-align: top;\n",
       "    }\n",
       "\n",
       "    .dataframe thead th {\n",
       "        text-align: right;\n",
       "    }\n",
       "</style>\n",
       "<table border=\"1\" class=\"dataframe\">\n",
       "  <thead>\n",
       "    <tr style=\"text-align: right;\">\n",
       "      <th></th>\n",
       "      <th>name</th>\n",
       "      <th>class</th>\n",
       "      <th>vertices</th>\n",
       "      <th>faces</th>\n",
       "      <th>bbox</th>\n",
       "      <th>type</th>\n",
       "    </tr>\n",
       "  </thead>\n",
       "  <tbody>\n",
       "    <tr>\n",
       "      <th>665</th>\n",
       "      <td>D01121.obj</td>\n",
       "      <td>Door</td>\n",
       "      <td>16</td>\n",
       "      <td>16</td>\n",
       "      <td>0.025 0.567857 0.025 0.975 0.025 0.0521429</td>\n",
       "      <td>triangles</td>\n",
       "    </tr>\n",
       "    <tr>\n",
       "      <th>678</th>\n",
       "      <td>m1708.obj</td>\n",
       "      <td>Door</td>\n",
       "      <td>16</td>\n",
       "      <td>16</td>\n",
       "      <td>0.025 0.567857 0.025 0.975 0.025 0.052143</td>\n",
       "      <td>triangles</td>\n",
       "    </tr>\n",
       "    <tr>\n",
       "      <th>676</th>\n",
       "      <td>D01194.obj</td>\n",
       "      <td>Door</td>\n",
       "      <td>18</td>\n",
       "      <td>18</td>\n",
       "      <td>0.025 0.0373238 0.025 0.975 0.025 0.528047</td>\n",
       "      <td>triangles</td>\n",
       "    </tr>\n",
       "    <tr>\n",
       "      <th>996</th>\n",
       "      <td>m434.obj</td>\n",
       "      <td>House</td>\n",
       "      <td>22</td>\n",
       "      <td>26</td>\n",
       "      <td>0.025 0.658333 0.025 0.975 0.025 0.975</td>\n",
       "      <td>triangles</td>\n",
       "    </tr>\n",
       "    <tr>\n",
       "      <th>1587</th>\n",
       "      <td>m784.obj</td>\n",
       "      <td>MultiSeat</td>\n",
       "      <td>24</td>\n",
       "      <td>36</td>\n",
       "      <td>0.025 0.975 0.025 0.38125 0.025 0.277356</td>\n",
       "      <td>triangles</td>\n",
       "    </tr>\n",
       "    <tr>\n",
       "      <th>...</th>\n",
       "      <td>...</td>\n",
       "      <td>...</td>\n",
       "      <td>...</td>\n",
       "      <td>...</td>\n",
       "      <td>...</td>\n",
       "      <td>...</td>\n",
       "    </tr>\n",
       "    <tr>\n",
       "      <th>1927</th>\n",
       "      <td>D00564.obj</td>\n",
       "      <td>Rocket</td>\n",
       "      <td>73398</td>\n",
       "      <td>24466</td>\n",
       "      <td>-1.19684 0.594097 -0.138064 0.245138 -0.188417...</td>\n",
       "      <td>triangles</td>\n",
       "    </tr>\n",
       "    <tr>\n",
       "      <th>2095</th>\n",
       "      <td>D00058.obj</td>\n",
       "      <td>Skyscraper</td>\n",
       "      <td>73697</td>\n",
       "      <td>53448</td>\n",
       "      <td>-0.866731 0.966261 -0.316891 0.236562 -0.18560...</td>\n",
       "      <td>triangles</td>\n",
       "    </tr>\n",
       "    <tr>\n",
       "      <th>1703</th>\n",
       "      <td>D00049.obj</td>\n",
       "      <td>PlantIndoors</td>\n",
       "      <td>78288</td>\n",
       "      <td>26096</td>\n",
       "      <td>-0.589232 1.01327 -0.512441 1.15418 -0.661781 ...</td>\n",
       "      <td>triangles</td>\n",
       "    </tr>\n",
       "    <tr>\n",
       "      <th>1709</th>\n",
       "      <td>D00238.obj</td>\n",
       "      <td>PlantIndoors</td>\n",
       "      <td>90234</td>\n",
       "      <td>30078</td>\n",
       "      <td>-0.785201 0.767284 -0.874954 0.899353 -0.77848...</td>\n",
       "      <td>triangles</td>\n",
       "    </tr>\n",
       "    <tr>\n",
       "      <th>1708</th>\n",
       "      <td>D00159.obj</td>\n",
       "      <td>PlantIndoors</td>\n",
       "      <td>98256</td>\n",
       "      <td>32752</td>\n",
       "      <td>-1.02299 0.735003 -0.76005 0.812815 -0.766566 ...</td>\n",
       "      <td>triangles</td>\n",
       "    </tr>\n",
       "  </tbody>\n",
       "</table>\n",
       "<p>2483 rows × 6 columns</p>\n",
       "</div>"
      ],
      "text/plain": [
       "            name         class  vertices  faces  \\\n",
       "665   D01121.obj          Door        16     16   \n",
       "678    m1708.obj          Door        16     16   \n",
       "676   D01194.obj          Door        18     18   \n",
       "996     m434.obj         House        22     26   \n",
       "1587    m784.obj     MultiSeat        24     36   \n",
       "...          ...           ...       ...    ...   \n",
       "1927  D00564.obj        Rocket     73398  24466   \n",
       "2095  D00058.obj    Skyscraper     73697  53448   \n",
       "1703  D00049.obj  PlantIndoors     78288  26096   \n",
       "1709  D00238.obj  PlantIndoors     90234  30078   \n",
       "1708  D00159.obj  PlantIndoors     98256  32752   \n",
       "\n",
       "                                                   bbox       type  \n",
       "665          0.025 0.567857 0.025 0.975 0.025 0.0521429  triangles  \n",
       "678           0.025 0.567857 0.025 0.975 0.025 0.052143  triangles  \n",
       "676          0.025 0.0373238 0.025 0.975 0.025 0.528047  triangles  \n",
       "996              0.025 0.658333 0.025 0.975 0.025 0.975  triangles  \n",
       "1587           0.025 0.975 0.025 0.38125 0.025 0.277356  triangles  \n",
       "...                                                 ...        ...  \n",
       "1927  -1.19684 0.594097 -0.138064 0.245138 -0.188417...  triangles  \n",
       "2095  -0.866731 0.966261 -0.316891 0.236562 -0.18560...  triangles  \n",
       "1703  -0.589232 1.01327 -0.512441 1.15418 -0.661781 ...  triangles  \n",
       "1709  -0.785201 0.767284 -0.874954 0.899353 -0.77848...  triangles  \n",
       "1708  -1.02299 0.735003 -0.76005 0.812815 -0.766566 ...  triangles  \n",
       "\n",
       "[2483 rows x 6 columns]"
      ]
     },
     "metadata": {},
     "output_type": "display_data"
    },
    {
     "name": "stdout",
     "output_type": "stream",
     "text": [
      "5609.783326621023\n",
      "10691.52597664116\n"
     ]
    },
    {
     "data": {
      "text/html": [
       "<div>\n",
       "<style scoped>\n",
       "    .dataframe tbody tr th:only-of-type {\n",
       "        vertical-align: middle;\n",
       "    }\n",
       "\n",
       "    .dataframe tbody tr th {\n",
       "        vertical-align: top;\n",
       "    }\n",
       "\n",
       "    .dataframe thead th {\n",
       "        text-align: right;\n",
       "    }\n",
       "</style>\n",
       "<table border=\"1\" class=\"dataframe\">\n",
       "  <thead>\n",
       "    <tr style=\"text-align: right;\">\n",
       "      <th></th>\n",
       "      <th>name</th>\n",
       "      <th>class</th>\n",
       "      <th>vertices</th>\n",
       "      <th>faces</th>\n",
       "      <th>bbox</th>\n",
       "      <th>type</th>\n",
       "    </tr>\n",
       "  </thead>\n",
       "  <tbody>\n",
       "    <tr>\n",
       "      <th>752</th>\n",
       "      <td>D00580.obj</td>\n",
       "      <td>FloorLamp</td>\n",
       "      <td>51</td>\n",
       "      <td>30</td>\n",
       "      <td>-1.1165982 1.0673761 -16.451353 17.630772 -0.5...</td>\n",
       "      <td>triangles</td>\n",
       "    </tr>\n",
       "    <tr>\n",
       "      <th>716</th>\n",
       "      <td>D00709.obj</td>\n",
       "      <td>Drum</td>\n",
       "      <td>792</td>\n",
       "      <td>761</td>\n",
       "      <td>1.67266 2.04694 1.34997 1.69872 0.0 0.380591</td>\n",
       "      <td>triangles</td>\n",
       "    </tr>\n",
       "    <tr>\n",
       "      <th>2122</th>\n",
       "      <td>D00497.obj</td>\n",
       "      <td>Spoon</td>\n",
       "      <td>1040</td>\n",
       "      <td>778</td>\n",
       "      <td>0.006005 0.054753 0.035645 0.058796 -0.0 0.248042</td>\n",
       "      <td>triangles</td>\n",
       "    </tr>\n",
       "    <tr>\n",
       "      <th>45</th>\n",
       "      <td>m59.obj</td>\n",
       "      <td>AquaticAnimal</td>\n",
       "      <td>1300</td>\n",
       "      <td>1483</td>\n",
       "      <td>0.025 0.225 0.025 0.225 0.025 0.975</td>\n",
       "      <td>triangles</td>\n",
       "    </tr>\n",
       "    <tr>\n",
       "      <th>2436</th>\n",
       "      <td>D00598.obj</td>\n",
       "      <td>Violin</td>\n",
       "      <td>1526</td>\n",
       "      <td>1633</td>\n",
       "      <td>-8.06654 52551.543 -13432.688 -1.72402 -0.5266...</td>\n",
       "      <td>triangles</td>\n",
       "    </tr>\n",
       "    <tr>\n",
       "      <th>...</th>\n",
       "      <td>...</td>\n",
       "      <td>...</td>\n",
       "      <td>...</td>\n",
       "      <td>...</td>\n",
       "      <td>...</td>\n",
       "      <td>...</td>\n",
       "    </tr>\n",
       "    <tr>\n",
       "      <th>998</th>\n",
       "      <td>m436.obj</td>\n",
       "      <td>House</td>\n",
       "      <td>12567</td>\n",
       "      <td>22400</td>\n",
       "      <td>0.025 0.975 0.025 0.351567 0.025 0.485656</td>\n",
       "      <td>triangles</td>\n",
       "    </tr>\n",
       "    <tr>\n",
       "      <th>1043</th>\n",
       "      <td>m347.obj</td>\n",
       "      <td>HumanHead</td>\n",
       "      <td>12676</td>\n",
       "      <td>23874</td>\n",
       "      <td>0.025683 0.577333 0.025 0.967741 0.039263 0.76...</td>\n",
       "      <td>triangles</td>\n",
       "    </tr>\n",
       "    <tr>\n",
       "      <th>269</th>\n",
       "      <td>m391.obj</td>\n",
       "      <td>BuildingNonResidential</td>\n",
       "      <td>13048</td>\n",
       "      <td>23873</td>\n",
       "      <td>0.025 0.6007801 0.0294632 0.804944 0.025004908...</td>\n",
       "      <td>triangles</td>\n",
       "    </tr>\n",
       "    <tr>\n",
       "      <th>1784</th>\n",
       "      <td>m978.obj</td>\n",
       "      <td>PlantWildNonTree</td>\n",
       "      <td>13656</td>\n",
       "      <td>21264</td>\n",
       "      <td>0.025 0.410114 0.025 0.971222 0.025 0.465016</td>\n",
       "      <td>triangles</td>\n",
       "    </tr>\n",
       "    <tr>\n",
       "      <th>1859</th>\n",
       "      <td>D00317.obj</td>\n",
       "      <td>RectangleTable</td>\n",
       "      <td>14018</td>\n",
       "      <td>24728</td>\n",
       "      <td>-1.14798 0.649039 -0.923051 0.875979 -0.032534...</td>\n",
       "      <td>triangles</td>\n",
       "    </tr>\n",
       "  </tbody>\n",
       "</table>\n",
       "<p>2483 rows × 6 columns</p>\n",
       "</div>"
      ],
      "text/plain": [
       "            name                   class  vertices  faces  \\\n",
       "752   D00580.obj               FloorLamp        51     30   \n",
       "716   D00709.obj                    Drum       792    761   \n",
       "2122  D00497.obj                   Spoon      1040    778   \n",
       "45       m59.obj           AquaticAnimal      1300   1483   \n",
       "2436  D00598.obj                  Violin      1526   1633   \n",
       "...          ...                     ...       ...    ...   \n",
       "998     m436.obj                   House     12567  22400   \n",
       "1043    m347.obj               HumanHead     12676  23874   \n",
       "269     m391.obj  BuildingNonResidential     13048  23873   \n",
       "1784    m978.obj        PlantWildNonTree     13656  21264   \n",
       "1859  D00317.obj          RectangleTable     14018  24728   \n",
       "\n",
       "                                                   bbox       type  \n",
       "752   -1.1165982 1.0673761 -16.451353 17.630772 -0.5...  triangles  \n",
       "716        1.67266 2.04694 1.34997 1.69872 0.0 0.380591  triangles  \n",
       "2122  0.006005 0.054753 0.035645 0.058796 -0.0 0.248042  triangles  \n",
       "45                  0.025 0.225 0.025 0.225 0.025 0.975  triangles  \n",
       "2436  -8.06654 52551.543 -13432.688 -1.72402 -0.5266...  triangles  \n",
       "...                                                 ...        ...  \n",
       "998           0.025 0.975 0.025 0.351567 0.025 0.485656  triangles  \n",
       "1043  0.025683 0.577333 0.025 0.967741 0.039263 0.76...  triangles  \n",
       "269   0.025 0.6007801 0.0294632 0.804944 0.025004908...  triangles  \n",
       "1784       0.025 0.410114 0.025 0.971222 0.025 0.465016  triangles  \n",
       "1859  -1.14798 0.649039 -0.923051 0.875979 -0.032534...  triangles  \n",
       "\n",
       "[2483 rows x 6 columns]"
      ]
     },
     "metadata": {},
     "output_type": "display_data"
    },
    {
     "name": "stdout",
     "output_type": "stream",
     "text": [
      "4213.902537253322\n",
      "7728.5453080950465\n"
     ]
    }
   ],
   "source": [
    "# [Comparative info] faces and verts before and after\n",
    "\n",
    "# before\n",
    "display(df.sort_values([\"vertices\", \"faces\"]))\n",
    "print(df[\"vertices\"].mean())\n",
    "print(df[\"faces\"].mean())\n",
    "\n",
    "# after\n",
    "display(df_resampled.sort_values([\"vertices\", \"faces\"]))\n",
    "print(df_resampled[\"vertices\"].mean())\n",
    "print(df_resampled[\"faces\"].mean())"
   ]
  },
  {
   "cell_type": "code",
   "execution_count": 7,
   "metadata": {},
   "outputs": [
    {
     "name": "stdout",
     "output_type": "stream",
     "text": [
      "       vertices   faces\n",
      "class                  \n",
      "Spoon    958.55  3291.0\n",
      "            vertices    faces\n",
      "class                        \n",
      "WheelChair   12465.0  22059.4\n"
     ]
    },
    {
     "data": {
      "text/html": [
       "<div>\n",
       "<style scoped>\n",
       "    .dataframe tbody tr th:only-of-type {\n",
       "        vertical-align: middle;\n",
       "    }\n",
       "\n",
       "    .dataframe tbody tr th {\n",
       "        vertical-align: top;\n",
       "    }\n",
       "\n",
       "    .dataframe thead th {\n",
       "        text-align: right;\n",
       "    }\n",
       "</style>\n",
       "<table border=\"1\" class=\"dataframe\">\n",
       "  <thead>\n",
       "    <tr style=\"text-align: right;\">\n",
       "      <th></th>\n",
       "      <th>vertices</th>\n",
       "      <th>faces</th>\n",
       "    </tr>\n",
       "    <tr>\n",
       "      <th>class</th>\n",
       "      <th></th>\n",
       "      <th></th>\n",
       "    </tr>\n",
       "  </thead>\n",
       "  <tbody>\n",
       "    <tr>\n",
       "      <th>Spoon</th>\n",
       "      <td>3135.250000</td>\n",
       "      <td>2845.800000</td>\n",
       "    </tr>\n",
       "    <tr>\n",
       "      <th>Knife</th>\n",
       "      <td>3728.740741</td>\n",
       "      <td>5144.555556</td>\n",
       "    </tr>\n",
       "    <tr>\n",
       "      <th>Violin</th>\n",
       "      <td>3863.450000</td>\n",
       "      <td>9154.500000</td>\n",
       "    </tr>\n",
       "    <tr>\n",
       "      <th>Cellphone</th>\n",
       "      <td>3865.500000</td>\n",
       "      <td>7377.000000</td>\n",
       "    </tr>\n",
       "    <tr>\n",
       "      <th>FloorLamp</th>\n",
       "      <td>3895.214286</td>\n",
       "      <td>7620.035714</td>\n",
       "    </tr>\n",
       "    <tr>\n",
       "      <th>...</th>\n",
       "      <td>...</td>\n",
       "      <td>...</td>\n",
       "    </tr>\n",
       "    <tr>\n",
       "      <th>PianoBoard</th>\n",
       "      <td>4684.600000</td>\n",
       "      <td>5436.550000</td>\n",
       "    </tr>\n",
       "    <tr>\n",
       "      <th>BuildingNonResidential</th>\n",
       "      <td>4780.977273</td>\n",
       "      <td>8902.613636</td>\n",
       "    </tr>\n",
       "    <tr>\n",
       "      <th>PlantWildNonTree</th>\n",
       "      <td>4927.259259</td>\n",
       "      <td>7893.703704</td>\n",
       "    </tr>\n",
       "    <tr>\n",
       "      <th>Fish</th>\n",
       "      <td>5004.700000</td>\n",
       "      <td>8743.050000</td>\n",
       "    </tr>\n",
       "    <tr>\n",
       "      <th>WheelChair</th>\n",
       "      <td>5158.800000</td>\n",
       "      <td>9798.350000</td>\n",
       "    </tr>\n",
       "  </tbody>\n",
       "</table>\n",
       "<p>69 rows × 2 columns</p>\n",
       "</div>"
      ],
      "text/plain": [
       "                           vertices        faces\n",
       "class                                           \n",
       "Spoon                   3135.250000  2845.800000\n",
       "Knife                   3728.740741  5144.555556\n",
       "Violin                  3863.450000  9154.500000\n",
       "Cellphone               3865.500000  7377.000000\n",
       "FloorLamp               3895.214286  7620.035714\n",
       "...                             ...          ...\n",
       "PianoBoard              4684.600000  5436.550000\n",
       "BuildingNonResidential  4780.977273  8902.613636\n",
       "PlantWildNonTree        4927.259259  7893.703704\n",
       "Fish                    5004.700000  8743.050000\n",
       "WheelChair              5158.800000  9798.350000\n",
       "\n",
       "[69 rows x 2 columns]"
      ]
     },
     "metadata": {},
     "output_type": "display_data"
    }
   ],
   "source": [
    "# [Comparative info] largest and smallest vertices average after processing\n",
    "df_specific_class = df[[\"vertices\", \"faces\", \"class\"]].groupby(\"class\").mean()\n",
    "print(df_specific_class[df_specific_class.index == \"Spoon\"])\n",
    "print(df_specific_class[df_specific_class.index == \"WheelChair\"])\n",
    "\n",
    "display(df_resampled[[\"vertices\", \"faces\", \"class\"]].groupby(\"class\").mean().sort_values([\"vertices\", \"faces\"]))"
   ]
  },
  {
   "cell_type": "code",
   "execution_count": 8,
   "metadata": {},
   "outputs": [
    {
     "data": {
      "text/html": [
       "<div>\n",
       "<style scoped>\n",
       "    .dataframe tbody tr th:only-of-type {\n",
       "        vertical-align: middle;\n",
       "    }\n",
       "\n",
       "    .dataframe tbody tr th {\n",
       "        vertical-align: top;\n",
       "    }\n",
       "\n",
       "    .dataframe thead th {\n",
       "        text-align: right;\n",
       "    }\n",
       "</style>\n",
       "<table border=\"1\" class=\"dataframe\">\n",
       "  <thead>\n",
       "    <tr style=\"text-align: right;\">\n",
       "      <th></th>\n",
       "      <th>name</th>\n",
       "      <th>class</th>\n",
       "      <th>vertices</th>\n",
       "      <th>faces</th>\n",
       "      <th>bbox</th>\n",
       "      <th>type</th>\n",
       "    </tr>\n",
       "  </thead>\n",
       "  <tbody>\n",
       "    <tr>\n",
       "      <th>2121</th>\n",
       "      <td>D00474.obj</td>\n",
       "      <td>Spoon</td>\n",
       "      <td>72</td>\n",
       "      <td>363</td>\n",
       "      <td>-0.150256 -0.01698 0.020605 0.04325 0.0 0.00685</td>\n",
       "      <td>triangles</td>\n",
       "    </tr>\n",
       "    <tr>\n",
       "      <th>2120</th>\n",
       "      <td>D00422.obj</td>\n",
       "      <td>Spoon</td>\n",
       "      <td>109</td>\n",
       "      <td>528</td>\n",
       "      <td>-0.027843 0.039432 -0.116957 -0.093315 0.06464...</td>\n",
       "      <td>triangles</td>\n",
       "    </tr>\n",
       "    <tr>\n",
       "      <th>2122</th>\n",
       "      <td>D00497.obj</td>\n",
       "      <td>Spoon</td>\n",
       "      <td>144</td>\n",
       "      <td>852</td>\n",
       "      <td>0.006005 0.054753 0.035645 0.058796 -0.0 0.248042</td>\n",
       "      <td>triangles</td>\n",
       "    </tr>\n",
       "    <tr>\n",
       "      <th>2125</th>\n",
       "      <td>D00593.obj</td>\n",
       "      <td>Spoon</td>\n",
       "      <td>144</td>\n",
       "      <td>918</td>\n",
       "      <td>0.0 1.597584 0.0 0.311811 0.0 8.357558</td>\n",
       "      <td>triangles</td>\n",
       "    </tr>\n",
       "    <tr>\n",
       "      <th>2128</th>\n",
       "      <td>D00674.obj</td>\n",
       "      <td>Spoon</td>\n",
       "      <td>173</td>\n",
       "      <td>966</td>\n",
       "      <td>-0.559925 1.050993 -2.178684 1.516141 -0.25755...</td>\n",
       "      <td>triangles</td>\n",
       "    </tr>\n",
       "    <tr>\n",
       "      <th>2133</th>\n",
       "      <td>D00964.obj</td>\n",
       "      <td>Spoon</td>\n",
       "      <td>211</td>\n",
       "      <td>1014</td>\n",
       "      <td>-2.81 2.81 -5.62 19.855871 0.88 3.13755</td>\n",
       "      <td>triangles</td>\n",
       "    </tr>\n",
       "    <tr>\n",
       "      <th>2116</th>\n",
       "      <td>D00144.obj</td>\n",
       "      <td>Spoon</td>\n",
       "      <td>243</td>\n",
       "      <td>1407</td>\n",
       "      <td>0.121356 0.186049 0.300286 0.618646 0.031978 0...</td>\n",
       "      <td>triangles</td>\n",
       "    </tr>\n",
       "    <tr>\n",
       "      <th>2130</th>\n",
       "      <td>D00790.obj</td>\n",
       "      <td>Spoon</td>\n",
       "      <td>284</td>\n",
       "      <td>1623</td>\n",
       "      <td>-0.018031 13.033793 -3.277825 8.968065 -0.0 11...</td>\n",
       "      <td>triangles</td>\n",
       "    </tr>\n",
       "    <tr>\n",
       "      <th>2131</th>\n",
       "      <td>D00842.obj</td>\n",
       "      <td>Spoon</td>\n",
       "      <td>291</td>\n",
       "      <td>1647</td>\n",
       "      <td>0.482661 1.210242 1.835353 1.964791 -0.29845 -...</td>\n",
       "      <td>triangles</td>\n",
       "    </tr>\n",
       "    <tr>\n",
       "      <th>2117</th>\n",
       "      <td>D00157.obj</td>\n",
       "      <td>Spoon</td>\n",
       "      <td>386</td>\n",
       "      <td>2499</td>\n",
       "      <td>-0.884846 0.922286 -0.6884 6.321997 -0.0 0.455736</td>\n",
       "      <td>triangles</td>\n",
       "    </tr>\n",
       "    <tr>\n",
       "      <th>2119</th>\n",
       "      <td>D00338.obj</td>\n",
       "      <td>Spoon</td>\n",
       "      <td>481</td>\n",
       "      <td>3021</td>\n",
       "      <td>-0.538977 13.447721 0.169091 12.13092 0.0 4.74...</td>\n",
       "      <td>triangles</td>\n",
       "    </tr>\n",
       "    <tr>\n",
       "      <th>2123</th>\n",
       "      <td>D00517.obj</td>\n",
       "      <td>Spoon</td>\n",
       "      <td>487</td>\n",
       "      <td>2697</td>\n",
       "      <td>-10.1767 10.1767 -10.1767 195.832 0.0 10.1767</td>\n",
       "      <td>triangles</td>\n",
       "    </tr>\n",
       "    <tr>\n",
       "      <th>2127</th>\n",
       "      <td>D00669.obj</td>\n",
       "      <td>Spoon</td>\n",
       "      <td>556</td>\n",
       "      <td>3324</td>\n",
       "      <td>-0.33655 0.33655 -0.04445 1.083619 0.018273 0....</td>\n",
       "      <td>triangles</td>\n",
       "    </tr>\n",
       "    <tr>\n",
       "      <th>2115</th>\n",
       "      <td>D00085.obj</td>\n",
       "      <td>Spoon</td>\n",
       "      <td>575</td>\n",
       "      <td>3444</td>\n",
       "      <td>-1.422137 3.04557 1.328523 2.211927 -0.001013 ...</td>\n",
       "      <td>triangles</td>\n",
       "    </tr>\n",
       "    <tr>\n",
       "      <th>2114</th>\n",
       "      <td>D00014.obj</td>\n",
       "      <td>Spoon</td>\n",
       "      <td>748</td>\n",
       "      <td>4485</td>\n",
       "      <td>3.419584 4.279629 0.835941 5.10234 -0.025512 0...</td>\n",
       "      <td>triangles</td>\n",
       "    </tr>\n",
       "    <tr>\n",
       "      <th>2132</th>\n",
       "      <td>D00927.obj</td>\n",
       "      <td>Spoon</td>\n",
       "      <td>910</td>\n",
       "      <td>5448</td>\n",
       "      <td>-0.128479 0.666226 -0.085583 0.086442 -0.0 0.1...</td>\n",
       "      <td>triangles</td>\n",
       "    </tr>\n",
       "    <tr>\n",
       "      <th>2118</th>\n",
       "      <td>D00196.obj</td>\n",
       "      <td>Spoon</td>\n",
       "      <td>1512</td>\n",
       "      <td>4812</td>\n",
       "      <td>-0.160935 0.146018 -0.102328 0.105094 0.0 0.01905</td>\n",
       "      <td>triangles</td>\n",
       "    </tr>\n",
       "    <tr>\n",
       "      <th>2126</th>\n",
       "      <td>D00661.obj</td>\n",
       "      <td>Spoon</td>\n",
       "      <td>1848</td>\n",
       "      <td>10491</td>\n",
       "      <td>2.73779 4.41013 -0.591884 -0.208667 0.011549 0...</td>\n",
       "      <td>triangles</td>\n",
       "    </tr>\n",
       "    <tr>\n",
       "      <th>2124</th>\n",
       "      <td>D00562.obj</td>\n",
       "      <td>Spoon</td>\n",
       "      <td>4958</td>\n",
       "      <td>12999</td>\n",
       "      <td>-10.6701 2.94431 7.50555 13.7349 -4.60375 1.18445</td>\n",
       "      <td>triangles</td>\n",
       "    </tr>\n",
       "    <tr>\n",
       "      <th>2129</th>\n",
       "      <td>D00683.obj</td>\n",
       "      <td>Spoon</td>\n",
       "      <td>5039</td>\n",
       "      <td>3282</td>\n",
       "      <td>-1.99653 -1.38032 1.29308 1.71307 -0.00210259 ...</td>\n",
       "      <td>triangles</td>\n",
       "    </tr>\n",
       "  </tbody>\n",
       "</table>\n",
       "</div>"
      ],
      "text/plain": [
       "            name  class  vertices  faces  \\\n",
       "2121  D00474.obj  Spoon        72    363   \n",
       "2120  D00422.obj  Spoon       109    528   \n",
       "2122  D00497.obj  Spoon       144    852   \n",
       "2125  D00593.obj  Spoon       144    918   \n",
       "2128  D00674.obj  Spoon       173    966   \n",
       "2133  D00964.obj  Spoon       211   1014   \n",
       "2116  D00144.obj  Spoon       243   1407   \n",
       "2130  D00790.obj  Spoon       284   1623   \n",
       "2131  D00842.obj  Spoon       291   1647   \n",
       "2117  D00157.obj  Spoon       386   2499   \n",
       "2119  D00338.obj  Spoon       481   3021   \n",
       "2123  D00517.obj  Spoon       487   2697   \n",
       "2127  D00669.obj  Spoon       556   3324   \n",
       "2115  D00085.obj  Spoon       575   3444   \n",
       "2114  D00014.obj  Spoon       748   4485   \n",
       "2132  D00927.obj  Spoon       910   5448   \n",
       "2118  D00196.obj  Spoon      1512   4812   \n",
       "2126  D00661.obj  Spoon      1848  10491   \n",
       "2124  D00562.obj  Spoon      4958  12999   \n",
       "2129  D00683.obj  Spoon      5039   3282   \n",
       "\n",
       "                                                   bbox       type  \n",
       "2121    -0.150256 -0.01698 0.020605 0.04325 0.0 0.00685  triangles  \n",
       "2120  -0.027843 0.039432 -0.116957 -0.093315 0.06464...  triangles  \n",
       "2122  0.006005 0.054753 0.035645 0.058796 -0.0 0.248042  triangles  \n",
       "2125             0.0 1.597584 0.0 0.311811 0.0 8.357558  triangles  \n",
       "2128  -0.559925 1.050993 -2.178684 1.516141 -0.25755...  triangles  \n",
       "2133            -2.81 2.81 -5.62 19.855871 0.88 3.13755  triangles  \n",
       "2116  0.121356 0.186049 0.300286 0.618646 0.031978 0...  triangles  \n",
       "2130  -0.018031 13.033793 -3.277825 8.968065 -0.0 11...  triangles  \n",
       "2131  0.482661 1.210242 1.835353 1.964791 -0.29845 -...  triangles  \n",
       "2117  -0.884846 0.922286 -0.6884 6.321997 -0.0 0.455736  triangles  \n",
       "2119  -0.538977 13.447721 0.169091 12.13092 0.0 4.74...  triangles  \n",
       "2123      -10.1767 10.1767 -10.1767 195.832 0.0 10.1767  triangles  \n",
       "2127  -0.33655 0.33655 -0.04445 1.083619 0.018273 0....  triangles  \n",
       "2115  -1.422137 3.04557 1.328523 2.211927 -0.001013 ...  triangles  \n",
       "2114  3.419584 4.279629 0.835941 5.10234 -0.025512 0...  triangles  \n",
       "2132  -0.128479 0.666226 -0.085583 0.086442 -0.0 0.1...  triangles  \n",
       "2118  -0.160935 0.146018 -0.102328 0.105094 0.0 0.01905  triangles  \n",
       "2126  2.73779 4.41013 -0.591884 -0.208667 0.011549 0...  triangles  \n",
       "2124  -10.6701 2.94431 7.50555 13.7349 -4.60375 1.18445  triangles  \n",
       "2129  -1.99653 -1.38032 1.29308 1.71307 -0.00210259 ...  triangles  "
      ]
     },
     "execution_count": 8,
     "metadata": {},
     "output_type": "execute_result"
    }
   ],
   "source": [
    "# [Comparative info] finding outliers\n",
    "df[df[\"class\"] == \"Spoon\"].sort_values([\"vertices\", \"faces\"])"
   ]
  },
  {
   "cell_type": "code",
   "execution_count": 9,
   "metadata": {},
   "outputs": [
    {
     "data": {
      "application/vnd.plotly.v1+json": {
       "config": {
        "plotlyServerURL": "https://plot.ly"
       },
       "data": [
        {
         "alignmentgroup": "True",
         "hovertemplate": "class=%{x}<br>vertices=%{y}<extra></extra>",
         "legendgroup": "",
         "marker": {
          "color": "lightslategray",
          "pattern": {
           "shape": ""
          }
         },
         "name": "",
         "offsetgroup": "",
         "orientation": "v",
         "showlegend": false,
         "textposition": "auto",
         "type": "bar",
         "x": [
          "Knife",
          "RectangleTable",
          "Bookset",
          "Spoon",
          "Vase",
          "Jet",
          "Door",
          "Wheel",
          "Shelf",
          "Sign",
          "Monoplane",
          "RoundTable",
          "NonWheelChair",
          "Hat",
          "AircraftBuoyant",
          "PianoBoard",
          "Drum",
          "Bird",
          "Tool",
          "ClassicPiano",
          "BuildingNonResidential",
          "Computer",
          "Bottle",
          "Violin",
          "Cup",
          "Insect",
          "Chess",
          "Fish",
          "HumanHead",
          "AquaticAnimal",
          "Humanoid",
          "ComputerKeyboard",
          "Gun",
          "Sword",
          "DeskLamp",
          "Ship",
          "MultiSeat",
          "Glasses",
          "Quadruped",
          "Train",
          "SubmachineGun",
          "Bed",
          "Starship",
          "TruckNonContainer",
          "Helicopter",
          "Mug",
          "City",
          "FloorLamp",
          "Hand",
          "Rocket",
          "Truck",
          "House",
          "Monitor",
          "PlantWildNonTree",
          "Bus",
          "Musical_Instrument",
          "Biplane",
          "Cellphone",
          "Guitar",
          "Car",
          "Apartment",
          "WheelChair",
          "Motorcycle",
          "MilitaryVehicle",
          "Bicycle",
          "Tree",
          "DeskPhone",
          "PlantIndoors",
          "Skyscraper"
         ],
         "xaxis": "x",
         "y": [
          649.8148148148148,
          816.625,
          880.2,
          958.55,
          970.95,
          1142.3146853146852,
          1150.75,
          1192.1176470588234,
          1289.2093023255813,
          1401.8,
          1644,
          1848.081081081081,
          2264.2166666666667,
          2338.733333333333,
          2509.125,
          2541.7,
          2691.8,
          2835.5,
          2950.7272727272725,
          3035.15,
          3058.0227272727275,
          3117.7272727272725,
          3291.7096774193546,
          3357.4,
          3695.2,
          3697.787878787879,
          3837.3571428571427,
          3898.45,
          4085.2549019607845,
          4215.689655172414,
          4240.19014084507,
          4308.25,
          4391.310344827586,
          4529.396226415094,
          4718.322580645161,
          5075.603174603175,
          5096,
          5160.75,
          5239.701754385965,
          5272.866666666667,
          5295.3,
          5356.925925925926,
          5596.290322580645,
          5646.5,
          5771.803921568628,
          5909.115384615385,
          5955.111111111111,
          6284.25,
          6379.945945945946,
          7091.7,
          7175.777777777777,
          7484.630434782609,
          7513.3,
          7687.592592592592,
          7732.2,
          8074.190476190476,
          8977.933333333332,
          9793.1,
          9830.6,
          11170.393258426966,
          11924.04347826087,
          12465,
          14201.807692307691,
          14749.6,
          15401.692307692309,
          15586.893617021276,
          16458.65,
          17213.26153846154,
          25559
         ],
         "yaxis": "y"
        }
       ],
       "layout": {
        "barmode": "relative",
        "legend": {
         "tracegroupgap": 0
        },
        "margin": {
         "t": 60
        },
        "template": {
         "data": {
          "bar": [
           {
            "error_x": {
             "color": "#2a3f5f"
            },
            "error_y": {
             "color": "#2a3f5f"
            },
            "marker": {
             "line": {
              "color": "#E5ECF6",
              "width": 0.5
             },
             "pattern": {
              "fillmode": "overlay",
              "size": 10,
              "solidity": 0.2
             }
            },
            "type": "bar"
           }
          ],
          "barpolar": [
           {
            "marker": {
             "line": {
              "color": "#E5ECF6",
              "width": 0.5
             },
             "pattern": {
              "fillmode": "overlay",
              "size": 10,
              "solidity": 0.2
             }
            },
            "type": "barpolar"
           }
          ],
          "carpet": [
           {
            "aaxis": {
             "endlinecolor": "#2a3f5f",
             "gridcolor": "white",
             "linecolor": "white",
             "minorgridcolor": "white",
             "startlinecolor": "#2a3f5f"
            },
            "baxis": {
             "endlinecolor": "#2a3f5f",
             "gridcolor": "white",
             "linecolor": "white",
             "minorgridcolor": "white",
             "startlinecolor": "#2a3f5f"
            },
            "type": "carpet"
           }
          ],
          "choropleth": [
           {
            "colorbar": {
             "outlinewidth": 0,
             "ticks": ""
            },
            "type": "choropleth"
           }
          ],
          "contour": [
           {
            "colorbar": {
             "outlinewidth": 0,
             "ticks": ""
            },
            "colorscale": [
             [
              0,
              "#0d0887"
             ],
             [
              0.1111111111111111,
              "#46039f"
             ],
             [
              0.2222222222222222,
              "#7201a8"
             ],
             [
              0.3333333333333333,
              "#9c179e"
             ],
             [
              0.4444444444444444,
              "#bd3786"
             ],
             [
              0.5555555555555556,
              "#d8576b"
             ],
             [
              0.6666666666666666,
              "#ed7953"
             ],
             [
              0.7777777777777778,
              "#fb9f3a"
             ],
             [
              0.8888888888888888,
              "#fdca26"
             ],
             [
              1,
              "#f0f921"
             ]
            ],
            "type": "contour"
           }
          ],
          "contourcarpet": [
           {
            "colorbar": {
             "outlinewidth": 0,
             "ticks": ""
            },
            "type": "contourcarpet"
           }
          ],
          "heatmap": [
           {
            "colorbar": {
             "outlinewidth": 0,
             "ticks": ""
            },
            "colorscale": [
             [
              0,
              "#0d0887"
             ],
             [
              0.1111111111111111,
              "#46039f"
             ],
             [
              0.2222222222222222,
              "#7201a8"
             ],
             [
              0.3333333333333333,
              "#9c179e"
             ],
             [
              0.4444444444444444,
              "#bd3786"
             ],
             [
              0.5555555555555556,
              "#d8576b"
             ],
             [
              0.6666666666666666,
              "#ed7953"
             ],
             [
              0.7777777777777778,
              "#fb9f3a"
             ],
             [
              0.8888888888888888,
              "#fdca26"
             ],
             [
              1,
              "#f0f921"
             ]
            ],
            "type": "heatmap"
           }
          ],
          "heatmapgl": [
           {
            "colorbar": {
             "outlinewidth": 0,
             "ticks": ""
            },
            "colorscale": [
             [
              0,
              "#0d0887"
             ],
             [
              0.1111111111111111,
              "#46039f"
             ],
             [
              0.2222222222222222,
              "#7201a8"
             ],
             [
              0.3333333333333333,
              "#9c179e"
             ],
             [
              0.4444444444444444,
              "#bd3786"
             ],
             [
              0.5555555555555556,
              "#d8576b"
             ],
             [
              0.6666666666666666,
              "#ed7953"
             ],
             [
              0.7777777777777778,
              "#fb9f3a"
             ],
             [
              0.8888888888888888,
              "#fdca26"
             ],
             [
              1,
              "#f0f921"
             ]
            ],
            "type": "heatmapgl"
           }
          ],
          "histogram": [
           {
            "marker": {
             "pattern": {
              "fillmode": "overlay",
              "size": 10,
              "solidity": 0.2
             }
            },
            "type": "histogram"
           }
          ],
          "histogram2d": [
           {
            "colorbar": {
             "outlinewidth": 0,
             "ticks": ""
            },
            "colorscale": [
             [
              0,
              "#0d0887"
             ],
             [
              0.1111111111111111,
              "#46039f"
             ],
             [
              0.2222222222222222,
              "#7201a8"
             ],
             [
              0.3333333333333333,
              "#9c179e"
             ],
             [
              0.4444444444444444,
              "#bd3786"
             ],
             [
              0.5555555555555556,
              "#d8576b"
             ],
             [
              0.6666666666666666,
              "#ed7953"
             ],
             [
              0.7777777777777778,
              "#fb9f3a"
             ],
             [
              0.8888888888888888,
              "#fdca26"
             ],
             [
              1,
              "#f0f921"
             ]
            ],
            "type": "histogram2d"
           }
          ],
          "histogram2dcontour": [
           {
            "colorbar": {
             "outlinewidth": 0,
             "ticks": ""
            },
            "colorscale": [
             [
              0,
              "#0d0887"
             ],
             [
              0.1111111111111111,
              "#46039f"
             ],
             [
              0.2222222222222222,
              "#7201a8"
             ],
             [
              0.3333333333333333,
              "#9c179e"
             ],
             [
              0.4444444444444444,
              "#bd3786"
             ],
             [
              0.5555555555555556,
              "#d8576b"
             ],
             [
              0.6666666666666666,
              "#ed7953"
             ],
             [
              0.7777777777777778,
              "#fb9f3a"
             ],
             [
              0.8888888888888888,
              "#fdca26"
             ],
             [
              1,
              "#f0f921"
             ]
            ],
            "type": "histogram2dcontour"
           }
          ],
          "mesh3d": [
           {
            "colorbar": {
             "outlinewidth": 0,
             "ticks": ""
            },
            "type": "mesh3d"
           }
          ],
          "parcoords": [
           {
            "line": {
             "colorbar": {
              "outlinewidth": 0,
              "ticks": ""
             }
            },
            "type": "parcoords"
           }
          ],
          "pie": [
           {
            "automargin": true,
            "type": "pie"
           }
          ],
          "scatter": [
           {
            "fillpattern": {
             "fillmode": "overlay",
             "size": 10,
             "solidity": 0.2
            },
            "type": "scatter"
           }
          ],
          "scatter3d": [
           {
            "line": {
             "colorbar": {
              "outlinewidth": 0,
              "ticks": ""
             }
            },
            "marker": {
             "colorbar": {
              "outlinewidth": 0,
              "ticks": ""
             }
            },
            "type": "scatter3d"
           }
          ],
          "scattercarpet": [
           {
            "marker": {
             "colorbar": {
              "outlinewidth": 0,
              "ticks": ""
             }
            },
            "type": "scattercarpet"
           }
          ],
          "scattergeo": [
           {
            "marker": {
             "colorbar": {
              "outlinewidth": 0,
              "ticks": ""
             }
            },
            "type": "scattergeo"
           }
          ],
          "scattergl": [
           {
            "marker": {
             "colorbar": {
              "outlinewidth": 0,
              "ticks": ""
             }
            },
            "type": "scattergl"
           }
          ],
          "scattermapbox": [
           {
            "marker": {
             "colorbar": {
              "outlinewidth": 0,
              "ticks": ""
             }
            },
            "type": "scattermapbox"
           }
          ],
          "scatterpolar": [
           {
            "marker": {
             "colorbar": {
              "outlinewidth": 0,
              "ticks": ""
             }
            },
            "type": "scatterpolar"
           }
          ],
          "scatterpolargl": [
           {
            "marker": {
             "colorbar": {
              "outlinewidth": 0,
              "ticks": ""
             }
            },
            "type": "scatterpolargl"
           }
          ],
          "scatterternary": [
           {
            "marker": {
             "colorbar": {
              "outlinewidth": 0,
              "ticks": ""
             }
            },
            "type": "scatterternary"
           }
          ],
          "surface": [
           {
            "colorbar": {
             "outlinewidth": 0,
             "ticks": ""
            },
            "colorscale": [
             [
              0,
              "#0d0887"
             ],
             [
              0.1111111111111111,
              "#46039f"
             ],
             [
              0.2222222222222222,
              "#7201a8"
             ],
             [
              0.3333333333333333,
              "#9c179e"
             ],
             [
              0.4444444444444444,
              "#bd3786"
             ],
             [
              0.5555555555555556,
              "#d8576b"
             ],
             [
              0.6666666666666666,
              "#ed7953"
             ],
             [
              0.7777777777777778,
              "#fb9f3a"
             ],
             [
              0.8888888888888888,
              "#fdca26"
             ],
             [
              1,
              "#f0f921"
             ]
            ],
            "type": "surface"
           }
          ],
          "table": [
           {
            "cells": {
             "fill": {
              "color": "#EBF0F8"
             },
             "line": {
              "color": "white"
             }
            },
            "header": {
             "fill": {
              "color": "#C8D4E3"
             },
             "line": {
              "color": "white"
             }
            },
            "type": "table"
           }
          ]
         },
         "layout": {
          "annotationdefaults": {
           "arrowcolor": "#2a3f5f",
           "arrowhead": 0,
           "arrowwidth": 1
          },
          "autotypenumbers": "strict",
          "coloraxis": {
           "colorbar": {
            "outlinewidth": 0,
            "ticks": ""
           }
          },
          "colorscale": {
           "diverging": [
            [
             0,
             "#8e0152"
            ],
            [
             0.1,
             "#c51b7d"
            ],
            [
             0.2,
             "#de77ae"
            ],
            [
             0.3,
             "#f1b6da"
            ],
            [
             0.4,
             "#fde0ef"
            ],
            [
             0.5,
             "#f7f7f7"
            ],
            [
             0.6,
             "#e6f5d0"
            ],
            [
             0.7,
             "#b8e186"
            ],
            [
             0.8,
             "#7fbc41"
            ],
            [
             0.9,
             "#4d9221"
            ],
            [
             1,
             "#276419"
            ]
           ],
           "sequential": [
            [
             0,
             "#0d0887"
            ],
            [
             0.1111111111111111,
             "#46039f"
            ],
            [
             0.2222222222222222,
             "#7201a8"
            ],
            [
             0.3333333333333333,
             "#9c179e"
            ],
            [
             0.4444444444444444,
             "#bd3786"
            ],
            [
             0.5555555555555556,
             "#d8576b"
            ],
            [
             0.6666666666666666,
             "#ed7953"
            ],
            [
             0.7777777777777778,
             "#fb9f3a"
            ],
            [
             0.8888888888888888,
             "#fdca26"
            ],
            [
             1,
             "#f0f921"
            ]
           ],
           "sequentialminus": [
            [
             0,
             "#0d0887"
            ],
            [
             0.1111111111111111,
             "#46039f"
            ],
            [
             0.2222222222222222,
             "#7201a8"
            ],
            [
             0.3333333333333333,
             "#9c179e"
            ],
            [
             0.4444444444444444,
             "#bd3786"
            ],
            [
             0.5555555555555556,
             "#d8576b"
            ],
            [
             0.6666666666666666,
             "#ed7953"
            ],
            [
             0.7777777777777778,
             "#fb9f3a"
            ],
            [
             0.8888888888888888,
             "#fdca26"
            ],
            [
             1,
             "#f0f921"
            ]
           ]
          },
          "colorway": [
           "#636efa",
           "#EF553B",
           "#00cc96",
           "#ab63fa",
           "#FFA15A",
           "#19d3f3",
           "#FF6692",
           "#B6E880",
           "#FF97FF",
           "#FECB52"
          ],
          "font": {
           "color": "#2a3f5f"
          },
          "geo": {
           "bgcolor": "white",
           "lakecolor": "white",
           "landcolor": "#E5ECF6",
           "showlakes": true,
           "showland": true,
           "subunitcolor": "white"
          },
          "hoverlabel": {
           "align": "left"
          },
          "hovermode": "closest",
          "mapbox": {
           "style": "light"
          },
          "paper_bgcolor": "white",
          "plot_bgcolor": "#E5ECF6",
          "polar": {
           "angularaxis": {
            "gridcolor": "white",
            "linecolor": "white",
            "ticks": ""
           },
           "bgcolor": "#E5ECF6",
           "radialaxis": {
            "gridcolor": "white",
            "linecolor": "white",
            "ticks": ""
           }
          },
          "scene": {
           "xaxis": {
            "backgroundcolor": "#E5ECF6",
            "gridcolor": "white",
            "gridwidth": 2,
            "linecolor": "white",
            "showbackground": true,
            "ticks": "",
            "zerolinecolor": "white"
           },
           "yaxis": {
            "backgroundcolor": "#E5ECF6",
            "gridcolor": "white",
            "gridwidth": 2,
            "linecolor": "white",
            "showbackground": true,
            "ticks": "",
            "zerolinecolor": "white"
           },
           "zaxis": {
            "backgroundcolor": "#E5ECF6",
            "gridcolor": "white",
            "gridwidth": 2,
            "linecolor": "white",
            "showbackground": true,
            "ticks": "",
            "zerolinecolor": "white"
           }
          },
          "shapedefaults": {
           "line": {
            "color": "#2a3f5f"
           }
          },
          "ternary": {
           "aaxis": {
            "gridcolor": "white",
            "linecolor": "white",
            "ticks": ""
           },
           "baxis": {
            "gridcolor": "white",
            "linecolor": "white",
            "ticks": ""
           },
           "bgcolor": "#E5ECF6",
           "caxis": {
            "gridcolor": "white",
            "linecolor": "white",
            "ticks": ""
           }
          },
          "title": {
           "x": 0.05
          },
          "xaxis": {
           "automargin": true,
           "gridcolor": "white",
           "linecolor": "white",
           "ticks": "",
           "title": {
            "standoff": 15
           },
           "zerolinecolor": "white",
           "zerolinewidth": 2
          },
          "yaxis": {
           "automargin": true,
           "gridcolor": "white",
           "linecolor": "white",
           "ticks": "",
           "title": {
            "standoff": 15
           },
           "zerolinecolor": "white",
           "zerolinewidth": 2
          }
         }
        },
        "xaxis": {
         "anchor": "y",
         "domain": [
          0,
          1
         ],
         "title": {
          "text": "class"
         }
        },
        "yaxis": {
         "anchor": "x",
         "domain": [
          0,
          1
         ],
         "title": {
          "text": "vertices"
         }
        }
       }
      }
     },
     "metadata": {},
     "output_type": "display_data"
    },
    {
     "data": {
      "application/vnd.plotly.v1+json": {
       "config": {
        "plotlyServerURL": "https://plot.ly"
       },
       "data": [
        {
         "alignmentgroup": "True",
         "hovertemplate": "class=%{x}<br>vertices=%{y}<extra></extra>",
         "legendgroup": "",
         "marker": {
          "color": "lightslategray",
          "pattern": {
           "shape": ""
          }
         },
         "name": "",
         "offsetgroup": "",
         "orientation": "v",
         "showlegend": false,
         "textposition": "auto",
         "type": "bar",
         "x": [
          "Spoon",
          "Knife",
          "Violin",
          "Cellphone",
          "FloorLamp",
          "Motorcycle",
          "Apartment",
          "Bus",
          "Drum",
          "Musical_Instrument",
          "TruckNonContainer",
          "Skyscraper",
          "MilitaryVehicle",
          "AquaticAnimal",
          "MultiSeat",
          "RoundTable",
          "Sword",
          "Chess",
          "Car",
          "Vase",
          "Bicycle",
          "Wheel",
          "SubmachineGun",
          "Tool",
          "Train",
          "Quadruped",
          "Hand",
          "Mug",
          "Bed",
          "Bookset",
          "Cup",
          "Door",
          "Sign",
          "Shelf",
          "Bottle",
          "Rocket",
          "Hat",
          "Bird",
          "DeskPhone",
          "Glasses",
          "AircraftBuoyant",
          "Jet",
          "Helicopter",
          "Monoplane",
          "Monitor",
          "ClassicPiano",
          "Biplane",
          "HumanHead",
          "NonWheelChair",
          "DeskLamp",
          "ComputerKeyboard",
          "Ship",
          "Insect",
          "Tree",
          "Humanoid",
          "Gun",
          "PlantIndoors",
          "House",
          "Starship",
          "Guitar",
          "RectangleTable",
          "Truck",
          "Computer",
          "City",
          "PianoBoard",
          "BuildingNonResidential",
          "PlantWildNonTree",
          "Fish",
          "WheelChair"
         ],
         "xaxis": "x",
         "y": [
          3135.25,
          3728.740740740741,
          3863.45,
          3865.5,
          3895.214285714286,
          3966.230769230769,
          3979.3478260869565,
          3989,
          3990.05,
          3996.809523809524,
          4015.25,
          4017.4,
          4019,
          4019.448275862069,
          4024.6,
          4031.4054054054054,
          4032.9245283018868,
          4036.7619047619046,
          4039.2696629213483,
          4044.25,
          4049.8846153846152,
          4052.3529411764707,
          4052.4,
          4053.7045454545455,
          4067.233333333333,
          4071.4736842105262,
          4077.7027027027025,
          4085.6153846153848,
          4086.5925925925926,
          4089.25,
          4096,
          4097.818181818182,
          4100.6,
          4105.953488372093,
          4112.322580645161,
          4113.9,
          4124.2,
          4129.636363636364,
          4135,
          4139.75,
          4144.25,
          4144.776223776224,
          4153.35294117647,
          4169.9,
          4208.05,
          4225.95,
          4231.977777777778,
          4245.058823529412,
          4247.416666666667,
          4283.709677419355,
          4288.15,
          4350.793650793651,
          4357.787878787879,
          4365.382978723404,
          4377.570422535211,
          4382.068965517241,
          4410.430769230769,
          4419.891304347826,
          4462.419354838709,
          4484.7,
          4497.40625,
          4521.407407407408,
          4546.424242424242,
          4636.111111111111,
          4684.6,
          4780.977272727273,
          4927.259259259259,
          5004.7,
          5158.8
         ],
         "yaxis": "y"
        }
       ],
       "layout": {
        "barmode": "relative",
        "legend": {
         "tracegroupgap": 0
        },
        "margin": {
         "t": 60
        },
        "template": {
         "data": {
          "bar": [
           {
            "error_x": {
             "color": "#2a3f5f"
            },
            "error_y": {
             "color": "#2a3f5f"
            },
            "marker": {
             "line": {
              "color": "#E5ECF6",
              "width": 0.5
             },
             "pattern": {
              "fillmode": "overlay",
              "size": 10,
              "solidity": 0.2
             }
            },
            "type": "bar"
           }
          ],
          "barpolar": [
           {
            "marker": {
             "line": {
              "color": "#E5ECF6",
              "width": 0.5
             },
             "pattern": {
              "fillmode": "overlay",
              "size": 10,
              "solidity": 0.2
             }
            },
            "type": "barpolar"
           }
          ],
          "carpet": [
           {
            "aaxis": {
             "endlinecolor": "#2a3f5f",
             "gridcolor": "white",
             "linecolor": "white",
             "minorgridcolor": "white",
             "startlinecolor": "#2a3f5f"
            },
            "baxis": {
             "endlinecolor": "#2a3f5f",
             "gridcolor": "white",
             "linecolor": "white",
             "minorgridcolor": "white",
             "startlinecolor": "#2a3f5f"
            },
            "type": "carpet"
           }
          ],
          "choropleth": [
           {
            "colorbar": {
             "outlinewidth": 0,
             "ticks": ""
            },
            "type": "choropleth"
           }
          ],
          "contour": [
           {
            "colorbar": {
             "outlinewidth": 0,
             "ticks": ""
            },
            "colorscale": [
             [
              0,
              "#0d0887"
             ],
             [
              0.1111111111111111,
              "#46039f"
             ],
             [
              0.2222222222222222,
              "#7201a8"
             ],
             [
              0.3333333333333333,
              "#9c179e"
             ],
             [
              0.4444444444444444,
              "#bd3786"
             ],
             [
              0.5555555555555556,
              "#d8576b"
             ],
             [
              0.6666666666666666,
              "#ed7953"
             ],
             [
              0.7777777777777778,
              "#fb9f3a"
             ],
             [
              0.8888888888888888,
              "#fdca26"
             ],
             [
              1,
              "#f0f921"
             ]
            ],
            "type": "contour"
           }
          ],
          "contourcarpet": [
           {
            "colorbar": {
             "outlinewidth": 0,
             "ticks": ""
            },
            "type": "contourcarpet"
           }
          ],
          "heatmap": [
           {
            "colorbar": {
             "outlinewidth": 0,
             "ticks": ""
            },
            "colorscale": [
             [
              0,
              "#0d0887"
             ],
             [
              0.1111111111111111,
              "#46039f"
             ],
             [
              0.2222222222222222,
              "#7201a8"
             ],
             [
              0.3333333333333333,
              "#9c179e"
             ],
             [
              0.4444444444444444,
              "#bd3786"
             ],
             [
              0.5555555555555556,
              "#d8576b"
             ],
             [
              0.6666666666666666,
              "#ed7953"
             ],
             [
              0.7777777777777778,
              "#fb9f3a"
             ],
             [
              0.8888888888888888,
              "#fdca26"
             ],
             [
              1,
              "#f0f921"
             ]
            ],
            "type": "heatmap"
           }
          ],
          "heatmapgl": [
           {
            "colorbar": {
             "outlinewidth": 0,
             "ticks": ""
            },
            "colorscale": [
             [
              0,
              "#0d0887"
             ],
             [
              0.1111111111111111,
              "#46039f"
             ],
             [
              0.2222222222222222,
              "#7201a8"
             ],
             [
              0.3333333333333333,
              "#9c179e"
             ],
             [
              0.4444444444444444,
              "#bd3786"
             ],
             [
              0.5555555555555556,
              "#d8576b"
             ],
             [
              0.6666666666666666,
              "#ed7953"
             ],
             [
              0.7777777777777778,
              "#fb9f3a"
             ],
             [
              0.8888888888888888,
              "#fdca26"
             ],
             [
              1,
              "#f0f921"
             ]
            ],
            "type": "heatmapgl"
           }
          ],
          "histogram": [
           {
            "marker": {
             "pattern": {
              "fillmode": "overlay",
              "size": 10,
              "solidity": 0.2
             }
            },
            "type": "histogram"
           }
          ],
          "histogram2d": [
           {
            "colorbar": {
             "outlinewidth": 0,
             "ticks": ""
            },
            "colorscale": [
             [
              0,
              "#0d0887"
             ],
             [
              0.1111111111111111,
              "#46039f"
             ],
             [
              0.2222222222222222,
              "#7201a8"
             ],
             [
              0.3333333333333333,
              "#9c179e"
             ],
             [
              0.4444444444444444,
              "#bd3786"
             ],
             [
              0.5555555555555556,
              "#d8576b"
             ],
             [
              0.6666666666666666,
              "#ed7953"
             ],
             [
              0.7777777777777778,
              "#fb9f3a"
             ],
             [
              0.8888888888888888,
              "#fdca26"
             ],
             [
              1,
              "#f0f921"
             ]
            ],
            "type": "histogram2d"
           }
          ],
          "histogram2dcontour": [
           {
            "colorbar": {
             "outlinewidth": 0,
             "ticks": ""
            },
            "colorscale": [
             [
              0,
              "#0d0887"
             ],
             [
              0.1111111111111111,
              "#46039f"
             ],
             [
              0.2222222222222222,
              "#7201a8"
             ],
             [
              0.3333333333333333,
              "#9c179e"
             ],
             [
              0.4444444444444444,
              "#bd3786"
             ],
             [
              0.5555555555555556,
              "#d8576b"
             ],
             [
              0.6666666666666666,
              "#ed7953"
             ],
             [
              0.7777777777777778,
              "#fb9f3a"
             ],
             [
              0.8888888888888888,
              "#fdca26"
             ],
             [
              1,
              "#f0f921"
             ]
            ],
            "type": "histogram2dcontour"
           }
          ],
          "mesh3d": [
           {
            "colorbar": {
             "outlinewidth": 0,
             "ticks": ""
            },
            "type": "mesh3d"
           }
          ],
          "parcoords": [
           {
            "line": {
             "colorbar": {
              "outlinewidth": 0,
              "ticks": ""
             }
            },
            "type": "parcoords"
           }
          ],
          "pie": [
           {
            "automargin": true,
            "type": "pie"
           }
          ],
          "scatter": [
           {
            "fillpattern": {
             "fillmode": "overlay",
             "size": 10,
             "solidity": 0.2
            },
            "type": "scatter"
           }
          ],
          "scatter3d": [
           {
            "line": {
             "colorbar": {
              "outlinewidth": 0,
              "ticks": ""
             }
            },
            "marker": {
             "colorbar": {
              "outlinewidth": 0,
              "ticks": ""
             }
            },
            "type": "scatter3d"
           }
          ],
          "scattercarpet": [
           {
            "marker": {
             "colorbar": {
              "outlinewidth": 0,
              "ticks": ""
             }
            },
            "type": "scattercarpet"
           }
          ],
          "scattergeo": [
           {
            "marker": {
             "colorbar": {
              "outlinewidth": 0,
              "ticks": ""
             }
            },
            "type": "scattergeo"
           }
          ],
          "scattergl": [
           {
            "marker": {
             "colorbar": {
              "outlinewidth": 0,
              "ticks": ""
             }
            },
            "type": "scattergl"
           }
          ],
          "scattermapbox": [
           {
            "marker": {
             "colorbar": {
              "outlinewidth": 0,
              "ticks": ""
             }
            },
            "type": "scattermapbox"
           }
          ],
          "scatterpolar": [
           {
            "marker": {
             "colorbar": {
              "outlinewidth": 0,
              "ticks": ""
             }
            },
            "type": "scatterpolar"
           }
          ],
          "scatterpolargl": [
           {
            "marker": {
             "colorbar": {
              "outlinewidth": 0,
              "ticks": ""
             }
            },
            "type": "scatterpolargl"
           }
          ],
          "scatterternary": [
           {
            "marker": {
             "colorbar": {
              "outlinewidth": 0,
              "ticks": ""
             }
            },
            "type": "scatterternary"
           }
          ],
          "surface": [
           {
            "colorbar": {
             "outlinewidth": 0,
             "ticks": ""
            },
            "colorscale": [
             [
              0,
              "#0d0887"
             ],
             [
              0.1111111111111111,
              "#46039f"
             ],
             [
              0.2222222222222222,
              "#7201a8"
             ],
             [
              0.3333333333333333,
              "#9c179e"
             ],
             [
              0.4444444444444444,
              "#bd3786"
             ],
             [
              0.5555555555555556,
              "#d8576b"
             ],
             [
              0.6666666666666666,
              "#ed7953"
             ],
             [
              0.7777777777777778,
              "#fb9f3a"
             ],
             [
              0.8888888888888888,
              "#fdca26"
             ],
             [
              1,
              "#f0f921"
             ]
            ],
            "type": "surface"
           }
          ],
          "table": [
           {
            "cells": {
             "fill": {
              "color": "#EBF0F8"
             },
             "line": {
              "color": "white"
             }
            },
            "header": {
             "fill": {
              "color": "#C8D4E3"
             },
             "line": {
              "color": "white"
             }
            },
            "type": "table"
           }
          ]
         },
         "layout": {
          "annotationdefaults": {
           "arrowcolor": "#2a3f5f",
           "arrowhead": 0,
           "arrowwidth": 1
          },
          "autotypenumbers": "strict",
          "coloraxis": {
           "colorbar": {
            "outlinewidth": 0,
            "ticks": ""
           }
          },
          "colorscale": {
           "diverging": [
            [
             0,
             "#8e0152"
            ],
            [
             0.1,
             "#c51b7d"
            ],
            [
             0.2,
             "#de77ae"
            ],
            [
             0.3,
             "#f1b6da"
            ],
            [
             0.4,
             "#fde0ef"
            ],
            [
             0.5,
             "#f7f7f7"
            ],
            [
             0.6,
             "#e6f5d0"
            ],
            [
             0.7,
             "#b8e186"
            ],
            [
             0.8,
             "#7fbc41"
            ],
            [
             0.9,
             "#4d9221"
            ],
            [
             1,
             "#276419"
            ]
           ],
           "sequential": [
            [
             0,
             "#0d0887"
            ],
            [
             0.1111111111111111,
             "#46039f"
            ],
            [
             0.2222222222222222,
             "#7201a8"
            ],
            [
             0.3333333333333333,
             "#9c179e"
            ],
            [
             0.4444444444444444,
             "#bd3786"
            ],
            [
             0.5555555555555556,
             "#d8576b"
            ],
            [
             0.6666666666666666,
             "#ed7953"
            ],
            [
             0.7777777777777778,
             "#fb9f3a"
            ],
            [
             0.8888888888888888,
             "#fdca26"
            ],
            [
             1,
             "#f0f921"
            ]
           ],
           "sequentialminus": [
            [
             0,
             "#0d0887"
            ],
            [
             0.1111111111111111,
             "#46039f"
            ],
            [
             0.2222222222222222,
             "#7201a8"
            ],
            [
             0.3333333333333333,
             "#9c179e"
            ],
            [
             0.4444444444444444,
             "#bd3786"
            ],
            [
             0.5555555555555556,
             "#d8576b"
            ],
            [
             0.6666666666666666,
             "#ed7953"
            ],
            [
             0.7777777777777778,
             "#fb9f3a"
            ],
            [
             0.8888888888888888,
             "#fdca26"
            ],
            [
             1,
             "#f0f921"
            ]
           ]
          },
          "colorway": [
           "#636efa",
           "#EF553B",
           "#00cc96",
           "#ab63fa",
           "#FFA15A",
           "#19d3f3",
           "#FF6692",
           "#B6E880",
           "#FF97FF",
           "#FECB52"
          ],
          "font": {
           "color": "#2a3f5f"
          },
          "geo": {
           "bgcolor": "white",
           "lakecolor": "white",
           "landcolor": "#E5ECF6",
           "showlakes": true,
           "showland": true,
           "subunitcolor": "white"
          },
          "hoverlabel": {
           "align": "left"
          },
          "hovermode": "closest",
          "mapbox": {
           "style": "light"
          },
          "paper_bgcolor": "white",
          "plot_bgcolor": "#E5ECF6",
          "polar": {
           "angularaxis": {
            "gridcolor": "white",
            "linecolor": "white",
            "ticks": ""
           },
           "bgcolor": "#E5ECF6",
           "radialaxis": {
            "gridcolor": "white",
            "linecolor": "white",
            "ticks": ""
           }
          },
          "scene": {
           "xaxis": {
            "backgroundcolor": "#E5ECF6",
            "gridcolor": "white",
            "gridwidth": 2,
            "linecolor": "white",
            "showbackground": true,
            "ticks": "",
            "zerolinecolor": "white"
           },
           "yaxis": {
            "backgroundcolor": "#E5ECF6",
            "gridcolor": "white",
            "gridwidth": 2,
            "linecolor": "white",
            "showbackground": true,
            "ticks": "",
            "zerolinecolor": "white"
           },
           "zaxis": {
            "backgroundcolor": "#E5ECF6",
            "gridcolor": "white",
            "gridwidth": 2,
            "linecolor": "white",
            "showbackground": true,
            "ticks": "",
            "zerolinecolor": "white"
           }
          },
          "shapedefaults": {
           "line": {
            "color": "#2a3f5f"
           }
          },
          "ternary": {
           "aaxis": {
            "gridcolor": "white",
            "linecolor": "white",
            "ticks": ""
           },
           "baxis": {
            "gridcolor": "white",
            "linecolor": "white",
            "ticks": ""
           },
           "bgcolor": "#E5ECF6",
           "caxis": {
            "gridcolor": "white",
            "linecolor": "white",
            "ticks": ""
           }
          },
          "title": {
           "x": 0.05
          },
          "xaxis": {
           "automargin": true,
           "gridcolor": "white",
           "linecolor": "white",
           "ticks": "",
           "title": {
            "standoff": 15
           },
           "zerolinecolor": "white",
           "zerolinewidth": 2
          },
          "yaxis": {
           "automargin": true,
           "gridcolor": "white",
           "linecolor": "white",
           "ticks": "",
           "title": {
            "standoff": 15
           },
           "zerolinecolor": "white",
           "zerolinewidth": 2
          }
         }
        },
        "xaxis": {
         "anchor": "y",
         "domain": [
          0,
          1
         ],
         "title": {
          "text": "class"
         }
        },
        "yaxis": {
         "anchor": "x",
         "domain": [
          0,
          1
         ],
         "title": {
          "text": "vertices"
         }
        }
       }
      }
     },
     "metadata": {},
     "output_type": "display_data"
    },
    {
     "data": {
      "application/vnd.plotly.v1+json": {
       "config": {
        "plotlyServerURL": "https://plot.ly"
       },
       "data": [
        {
         "alignmentgroup": "True",
         "hovertemplate": "class=%{x}<br>faces=%{y}<extra></extra>",
         "legendgroup": "",
         "marker": {
          "color": "lightslategray",
          "pattern": {
           "shape": ""
          }
         },
         "name": "",
         "offsetgroup": "",
         "orientation": "v",
         "showlegend": false,
         "textposition": "auto",
         "type": "bar",
         "x": [
          "RectangleTable",
          "Shelf",
          "Vase",
          "Jet",
          "Door",
          "Wheel",
          "Sign",
          "Knife",
          "Monoplane",
          "Spoon",
          "RoundTable",
          "Rocket",
          "NonWheelChair",
          "Bookset",
          "Hat",
          "AircraftBuoyant",
          "Bird",
          "BuildingNonResidential",
          "Computer",
          "Tool",
          "Bottle",
          "Fish",
          "Cup",
          "Insect",
          "Chess",
          "AquaticAnimal",
          "DeskLamp",
          "Humanoid",
          "Gun",
          "Ship",
          "Sword",
          "City",
          "MultiSeat",
          "Quadruped",
          "Glasses",
          "SubmachineGun",
          "Bed",
          "PlantIndoors",
          "Helicopter",
          "FloorLamp",
          "PlantWildNonTree",
          "Starship",
          "Mug",
          "Hand",
          "Monitor",
          "Tree",
          "HumanHead",
          "Apartment",
          "PianoBoard",
          "House",
          "Biplane",
          "Drum",
          "Musical_Instrument",
          "ClassicPiano",
          "Guitar",
          "Cellphone",
          "Car",
          "Violin",
          "WheelChair",
          "ComputerKeyboard",
          "MilitaryVehicle",
          "Train",
          "Skyscraper",
          "Motorcycle",
          "DeskPhone",
          "Bicycle",
          "Truck",
          "TruckNonContainer",
          "Bus"
         ],
         "xaxis": "x",
         "y": [
          1615.171875,
          1685.5116279069769,
          1935.55,
          2098.3006993006993,
          2171.181818181818,
          2218.294117647059,
          2703.0666666666666,
          2739.1111111111113,
          2920.65,
          3291,
          3433.3783783783783,
          4013.9,
          4107.516666666666,
          4540.65,
          4552.2,
          4924.625,
          5535.75,
          5725.636363636364,
          5780.363636363636,
          5827.136363636364,
          6105.870967741936,
          6529.15,
          7013.533333333334,
          7071.272727272727,
          7636.476190476191,
          8136.068965517241,
          8384.387096774193,
          8417.528169014084,
          8476.5,
          8690.238095238095,
          8700.698113207547,
          8764.518518518518,
          9451,
          9503.561403508771,
          9562.3,
          9687.05,
          9687.444444444445,
          10505.015384615384,
          10804.21568627451,
          11058.82142857143,
          11221.333333333334,
          11386.451612903225,
          11623.653846153846,
          12714.972972972973,
          12995.6,
          13812.212765957447,
          13915.941176470587,
          14837.869565217392,
          14882.7,
          15063.5,
          15099.266666666666,
          15599.55,
          15686.952380952382,
          16213.5,
          17443.35,
          18375.45,
          20281.8202247191,
          20536.5,
          22059.4,
          22553.55,
          24322.15,
          25319.6,
          25817.05,
          25866.576923076922,
          29362.85,
          30098.615384615383,
          31413.185185185186,
          33820.5,
          47260.5
         ],
         "yaxis": "y"
        }
       ],
       "layout": {
        "barmode": "relative",
        "legend": {
         "tracegroupgap": 0
        },
        "margin": {
         "t": 60
        },
        "template": {
         "data": {
          "bar": [
           {
            "error_x": {
             "color": "#2a3f5f"
            },
            "error_y": {
             "color": "#2a3f5f"
            },
            "marker": {
             "line": {
              "color": "#E5ECF6",
              "width": 0.5
             },
             "pattern": {
              "fillmode": "overlay",
              "size": 10,
              "solidity": 0.2
             }
            },
            "type": "bar"
           }
          ],
          "barpolar": [
           {
            "marker": {
             "line": {
              "color": "#E5ECF6",
              "width": 0.5
             },
             "pattern": {
              "fillmode": "overlay",
              "size": 10,
              "solidity": 0.2
             }
            },
            "type": "barpolar"
           }
          ],
          "carpet": [
           {
            "aaxis": {
             "endlinecolor": "#2a3f5f",
             "gridcolor": "white",
             "linecolor": "white",
             "minorgridcolor": "white",
             "startlinecolor": "#2a3f5f"
            },
            "baxis": {
             "endlinecolor": "#2a3f5f",
             "gridcolor": "white",
             "linecolor": "white",
             "minorgridcolor": "white",
             "startlinecolor": "#2a3f5f"
            },
            "type": "carpet"
           }
          ],
          "choropleth": [
           {
            "colorbar": {
             "outlinewidth": 0,
             "ticks": ""
            },
            "type": "choropleth"
           }
          ],
          "contour": [
           {
            "colorbar": {
             "outlinewidth": 0,
             "ticks": ""
            },
            "colorscale": [
             [
              0,
              "#0d0887"
             ],
             [
              0.1111111111111111,
              "#46039f"
             ],
             [
              0.2222222222222222,
              "#7201a8"
             ],
             [
              0.3333333333333333,
              "#9c179e"
             ],
             [
              0.4444444444444444,
              "#bd3786"
             ],
             [
              0.5555555555555556,
              "#d8576b"
             ],
             [
              0.6666666666666666,
              "#ed7953"
             ],
             [
              0.7777777777777778,
              "#fb9f3a"
             ],
             [
              0.8888888888888888,
              "#fdca26"
             ],
             [
              1,
              "#f0f921"
             ]
            ],
            "type": "contour"
           }
          ],
          "contourcarpet": [
           {
            "colorbar": {
             "outlinewidth": 0,
             "ticks": ""
            },
            "type": "contourcarpet"
           }
          ],
          "heatmap": [
           {
            "colorbar": {
             "outlinewidth": 0,
             "ticks": ""
            },
            "colorscale": [
             [
              0,
              "#0d0887"
             ],
             [
              0.1111111111111111,
              "#46039f"
             ],
             [
              0.2222222222222222,
              "#7201a8"
             ],
             [
              0.3333333333333333,
              "#9c179e"
             ],
             [
              0.4444444444444444,
              "#bd3786"
             ],
             [
              0.5555555555555556,
              "#d8576b"
             ],
             [
              0.6666666666666666,
              "#ed7953"
             ],
             [
              0.7777777777777778,
              "#fb9f3a"
             ],
             [
              0.8888888888888888,
              "#fdca26"
             ],
             [
              1,
              "#f0f921"
             ]
            ],
            "type": "heatmap"
           }
          ],
          "heatmapgl": [
           {
            "colorbar": {
             "outlinewidth": 0,
             "ticks": ""
            },
            "colorscale": [
             [
              0,
              "#0d0887"
             ],
             [
              0.1111111111111111,
              "#46039f"
             ],
             [
              0.2222222222222222,
              "#7201a8"
             ],
             [
              0.3333333333333333,
              "#9c179e"
             ],
             [
              0.4444444444444444,
              "#bd3786"
             ],
             [
              0.5555555555555556,
              "#d8576b"
             ],
             [
              0.6666666666666666,
              "#ed7953"
             ],
             [
              0.7777777777777778,
              "#fb9f3a"
             ],
             [
              0.8888888888888888,
              "#fdca26"
             ],
             [
              1,
              "#f0f921"
             ]
            ],
            "type": "heatmapgl"
           }
          ],
          "histogram": [
           {
            "marker": {
             "pattern": {
              "fillmode": "overlay",
              "size": 10,
              "solidity": 0.2
             }
            },
            "type": "histogram"
           }
          ],
          "histogram2d": [
           {
            "colorbar": {
             "outlinewidth": 0,
             "ticks": ""
            },
            "colorscale": [
             [
              0,
              "#0d0887"
             ],
             [
              0.1111111111111111,
              "#46039f"
             ],
             [
              0.2222222222222222,
              "#7201a8"
             ],
             [
              0.3333333333333333,
              "#9c179e"
             ],
             [
              0.4444444444444444,
              "#bd3786"
             ],
             [
              0.5555555555555556,
              "#d8576b"
             ],
             [
              0.6666666666666666,
              "#ed7953"
             ],
             [
              0.7777777777777778,
              "#fb9f3a"
             ],
             [
              0.8888888888888888,
              "#fdca26"
             ],
             [
              1,
              "#f0f921"
             ]
            ],
            "type": "histogram2d"
           }
          ],
          "histogram2dcontour": [
           {
            "colorbar": {
             "outlinewidth": 0,
             "ticks": ""
            },
            "colorscale": [
             [
              0,
              "#0d0887"
             ],
             [
              0.1111111111111111,
              "#46039f"
             ],
             [
              0.2222222222222222,
              "#7201a8"
             ],
             [
              0.3333333333333333,
              "#9c179e"
             ],
             [
              0.4444444444444444,
              "#bd3786"
             ],
             [
              0.5555555555555556,
              "#d8576b"
             ],
             [
              0.6666666666666666,
              "#ed7953"
             ],
             [
              0.7777777777777778,
              "#fb9f3a"
             ],
             [
              0.8888888888888888,
              "#fdca26"
             ],
             [
              1,
              "#f0f921"
             ]
            ],
            "type": "histogram2dcontour"
           }
          ],
          "mesh3d": [
           {
            "colorbar": {
             "outlinewidth": 0,
             "ticks": ""
            },
            "type": "mesh3d"
           }
          ],
          "parcoords": [
           {
            "line": {
             "colorbar": {
              "outlinewidth": 0,
              "ticks": ""
             }
            },
            "type": "parcoords"
           }
          ],
          "pie": [
           {
            "automargin": true,
            "type": "pie"
           }
          ],
          "scatter": [
           {
            "fillpattern": {
             "fillmode": "overlay",
             "size": 10,
             "solidity": 0.2
            },
            "type": "scatter"
           }
          ],
          "scatter3d": [
           {
            "line": {
             "colorbar": {
              "outlinewidth": 0,
              "ticks": ""
             }
            },
            "marker": {
             "colorbar": {
              "outlinewidth": 0,
              "ticks": ""
             }
            },
            "type": "scatter3d"
           }
          ],
          "scattercarpet": [
           {
            "marker": {
             "colorbar": {
              "outlinewidth": 0,
              "ticks": ""
             }
            },
            "type": "scattercarpet"
           }
          ],
          "scattergeo": [
           {
            "marker": {
             "colorbar": {
              "outlinewidth": 0,
              "ticks": ""
             }
            },
            "type": "scattergeo"
           }
          ],
          "scattergl": [
           {
            "marker": {
             "colorbar": {
              "outlinewidth": 0,
              "ticks": ""
             }
            },
            "type": "scattergl"
           }
          ],
          "scattermapbox": [
           {
            "marker": {
             "colorbar": {
              "outlinewidth": 0,
              "ticks": ""
             }
            },
            "type": "scattermapbox"
           }
          ],
          "scatterpolar": [
           {
            "marker": {
             "colorbar": {
              "outlinewidth": 0,
              "ticks": ""
             }
            },
            "type": "scatterpolar"
           }
          ],
          "scatterpolargl": [
           {
            "marker": {
             "colorbar": {
              "outlinewidth": 0,
              "ticks": ""
             }
            },
            "type": "scatterpolargl"
           }
          ],
          "scatterternary": [
           {
            "marker": {
             "colorbar": {
              "outlinewidth": 0,
              "ticks": ""
             }
            },
            "type": "scatterternary"
           }
          ],
          "surface": [
           {
            "colorbar": {
             "outlinewidth": 0,
             "ticks": ""
            },
            "colorscale": [
             [
              0,
              "#0d0887"
             ],
             [
              0.1111111111111111,
              "#46039f"
             ],
             [
              0.2222222222222222,
              "#7201a8"
             ],
             [
              0.3333333333333333,
              "#9c179e"
             ],
             [
              0.4444444444444444,
              "#bd3786"
             ],
             [
              0.5555555555555556,
              "#d8576b"
             ],
             [
              0.6666666666666666,
              "#ed7953"
             ],
             [
              0.7777777777777778,
              "#fb9f3a"
             ],
             [
              0.8888888888888888,
              "#fdca26"
             ],
             [
              1,
              "#f0f921"
             ]
            ],
            "type": "surface"
           }
          ],
          "table": [
           {
            "cells": {
             "fill": {
              "color": "#EBF0F8"
             },
             "line": {
              "color": "white"
             }
            },
            "header": {
             "fill": {
              "color": "#C8D4E3"
             },
             "line": {
              "color": "white"
             }
            },
            "type": "table"
           }
          ]
         },
         "layout": {
          "annotationdefaults": {
           "arrowcolor": "#2a3f5f",
           "arrowhead": 0,
           "arrowwidth": 1
          },
          "autotypenumbers": "strict",
          "coloraxis": {
           "colorbar": {
            "outlinewidth": 0,
            "ticks": ""
           }
          },
          "colorscale": {
           "diverging": [
            [
             0,
             "#8e0152"
            ],
            [
             0.1,
             "#c51b7d"
            ],
            [
             0.2,
             "#de77ae"
            ],
            [
             0.3,
             "#f1b6da"
            ],
            [
             0.4,
             "#fde0ef"
            ],
            [
             0.5,
             "#f7f7f7"
            ],
            [
             0.6,
             "#e6f5d0"
            ],
            [
             0.7,
             "#b8e186"
            ],
            [
             0.8,
             "#7fbc41"
            ],
            [
             0.9,
             "#4d9221"
            ],
            [
             1,
             "#276419"
            ]
           ],
           "sequential": [
            [
             0,
             "#0d0887"
            ],
            [
             0.1111111111111111,
             "#46039f"
            ],
            [
             0.2222222222222222,
             "#7201a8"
            ],
            [
             0.3333333333333333,
             "#9c179e"
            ],
            [
             0.4444444444444444,
             "#bd3786"
            ],
            [
             0.5555555555555556,
             "#d8576b"
            ],
            [
             0.6666666666666666,
             "#ed7953"
            ],
            [
             0.7777777777777778,
             "#fb9f3a"
            ],
            [
             0.8888888888888888,
             "#fdca26"
            ],
            [
             1,
             "#f0f921"
            ]
           ],
           "sequentialminus": [
            [
             0,
             "#0d0887"
            ],
            [
             0.1111111111111111,
             "#46039f"
            ],
            [
             0.2222222222222222,
             "#7201a8"
            ],
            [
             0.3333333333333333,
             "#9c179e"
            ],
            [
             0.4444444444444444,
             "#bd3786"
            ],
            [
             0.5555555555555556,
             "#d8576b"
            ],
            [
             0.6666666666666666,
             "#ed7953"
            ],
            [
             0.7777777777777778,
             "#fb9f3a"
            ],
            [
             0.8888888888888888,
             "#fdca26"
            ],
            [
             1,
             "#f0f921"
            ]
           ]
          },
          "colorway": [
           "#636efa",
           "#EF553B",
           "#00cc96",
           "#ab63fa",
           "#FFA15A",
           "#19d3f3",
           "#FF6692",
           "#B6E880",
           "#FF97FF",
           "#FECB52"
          ],
          "font": {
           "color": "#2a3f5f"
          },
          "geo": {
           "bgcolor": "white",
           "lakecolor": "white",
           "landcolor": "#E5ECF6",
           "showlakes": true,
           "showland": true,
           "subunitcolor": "white"
          },
          "hoverlabel": {
           "align": "left"
          },
          "hovermode": "closest",
          "mapbox": {
           "style": "light"
          },
          "paper_bgcolor": "white",
          "plot_bgcolor": "#E5ECF6",
          "polar": {
           "angularaxis": {
            "gridcolor": "white",
            "linecolor": "white",
            "ticks": ""
           },
           "bgcolor": "#E5ECF6",
           "radialaxis": {
            "gridcolor": "white",
            "linecolor": "white",
            "ticks": ""
           }
          },
          "scene": {
           "xaxis": {
            "backgroundcolor": "#E5ECF6",
            "gridcolor": "white",
            "gridwidth": 2,
            "linecolor": "white",
            "showbackground": true,
            "ticks": "",
            "zerolinecolor": "white"
           },
           "yaxis": {
            "backgroundcolor": "#E5ECF6",
            "gridcolor": "white",
            "gridwidth": 2,
            "linecolor": "white",
            "showbackground": true,
            "ticks": "",
            "zerolinecolor": "white"
           },
           "zaxis": {
            "backgroundcolor": "#E5ECF6",
            "gridcolor": "white",
            "gridwidth": 2,
            "linecolor": "white",
            "showbackground": true,
            "ticks": "",
            "zerolinecolor": "white"
           }
          },
          "shapedefaults": {
           "line": {
            "color": "#2a3f5f"
           }
          },
          "ternary": {
           "aaxis": {
            "gridcolor": "white",
            "linecolor": "white",
            "ticks": ""
           },
           "baxis": {
            "gridcolor": "white",
            "linecolor": "white",
            "ticks": ""
           },
           "bgcolor": "#E5ECF6",
           "caxis": {
            "gridcolor": "white",
            "linecolor": "white",
            "ticks": ""
           }
          },
          "title": {
           "x": 0.05
          },
          "xaxis": {
           "automargin": true,
           "gridcolor": "white",
           "linecolor": "white",
           "ticks": "",
           "title": {
            "standoff": 15
           },
           "zerolinecolor": "white",
           "zerolinewidth": 2
          },
          "yaxis": {
           "automargin": true,
           "gridcolor": "white",
           "linecolor": "white",
           "ticks": "",
           "title": {
            "standoff": 15
           },
           "zerolinecolor": "white",
           "zerolinewidth": 2
          }
         }
        },
        "xaxis": {
         "anchor": "y",
         "domain": [
          0,
          1
         ],
         "title": {
          "text": "class"
         }
        },
        "yaxis": {
         "anchor": "x",
         "domain": [
          0,
          1
         ],
         "title": {
          "text": "faces"
         }
        }
       }
      }
     },
     "metadata": {},
     "output_type": "display_data"
    },
    {
     "data": {
      "application/vnd.plotly.v1+json": {
       "config": {
        "plotlyServerURL": "https://plot.ly"
       },
       "data": [
        {
         "alignmentgroup": "True",
         "hovertemplate": "class=%{x}<br>faces=%{y}<extra></extra>",
         "legendgroup": "",
         "marker": {
          "color": "lightslategray",
          "pattern": {
           "shape": ""
          }
         },
         "name": "",
         "offsetgroup": "",
         "orientation": "v",
         "showlegend": false,
         "textposition": "auto",
         "type": "bar",
         "x": [
          "Spoon",
          "Drum",
          "Bus",
          "ClassicPiano",
          "Knife",
          "Bookset",
          "PianoBoard",
          "TruckNonContainer",
          "Tree",
          "ComputerKeyboard",
          "PlantIndoors",
          "Train",
          "Skyscraper",
          "HumanHead",
          "Apartment",
          "MilitaryVehicle",
          "Cellphone",
          "RoundTable",
          "Bicycle",
          "Motorcycle",
          "FloorLamp",
          "Car",
          "Musical_Instrument",
          "SubmachineGun",
          "AquaticAnimal",
          "Mug",
          "Vase",
          "Helicopter",
          "Bed",
          "Shelf",
          "Wheel",
          "PlantWildNonTree",
          "MultiSeat",
          "DeskPhone",
          "Jet",
          "AircraftBuoyant",
          "Cup",
          "Door",
          "City",
          "Glasses",
          "Bottle",
          "Monoplane",
          "Ship",
          "Quadruped",
          "Tool",
          "Sign",
          "Chess",
          "Rocket",
          "Sword",
          "Biplane",
          "Monitor",
          "Bird",
          "House",
          "Hand",
          "Hat",
          "DeskLamp",
          "NonWheelChair",
          "Truck",
          "Humanoid",
          "Starship",
          "Insect",
          "Gun",
          "Guitar",
          "RectangleTable",
          "Computer",
          "Fish",
          "BuildingNonResidential",
          "Violin",
          "WheelChair"
         ],
         "xaxis": "x",
         "y": [
          2845.8,
          4794.65,
          4819.55,
          4981.3,
          5144.555555555556,
          5295.95,
          5436.55,
          5938.7,
          6056.702127659574,
          6281.45,
          6928.107692307693,
          6949.833333333333,
          7092.3,
          7130.294117647059,
          7197.04347826087,
          7343.3,
          7377,
          7462.891891891892,
          7508.461538461538,
          7554.807692307692,
          7620.035714285715,
          7628.876404494382,
          7642.142857142857,
          7642.5,
          7805.6551724137935,
          7822.961538461538,
          7859.3,
          7871.568627450981,
          7875,
          7875.093023255814,
          7881.117647058823,
          7893.7037037037035,
          7896.444444444444,
          7898.25,
          7904.986013986014,
          7914.4375,
          7928.9,
          7943.409090909091,
          7950,
          7961.05,
          7993.258064516129,
          8001.3,
          8001.857142857143,
          8003.701754385965,
          8015.931818181818,
          8017.533333333334,
          8021.142857142857,
          8026,
          8027.867924528302,
          8031.7555555555555,
          8048.65,
          8094.545454545455,
          8095.630434782609,
          8099,
          8099.2,
          8234.258064516129,
          8257.966666666667,
          8308.555555555555,
          8355.401408450703,
          8359.90322580645,
          8411.530303030304,
          8449.5,
          8454.65,
          8463.921875,
          8607.121212121212,
          8743.05,
          8902.613636363636,
          9154.5,
          9798.35
         ],
         "yaxis": "y"
        }
       ],
       "layout": {
        "barmode": "relative",
        "legend": {
         "tracegroupgap": 0
        },
        "margin": {
         "t": 60
        },
        "template": {
         "data": {
          "bar": [
           {
            "error_x": {
             "color": "#2a3f5f"
            },
            "error_y": {
             "color": "#2a3f5f"
            },
            "marker": {
             "line": {
              "color": "#E5ECF6",
              "width": 0.5
             },
             "pattern": {
              "fillmode": "overlay",
              "size": 10,
              "solidity": 0.2
             }
            },
            "type": "bar"
           }
          ],
          "barpolar": [
           {
            "marker": {
             "line": {
              "color": "#E5ECF6",
              "width": 0.5
             },
             "pattern": {
              "fillmode": "overlay",
              "size": 10,
              "solidity": 0.2
             }
            },
            "type": "barpolar"
           }
          ],
          "carpet": [
           {
            "aaxis": {
             "endlinecolor": "#2a3f5f",
             "gridcolor": "white",
             "linecolor": "white",
             "minorgridcolor": "white",
             "startlinecolor": "#2a3f5f"
            },
            "baxis": {
             "endlinecolor": "#2a3f5f",
             "gridcolor": "white",
             "linecolor": "white",
             "minorgridcolor": "white",
             "startlinecolor": "#2a3f5f"
            },
            "type": "carpet"
           }
          ],
          "choropleth": [
           {
            "colorbar": {
             "outlinewidth": 0,
             "ticks": ""
            },
            "type": "choropleth"
           }
          ],
          "contour": [
           {
            "colorbar": {
             "outlinewidth": 0,
             "ticks": ""
            },
            "colorscale": [
             [
              0,
              "#0d0887"
             ],
             [
              0.1111111111111111,
              "#46039f"
             ],
             [
              0.2222222222222222,
              "#7201a8"
             ],
             [
              0.3333333333333333,
              "#9c179e"
             ],
             [
              0.4444444444444444,
              "#bd3786"
             ],
             [
              0.5555555555555556,
              "#d8576b"
             ],
             [
              0.6666666666666666,
              "#ed7953"
             ],
             [
              0.7777777777777778,
              "#fb9f3a"
             ],
             [
              0.8888888888888888,
              "#fdca26"
             ],
             [
              1,
              "#f0f921"
             ]
            ],
            "type": "contour"
           }
          ],
          "contourcarpet": [
           {
            "colorbar": {
             "outlinewidth": 0,
             "ticks": ""
            },
            "type": "contourcarpet"
           }
          ],
          "heatmap": [
           {
            "colorbar": {
             "outlinewidth": 0,
             "ticks": ""
            },
            "colorscale": [
             [
              0,
              "#0d0887"
             ],
             [
              0.1111111111111111,
              "#46039f"
             ],
             [
              0.2222222222222222,
              "#7201a8"
             ],
             [
              0.3333333333333333,
              "#9c179e"
             ],
             [
              0.4444444444444444,
              "#bd3786"
             ],
             [
              0.5555555555555556,
              "#d8576b"
             ],
             [
              0.6666666666666666,
              "#ed7953"
             ],
             [
              0.7777777777777778,
              "#fb9f3a"
             ],
             [
              0.8888888888888888,
              "#fdca26"
             ],
             [
              1,
              "#f0f921"
             ]
            ],
            "type": "heatmap"
           }
          ],
          "heatmapgl": [
           {
            "colorbar": {
             "outlinewidth": 0,
             "ticks": ""
            },
            "colorscale": [
             [
              0,
              "#0d0887"
             ],
             [
              0.1111111111111111,
              "#46039f"
             ],
             [
              0.2222222222222222,
              "#7201a8"
             ],
             [
              0.3333333333333333,
              "#9c179e"
             ],
             [
              0.4444444444444444,
              "#bd3786"
             ],
             [
              0.5555555555555556,
              "#d8576b"
             ],
             [
              0.6666666666666666,
              "#ed7953"
             ],
             [
              0.7777777777777778,
              "#fb9f3a"
             ],
             [
              0.8888888888888888,
              "#fdca26"
             ],
             [
              1,
              "#f0f921"
             ]
            ],
            "type": "heatmapgl"
           }
          ],
          "histogram": [
           {
            "marker": {
             "pattern": {
              "fillmode": "overlay",
              "size": 10,
              "solidity": 0.2
             }
            },
            "type": "histogram"
           }
          ],
          "histogram2d": [
           {
            "colorbar": {
             "outlinewidth": 0,
             "ticks": ""
            },
            "colorscale": [
             [
              0,
              "#0d0887"
             ],
             [
              0.1111111111111111,
              "#46039f"
             ],
             [
              0.2222222222222222,
              "#7201a8"
             ],
             [
              0.3333333333333333,
              "#9c179e"
             ],
             [
              0.4444444444444444,
              "#bd3786"
             ],
             [
              0.5555555555555556,
              "#d8576b"
             ],
             [
              0.6666666666666666,
              "#ed7953"
             ],
             [
              0.7777777777777778,
              "#fb9f3a"
             ],
             [
              0.8888888888888888,
              "#fdca26"
             ],
             [
              1,
              "#f0f921"
             ]
            ],
            "type": "histogram2d"
           }
          ],
          "histogram2dcontour": [
           {
            "colorbar": {
             "outlinewidth": 0,
             "ticks": ""
            },
            "colorscale": [
             [
              0,
              "#0d0887"
             ],
             [
              0.1111111111111111,
              "#46039f"
             ],
             [
              0.2222222222222222,
              "#7201a8"
             ],
             [
              0.3333333333333333,
              "#9c179e"
             ],
             [
              0.4444444444444444,
              "#bd3786"
             ],
             [
              0.5555555555555556,
              "#d8576b"
             ],
             [
              0.6666666666666666,
              "#ed7953"
             ],
             [
              0.7777777777777778,
              "#fb9f3a"
             ],
             [
              0.8888888888888888,
              "#fdca26"
             ],
             [
              1,
              "#f0f921"
             ]
            ],
            "type": "histogram2dcontour"
           }
          ],
          "mesh3d": [
           {
            "colorbar": {
             "outlinewidth": 0,
             "ticks": ""
            },
            "type": "mesh3d"
           }
          ],
          "parcoords": [
           {
            "line": {
             "colorbar": {
              "outlinewidth": 0,
              "ticks": ""
             }
            },
            "type": "parcoords"
           }
          ],
          "pie": [
           {
            "automargin": true,
            "type": "pie"
           }
          ],
          "scatter": [
           {
            "fillpattern": {
             "fillmode": "overlay",
             "size": 10,
             "solidity": 0.2
            },
            "type": "scatter"
           }
          ],
          "scatter3d": [
           {
            "line": {
             "colorbar": {
              "outlinewidth": 0,
              "ticks": ""
             }
            },
            "marker": {
             "colorbar": {
              "outlinewidth": 0,
              "ticks": ""
             }
            },
            "type": "scatter3d"
           }
          ],
          "scattercarpet": [
           {
            "marker": {
             "colorbar": {
              "outlinewidth": 0,
              "ticks": ""
             }
            },
            "type": "scattercarpet"
           }
          ],
          "scattergeo": [
           {
            "marker": {
             "colorbar": {
              "outlinewidth": 0,
              "ticks": ""
             }
            },
            "type": "scattergeo"
           }
          ],
          "scattergl": [
           {
            "marker": {
             "colorbar": {
              "outlinewidth": 0,
              "ticks": ""
             }
            },
            "type": "scattergl"
           }
          ],
          "scattermapbox": [
           {
            "marker": {
             "colorbar": {
              "outlinewidth": 0,
              "ticks": ""
             }
            },
            "type": "scattermapbox"
           }
          ],
          "scatterpolar": [
           {
            "marker": {
             "colorbar": {
              "outlinewidth": 0,
              "ticks": ""
             }
            },
            "type": "scatterpolar"
           }
          ],
          "scatterpolargl": [
           {
            "marker": {
             "colorbar": {
              "outlinewidth": 0,
              "ticks": ""
             }
            },
            "type": "scatterpolargl"
           }
          ],
          "scatterternary": [
           {
            "marker": {
             "colorbar": {
              "outlinewidth": 0,
              "ticks": ""
             }
            },
            "type": "scatterternary"
           }
          ],
          "surface": [
           {
            "colorbar": {
             "outlinewidth": 0,
             "ticks": ""
            },
            "colorscale": [
             [
              0,
              "#0d0887"
             ],
             [
              0.1111111111111111,
              "#46039f"
             ],
             [
              0.2222222222222222,
              "#7201a8"
             ],
             [
              0.3333333333333333,
              "#9c179e"
             ],
             [
              0.4444444444444444,
              "#bd3786"
             ],
             [
              0.5555555555555556,
              "#d8576b"
             ],
             [
              0.6666666666666666,
              "#ed7953"
             ],
             [
              0.7777777777777778,
              "#fb9f3a"
             ],
             [
              0.8888888888888888,
              "#fdca26"
             ],
             [
              1,
              "#f0f921"
             ]
            ],
            "type": "surface"
           }
          ],
          "table": [
           {
            "cells": {
             "fill": {
              "color": "#EBF0F8"
             },
             "line": {
              "color": "white"
             }
            },
            "header": {
             "fill": {
              "color": "#C8D4E3"
             },
             "line": {
              "color": "white"
             }
            },
            "type": "table"
           }
          ]
         },
         "layout": {
          "annotationdefaults": {
           "arrowcolor": "#2a3f5f",
           "arrowhead": 0,
           "arrowwidth": 1
          },
          "autotypenumbers": "strict",
          "coloraxis": {
           "colorbar": {
            "outlinewidth": 0,
            "ticks": ""
           }
          },
          "colorscale": {
           "diverging": [
            [
             0,
             "#8e0152"
            ],
            [
             0.1,
             "#c51b7d"
            ],
            [
             0.2,
             "#de77ae"
            ],
            [
             0.3,
             "#f1b6da"
            ],
            [
             0.4,
             "#fde0ef"
            ],
            [
             0.5,
             "#f7f7f7"
            ],
            [
             0.6,
             "#e6f5d0"
            ],
            [
             0.7,
             "#b8e186"
            ],
            [
             0.8,
             "#7fbc41"
            ],
            [
             0.9,
             "#4d9221"
            ],
            [
             1,
             "#276419"
            ]
           ],
           "sequential": [
            [
             0,
             "#0d0887"
            ],
            [
             0.1111111111111111,
             "#46039f"
            ],
            [
             0.2222222222222222,
             "#7201a8"
            ],
            [
             0.3333333333333333,
             "#9c179e"
            ],
            [
             0.4444444444444444,
             "#bd3786"
            ],
            [
             0.5555555555555556,
             "#d8576b"
            ],
            [
             0.6666666666666666,
             "#ed7953"
            ],
            [
             0.7777777777777778,
             "#fb9f3a"
            ],
            [
             0.8888888888888888,
             "#fdca26"
            ],
            [
             1,
             "#f0f921"
            ]
           ],
           "sequentialminus": [
            [
             0,
             "#0d0887"
            ],
            [
             0.1111111111111111,
             "#46039f"
            ],
            [
             0.2222222222222222,
             "#7201a8"
            ],
            [
             0.3333333333333333,
             "#9c179e"
            ],
            [
             0.4444444444444444,
             "#bd3786"
            ],
            [
             0.5555555555555556,
             "#d8576b"
            ],
            [
             0.6666666666666666,
             "#ed7953"
            ],
            [
             0.7777777777777778,
             "#fb9f3a"
            ],
            [
             0.8888888888888888,
             "#fdca26"
            ],
            [
             1,
             "#f0f921"
            ]
           ]
          },
          "colorway": [
           "#636efa",
           "#EF553B",
           "#00cc96",
           "#ab63fa",
           "#FFA15A",
           "#19d3f3",
           "#FF6692",
           "#B6E880",
           "#FF97FF",
           "#FECB52"
          ],
          "font": {
           "color": "#2a3f5f"
          },
          "geo": {
           "bgcolor": "white",
           "lakecolor": "white",
           "landcolor": "#E5ECF6",
           "showlakes": true,
           "showland": true,
           "subunitcolor": "white"
          },
          "hoverlabel": {
           "align": "left"
          },
          "hovermode": "closest",
          "mapbox": {
           "style": "light"
          },
          "paper_bgcolor": "white",
          "plot_bgcolor": "#E5ECF6",
          "polar": {
           "angularaxis": {
            "gridcolor": "white",
            "linecolor": "white",
            "ticks": ""
           },
           "bgcolor": "#E5ECF6",
           "radialaxis": {
            "gridcolor": "white",
            "linecolor": "white",
            "ticks": ""
           }
          },
          "scene": {
           "xaxis": {
            "backgroundcolor": "#E5ECF6",
            "gridcolor": "white",
            "gridwidth": 2,
            "linecolor": "white",
            "showbackground": true,
            "ticks": "",
            "zerolinecolor": "white"
           },
           "yaxis": {
            "backgroundcolor": "#E5ECF6",
            "gridcolor": "white",
            "gridwidth": 2,
            "linecolor": "white",
            "showbackground": true,
            "ticks": "",
            "zerolinecolor": "white"
           },
           "zaxis": {
            "backgroundcolor": "#E5ECF6",
            "gridcolor": "white",
            "gridwidth": 2,
            "linecolor": "white",
            "showbackground": true,
            "ticks": "",
            "zerolinecolor": "white"
           }
          },
          "shapedefaults": {
           "line": {
            "color": "#2a3f5f"
           }
          },
          "ternary": {
           "aaxis": {
            "gridcolor": "white",
            "linecolor": "white",
            "ticks": ""
           },
           "baxis": {
            "gridcolor": "white",
            "linecolor": "white",
            "ticks": ""
           },
           "bgcolor": "#E5ECF6",
           "caxis": {
            "gridcolor": "white",
            "linecolor": "white",
            "ticks": ""
           }
          },
          "title": {
           "x": 0.05
          },
          "xaxis": {
           "automargin": true,
           "gridcolor": "white",
           "linecolor": "white",
           "ticks": "",
           "title": {
            "standoff": 15
           },
           "zerolinecolor": "white",
           "zerolinewidth": 2
          },
          "yaxis": {
           "automargin": true,
           "gridcolor": "white",
           "linecolor": "white",
           "ticks": "",
           "title": {
            "standoff": 15
           },
           "zerolinecolor": "white",
           "zerolinewidth": 2
          }
         }
        },
        "xaxis": {
         "anchor": "y",
         "domain": [
          0,
          1
         ],
         "title": {
          "text": "class"
         }
        },
        "yaxis": {
         "anchor": "x",
         "domain": [
          0,
          1
         ],
         "title": {
          "text": "faces"
         }
        }
       }
      }
     },
     "metadata": {},
     "output_type": "display_data"
    }
   ],
   "source": [
    "# [Comparative info] Avg vertices before and after\n",
    "df_mean_bar = df[[\"vertices\", \"faces\", \"class\"]].groupby(\"class\").mean().sort_values([\"vertices\", \"faces\"])\n",
    "fig = px.bar(df_mean_bar, x=df_mean_bar.index, y='vertices')\n",
    "fig.update_traces(marker_color='lightslategray')\n",
    "fig.show()\n",
    "\n",
    "df_mean_bar_resampled = df_resampled[[\"vertices\", \"faces\", \"class\"]].groupby(\"class\").mean().sort_values([\"vertices\", \"faces\"])\n",
    "fig = px.bar(df_mean_bar_resampled, x=df_mean_bar_resampled.index, y='vertices')\n",
    "fig.update_traces(marker_color='lightslategray')\n",
    "fig.show()\n",
    "\n",
    "# [Comparative info] Avg faces before and after\n",
    "df_mean_bar = df[[\"vertices\", \"faces\", \"class\"]].groupby(\"class\").mean().sort_values([\"faces\", \"vertices\"])\n",
    "fig = px.bar(df_mean_bar, x=df_mean_bar.index, y='faces')\n",
    "fig.update_traces(marker_color='lightslategray')\n",
    "fig.show()\n",
    "\n",
    "df_mean_bar_resampled = df_resampled[[\"vertices\", \"faces\", \"class\"]].groupby(\"class\").mean().sort_values([\"faces\", \"vertices\"])\n",
    "fig = px.bar(df_mean_bar_resampled, x=df_mean_bar_resampled.index, y='faces')\n",
    "fig.update_traces(marker_color='lightslategray')\n",
    "fig.show()"
   ]
  },
  {
   "cell_type": "code",
   "execution_count": null,
   "metadata": {},
   "outputs": [
    {
     "data": {
      "application/vnd.plotly.v1+json": {
       "config": {
        "plotlyServerURL": "https://plot.ly"
       },
       "data": [
        {
         "alignmentgroup": "True",
         "bingroup": "x",
         "histfunc": "sum",
         "hovertemplate": "vertices=%{x}<br>sum of amount of object files=%{y}<extra></extra>",
         "legendgroup": "",
         "marker": {
          "color": "lightslategray",
          "pattern": {
           "shape": ""
          }
         },
         "name": "",
         "nbinsx": 93,
         "offsetgroup": "",
         "orientation": "v",
         "showlegend": false,
         "type": "histogram",
         "x": [
          16,
          18,
          22,
          24,
          25,
          28,
          29,
          31,
          32,
          33,
          35,
          36,
          39,
          40,
          41,
          44,
          46,
          48,
          50,
          54,
          55,
          56,
          60,
          64,
          66,
          68,
          69,
          70,
          71,
          72,
          74,
          76,
          78,
          79,
          80,
          81,
          82,
          87,
          88,
          89,
          91,
          93,
          94,
          96,
          98,
          99,
          100,
          101,
          102,
          104,
          109,
          110,
          112,
          113,
          114,
          116,
          118,
          119,
          120,
          122,
          124,
          127,
          128,
          129,
          130,
          131,
          132,
          133,
          134,
          135,
          136,
          140,
          142,
          144,
          145,
          146,
          148,
          150,
          151,
          152,
          154,
          155,
          158,
          160,
          161,
          162,
          163,
          164,
          166,
          168,
          169,
          170,
          171,
          173,
          174,
          176,
          178,
          179,
          180,
          182,
          183,
          184,
          185,
          186,
          188,
          189,
          190,
          192,
          193,
          196,
          197,
          198,
          199,
          200,
          201,
          202,
          203,
          204,
          208,
          210,
          211,
          212,
          213,
          214,
          215,
          216,
          217,
          218,
          220,
          221,
          222,
          224,
          227,
          228,
          229,
          230,
          231,
          232,
          233,
          234,
          235,
          236,
          238,
          240,
          241,
          242,
          243,
          244,
          246,
          247,
          249,
          250,
          252,
          253,
          254,
          255,
          256,
          257,
          258,
          260,
          261,
          262,
          263,
          264,
          265,
          267,
          270,
          272,
          274,
          275,
          276,
          277,
          278,
          279,
          280,
          281,
          282,
          284,
          285,
          287,
          288,
          289,
          291,
          293,
          294,
          295,
          296,
          298,
          299,
          300,
          301,
          302,
          304,
          305,
          307,
          308,
          309,
          310,
          312,
          313,
          314,
          316,
          317,
          318,
          320,
          323,
          325,
          326,
          327,
          328,
          329,
          330,
          331,
          332,
          333,
          334,
          336,
          337,
          338,
          339,
          340,
          341,
          342,
          345,
          346,
          348,
          349,
          350,
          352,
          353,
          354,
          355,
          356,
          358,
          359,
          360,
          361,
          362,
          363,
          364,
          365,
          366,
          368,
          369,
          370,
          371,
          372,
          373,
          374,
          375,
          379,
          380,
          386,
          389,
          390,
          393,
          395,
          396,
          398,
          401,
          402,
          408,
          409,
          411,
          412,
          413,
          415,
          416,
          417,
          420,
          421,
          422,
          423,
          425,
          426,
          427,
          428,
          429,
          431,
          432,
          434,
          435,
          436,
          437,
          438,
          439,
          440,
          441,
          443,
          444,
          445,
          446,
          448,
          449,
          450,
          451,
          453,
          454,
          456,
          458,
          460,
          462,
          463,
          464,
          466,
          467,
          468,
          469,
          470,
          471,
          472,
          473,
          474,
          475,
          476,
          477,
          478,
          479,
          480,
          481,
          482,
          484,
          485,
          486,
          487,
          488,
          491,
          493,
          495,
          496,
          497,
          498,
          500,
          501,
          502,
          503,
          504,
          505,
          506,
          507,
          508,
          510,
          511,
          512,
          518,
          520,
          521,
          522,
          523,
          524,
          526,
          528,
          529,
          531,
          532,
          533,
          538,
          540,
          542,
          544,
          545,
          547,
          550,
          551,
          553,
          556,
          557,
          558,
          559,
          560,
          562,
          567,
          568,
          569,
          573,
          574,
          575,
          576,
          577,
          583,
          586,
          588,
          589,
          593,
          597,
          598,
          600,
          602,
          606,
          607,
          614,
          615,
          616,
          617,
          622,
          623,
          624,
          626,
          627,
          629,
          630,
          640,
          641,
          642,
          646,
          648,
          649,
          651,
          652,
          655,
          658,
          660,
          662,
          664,
          665,
          668,
          672,
          674,
          675,
          676,
          678,
          679,
          681,
          683,
          688,
          689,
          691,
          692,
          695,
          696,
          699,
          706,
          708,
          709,
          713,
          714,
          716,
          718,
          719,
          720,
          722,
          724,
          725,
          726,
          728,
          729,
          730,
          734,
          735,
          737,
          738,
          742,
          743,
          744,
          745,
          747,
          748,
          749,
          750,
          752,
          754,
          757,
          760,
          762,
          763,
          767,
          768,
          770,
          771,
          773,
          774,
          775,
          776,
          777,
          778,
          785,
          790,
          793,
          794,
          795,
          797,
          799,
          800,
          802,
          805,
          808,
          812,
          816,
          817,
          820,
          826,
          829,
          830,
          832,
          835,
          837,
          842,
          844,
          849,
          850,
          855,
          856,
          857,
          858,
          863,
          867,
          871,
          879,
          880,
          882,
          885,
          886,
          887,
          891,
          894,
          903,
          904,
          905,
          906,
          910,
          926,
          927,
          932,
          938,
          947,
          950,
          955,
          956,
          958,
          959,
          960,
          966,
          967,
          971,
          976,
          977,
          986,
          996,
          998,
          1001,
          1002,
          1003,
          1004,
          1005,
          1006,
          1009,
          1012,
          1014,
          1015,
          1016,
          1018,
          1020,
          1022,
          1023,
          1025,
          1026,
          1027,
          1033,
          1036,
          1038,
          1042,
          1043,
          1047,
          1049,
          1051,
          1053,
          1054,
          1056,
          1058,
          1059,
          1062,
          1064,
          1066,
          1067,
          1068,
          1069,
          1070,
          1072,
          1085,
          1086,
          1091,
          1092,
          1093,
          1094,
          1097,
          1101,
          1104,
          1112,
          1116,
          1117,
          1128,
          1129,
          1137,
          1141,
          1143,
          1144,
          1149,
          1150,
          1155,
          1162,
          1166,
          1173,
          1175,
          1176,
          1178,
          1179,
          1181,
          1182,
          1190,
          1191,
          1194,
          1196,
          1197,
          1198,
          1201,
          1203,
          1207,
          1216,
          1217,
          1224,
          1228,
          1230,
          1235,
          1236,
          1238,
          1239,
          1244,
          1245,
          1247,
          1249,
          1250,
          1252,
          1256,
          1257,
          1264,
          1268,
          1272,
          1281,
          1282,
          1288,
          1289,
          1290,
          1294,
          1295,
          1296,
          1299,
          1300,
          1303,
          1304,
          1305,
          1309,
          1315,
          1316,
          1321,
          1322,
          1325,
          1327,
          1331,
          1335,
          1336,
          1344,
          1356,
          1361,
          1362,
          1366,
          1372,
          1373,
          1378,
          1380,
          1384,
          1394,
          1396,
          1400,
          1401,
          1404,
          1414,
          1419,
          1424,
          1426,
          1429,
          1430,
          1434,
          1445,
          1450,
          1455,
          1460,
          1461,
          1474,
          1486,
          1490,
          1491,
          1499,
          1502,
          1503,
          1505,
          1508,
          1509,
          1512,
          1517,
          1520,
          1521,
          1522,
          1523,
          1524,
          1529,
          1542,
          1543,
          1545,
          1546,
          1547,
          1548,
          1550,
          1551,
          1552,
          1553,
          1557,
          1558,
          1563,
          1566,
          1572,
          1576,
          1583,
          1588,
          1606,
          1609,
          1610,
          1611,
          1614,
          1616,
          1618,
          1621,
          1622,
          1624,
          1628,
          1636,
          1638,
          1644,
          1645,
          1646,
          1672,
          1684,
          1686,
          1694,
          1699,
          1700,
          1704,
          1706,
          1707,
          1711,
          1712,
          1713,
          1720,
          1723,
          1724,
          1725,
          1728,
          1732,
          1739,
          1740,
          1748,
          1750,
          1751,
          1752,
          1768,
          1783,
          1787,
          1792,
          1800,
          1802,
          1806,
          1810,
          1812,
          1819,
          1824,
          1826,
          1830,
          1835,
          1836,
          1837,
          1847,
          1848,
          1863,
          1864,
          1867,
          1868,
          1871,
          1872,
          1874,
          1878,
          1882,
          1884,
          1902,
          1903,
          1904,
          1919,
          1921,
          1925,
          1926,
          1931,
          1934,
          1936,
          1940,
          1946,
          1959,
          1962,
          1964,
          1965,
          1970,
          1971,
          1974,
          1977,
          1984,
          1988,
          1990,
          1996,
          2000,
          2001,
          2003,
          2006,
          2010,
          2012,
          2013,
          2018,
          2021,
          2022,
          2027,
          2029,
          2034,
          2042,
          2046,
          2050,
          2056,
          2059,
          2064,
          2078,
          2086,
          2092,
          2100,
          2101,
          2105,
          2121,
          2124,
          2133,
          2136,
          2147,
          2162,
          2167,
          2170,
          2178,
          2186,
          2192,
          2198,
          2199,
          2208,
          2229,
          2239,
          2244,
          2248,
          2252,
          2258,
          2274,
          2275,
          2277,
          2288,
          2291,
          2296,
          2297,
          2300,
          2304,
          2309,
          2315,
          2319,
          2328,
          2329,
          2333,
          2335,
          2337,
          2341,
          2344,
          2354,
          2360,
          2362,
          2369,
          2380,
          2385,
          2386,
          2388,
          2408,
          2417,
          2424,
          2426,
          2446,
          2447,
          2448,
          2452,
          2454,
          2457,
          2474,
          2503,
          2509,
          2511,
          2512,
          2526,
          2530,
          2537,
          2539,
          2546,
          2547,
          2556,
          2557,
          2572,
          2578,
          2584,
          2591,
          2625,
          2640,
          2644,
          2659,
          2666,
          2674,
          2676,
          2681,
          2683,
          2684,
          2687,
          2689,
          2694,
          2695,
          2752,
          2763,
          2769,
          2770,
          2804,
          2823,
          2827,
          2838,
          2841,
          2852,
          2859,
          2864,
          2868,
          2873,
          2885,
          2894,
          2903,
          2904,
          2911,
          2912,
          2920,
          2921,
          2929,
          2936,
          2949,
          2950,
          2956,
          2960,
          2972,
          2973,
          2983,
          2984,
          2986,
          2991,
          2993,
          2996,
          3000,
          3003,
          3007,
          3008,
          3009,
          3016,
          3018,
          3019,
          3048,
          3051,
          3053,
          3055,
          3061,
          3072,
          3077,
          3093,
          3109,
          3110,
          3120,
          3128,
          3136,
          3142,
          3144,
          3149,
          3153,
          3155,
          3156,
          3163,
          3167,
          3174,
          3185,
          3189,
          3206,
          3214,
          3218,
          3224,
          3225,
          3232,
          3238,
          3240,
          3242,
          3258,
          3266,
          3285,
          3288,
          3298,
          3299,
          3300,
          3330,
          3332,
          3334,
          3336,
          3338,
          3339,
          3351,
          3353,
          3366,
          3374,
          3375,
          3388,
          3397,
          3408,
          3411,
          3427,
          3441,
          3475,
          3490,
          3495,
          3500,
          3506,
          3512,
          3519,
          3558,
          3581,
          3601,
          3618,
          3622,
          3627,
          3629,
          3644,
          3645,
          3655,
          3666,
          3680,
          3694,
          3712,
          3713,
          3716,
          3721,
          3724,
          3725,
          3726,
          3749,
          3752,
          3756,
          3760,
          3767,
          3770,
          3780,
          3782,
          3783,
          3784,
          3804,
          3820,
          3835,
          3855,
          3864,
          3870,
          3884,
          3906,
          3912,
          3920,
          3922,
          3924,
          3928,
          3934,
          3935,
          3942,
          3947,
          3949,
          3952,
          3956,
          3962,
          3963,
          3964,
          3980,
          4002,
          4006,
          4018,
          4031,
          4049,
          4066,
          4072,
          4096,
          4117,
          4122,
          4126,
          4129,
          4133,
          4136,
          4148,
          4149,
          4158,
          4168,
          4173,
          4176,
          4189,
          4195,
          4200,
          4202,
          4230,
          4240,
          4241,
          4250,
          4264,
          4269,
          4274,
          4275,
          4278,
          4279,
          4282,
          4284,
          4296,
          4298,
          4313,
          4315,
          4325,
          4336,
          4340,
          4346,
          4352,
          4382,
          4384,
          4390,
          4400,
          4407,
          4409,
          4440,
          4449,
          4457,
          4461,
          4462,
          4463,
          4469,
          4478,
          4481,
          4487,
          4491,
          4492,
          4498,
          4500,
          4503,
          4522,
          4578,
          4587,
          4597,
          4607,
          4638,
          4651,
          4657,
          4658,
          4677,
          4694,
          4708,
          4710,
          4748,
          4757,
          4773,
          4790,
          4794,
          4796,
          4849,
          4867,
          4890,
          4892,
          4906,
          4911,
          4915,
          4916,
          4918,
          4930,
          4950,
          4952,
          4958,
          4960,
          4964,
          4970,
          4978,
          4990,
          4991,
          4999,
          5009,
          5012,
          5026,
          5037,
          5039,
          5046,
          5062,
          5063,
          5071,
          5076,
          5078,
          5090,
          5092,
          5097,
          5110,
          5119,
          5124,
          5131,
          5137,
          5153,
          5160,
          5161,
          5167,
          5169,
          5201,
          5202,
          5205,
          5206,
          5209,
          5210,
          5211,
          5223,
          5231,
          5244,
          5246,
          5247,
          5253,
          5266,
          5276,
          5284,
          5290,
          5300,
          5303,
          5307,
          5308,
          5322,
          5348,
          5354,
          5381,
          5383,
          5390,
          5410,
          5427,
          5433,
          5450,
          5482,
          5506,
          5508,
          5510,
          5514,
          5520,
          5538,
          5548,
          5558,
          5561,
          5567,
          5584,
          5602,
          5641,
          5647,
          5653,
          5681,
          5682,
          5694,
          5703,
          5713,
          5724,
          5754,
          5801,
          5804,
          5814,
          5823,
          5831,
          5849,
          5872,
          5894,
          5901,
          5911,
          5914,
          5941,
          5976,
          5982,
          6007,
          6035,
          6038,
          6044,
          6045,
          6049,
          6076,
          6094,
          6097,
          6098,
          6104,
          6122,
          6136,
          6146,
          6148,
          6175,
          6191,
          6193,
          6196,
          6198,
          6211,
          6247,
          6251,
          6257,
          6295,
          6318,
          6334,
          6349,
          6365,
          6368,
          6372,
          6380,
          6385,
          6422,
          6494,
          6513,
          6514,
          6516,
          6519,
          6529,
          6530,
          6540,
          6564,
          6576,
          6598,
          6622,
          6645,
          6647,
          6656,
          6683,
          6696,
          6697,
          6704,
          6727,
          6769,
          6786,
          6800,
          6816,
          6826,
          6831,
          6852,
          6853,
          6859,
          6870,
          6873,
          6898,
          6906,
          6923,
          6936,
          6939,
          6943,
          6951,
          6954,
          6979,
          6987,
          7006,
          7015,
          7056,
          7075,
          7089,
          7102,
          7105,
          7112,
          7114,
          7135,
          7136,
          7138,
          7162,
          7218,
          7226,
          7243,
          7244,
          7248,
          7253,
          7282,
          7303,
          7314,
          7315,
          7323,
          7328,
          7334,
          7339,
          7344,
          7350,
          7367,
          7374,
          7401,
          7423,
          7440,
          7445,
          7454,
          7486,
          7529,
          7530,
          7537,
          7542,
          7592,
          7627,
          7636,
          7638,
          7641,
          7643,
          7672,
          7691,
          7694,
          7722,
          7730,
          7737,
          7754,
          7768,
          7781,
          7818,
          7851,
          7853,
          7873,
          7882,
          7896,
          7910,
          7915,
          7920,
          7929,
          7930,
          7956,
          7968,
          7970,
          7993,
          7994,
          8077,
          8080,
          8085,
          8116,
          8121,
          8133,
          8159,
          8163,
          8181,
          8184,
          8188,
          8225,
          8239,
          8240,
          8251,
          8254,
          8260,
          8278,
          8300,
          8301,
          8309,
          8315,
          8334,
          8346,
          8404,
          8433,
          8453,
          8460,
          8471,
          8476,
          8489,
          8492,
          8511,
          8520,
          8524,
          8547,
          8583,
          8616,
          8622,
          8636,
          8692,
          8721,
          8722,
          8761,
          8796,
          8798,
          8812,
          8815,
          8834,
          8852,
          8866,
          8889,
          8937,
          8955,
          8963,
          9018,
          9061,
          9068,
          9127,
          9166,
          9174,
          9184,
          9201,
          9253,
          9272,
          9284,
          9288,
          9342,
          9369,
          9398,
          9415,
          9457,
          9494,
          9510,
          9543,
          9614,
          9616,
          9628,
          9660,
          9664,
          9698,
          9723,
          9736,
          9745,
          9843,
          9850,
          9880,
          9894,
          9900,
          9980,
          10050,
          10054,
          10076,
          10092,
          10119,
          10163,
          10202,
          10283,
          10314,
          10318,
          10328,
          10333,
          10340,
          10373,
          10473,
          10545,
          10576,
          10589,
          10614,
          10656,
          10676,
          10694,
          10735,
          10766,
          10770,
          10827,
          10828,
          10850,
          10872,
          10889,
          10920,
          10936,
          10942,
          10969,
          10979,
          10985,
          11072,
          11090,
          11096,
          11105,
          11132,
          11136,
          11299,
          11385,
          11431,
          11448,
          11463,
          11548,
          11578,
          11666,
          11731,
          11749,
          11791,
          11806,
          11819,
          11855,
          11910,
          11914,
          11926,
          11929,
          11974,
          12016,
          12046,
          12097,
          12172,
          12180,
          12252,
          12279,
          12312,
          12410,
          12414,
          12443,
          12463,
          12515,
          12526,
          12528,
          12534,
          12600,
          12603,
          12640,
          12732,
          12758,
          12771,
          12792,
          12808,
          12813,
          12842,
          12911,
          12919,
          12982,
          12987,
          13002,
          13022,
          13081,
          13106,
          13151,
          13228,
          13242,
          13253,
          13257,
          13309,
          13312,
          13436,
          13440,
          13579,
          13612,
          13619,
          13652,
          13685,
          13705,
          13725,
          13728,
          13747,
          13754,
          13823,
          13871,
          13914,
          13950,
          13986,
          14000,
          14082,
          14103,
          14129,
          14213,
          14225,
          14312,
          14464,
          14603,
          14621,
          14677,
          14752,
          14796,
          14822,
          14865,
          14887,
          14960,
          15085,
          15088,
          15136,
          15152,
          15178,
          15181,
          15201,
          15266,
          15288,
          15291,
          15305,
          15368,
          15465,
          15478,
          15492,
          15606,
          15615,
          15752,
          15763,
          15871,
          15903,
          15969,
          16049,
          16052,
          16082,
          16185,
          16197,
          16267,
          16287,
          16333,
          16364,
          16366,
          16404,
          16416,
          16542,
          16566,
          16607,
          16776,
          16803,
          16857,
          16870,
          17247,
          17257,
          17299,
          17301,
          17342,
          17358,
          17472,
          17617,
          17626,
          17639,
          17666,
          17676,
          17834,
          17962,
          18086,
          18122,
          18143,
          18153,
          18170,
          18283,
          18315,
          18348,
          18397,
          18409,
          18418,
          18454,
          18528,
          18656,
          18662,
          18704,
          18878,
          18888,
          18966,
          18993,
          19105,
          19283,
          19361,
          19368,
          19417,
          19423,
          19505,
          19611,
          19857,
          20116,
          20126,
          20165,
          20212,
          20239,
          20306,
          20392,
          20399,
          20493,
          20586,
          20624,
          21009,
          21122,
          21288,
          21442,
          21616,
          21686,
          21856,
          21992,
          22063,
          22427,
          22495,
          22608,
          22672,
          22674,
          22682,
          22837,
          23142,
          23238,
          23397,
          23399,
          23527,
          23696,
          23711,
          23858,
          23984,
          24324,
          24710,
          24786,
          24936,
          24998,
          25001,
          25185,
          25404,
          25426,
          25495,
          25632,
          25650,
          25763,
          25807,
          26070,
          26709,
          26749,
          26784,
          26911,
          27053,
          27062,
          27361,
          27493,
          27510,
          27581,
          27719,
          27750,
          27775,
          27919,
          28137,
          28373,
          28407,
          28479,
          28864,
          28870,
          29173,
          29340,
          29495,
          29528,
          29552,
          29805,
          29817,
          29914,
          30832,
          31275,
          31349,
          31824,
          31972,
          32382,
          32603,
          32736,
          32742,
          32748,
          32795,
          33376,
          34364,
          34812,
          35044,
          35131,
          35522,
          35829,
          36064,
          36902,
          37360,
          38226,
          38335,
          38911,
          39647,
          39872,
          39975,
          40714,
          41265,
          41501,
          43386,
          43966,
          44041,
          44937,
          45079,
          45486,
          46038,
          46407,
          46622,
          46694,
          47076,
          47209,
          47558,
          48093,
          48737,
          48973,
          49528,
          49630,
          49944,
          50449,
          50833,
          51011,
          51730,
          52078,
          52263,
          54223,
          54710,
          56409,
          56754,
          58369,
          58392,
          58864,
          60282,
          60326,
          60624,
          60671,
          62279,
          64127,
          64866,
          65343,
          65722,
          73184,
          73398,
          73697,
          78288,
          90234,
          98256
         ],
         "xaxis": "x",
         "y": [
          2,
          1,
          1,
          2,
          1,
          3,
          2,
          1,
          1,
          1,
          2,
          5,
          1,
          4,
          1,
          3,
          5,
          4,
          1,
          3,
          1,
          2,
          3,
          1,
          1,
          4,
          1,
          1,
          1,
          3,
          2,
          1,
          2,
          1,
          4,
          1,
          1,
          3,
          3,
          2,
          1,
          2,
          1,
          4,
          1,
          1,
          1,
          1,
          1,
          3,
          1,
          1,
          3,
          1,
          2,
          4,
          2,
          2,
          3,
          1,
          4,
          1,
          9,
          1,
          1,
          1,
          3,
          1,
          1,
          2,
          2,
          2,
          1,
          5,
          1,
          1,
          2,
          1,
          1,
          1,
          2,
          1,
          2,
          1,
          2,
          2,
          1,
          1,
          3,
          2,
          1,
          3,
          1,
          1,
          2,
          4,
          4,
          1,
          1,
          4,
          1,
          3,
          1,
          2,
          1,
          1,
          4,
          1,
          2,
          2,
          2,
          1,
          1,
          2,
          3,
          1,
          1,
          4,
          2,
          3,
          1,
          1,
          1,
          2,
          3,
          3,
          1,
          1,
          3,
          3,
          2,
          2,
          1,
          1,
          1,
          3,
          2,
          1,
          4,
          1,
          2,
          2,
          2,
          5,
          4,
          2,
          1,
          1,
          1,
          2,
          3,
          5,
          1,
          1,
          1,
          2,
          1,
          5,
          1,
          1,
          2,
          2,
          1,
          2,
          3,
          1,
          5,
          1,
          1,
          3,
          1,
          1,
          2,
          2,
          1,
          1,
          3,
          4,
          1,
          2,
          3,
          1,
          1,
          1,
          2,
          2,
          3,
          2,
          3,
          2,
          2,
          2,
          1,
          1,
          1,
          2,
          4,
          1,
          4,
          2,
          3,
          2,
          1,
          2,
          5,
          1,
          3,
          1,
          1,
          1,
          2,
          1,
          2,
          3,
          2,
          3,
          4,
          1,
          2,
          1,
          2,
          3,
          1,
          1,
          2,
          2,
          3,
          1,
          2,
          1,
          1,
          1,
          2,
          1,
          1,
          4,
          2,
          2,
          1,
          2,
          1,
          1,
          4,
          2,
          1,
          2,
          2,
          1,
          1,
          1,
          1,
          3,
          4,
          2,
          5,
          1,
          3,
          4,
          1,
          1,
          2,
          4,
          1,
          1,
          2,
          1,
          2,
          3,
          2,
          1,
          2,
          2,
          2,
          1,
          3,
          1,
          2,
          1,
          1,
          1,
          1,
          1,
          2,
          2,
          1,
          1,
          1,
          2,
          1,
          3,
          3,
          1,
          2,
          1,
          2,
          1,
          2,
          3,
          2,
          1,
          2,
          1,
          2,
          2,
          1,
          3,
          1,
          2,
          2,
          1,
          2,
          2,
          1,
          1,
          1,
          2,
          1,
          1,
          2,
          2,
          2,
          1,
          2,
          2,
          1,
          1,
          3,
          1,
          1,
          2,
          1,
          2,
          1,
          1,
          3,
          1,
          2,
          1,
          1,
          1,
          2,
          1,
          1,
          1,
          1,
          2,
          1,
          1,
          2,
          3,
          3,
          1,
          2,
          3,
          1,
          1,
          1,
          4,
          1,
          2,
          1,
          1,
          1,
          1,
          1,
          1,
          2,
          1,
          2,
          1,
          2,
          2,
          2,
          1,
          1,
          4,
          1,
          1,
          3,
          1,
          2,
          1,
          1,
          1,
          1,
          3,
          2,
          1,
          1,
          1,
          1,
          2,
          1,
          1,
          1,
          1,
          5,
          1,
          1,
          1,
          2,
          1,
          1,
          1,
          1,
          2,
          1,
          1,
          1,
          1,
          1,
          2,
          1,
          1,
          1,
          3,
          1,
          2,
          1,
          3,
          3,
          2,
          1,
          1,
          1,
          1,
          1,
          2,
          1,
          1,
          2,
          2,
          1,
          1,
          2,
          1,
          5,
          2,
          2,
          1,
          2,
          1,
          1,
          1,
          1,
          1,
          1,
          1,
          1,
          1,
          1,
          1,
          1,
          1,
          1,
          2,
          2,
          1,
          2,
          1,
          1,
          3,
          2,
          1,
          1,
          1,
          1,
          2,
          1,
          1,
          1,
          2,
          1,
          1,
          2,
          1,
          2,
          1,
          1,
          1,
          1,
          4,
          2,
          3,
          1,
          1,
          1,
          1,
          1,
          1,
          1,
          1,
          1,
          1,
          1,
          2,
          1,
          1,
          1,
          2,
          1,
          1,
          1,
          3,
          1,
          2,
          3,
          2,
          2,
          2,
          1,
          1,
          1,
          2,
          1,
          1,
          1,
          1,
          2,
          1,
          2,
          1,
          1,
          1,
          2,
          1,
          1,
          1,
          1,
          1,
          3,
          1,
          1,
          1,
          1,
          1,
          1,
          1,
          1,
          1,
          5,
          1,
          2,
          2,
          1,
          1,
          1,
          2,
          1,
          1,
          1,
          1,
          1,
          2,
          1,
          1,
          1,
          2,
          1,
          1,
          1,
          1,
          1,
          2,
          1,
          1,
          1,
          1,
          3,
          1,
          1,
          1,
          3,
          1,
          2,
          1,
          1,
          2,
          1,
          1,
          1,
          1,
          1,
          1,
          1,
          1,
          1,
          1,
          1,
          1,
          1,
          1,
          1,
          1,
          1,
          2,
          1,
          1,
          1,
          3,
          1,
          2,
          2,
          2,
          1,
          1,
          1,
          2,
          1,
          1,
          1,
          2,
          1,
          4,
          1,
          3,
          1,
          1,
          1,
          1,
          1,
          1,
          1,
          1,
          3,
          1,
          1,
          1,
          2,
          1,
          1,
          2,
          1,
          1,
          3,
          1,
          1,
          1,
          3,
          1,
          1,
          2,
          1,
          1,
          2,
          1,
          1,
          1,
          1,
          1,
          2,
          1,
          1,
          1,
          1,
          1,
          2,
          1,
          2,
          2,
          4,
          1,
          1,
          5,
          1,
          1,
          1,
          1,
          1,
          1,
          1,
          2,
          2,
          1,
          1,
          1,
          1,
          1,
          1,
          1,
          1,
          1,
          1,
          1,
          1,
          1,
          1,
          3,
          1,
          1,
          1,
          1,
          1,
          1,
          1,
          1,
          1,
          1,
          1,
          1,
          3,
          1,
          1,
          1,
          1,
          2,
          1,
          2,
          2,
          2,
          3,
          1,
          2,
          1,
          1,
          2,
          1,
          1,
          1,
          1,
          1,
          1,
          1,
          1,
          1,
          1,
          1,
          2,
          1,
          2,
          1,
          1,
          1,
          2,
          1,
          1,
          2,
          1,
          1,
          2,
          1,
          2,
          1,
          1,
          1,
          1,
          1,
          1,
          1,
          1,
          1,
          1,
          1,
          3,
          1,
          1,
          1,
          1,
          1,
          1,
          2,
          1,
          1,
          1,
          2,
          2,
          1,
          3,
          1,
          1,
          1,
          1,
          1,
          2,
          1,
          2,
          1,
          1,
          1,
          1,
          2,
          1,
          2,
          1,
          1,
          1,
          1,
          1,
          1,
          1,
          2,
          1,
          1,
          1,
          1,
          2,
          2,
          1,
          2,
          1,
          1,
          1,
          1,
          1,
          1,
          1,
          1,
          1,
          2,
          1,
          1,
          1,
          1,
          1,
          1,
          1,
          1,
          2,
          2,
          1,
          3,
          1,
          1,
          1,
          1,
          2,
          1,
          1,
          1,
          1,
          2,
          1,
          1,
          2,
          1,
          1,
          1,
          1,
          2,
          1,
          1,
          1,
          1,
          2,
          1,
          2,
          1,
          1,
          1,
          1,
          2,
          1,
          1,
          2,
          1,
          1,
          2,
          2,
          1,
          1,
          2,
          1,
          1,
          2,
          1,
          1,
          1,
          1,
          1,
          1,
          1,
          1,
          1,
          1,
          1,
          1,
          1,
          2,
          2,
          1,
          1,
          1,
          1,
          1,
          1,
          2,
          1,
          1,
          1,
          1,
          1,
          1,
          2,
          1,
          2,
          1,
          1,
          1,
          2,
          2,
          1,
          1,
          1,
          1,
          1,
          1,
          1,
          1,
          1,
          1,
          3,
          1,
          1,
          2,
          1,
          2,
          1,
          1,
          1,
          1,
          1,
          1,
          1,
          1,
          2,
          1,
          1,
          2,
          1,
          1,
          3,
          1,
          1,
          1,
          1,
          1,
          2,
          1,
          1,
          1,
          1,
          1,
          1,
          1,
          2,
          1,
          1,
          1,
          1,
          1,
          2,
          1,
          1,
          1,
          1,
          1,
          1,
          1,
          1,
          1,
          3,
          1,
          1,
          1,
          1,
          1,
          1,
          1,
          1,
          1,
          1,
          1,
          1,
          1,
          1,
          1,
          1,
          1,
          1,
          2,
          1,
          1,
          3,
          1,
          1,
          1,
          1,
          1,
          1,
          1,
          1,
          1,
          1,
          1,
          1,
          1,
          1,
          1,
          1,
          1,
          1,
          1,
          4,
          1,
          2,
          1,
          1,
          1,
          1,
          1,
          1,
          1,
          2,
          1,
          2,
          1,
          1,
          2,
          1,
          1,
          1,
          1,
          1,
          1,
          1,
          1,
          1,
          1,
          1,
          1,
          1,
          1,
          1,
          1,
          1,
          1,
          1,
          1,
          1,
          1,
          1,
          2,
          1,
          1,
          1,
          3,
          1,
          1,
          2,
          2,
          1,
          1,
          1,
          1,
          1,
          2,
          1,
          1,
          1,
          1,
          1,
          1,
          1,
          1,
          1,
          1,
          1,
          2,
          1,
          2,
          1,
          1,
          1,
          1,
          1,
          1,
          1,
          1,
          1,
          1,
          1,
          1,
          1,
          1,
          1,
          1,
          1,
          1,
          1,
          1,
          1,
          1,
          1,
          1,
          1,
          1,
          1,
          1,
          1,
          1,
          1,
          1,
          1,
          1,
          1,
          1,
          2,
          1,
          1,
          1,
          1,
          1,
          1,
          1,
          2,
          1,
          1,
          2,
          1,
          1,
          1,
          1,
          1,
          1,
          1,
          2,
          1,
          1,
          1,
          1,
          1,
          1,
          1,
          1,
          1,
          1,
          1,
          1,
          1,
          1,
          1,
          1,
          1,
          1,
          1,
          1,
          1,
          1,
          2,
          1,
          1,
          1,
          1,
          1,
          1,
          1,
          1,
          1,
          1,
          1,
          1,
          1,
          2,
          2,
          1,
          1,
          2,
          1,
          1,
          1,
          1,
          1,
          1,
          1,
          1,
          1,
          1,
          1,
          1,
          1,
          1,
          1,
          1,
          1,
          1,
          1,
          1,
          1,
          1,
          1,
          2,
          1,
          1,
          1,
          1,
          1,
          1,
          2,
          1,
          1,
          1,
          1,
          1,
          1,
          2,
          1,
          1,
          1,
          1,
          1,
          1,
          1,
          1,
          1,
          1,
          1,
          1,
          1,
          1,
          1,
          1,
          1,
          1,
          1,
          1,
          1,
          1,
          1,
          1,
          1,
          1,
          1,
          1,
          1,
          1,
          1,
          1,
          1,
          1,
          1,
          1,
          1,
          1,
          1,
          1,
          1,
          1,
          1,
          1,
          1,
          1,
          1,
          1,
          1,
          1,
          1,
          2,
          2,
          1,
          1,
          1,
          1,
          1,
          1,
          1,
          1,
          1,
          1,
          1,
          1,
          1,
          1,
          1,
          1,
          2,
          2,
          1,
          1,
          1,
          1,
          1,
          1,
          1,
          1,
          1,
          1,
          1,
          1,
          1,
          2,
          3,
          1,
          1,
          1,
          1,
          1,
          1,
          1,
          3,
          1,
          1,
          1,
          1,
          2,
          1,
          1,
          1,
          1,
          1,
          1,
          1,
          1,
          1,
          1,
          1,
          1,
          1,
          2,
          1,
          1,
          1,
          1,
          1,
          1,
          1,
          1,
          1,
          1,
          2,
          1,
          1,
          1,
          1,
          1,
          1,
          1,
          1,
          1,
          1,
          1,
          2,
          2,
          1,
          1,
          1,
          1,
          1,
          2,
          1,
          1,
          1,
          1,
          1,
          1,
          1,
          1,
          1,
          1,
          1,
          1,
          1,
          1,
          1,
          1,
          1,
          1,
          1,
          1,
          1,
          2,
          1,
          1,
          1,
          1,
          1,
          1,
          1,
          1,
          1,
          2,
          1,
          1,
          1,
          1,
          1,
          1,
          1,
          1,
          1,
          1,
          1,
          2,
          1,
          1,
          1,
          1,
          1,
          2,
          1,
          1,
          1,
          1,
          1,
          1,
          1,
          1,
          1,
          1,
          1,
          1,
          1,
          1,
          1,
          1,
          1,
          1,
          1,
          1,
          1,
          1,
          1,
          1,
          1,
          1,
          1,
          1,
          1,
          2,
          1,
          1,
          1,
          1,
          1,
          1,
          1,
          1,
          1,
          1,
          1,
          1,
          1,
          1,
          1,
          1,
          4,
          1,
          1,
          1,
          1,
          1,
          2,
          2,
          1,
          1,
          1,
          1,
          1,
          1,
          1,
          1,
          1,
          1,
          1,
          1,
          1,
          1,
          1,
          1,
          1,
          1,
          1,
          1,
          1,
          2,
          1,
          1,
          1,
          1,
          1,
          1,
          1,
          1,
          1,
          1,
          1,
          1,
          1,
          1,
          1,
          2,
          1,
          1,
          1,
          1,
          1,
          1,
          2,
          1,
          1,
          1,
          1,
          1,
          1,
          1,
          1,
          1,
          1,
          1,
          2,
          1,
          1,
          1,
          1,
          1,
          1,
          1,
          1,
          2,
          1,
          1,
          1,
          1,
          1,
          1,
          1,
          1,
          1,
          1,
          1,
          1,
          1,
          1,
          1,
          1,
          1,
          1,
          1,
          1,
          1,
          1,
          1,
          1,
          1,
          1,
          2,
          1,
          1,
          1,
          1,
          1,
          1,
          1,
          1,
          1,
          1,
          1,
          1,
          1,
          1,
          1,
          1,
          1,
          1,
          1,
          1,
          1,
          1,
          1,
          1,
          1,
          1,
          1,
          1,
          1,
          1,
          1,
          1,
          1,
          1,
          1,
          1,
          1,
          1,
          1,
          1,
          1,
          1,
          2,
          1,
          1,
          1,
          1,
          1,
          1,
          1,
          1,
          1,
          2,
          1,
          1,
          1,
          1,
          1,
          1,
          2,
          1,
          1,
          1,
          1,
          1,
          1,
          1,
          1,
          1,
          1,
          1,
          1,
          1,
          1,
          1,
          1,
          1,
          1,
          1,
          1,
          1,
          1,
          1,
          1,
          1,
          1,
          1,
          1,
          1,
          1,
          1,
          1,
          1,
          1,
          1,
          1,
          1,
          1,
          1,
          1,
          1,
          1,
          1,
          1,
          1,
          3,
          1,
          1,
          1,
          1,
          1,
          1,
          1,
          1,
          1,
          1,
          1,
          1,
          1,
          1,
          1,
          1,
          1,
          1,
          1,
          1,
          1,
          1,
          1,
          1,
          1,
          1,
          1,
          1,
          1,
          1,
          1,
          1,
          1,
          1,
          1,
          1,
          1,
          1,
          1,
          1,
          1,
          1,
          1,
          2,
          1,
          1,
          1,
          1,
          1,
          1,
          1,
          2,
          1,
          2,
          1,
          1,
          1,
          1,
          1,
          1,
          1,
          1,
          1,
          1,
          1,
          1,
          1,
          1,
          1,
          1,
          1,
          1,
          1,
          1,
          1,
          1,
          1,
          1,
          1,
          1,
          1,
          1,
          1,
          1,
          1,
          1,
          1,
          1,
          1,
          1,
          1,
          1,
          2,
          1,
          1,
          1,
          1,
          1,
          1,
          1,
          1,
          1,
          1,
          1,
          1,
          1,
          1,
          1,
          1,
          1,
          1,
          1,
          1,
          1,
          1,
          1,
          1,
          1,
          1,
          1,
          1,
          1,
          1,
          1,
          1,
          1,
          1,
          1,
          1,
          2,
          1,
          1,
          1,
          1,
          2,
          1,
          1,
          1,
          1,
          1,
          1,
          1,
          1,
          1,
          1,
          1,
          1,
          1,
          1,
          1,
          1,
          1,
          1,
          1,
          1,
          1,
          1,
          1,
          1,
          1,
          1,
          1,
          1,
          1,
          1,
          1,
          1,
          1,
          1,
          1,
          1,
          1,
          1,
          1,
          1,
          1,
          1,
          1,
          1,
          1,
          1,
          1,
          1,
          1,
          1,
          1,
          1,
          1,
          1,
          1,
          1,
          1,
          1,
          1,
          1,
          1,
          1,
          1,
          1,
          1,
          1,
          1,
          2,
          1,
          1,
          1,
          1,
          1,
          1,
          1,
          1,
          1,
          1,
          1,
          1,
          1,
          1,
          1,
          1,
          1,
          1,
          1,
          1,
          1,
          1,
          1,
          1,
          1,
          1,
          1,
          1,
          1,
          1,
          1,
          1,
          1,
          1,
          1,
          1,
          1,
          1,
          1,
          1,
          1,
          1,
          1,
          1,
          1,
          1
         ],
         "yaxis": "y"
        }
       ],
       "layout": {
        "barmode": "relative",
        "legend": {
         "tracegroupgap": 0
        },
        "template": {
         "data": {
          "bar": [
           {
            "error_x": {
             "color": "#2a3f5f"
            },
            "error_y": {
             "color": "#2a3f5f"
            },
            "marker": {
             "line": {
              "color": "#E5ECF6",
              "width": 0.5
             },
             "pattern": {
              "fillmode": "overlay",
              "size": 10,
              "solidity": 0.2
             }
            },
            "type": "bar"
           }
          ],
          "barpolar": [
           {
            "marker": {
             "line": {
              "color": "#E5ECF6",
              "width": 0.5
             },
             "pattern": {
              "fillmode": "overlay",
              "size": 10,
              "solidity": 0.2
             }
            },
            "type": "barpolar"
           }
          ],
          "carpet": [
           {
            "aaxis": {
             "endlinecolor": "#2a3f5f",
             "gridcolor": "white",
             "linecolor": "white",
             "minorgridcolor": "white",
             "startlinecolor": "#2a3f5f"
            },
            "baxis": {
             "endlinecolor": "#2a3f5f",
             "gridcolor": "white",
             "linecolor": "white",
             "minorgridcolor": "white",
             "startlinecolor": "#2a3f5f"
            },
            "type": "carpet"
           }
          ],
          "choropleth": [
           {
            "colorbar": {
             "outlinewidth": 0,
             "ticks": ""
            },
            "type": "choropleth"
           }
          ],
          "contour": [
           {
            "colorbar": {
             "outlinewidth": 0,
             "ticks": ""
            },
            "colorscale": [
             [
              0,
              "#0d0887"
             ],
             [
              0.1111111111111111,
              "#46039f"
             ],
             [
              0.2222222222222222,
              "#7201a8"
             ],
             [
              0.3333333333333333,
              "#9c179e"
             ],
             [
              0.4444444444444444,
              "#bd3786"
             ],
             [
              0.5555555555555556,
              "#d8576b"
             ],
             [
              0.6666666666666666,
              "#ed7953"
             ],
             [
              0.7777777777777778,
              "#fb9f3a"
             ],
             [
              0.8888888888888888,
              "#fdca26"
             ],
             [
              1,
              "#f0f921"
             ]
            ],
            "type": "contour"
           }
          ],
          "contourcarpet": [
           {
            "colorbar": {
             "outlinewidth": 0,
             "ticks": ""
            },
            "type": "contourcarpet"
           }
          ],
          "heatmap": [
           {
            "colorbar": {
             "outlinewidth": 0,
             "ticks": ""
            },
            "colorscale": [
             [
              0,
              "#0d0887"
             ],
             [
              0.1111111111111111,
              "#46039f"
             ],
             [
              0.2222222222222222,
              "#7201a8"
             ],
             [
              0.3333333333333333,
              "#9c179e"
             ],
             [
              0.4444444444444444,
              "#bd3786"
             ],
             [
              0.5555555555555556,
              "#d8576b"
             ],
             [
              0.6666666666666666,
              "#ed7953"
             ],
             [
              0.7777777777777778,
              "#fb9f3a"
             ],
             [
              0.8888888888888888,
              "#fdca26"
             ],
             [
              1,
              "#f0f921"
             ]
            ],
            "type": "heatmap"
           }
          ],
          "heatmapgl": [
           {
            "colorbar": {
             "outlinewidth": 0,
             "ticks": ""
            },
            "colorscale": [
             [
              0,
              "#0d0887"
             ],
             [
              0.1111111111111111,
              "#46039f"
             ],
             [
              0.2222222222222222,
              "#7201a8"
             ],
             [
              0.3333333333333333,
              "#9c179e"
             ],
             [
              0.4444444444444444,
              "#bd3786"
             ],
             [
              0.5555555555555556,
              "#d8576b"
             ],
             [
              0.6666666666666666,
              "#ed7953"
             ],
             [
              0.7777777777777778,
              "#fb9f3a"
             ],
             [
              0.8888888888888888,
              "#fdca26"
             ],
             [
              1,
              "#f0f921"
             ]
            ],
            "type": "heatmapgl"
           }
          ],
          "histogram": [
           {
            "marker": {
             "pattern": {
              "fillmode": "overlay",
              "size": 10,
              "solidity": 0.2
             }
            },
            "type": "histogram"
           }
          ],
          "histogram2d": [
           {
            "colorbar": {
             "outlinewidth": 0,
             "ticks": ""
            },
            "colorscale": [
             [
              0,
              "#0d0887"
             ],
             [
              0.1111111111111111,
              "#46039f"
             ],
             [
              0.2222222222222222,
              "#7201a8"
             ],
             [
              0.3333333333333333,
              "#9c179e"
             ],
             [
              0.4444444444444444,
              "#bd3786"
             ],
             [
              0.5555555555555556,
              "#d8576b"
             ],
             [
              0.6666666666666666,
              "#ed7953"
             ],
             [
              0.7777777777777778,
              "#fb9f3a"
             ],
             [
              0.8888888888888888,
              "#fdca26"
             ],
             [
              1,
              "#f0f921"
             ]
            ],
            "type": "histogram2d"
           }
          ],
          "histogram2dcontour": [
           {
            "colorbar": {
             "outlinewidth": 0,
             "ticks": ""
            },
            "colorscale": [
             [
              0,
              "#0d0887"
             ],
             [
              0.1111111111111111,
              "#46039f"
             ],
             [
              0.2222222222222222,
              "#7201a8"
             ],
             [
              0.3333333333333333,
              "#9c179e"
             ],
             [
              0.4444444444444444,
              "#bd3786"
             ],
             [
              0.5555555555555556,
              "#d8576b"
             ],
             [
              0.6666666666666666,
              "#ed7953"
             ],
             [
              0.7777777777777778,
              "#fb9f3a"
             ],
             [
              0.8888888888888888,
              "#fdca26"
             ],
             [
              1,
              "#f0f921"
             ]
            ],
            "type": "histogram2dcontour"
           }
          ],
          "mesh3d": [
           {
            "colorbar": {
             "outlinewidth": 0,
             "ticks": ""
            },
            "type": "mesh3d"
           }
          ],
          "parcoords": [
           {
            "line": {
             "colorbar": {
              "outlinewidth": 0,
              "ticks": ""
             }
            },
            "type": "parcoords"
           }
          ],
          "pie": [
           {
            "automargin": true,
            "type": "pie"
           }
          ],
          "scatter": [
           {
            "fillpattern": {
             "fillmode": "overlay",
             "size": 10,
             "solidity": 0.2
            },
            "type": "scatter"
           }
          ],
          "scatter3d": [
           {
            "line": {
             "colorbar": {
              "outlinewidth": 0,
              "ticks": ""
             }
            },
            "marker": {
             "colorbar": {
              "outlinewidth": 0,
              "ticks": ""
             }
            },
            "type": "scatter3d"
           }
          ],
          "scattercarpet": [
           {
            "marker": {
             "colorbar": {
              "outlinewidth": 0,
              "ticks": ""
             }
            },
            "type": "scattercarpet"
           }
          ],
          "scattergeo": [
           {
            "marker": {
             "colorbar": {
              "outlinewidth": 0,
              "ticks": ""
             }
            },
            "type": "scattergeo"
           }
          ],
          "scattergl": [
           {
            "marker": {
             "colorbar": {
              "outlinewidth": 0,
              "ticks": ""
             }
            },
            "type": "scattergl"
           }
          ],
          "scattermapbox": [
           {
            "marker": {
             "colorbar": {
              "outlinewidth": 0,
              "ticks": ""
             }
            },
            "type": "scattermapbox"
           }
          ],
          "scatterpolar": [
           {
            "marker": {
             "colorbar": {
              "outlinewidth": 0,
              "ticks": ""
             }
            },
            "type": "scatterpolar"
           }
          ],
          "scatterpolargl": [
           {
            "marker": {
             "colorbar": {
              "outlinewidth": 0,
              "ticks": ""
             }
            },
            "type": "scatterpolargl"
           }
          ],
          "scatterternary": [
           {
            "marker": {
             "colorbar": {
              "outlinewidth": 0,
              "ticks": ""
             }
            },
            "type": "scatterternary"
           }
          ],
          "surface": [
           {
            "colorbar": {
             "outlinewidth": 0,
             "ticks": ""
            },
            "colorscale": [
             [
              0,
              "#0d0887"
             ],
             [
              0.1111111111111111,
              "#46039f"
             ],
             [
              0.2222222222222222,
              "#7201a8"
             ],
             [
              0.3333333333333333,
              "#9c179e"
             ],
             [
              0.4444444444444444,
              "#bd3786"
             ],
             [
              0.5555555555555556,
              "#d8576b"
             ],
             [
              0.6666666666666666,
              "#ed7953"
             ],
             [
              0.7777777777777778,
              "#fb9f3a"
             ],
             [
              0.8888888888888888,
              "#fdca26"
             ],
             [
              1,
              "#f0f921"
             ]
            ],
            "type": "surface"
           }
          ],
          "table": [
           {
            "cells": {
             "fill": {
              "color": "#EBF0F8"
             },
             "line": {
              "color": "white"
             }
            },
            "header": {
             "fill": {
              "color": "#C8D4E3"
             },
             "line": {
              "color": "white"
             }
            },
            "type": "table"
           }
          ]
         },
         "layout": {
          "annotationdefaults": {
           "arrowcolor": "#2a3f5f",
           "arrowhead": 0,
           "arrowwidth": 1
          },
          "autotypenumbers": "strict",
          "coloraxis": {
           "colorbar": {
            "outlinewidth": 0,
            "ticks": ""
           }
          },
          "colorscale": {
           "diverging": [
            [
             0,
             "#8e0152"
            ],
            [
             0.1,
             "#c51b7d"
            ],
            [
             0.2,
             "#de77ae"
            ],
            [
             0.3,
             "#f1b6da"
            ],
            [
             0.4,
             "#fde0ef"
            ],
            [
             0.5,
             "#f7f7f7"
            ],
            [
             0.6,
             "#e6f5d0"
            ],
            [
             0.7,
             "#b8e186"
            ],
            [
             0.8,
             "#7fbc41"
            ],
            [
             0.9,
             "#4d9221"
            ],
            [
             1,
             "#276419"
            ]
           ],
           "sequential": [
            [
             0,
             "#0d0887"
            ],
            [
             0.1111111111111111,
             "#46039f"
            ],
            [
             0.2222222222222222,
             "#7201a8"
            ],
            [
             0.3333333333333333,
             "#9c179e"
            ],
            [
             0.4444444444444444,
             "#bd3786"
            ],
            [
             0.5555555555555556,
             "#d8576b"
            ],
            [
             0.6666666666666666,
             "#ed7953"
            ],
            [
             0.7777777777777778,
             "#fb9f3a"
            ],
            [
             0.8888888888888888,
             "#fdca26"
            ],
            [
             1,
             "#f0f921"
            ]
           ],
           "sequentialminus": [
            [
             0,
             "#0d0887"
            ],
            [
             0.1111111111111111,
             "#46039f"
            ],
            [
             0.2222222222222222,
             "#7201a8"
            ],
            [
             0.3333333333333333,
             "#9c179e"
            ],
            [
             0.4444444444444444,
             "#bd3786"
            ],
            [
             0.5555555555555556,
             "#d8576b"
            ],
            [
             0.6666666666666666,
             "#ed7953"
            ],
            [
             0.7777777777777778,
             "#fb9f3a"
            ],
            [
             0.8888888888888888,
             "#fdca26"
            ],
            [
             1,
             "#f0f921"
            ]
           ]
          },
          "colorway": [
           "#636efa",
           "#EF553B",
           "#00cc96",
           "#ab63fa",
           "#FFA15A",
           "#19d3f3",
           "#FF6692",
           "#B6E880",
           "#FF97FF",
           "#FECB52"
          ],
          "font": {
           "color": "#2a3f5f"
          },
          "geo": {
           "bgcolor": "white",
           "lakecolor": "white",
           "landcolor": "#E5ECF6",
           "showlakes": true,
           "showland": true,
           "subunitcolor": "white"
          },
          "hoverlabel": {
           "align": "left"
          },
          "hovermode": "closest",
          "mapbox": {
           "style": "light"
          },
          "paper_bgcolor": "white",
          "plot_bgcolor": "#E5ECF6",
          "polar": {
           "angularaxis": {
            "gridcolor": "white",
            "linecolor": "white",
            "ticks": ""
           },
           "bgcolor": "#E5ECF6",
           "radialaxis": {
            "gridcolor": "white",
            "linecolor": "white",
            "ticks": ""
           }
          },
          "scene": {
           "xaxis": {
            "backgroundcolor": "#E5ECF6",
            "gridcolor": "white",
            "gridwidth": 2,
            "linecolor": "white",
            "showbackground": true,
            "ticks": "",
            "zerolinecolor": "white"
           },
           "yaxis": {
            "backgroundcolor": "#E5ECF6",
            "gridcolor": "white",
            "gridwidth": 2,
            "linecolor": "white",
            "showbackground": true,
            "ticks": "",
            "zerolinecolor": "white"
           },
           "zaxis": {
            "backgroundcolor": "#E5ECF6",
            "gridcolor": "white",
            "gridwidth": 2,
            "linecolor": "white",
            "showbackground": true,
            "ticks": "",
            "zerolinecolor": "white"
           }
          },
          "shapedefaults": {
           "line": {
            "color": "#2a3f5f"
           }
          },
          "ternary": {
           "aaxis": {
            "gridcolor": "white",
            "linecolor": "white",
            "ticks": ""
           },
           "baxis": {
            "gridcolor": "white",
            "linecolor": "white",
            "ticks": ""
           },
           "bgcolor": "#E5ECF6",
           "caxis": {
            "gridcolor": "white",
            "linecolor": "white",
            "ticks": ""
           }
          },
          "title": {
           "x": 0.05
          },
          "xaxis": {
           "automargin": true,
           "gridcolor": "white",
           "linecolor": "white",
           "ticks": "",
           "title": {
            "standoff": 15
           },
           "zerolinecolor": "white",
           "zerolinewidth": 2
          },
          "yaxis": {
           "automargin": true,
           "gridcolor": "white",
           "linecolor": "white",
           "ticks": "",
           "title": {
            "standoff": 15
           },
           "zerolinecolor": "white",
           "zerolinewidth": 2
          }
         }
        },
        "title": {
         "text": "Object files per amount of vertices (original)"
        },
        "xaxis": {
         "anchor": "y",
         "domain": [
          0,
          1
         ],
         "title": {
          "text": "vertices"
         }
        },
        "yaxis": {
         "anchor": "x",
         "domain": [
          0,
          1
         ],
         "title": {
          "text": "sum of amount of object files"
         }
        }
       }
      }
     },
     "metadata": {},
     "output_type": "display_data"
    },
    {
     "data": {
      "application/vnd.plotly.v1+json": {
       "config": {
        "plotlyServerURL": "https://plot.ly"
       },
       "data": [
        {
         "alignmentgroup": "True",
         "bingroup": "x",
         "histfunc": "sum",
         "hovertemplate": "vertices=%{x}<br>sum of amount of object files=%{y}<extra></extra>",
         "legendgroup": "",
         "marker": {
          "color": "lightslategray",
          "pattern": {
           "shape": ""
          }
         },
         "name": "",
         "nbinsx": 93,
         "offsetgroup": "",
         "orientation": "v",
         "showlegend": false,
         "type": "histogram",
         "x": [
          51,
          792,
          1040,
          1300,
          1526,
          1593,
          1618,
          1654,
          1717,
          2021,
          2086,
          2174,
          2260,
          2340,
          2391,
          2417,
          2444,
          2582,
          2631,
          2637,
          2647,
          2663,
          2695,
          2776,
          2786,
          2791,
          2795,
          2805,
          2808,
          2826,
          2848,
          2855,
          2863,
          2872,
          2874,
          2899,
          2906,
          2916,
          2919,
          2926,
          2961,
          2963,
          2990,
          2995,
          3027,
          3042,
          3050,
          3054,
          3057,
          3062,
          3077,
          3080,
          3093,
          3116,
          3119,
          3123,
          3125,
          3126,
          3129,
          3172,
          3195,
          3213,
          3219,
          3244,
          3274,
          3283,
          3299,
          3307,
          3315,
          3318,
          3337,
          3349,
          3359,
          3370,
          3397,
          3403,
          3404,
          3407,
          3409,
          3426,
          3430,
          3445,
          3467,
          3469,
          3477,
          3491,
          3493,
          3499,
          3515,
          3533,
          3536,
          3543,
          3567,
          3590,
          3601,
          3603,
          3605,
          3606,
          3608,
          3609,
          3610,
          3611,
          3612,
          3613,
          3616,
          3617,
          3618,
          3619,
          3621,
          3622,
          3624,
          3626,
          3627,
          3629,
          3630,
          3632,
          3633,
          3636,
          3637,
          3639,
          3640,
          3641,
          3644,
          3645,
          3648,
          3649,
          3650,
          3651,
          3652,
          3654,
          3655,
          3657,
          3658,
          3659,
          3661,
          3662,
          3663,
          3664,
          3665,
          3666,
          3668,
          3670,
          3671,
          3673,
          3674,
          3676,
          3677,
          3678,
          3680,
          3681,
          3682,
          3683,
          3684,
          3685,
          3686,
          3687,
          3688,
          3689,
          3690,
          3692,
          3693,
          3694,
          3695,
          3698,
          3699,
          3700,
          3705,
          3706,
          3707,
          3710,
          3711,
          3712,
          3713,
          3714,
          3715,
          3716,
          3718,
          3719,
          3721,
          3722,
          3723,
          3724,
          3725,
          3726,
          3727,
          3728,
          3732,
          3734,
          3735,
          3736,
          3739,
          3740,
          3741,
          3742,
          3743,
          3744,
          3745,
          3749,
          3750,
          3752,
          3753,
          3754,
          3755,
          3756,
          3757,
          3760,
          3761,
          3762,
          3763,
          3765,
          3766,
          3767,
          3769,
          3770,
          3773,
          3774,
          3775,
          3778,
          3779,
          3780,
          3781,
          3782,
          3783,
          3784,
          3785,
          3786,
          3787,
          3788,
          3792,
          3793,
          3794,
          3795,
          3796,
          3797,
          3798,
          3801,
          3802,
          3803,
          3804,
          3805,
          3806,
          3809,
          3810,
          3811,
          3812,
          3813,
          3814,
          3816,
          3819,
          3820,
          3823,
          3825,
          3826,
          3829,
          3831,
          3832,
          3834,
          3835,
          3836,
          3837,
          3838,
          3842,
          3843,
          3844,
          3845,
          3846,
          3850,
          3851,
          3852,
          3853,
          3855,
          3859,
          3860,
          3861,
          3864,
          3865,
          3866,
          3867,
          3868,
          3870,
          3871,
          3873,
          3874,
          3876,
          3878,
          3879,
          3881,
          3882,
          3883,
          3884,
          3885,
          3888,
          3891,
          3893,
          3895,
          3896,
          3900,
          3902,
          3904,
          3906,
          3907,
          3908,
          3910,
          3911,
          3912,
          3914,
          3916,
          3917,
          3918,
          3919,
          3920,
          3921,
          3922,
          3923,
          3924,
          3925,
          3926,
          3927,
          3928,
          3934,
          3935,
          3936,
          3937,
          3938,
          3939,
          3940,
          3941,
          3942,
          3945,
          3946,
          3947,
          3948,
          3949,
          3951,
          3952,
          3953,
          3954,
          3955,
          3956,
          3957,
          3958,
          3960,
          3962,
          3963,
          3964,
          3966,
          3968,
          3970,
          3971,
          3972,
          3974,
          3976,
          3977,
          3978,
          3979,
          3980,
          3981,
          3984,
          3985,
          3986,
          3987,
          3988,
          3989,
          3991,
          3992,
          3993,
          3994,
          3995,
          3996,
          3997,
          4000,
          4002,
          4003,
          4005,
          4006,
          4008,
          4009,
          4010,
          4013,
          4014,
          4015,
          4016,
          4018,
          4020,
          4021,
          4023,
          4025,
          4027,
          4028,
          4030,
          4031,
          4032,
          4033,
          4034,
          4035,
          4036,
          4037,
          4038,
          4039,
          4042,
          4043,
          4044,
          4045,
          4046,
          4047,
          4048,
          4049,
          4050,
          4051,
          4052,
          4053,
          4054,
          4055,
          4056,
          4057,
          4058,
          4059,
          4060,
          4061,
          4062,
          4063,
          4064,
          4065,
          4066,
          4067,
          4068,
          4069,
          4070,
          4071,
          4072,
          4073,
          4074,
          4075,
          4076,
          4077,
          4078,
          4079,
          4080,
          4081,
          4082,
          4083,
          4084,
          4085,
          4086,
          4087,
          4088,
          4089,
          4090,
          4091,
          4092,
          4093,
          4094,
          4095,
          4096,
          4097,
          4098,
          4099,
          4100,
          4101,
          4102,
          4103,
          4104,
          4105,
          4106,
          4107,
          4108,
          4109,
          4110,
          4111,
          4112,
          4113,
          4114,
          4115,
          4116,
          4117,
          4118,
          4119,
          4120,
          4121,
          4122,
          4123,
          4124,
          4125,
          4126,
          4127,
          4128,
          4129,
          4130,
          4131,
          4132,
          4133,
          4135,
          4136,
          4137,
          4138,
          4139,
          4140,
          4141,
          4142,
          4143,
          4144,
          4145,
          4146,
          4147,
          4148,
          4149,
          4150,
          4151,
          4152,
          4153,
          4154,
          4155,
          4156,
          4157,
          4158,
          4159,
          4160,
          4161,
          4162,
          4163,
          4164,
          4165,
          4166,
          4167,
          4168,
          4169,
          4170,
          4171,
          4172,
          4173,
          4175,
          4176,
          4177,
          4178,
          4179,
          4180,
          4181,
          4182,
          4184,
          4185,
          4186,
          4187,
          4188,
          4189,
          4190,
          4191,
          4192,
          4193,
          4194,
          4195,
          4196,
          4197,
          4198,
          4199,
          4200,
          4201,
          4202,
          4203,
          4204,
          4205,
          4206,
          4207,
          4208,
          4209,
          4210,
          4211,
          4212,
          4213,
          4214,
          4215,
          4216,
          4217,
          4218,
          4219,
          4220,
          4221,
          4222,
          4224,
          4225,
          4226,
          4227,
          4228,
          4229,
          4230,
          4231,
          4232,
          4233,
          4234,
          4235,
          4236,
          4237,
          4238,
          4239,
          4240,
          4241,
          4242,
          4243,
          4244,
          4245,
          4246,
          4247,
          4248,
          4249,
          4250,
          4251,
          4252,
          4253,
          4254,
          4255,
          4256,
          4257,
          4258,
          4259,
          4260,
          4261,
          4262,
          4263,
          4264,
          4265,
          4266,
          4267,
          4268,
          4269,
          4270,
          4273,
          4274,
          4275,
          4276,
          4277,
          4278,
          4279,
          4280,
          4281,
          4282,
          4284,
          4285,
          4286,
          4287,
          4288,
          4289,
          4290,
          4291,
          4292,
          4293,
          4294,
          4295,
          4296,
          4298,
          4299,
          4302,
          4303,
          4304,
          4305,
          4306,
          4307,
          4308,
          4309,
          4310,
          4311,
          4312,
          4313,
          4314,
          4315,
          4316,
          4317,
          4318,
          4319,
          4320,
          4321,
          4322,
          4323,
          4324,
          4325,
          4326,
          4328,
          4329,
          4330,
          4333,
          4334,
          4335,
          4336,
          4337,
          4338,
          4339,
          4340,
          4341,
          4342,
          4343,
          4344,
          4345,
          4346,
          4347,
          4348,
          4349,
          4350,
          4351,
          4352,
          4353,
          4354,
          4355,
          4356,
          4357,
          4358,
          4359,
          4360,
          4361,
          4362,
          4363,
          4364,
          4365,
          4366,
          4367,
          4369,
          4370,
          4371,
          4372,
          4373,
          4374,
          4375,
          4376,
          4377,
          4378,
          4379,
          4380,
          4381,
          4382,
          4383,
          4384,
          4385,
          4386,
          4387,
          4388,
          4389,
          4390,
          4391,
          4392,
          4393,
          4394,
          4395,
          4396,
          4397,
          4398,
          4399,
          4400,
          4473,
          4478,
          4544,
          4576,
          4597,
          4795,
          4885,
          4909,
          4995,
          5174,
          5221,
          5358,
          5374,
          5560,
          5806,
          5845,
          6291,
          6339,
          6430,
          6439,
          6477,
          6495,
          6598,
          6644,
          6646,
          6797,
          7116,
          7209,
          7338,
          7583,
          7627,
          7888,
          7895,
          8011,
          8123,
          8377,
          8450,
          8469,
          8508,
          8582,
          8649,
          8775,
          8793,
          9346,
          9533,
          9575,
          9592,
          9616,
          9747,
          9755,
          9774,
          9823,
          9875,
          9891,
          9997,
          10036,
          10150,
          10171,
          10172,
          10298,
          10331,
          10333,
          10404,
          10457,
          10461,
          10635,
          10756,
          10822,
          10824,
          10882,
          10923,
          11077,
          11136,
          11229,
          11256,
          11641,
          11688,
          11709,
          11824,
          11848,
          12039,
          12045,
          12056,
          12175,
          12463,
          12505,
          12567,
          12676,
          13048,
          13656,
          14018
         ],
         "xaxis": "x",
         "y": [
          1,
          1,
          1,
          1,
          1,
          1,
          1,
          1,
          1,
          1,
          1,
          1,
          1,
          1,
          1,
          1,
          1,
          1,
          1,
          1,
          1,
          1,
          1,
          1,
          1,
          1,
          1,
          2,
          1,
          1,
          1,
          1,
          1,
          2,
          1,
          1,
          1,
          1,
          1,
          1,
          1,
          1,
          1,
          1,
          1,
          1,
          1,
          1,
          2,
          1,
          1,
          1,
          1,
          1,
          1,
          1,
          1,
          1,
          1,
          1,
          1,
          1,
          1,
          1,
          1,
          1,
          1,
          1,
          1,
          1,
          1,
          1,
          1,
          1,
          1,
          2,
          1,
          1,
          1,
          1,
          2,
          1,
          1,
          1,
          1,
          1,
          1,
          1,
          1,
          1,
          1,
          1,
          1,
          1,
          3,
          1,
          1,
          1,
          2,
          4,
          4,
          3,
          4,
          2,
          3,
          1,
          6,
          2,
          3,
          2,
          3,
          1,
          6,
          3,
          3,
          1,
          1,
          3,
          1,
          1,
          1,
          1,
          2,
          1,
          1,
          2,
          2,
          1,
          1,
          1,
          5,
          1,
          1,
          1,
          1,
          1,
          2,
          2,
          1,
          1,
          2,
          1,
          2,
          2,
          1,
          3,
          1,
          1,
          2,
          1,
          3,
          2,
          1,
          1,
          2,
          2,
          1,
          1,
          1,
          1,
          1,
          4,
          1,
          1,
          1,
          5,
          1,
          1,
          1,
          3,
          1,
          2,
          3,
          1,
          1,
          4,
          2,
          1,
          1,
          1,
          1,
          5,
          2,
          2,
          3,
          1,
          3,
          1,
          1,
          1,
          2,
          1,
          1,
          1,
          3,
          1,
          3,
          1,
          3,
          5,
          1,
          1,
          1,
          1,
          3,
          2,
          1,
          2,
          1,
          1,
          3,
          2,
          1,
          2,
          2,
          2,
          1,
          2,
          1,
          1,
          3,
          3,
          2,
          2,
          1,
          3,
          1,
          1,
          1,
          1,
          1,
          2,
          1,
          3,
          2,
          3,
          2,
          1,
          1,
          1,
          1,
          2,
          2,
          3,
          2,
          1,
          2,
          1,
          1,
          2,
          2,
          3,
          1,
          4,
          1,
          1,
          2,
          1,
          1,
          1,
          1,
          3,
          2,
          2,
          1,
          2,
          2,
          2,
          2,
          1,
          3,
          2,
          2,
          1,
          4,
          4,
          1,
          1,
          1,
          5,
          3,
          1,
          1,
          2,
          1,
          1,
          1,
          1,
          1,
          2,
          2,
          4,
          2,
          2,
          1,
          2,
          1,
          2,
          1,
          4,
          1,
          1,
          1,
          2,
          1,
          2,
          2,
          3,
          1,
          2,
          1,
          1,
          4,
          1,
          3,
          2,
          1,
          2,
          3,
          2,
          1,
          3,
          1,
          3,
          2,
          2,
          3,
          3,
          3,
          2,
          1,
          3,
          4,
          1,
          1,
          2,
          1,
          2,
          1,
          1,
          1,
          2,
          2,
          2,
          1,
          3,
          2,
          1,
          3,
          1,
          1,
          1,
          4,
          1,
          1,
          2,
          1,
          3,
          2,
          1,
          1,
          1,
          2,
          3,
          1,
          1,
          1,
          1,
          1,
          1,
          1,
          3,
          2,
          1,
          3,
          1,
          1,
          1,
          2,
          1,
          1,
          2,
          3,
          1,
          3,
          1,
          1,
          1,
          2,
          2,
          2,
          3,
          1,
          1,
          1,
          2,
          1,
          1,
          1,
          2,
          2,
          3,
          3,
          2,
          3,
          1,
          2,
          14,
          3,
          120,
          14,
          12,
          2,
          23,
          4,
          28,
          4,
          28,
          7,
          14,
          4,
          23,
          7,
          17,
          5,
          15,
          13,
          12,
          1,
          14,
          4,
          20,
          9,
          10,
          5,
          13,
          7,
          12,
          4,
          13,
          9,
          4,
          5,
          10,
          4,
          8,
          6,
          9,
          8,
          13,
          10,
          4,
          11,
          8,
          2,
          9,
          2,
          6,
          8,
          7,
          6,
          16,
          7,
          7,
          4,
          5,
          6,
          6,
          7,
          8,
          4,
          2,
          2,
          3,
          11,
          4,
          6,
          6,
          5,
          5,
          5,
          2,
          6,
          4,
          2,
          2,
          5,
          8,
          4,
          2,
          7,
          6,
          4,
          1,
          9,
          6,
          3,
          2,
          1,
          6,
          3,
          9,
          5,
          6,
          8,
          5,
          4,
          3,
          5,
          5,
          4,
          1,
          3,
          4,
          7,
          4,
          6,
          6,
          4,
          7,
          6,
          6,
          8,
          4,
          8,
          7,
          4,
          4,
          4,
          5,
          4,
          7,
          3,
          5,
          3,
          4,
          8,
          7,
          5,
          4,
          1,
          5,
          2,
          4,
          4,
          6,
          10,
          2,
          2,
          7,
          7,
          5,
          3,
          5,
          3,
          4,
          5,
          8,
          5,
          2,
          4,
          6,
          2,
          8,
          5,
          11,
          4,
          3,
          6,
          4,
          5,
          1,
          2,
          2,
          4,
          1,
          1,
          2,
          2,
          4,
          3,
          7,
          5,
          8,
          2,
          5,
          4,
          4,
          1,
          1,
          3,
          6,
          5,
          6,
          4,
          6,
          5,
          3,
          4,
          3,
          4,
          6,
          4,
          7,
          2,
          3,
          3,
          2,
          3,
          6,
          4,
          3,
          3,
          8,
          1,
          2,
          4,
          4,
          3,
          4,
          6,
          6,
          3,
          2,
          1,
          6,
          5,
          2,
          2,
          5,
          2,
          4,
          6,
          5,
          8,
          3,
          3,
          3,
          2,
          1,
          3,
          2,
          2,
          4,
          3,
          1,
          4,
          6,
          1,
          4,
          2,
          2,
          1,
          2,
          3,
          3,
          1,
          2,
          5,
          4,
          1,
          3,
          3,
          3,
          1,
          2,
          1,
          4,
          2,
          5,
          2,
          1,
          1,
          6,
          3,
          2,
          3,
          2,
          6,
          3,
          2,
          4,
          4,
          1,
          7,
          5,
          2,
          2,
          7,
          1,
          5,
          2,
          1,
          1,
          5,
          1,
          3,
          2,
          4,
          1,
          2,
          6,
          3,
          3,
          3,
          1,
          4,
          1,
          4,
          2,
          1,
          3,
          6,
          4,
          1,
          1,
          4,
          5,
          3,
          2,
          2,
          2,
          1,
          5,
          2,
          3,
          2,
          3,
          3,
          4,
          2,
          2,
          3,
          3,
          2,
          2,
          2,
          4,
          3,
          3,
          1,
          4,
          1,
          2,
          1,
          1,
          1,
          1,
          1,
          1,
          1,
          1,
          1,
          1,
          1,
          1,
          1,
          1,
          1,
          1,
          1,
          1,
          1,
          1,
          1,
          1,
          1,
          1,
          1,
          1,
          1,
          1,
          1,
          1,
          1,
          1,
          1,
          1,
          1,
          1,
          1,
          1,
          1,
          1,
          1,
          1,
          1,
          1,
          1,
          1,
          1,
          1,
          1,
          1,
          1,
          1,
          1,
          1,
          1,
          1,
          1,
          1,
          1,
          1,
          1,
          1,
          1,
          1,
          1,
          1,
          1,
          1,
          1,
          1,
          1,
          1,
          1,
          1,
          1,
          1,
          1,
          1,
          1,
          1,
          1,
          1,
          1,
          1,
          1,
          1,
          1,
          1,
          1,
          1,
          1
         ],
         "yaxis": "y"
        }
       ],
       "layout": {
        "barmode": "relative",
        "legend": {
         "tracegroupgap": 0
        },
        "template": {
         "data": {
          "bar": [
           {
            "error_x": {
             "color": "#2a3f5f"
            },
            "error_y": {
             "color": "#2a3f5f"
            },
            "marker": {
             "line": {
              "color": "#E5ECF6",
              "width": 0.5
             },
             "pattern": {
              "fillmode": "overlay",
              "size": 10,
              "solidity": 0.2
             }
            },
            "type": "bar"
           }
          ],
          "barpolar": [
           {
            "marker": {
             "line": {
              "color": "#E5ECF6",
              "width": 0.5
             },
             "pattern": {
              "fillmode": "overlay",
              "size": 10,
              "solidity": 0.2
             }
            },
            "type": "barpolar"
           }
          ],
          "carpet": [
           {
            "aaxis": {
             "endlinecolor": "#2a3f5f",
             "gridcolor": "white",
             "linecolor": "white",
             "minorgridcolor": "white",
             "startlinecolor": "#2a3f5f"
            },
            "baxis": {
             "endlinecolor": "#2a3f5f",
             "gridcolor": "white",
             "linecolor": "white",
             "minorgridcolor": "white",
             "startlinecolor": "#2a3f5f"
            },
            "type": "carpet"
           }
          ],
          "choropleth": [
           {
            "colorbar": {
             "outlinewidth": 0,
             "ticks": ""
            },
            "type": "choropleth"
           }
          ],
          "contour": [
           {
            "colorbar": {
             "outlinewidth": 0,
             "ticks": ""
            },
            "colorscale": [
             [
              0,
              "#0d0887"
             ],
             [
              0.1111111111111111,
              "#46039f"
             ],
             [
              0.2222222222222222,
              "#7201a8"
             ],
             [
              0.3333333333333333,
              "#9c179e"
             ],
             [
              0.4444444444444444,
              "#bd3786"
             ],
             [
              0.5555555555555556,
              "#d8576b"
             ],
             [
              0.6666666666666666,
              "#ed7953"
             ],
             [
              0.7777777777777778,
              "#fb9f3a"
             ],
             [
              0.8888888888888888,
              "#fdca26"
             ],
             [
              1,
              "#f0f921"
             ]
            ],
            "type": "contour"
           }
          ],
          "contourcarpet": [
           {
            "colorbar": {
             "outlinewidth": 0,
             "ticks": ""
            },
            "type": "contourcarpet"
           }
          ],
          "heatmap": [
           {
            "colorbar": {
             "outlinewidth": 0,
             "ticks": ""
            },
            "colorscale": [
             [
              0,
              "#0d0887"
             ],
             [
              0.1111111111111111,
              "#46039f"
             ],
             [
              0.2222222222222222,
              "#7201a8"
             ],
             [
              0.3333333333333333,
              "#9c179e"
             ],
             [
              0.4444444444444444,
              "#bd3786"
             ],
             [
              0.5555555555555556,
              "#d8576b"
             ],
             [
              0.6666666666666666,
              "#ed7953"
             ],
             [
              0.7777777777777778,
              "#fb9f3a"
             ],
             [
              0.8888888888888888,
              "#fdca26"
             ],
             [
              1,
              "#f0f921"
             ]
            ],
            "type": "heatmap"
           }
          ],
          "heatmapgl": [
           {
            "colorbar": {
             "outlinewidth": 0,
             "ticks": ""
            },
            "colorscale": [
             [
              0,
              "#0d0887"
             ],
             [
              0.1111111111111111,
              "#46039f"
             ],
             [
              0.2222222222222222,
              "#7201a8"
             ],
             [
              0.3333333333333333,
              "#9c179e"
             ],
             [
              0.4444444444444444,
              "#bd3786"
             ],
             [
              0.5555555555555556,
              "#d8576b"
             ],
             [
              0.6666666666666666,
              "#ed7953"
             ],
             [
              0.7777777777777778,
              "#fb9f3a"
             ],
             [
              0.8888888888888888,
              "#fdca26"
             ],
             [
              1,
              "#f0f921"
             ]
            ],
            "type": "heatmapgl"
           }
          ],
          "histogram": [
           {
            "marker": {
             "pattern": {
              "fillmode": "overlay",
              "size": 10,
              "solidity": 0.2
             }
            },
            "type": "histogram"
           }
          ],
          "histogram2d": [
           {
            "colorbar": {
             "outlinewidth": 0,
             "ticks": ""
            },
            "colorscale": [
             [
              0,
              "#0d0887"
             ],
             [
              0.1111111111111111,
              "#46039f"
             ],
             [
              0.2222222222222222,
              "#7201a8"
             ],
             [
              0.3333333333333333,
              "#9c179e"
             ],
             [
              0.4444444444444444,
              "#bd3786"
             ],
             [
              0.5555555555555556,
              "#d8576b"
             ],
             [
              0.6666666666666666,
              "#ed7953"
             ],
             [
              0.7777777777777778,
              "#fb9f3a"
             ],
             [
              0.8888888888888888,
              "#fdca26"
             ],
             [
              1,
              "#f0f921"
             ]
            ],
            "type": "histogram2d"
           }
          ],
          "histogram2dcontour": [
           {
            "colorbar": {
             "outlinewidth": 0,
             "ticks": ""
            },
            "colorscale": [
             [
              0,
              "#0d0887"
             ],
             [
              0.1111111111111111,
              "#46039f"
             ],
             [
              0.2222222222222222,
              "#7201a8"
             ],
             [
              0.3333333333333333,
              "#9c179e"
             ],
             [
              0.4444444444444444,
              "#bd3786"
             ],
             [
              0.5555555555555556,
              "#d8576b"
             ],
             [
              0.6666666666666666,
              "#ed7953"
             ],
             [
              0.7777777777777778,
              "#fb9f3a"
             ],
             [
              0.8888888888888888,
              "#fdca26"
             ],
             [
              1,
              "#f0f921"
             ]
            ],
            "type": "histogram2dcontour"
           }
          ],
          "mesh3d": [
           {
            "colorbar": {
             "outlinewidth": 0,
             "ticks": ""
            },
            "type": "mesh3d"
           }
          ],
          "parcoords": [
           {
            "line": {
             "colorbar": {
              "outlinewidth": 0,
              "ticks": ""
             }
            },
            "type": "parcoords"
           }
          ],
          "pie": [
           {
            "automargin": true,
            "type": "pie"
           }
          ],
          "scatter": [
           {
            "fillpattern": {
             "fillmode": "overlay",
             "size": 10,
             "solidity": 0.2
            },
            "type": "scatter"
           }
          ],
          "scatter3d": [
           {
            "line": {
             "colorbar": {
              "outlinewidth": 0,
              "ticks": ""
             }
            },
            "marker": {
             "colorbar": {
              "outlinewidth": 0,
              "ticks": ""
             }
            },
            "type": "scatter3d"
           }
          ],
          "scattercarpet": [
           {
            "marker": {
             "colorbar": {
              "outlinewidth": 0,
              "ticks": ""
             }
            },
            "type": "scattercarpet"
           }
          ],
          "scattergeo": [
           {
            "marker": {
             "colorbar": {
              "outlinewidth": 0,
              "ticks": ""
             }
            },
            "type": "scattergeo"
           }
          ],
          "scattergl": [
           {
            "marker": {
             "colorbar": {
              "outlinewidth": 0,
              "ticks": ""
             }
            },
            "type": "scattergl"
           }
          ],
          "scattermapbox": [
           {
            "marker": {
             "colorbar": {
              "outlinewidth": 0,
              "ticks": ""
             }
            },
            "type": "scattermapbox"
           }
          ],
          "scatterpolar": [
           {
            "marker": {
             "colorbar": {
              "outlinewidth": 0,
              "ticks": ""
             }
            },
            "type": "scatterpolar"
           }
          ],
          "scatterpolargl": [
           {
            "marker": {
             "colorbar": {
              "outlinewidth": 0,
              "ticks": ""
             }
            },
            "type": "scatterpolargl"
           }
          ],
          "scatterternary": [
           {
            "marker": {
             "colorbar": {
              "outlinewidth": 0,
              "ticks": ""
             }
            },
            "type": "scatterternary"
           }
          ],
          "surface": [
           {
            "colorbar": {
             "outlinewidth": 0,
             "ticks": ""
            },
            "colorscale": [
             [
              0,
              "#0d0887"
             ],
             [
              0.1111111111111111,
              "#46039f"
             ],
             [
              0.2222222222222222,
              "#7201a8"
             ],
             [
              0.3333333333333333,
              "#9c179e"
             ],
             [
              0.4444444444444444,
              "#bd3786"
             ],
             [
              0.5555555555555556,
              "#d8576b"
             ],
             [
              0.6666666666666666,
              "#ed7953"
             ],
             [
              0.7777777777777778,
              "#fb9f3a"
             ],
             [
              0.8888888888888888,
              "#fdca26"
             ],
             [
              1,
              "#f0f921"
             ]
            ],
            "type": "surface"
           }
          ],
          "table": [
           {
            "cells": {
             "fill": {
              "color": "#EBF0F8"
             },
             "line": {
              "color": "white"
             }
            },
            "header": {
             "fill": {
              "color": "#C8D4E3"
             },
             "line": {
              "color": "white"
             }
            },
            "type": "table"
           }
          ]
         },
         "layout": {
          "annotationdefaults": {
           "arrowcolor": "#2a3f5f",
           "arrowhead": 0,
           "arrowwidth": 1
          },
          "autotypenumbers": "strict",
          "coloraxis": {
           "colorbar": {
            "outlinewidth": 0,
            "ticks": ""
           }
          },
          "colorscale": {
           "diverging": [
            [
             0,
             "#8e0152"
            ],
            [
             0.1,
             "#c51b7d"
            ],
            [
             0.2,
             "#de77ae"
            ],
            [
             0.3,
             "#f1b6da"
            ],
            [
             0.4,
             "#fde0ef"
            ],
            [
             0.5,
             "#f7f7f7"
            ],
            [
             0.6,
             "#e6f5d0"
            ],
            [
             0.7,
             "#b8e186"
            ],
            [
             0.8,
             "#7fbc41"
            ],
            [
             0.9,
             "#4d9221"
            ],
            [
             1,
             "#276419"
            ]
           ],
           "sequential": [
            [
             0,
             "#0d0887"
            ],
            [
             0.1111111111111111,
             "#46039f"
            ],
            [
             0.2222222222222222,
             "#7201a8"
            ],
            [
             0.3333333333333333,
             "#9c179e"
            ],
            [
             0.4444444444444444,
             "#bd3786"
            ],
            [
             0.5555555555555556,
             "#d8576b"
            ],
            [
             0.6666666666666666,
             "#ed7953"
            ],
            [
             0.7777777777777778,
             "#fb9f3a"
            ],
            [
             0.8888888888888888,
             "#fdca26"
            ],
            [
             1,
             "#f0f921"
            ]
           ],
           "sequentialminus": [
            [
             0,
             "#0d0887"
            ],
            [
             0.1111111111111111,
             "#46039f"
            ],
            [
             0.2222222222222222,
             "#7201a8"
            ],
            [
             0.3333333333333333,
             "#9c179e"
            ],
            [
             0.4444444444444444,
             "#bd3786"
            ],
            [
             0.5555555555555556,
             "#d8576b"
            ],
            [
             0.6666666666666666,
             "#ed7953"
            ],
            [
             0.7777777777777778,
             "#fb9f3a"
            ],
            [
             0.8888888888888888,
             "#fdca26"
            ],
            [
             1,
             "#f0f921"
            ]
           ]
          },
          "colorway": [
           "#636efa",
           "#EF553B",
           "#00cc96",
           "#ab63fa",
           "#FFA15A",
           "#19d3f3",
           "#FF6692",
           "#B6E880",
           "#FF97FF",
           "#FECB52"
          ],
          "font": {
           "color": "#2a3f5f"
          },
          "geo": {
           "bgcolor": "white",
           "lakecolor": "white",
           "landcolor": "#E5ECF6",
           "showlakes": true,
           "showland": true,
           "subunitcolor": "white"
          },
          "hoverlabel": {
           "align": "left"
          },
          "hovermode": "closest",
          "mapbox": {
           "style": "light"
          },
          "paper_bgcolor": "white",
          "plot_bgcolor": "#E5ECF6",
          "polar": {
           "angularaxis": {
            "gridcolor": "white",
            "linecolor": "white",
            "ticks": ""
           },
           "bgcolor": "#E5ECF6",
           "radialaxis": {
            "gridcolor": "white",
            "linecolor": "white",
            "ticks": ""
           }
          },
          "scene": {
           "xaxis": {
            "backgroundcolor": "#E5ECF6",
            "gridcolor": "white",
            "gridwidth": 2,
            "linecolor": "white",
            "showbackground": true,
            "ticks": "",
            "zerolinecolor": "white"
           },
           "yaxis": {
            "backgroundcolor": "#E5ECF6",
            "gridcolor": "white",
            "gridwidth": 2,
            "linecolor": "white",
            "showbackground": true,
            "ticks": "",
            "zerolinecolor": "white"
           },
           "zaxis": {
            "backgroundcolor": "#E5ECF6",
            "gridcolor": "white",
            "gridwidth": 2,
            "linecolor": "white",
            "showbackground": true,
            "ticks": "",
            "zerolinecolor": "white"
           }
          },
          "shapedefaults": {
           "line": {
            "color": "#2a3f5f"
           }
          },
          "ternary": {
           "aaxis": {
            "gridcolor": "white",
            "linecolor": "white",
            "ticks": ""
           },
           "baxis": {
            "gridcolor": "white",
            "linecolor": "white",
            "ticks": ""
           },
           "bgcolor": "#E5ECF6",
           "caxis": {
            "gridcolor": "white",
            "linecolor": "white",
            "ticks": ""
           }
          },
          "title": {
           "x": 0.05
          },
          "xaxis": {
           "automargin": true,
           "gridcolor": "white",
           "linecolor": "white",
           "ticks": "",
           "title": {
            "standoff": 15
           },
           "zerolinecolor": "white",
           "zerolinewidth": 2
          },
          "yaxis": {
           "automargin": true,
           "gridcolor": "white",
           "linecolor": "white",
           "ticks": "",
           "title": {
            "standoff": 15
           },
           "zerolinecolor": "white",
           "zerolinewidth": 2
          }
         }
        },
        "title": {
         "text": "Object files per amount of vertices (resampled)"
        },
        "xaxis": {
         "anchor": "y",
         "domain": [
          0,
          1
         ],
         "title": {
          "text": "vertices"
         }
        },
        "yaxis": {
         "anchor": "x",
         "domain": [
          0,
          1
         ],
         "title": {
          "text": "sum of amount of object files"
         }
        }
       }
      }
     },
     "metadata": {},
     "output_type": "display_data"
    }
   ],
   "source": [
    "# Hists from feedback email Fri 25/10\n",
    "# a histogram with the #shapes per amount of vertices, for ALL shapes in the database; and a similar one for the #shapes per amount of faces; this way, you will clearly see how many shapes with few..average..many vertices, and faces, you have – so this is the best indication you want for the need for resampling. \n",
    "\n",
    "# 2*n^(1/3) --> n = aantal objecten (wss rond de 90 bins, rice )\n",
    "# hoogste verts/faces / bins\n",
    "# https://medium.com/@maxmarkovvision/optimal-number-of-bins-for-histograms-3d7c48086fde\n",
    "\n",
    "# X: vertices/faces\n",
    "# Y: shapes amount\n",
    "df_groups_before = df.groupby(\"vertices\").size()\n",
    "\n",
    "fig = px.histogram(df_groups_before, x=df_groups_before.index, y=df_groups_before, nbins=93, labels=dict(y=\"amount of object files\"), title=\"Object files per amount of vertices (original)\")\n",
    "fig.update_traces(marker_color='lightslategray')\n",
    "fig.show()\n",
    "\n",
    "df_groups_after = df_resampled.groupby(\"vertices\").size()\n",
    "\n",
    "# display(df_groups_after)\n",
    "\n",
    "fig = px.histogram(df_groups_after, x=df_groups_after.index, y=df_groups_after, nbins=93, labels=dict(y=\"amount of object files\"), title=\"Object files per amount of vertices (resampled)\")\n",
    "fig.update_traces(marker_color='lightslategray')\n",
    "fig.show()\n"
   ]
  },
  {
   "cell_type": "code",
   "execution_count": 32,
   "metadata": {},
   "outputs": [
    {
     "data": {
      "application/vnd.plotly.v1+json": {
       "config": {
        "plotlyServerURL": "https://plot.ly"
       },
       "data": [
        {
         "alignmentgroup": "True",
         "bingroup": "x",
         "histfunc": "sum",
         "hovertemplate": "faces=%{x}<br>sum of amount of object files=%{y}<extra></extra>",
         "legendgroup": "",
         "marker": {
          "color": "lightslategray",
          "pattern": {
           "shape": ""
          }
         },
         "name": "",
         "nbinsx": 93,
         "offsetgroup": "",
         "orientation": "v",
         "showlegend": false,
         "type": "histogram",
         "x": [
          16,
          18,
          22,
          26,
          28,
          29,
          30,
          31,
          36,
          43,
          44,
          45,
          46,
          48,
          52,
          54,
          56,
          60,
          67,
          68,
          72,
          74,
          76,
          78,
          80,
          84,
          86,
          88,
          90,
          92,
          96,
          98,
          100,
          106,
          108,
          113,
          116,
          120,
          121,
          124,
          128,
          130,
          132,
          134,
          136,
          138,
          140,
          144,
          145,
          152,
          156,
          160,
          165,
          166,
          168,
          172,
          173,
          178,
          180,
          182,
          183,
          184,
          185,
          186,
          188,
          190,
          192,
          200,
          204,
          208,
          214,
          216,
          217,
          224,
          226,
          228,
          232,
          236,
          240,
          241,
          244,
          245,
          248,
          252,
          254,
          256,
          259,
          260,
          262,
          264,
          265,
          266,
          270,
          272,
          274,
          276,
          280,
          281,
          284,
          288,
          290,
          292,
          294,
          299,
          300,
          304,
          306,
          308,
          312,
          315,
          316,
          318,
          320,
          324,
          326,
          328,
          330,
          334,
          335,
          336,
          337,
          338,
          340,
          344,
          348,
          352,
          354,
          358,
          360,
          362,
          363,
          364,
          366,
          368,
          372,
          374,
          376,
          378,
          382,
          384,
          390,
          391,
          392,
          396,
          400,
          401,
          404,
          406,
          408,
          410,
          417,
          418,
          419,
          420,
          422,
          426,
          428,
          430,
          434,
          435,
          440,
          444,
          448,
          450,
          452,
          454,
          458,
          460,
          462,
          464,
          465,
          468,
          470,
          476,
          478,
          480,
          484,
          492,
          496,
          498,
          500,
          504,
          506,
          508,
          512,
          516,
          519,
          520,
          524,
          526,
          528,
          530,
          531,
          532,
          534,
          536,
          538,
          542,
          546,
          548,
          549,
          550,
          551,
          552,
          554,
          556,
          557,
          558,
          560,
          564,
          570,
          572,
          573,
          574,
          575,
          576,
          578,
          580,
          584,
          588,
          590,
          594,
          596,
          598,
          599,
          600,
          602,
          604,
          608,
          612,
          615,
          616,
          618,
          620,
          621,
          624,
          636,
          638,
          640,
          642,
          644,
          646,
          648,
          652,
          654,
          656,
          660,
          664,
          668,
          669,
          672,
          676,
          680,
          682,
          684,
          688,
          690,
          692,
          694,
          696,
          698,
          700,
          702,
          703,
          704,
          708,
          710,
          720,
          721,
          723,
          724,
          728,
          730,
          734,
          736,
          740,
          744,
          752,
          756,
          760,
          768,
          772,
          776,
          780,
          784,
          785,
          786,
          794,
          798,
          800,
          804,
          812,
          816,
          817,
          818,
          822,
          824,
          826,
          828,
          830,
          831,
          836,
          837,
          838,
          839,
          840,
          844,
          846,
          848,
          852,
          853,
          854,
          856,
          857,
          862,
          868,
          869,
          870,
          874,
          876,
          880,
          882,
          883,
          884,
          886,
          888,
          890,
          892,
          894,
          895,
          897,
          899,
          900,
          902,
          904,
          906,
          908,
          910,
          912,
          916,
          918,
          919,
          921,
          922,
          923,
          924,
          926,
          928,
          930,
          932,
          935,
          936,
          940,
          942,
          944,
          950,
          954,
          956,
          960,
          961,
          966,
          972,
          978,
          979,
          982,
          988,
          992,
          997,
          998,
          1000,
          1004,
          1008,
          1010,
          1012,
          1014,
          1018,
          1020,
          1021,
          1024,
          1032,
          1036,
          1038,
          1039,
          1044,
          1052,
          1055,
          1056,
          1058,
          1061,
          1064,
          1067,
          1070,
          1072,
          1075,
          1076,
          1077,
          1083,
          1084,
          1087,
          1092,
          1094,
          1098,
          1100,
          1106,
          1108,
          1110,
          1112,
          1120,
          1128,
          1129,
          1130,
          1134,
          1136,
          1144,
          1145,
          1146,
          1152,
          1156,
          1158,
          1160,
          1188,
          1196,
          1197,
          1204,
          1206,
          1207,
          1208,
          1224,
          1227,
          1228,
          1232,
          1236,
          1238,
          1242,
          1246,
          1266,
          1268,
          1270,
          1275,
          1277,
          1284,
          1288,
          1296,
          1300,
          1302,
          1311,
          1314,
          1316,
          1320,
          1325,
          1326,
          1328,
          1329,
          1331,
          1332,
          1337,
          1342,
          1344,
          1346,
          1352,
          1356,
          1362,
          1364,
          1375,
          1376,
          1378,
          1380,
          1382,
          1388,
          1394,
          1396,
          1397,
          1398,
          1400,
          1407,
          1408,
          1412,
          1413,
          1422,
          1428,
          1430,
          1445,
          1446,
          1448,
          1452,
          1457,
          1468,
          1471,
          1478,
          1494,
          1498,
          1500,
          1502,
          1504,
          1505,
          1507,
          1508,
          1520,
          1524,
          1526,
          1527,
          1528,
          1536,
          1540,
          1546,
          1550,
          1557,
          1572,
          1578,
          1587,
          1600,
          1610,
          1617,
          1623,
          1624,
          1627,
          1628,
          1646,
          1647,
          1648,
          1652,
          1654,
          1660,
          1668,
          1672,
          1673,
          1678,
          1680,
          1684,
          1686,
          1687,
          1692,
          1696,
          1697,
          1698,
          1702,
          1704,
          1708,
          1710,
          1719,
          1720,
          1721,
          1726,
          1728,
          1735,
          1748,
          1752,
          1754,
          1756,
          1764,
          1767,
          1772,
          1773,
          1784,
          1788,
          1792,
          1794,
          1800,
          1812,
          1816,
          1832,
          1835,
          1852,
          1858,
          1860,
          1862,
          1864,
          1872,
          1882,
          1889,
          1891,
          1892,
          1896,
          1900,
          1906,
          1908,
          1912,
          1913,
          1915,
          1930,
          1932,
          1940,
          1944,
          1945,
          1948,
          1954,
          1972,
          1974,
          1976,
          1980,
          1988,
          1989,
          1994,
          1996,
          1998,
          2000,
          2001,
          2008,
          2012,
          2022,
          2030,
          2040,
          2042,
          2044,
          2048,
          2056,
          2060,
          2064,
          2068,
          2070,
          2076,
          2088,
          2092,
          2094,
          2098,
          2104,
          2109,
          2111,
          2118,
          2132,
          2136,
          2163,
          2180,
          2199,
          2200,
          2216,
          2230,
          2234,
          2237,
          2240,
          2246,
          2253,
          2260,
          2262,
          2266,
          2283,
          2286,
          2291,
          2292,
          2296,
          2298,
          2302,
          2305,
          2308,
          2319,
          2320,
          2330,
          2333,
          2338,
          2354,
          2360,
          2370,
          2372,
          2373,
          2375,
          2380,
          2392,
          2409,
          2428,
          2432,
          2437,
          2438,
          2442,
          2444,
          2452,
          2454,
          2464,
          2468,
          2481,
          2490,
          2494,
          2499,
          2500,
          2503,
          2513,
          2520,
          2532,
          2538,
          2540,
          2542,
          2544,
          2556,
          2568,
          2574,
          2575,
          2576,
          2579,
          2580,
          2592,
          2600,
          2620,
          2628,
          2632,
          2653,
          2668,
          2670,
          2674,
          2678,
          2680,
          2688,
          2697,
          2704,
          2706,
          2708,
          2709,
          2716,
          2734,
          2742,
          2750,
          2752,
          2754,
          2768,
          2778,
          2788,
          2790,
          2800,
          2806,
          2818,
          2820,
          2828,
          2832,
          2836,
          2871,
          2874,
          2878,
          2888,
          2891,
          2904,
          2916,
          2920,
          2938,
          2944,
          2952,
          2964,
          2976,
          2980,
          2996,
          3000,
          3008,
          3012,
          3014,
          3016,
          3018,
          3021,
          3024,
          3036,
          3042,
          3044,
          3080,
          3090,
          3092,
          3102,
          3110,
          3111,
          3112,
          3119,
          3121,
          3128,
          3154,
          3156,
          3164,
          3167,
          3169,
          3176,
          3190,
          3200,
          3208,
          3220,
          3231,
          3232,
          3234,
          3236,
          3254,
          3260,
          3269,
          3282,
          3296,
          3300,
          3301,
          3304,
          3314,
          3316,
          3324,
          3336,
          3340,
          3345,
          3352,
          3360,
          3374,
          3380,
          3384,
          3391,
          3398,
          3401,
          3406,
          3414,
          3419,
          3420,
          3424,
          3436,
          3440,
          3444,
          3446,
          3450,
          3452,
          3460,
          3464,
          3468,
          3488,
          3498,
          3500,
          3526,
          3548,
          3552,
          3564,
          3584,
          3586,
          3587,
          3588,
          3590,
          3600,
          3604,
          3606,
          3615,
          3624,
          3626,
          3632,
          3640,
          3644,
          3653,
          3668,
          3672,
          3688,
          3692,
          3701,
          3708,
          3709,
          3747,
          3748,
          3756,
          3764,
          3770,
          3772,
          3774,
          3784,
          3790,
          3804,
          3814,
          3816,
          3840,
          3846,
          3888,
          3894,
          3910,
          3916,
          3938,
          3946,
          3960,
          3966,
          3976,
          3992,
          4000,
          4008,
          4046,
          4049,
          4060,
          4064,
          4076,
          4077,
          4084,
          4110,
          4113,
          4116,
          4146,
          4147,
          4152,
          4159,
          4162,
          4173,
          4217,
          4224,
          4229,
          4231,
          4234,
          4236,
          4253,
          4254,
          4256,
          4275,
          4284,
          4292,
          4300,
          4312,
          4325,
          4338,
          4344,
          4363,
          4364,
          4366,
          4374,
          4410,
          4413,
          4438,
          4448,
          4460,
          4466,
          4476,
          4483,
          4485,
          4500,
          4508,
          4536,
          4546,
          4574,
          4580,
          4587,
          4590,
          4592,
          4629,
          4653,
          4664,
          4686,
          4698,
          4713,
          4716,
          4750,
          4770,
          4794,
          4801,
          4808,
          4812,
          4839,
          4854,
          4856,
          4860,
          4866,
          4872,
          4887,
          4890,
          4891,
          4928,
          4940,
          4970,
          4986,
          5004,
          5022,
          5036,
          5046,
          5049,
          5054,
          5088,
          5100,
          5109,
          5111,
          5116,
          5118,
          5138,
          5162,
          5196,
          5231,
          5259,
          5270,
          5280,
          5286,
          5295,
          5327,
          5336,
          5346,
          5358,
          5384,
          5388,
          5390,
          5410,
          5414,
          5445,
          5448,
          5476,
          5484,
          5490,
          5500,
          5504,
          5534,
          5544,
          5549,
          5566,
          5588,
          5589,
          5622,
          5646,
          5657,
          5666,
          5667,
          5694,
          5704,
          5706,
          5724,
          5728,
          5788,
          5798,
          5803,
          5808,
          5823,
          5874,
          5877,
          5878,
          5896,
          5910,
          5913,
          5942,
          5951,
          5954,
          5956,
          5960,
          5970,
          5977,
          5984,
          6000,
          6012,
          6041,
          6052,
          6056,
          6072,
          6096,
          6132,
          6142,
          6164,
          6173,
          6196,
          6219,
          6260,
          6267,
          6272,
          6274,
          6304,
          6326,
          6328,
          6330,
          6334,
          6336,
          6344,
          6348,
          6365,
          6370,
          6381,
          6406,
          6412,
          6422,
          6441,
          6448,
          6460,
          6480,
          6484,
          6520,
          6524,
          6526,
          6538,
          6570,
          6592,
          6594,
          6623,
          6628,
          6652,
          6667,
          6668,
          6672,
          6676,
          6736,
          6750,
          6755,
          6764,
          6808,
          6816,
          6824,
          6838,
          6856,
          6861,
          6881,
          6900,
          6901,
          6932,
          6966,
          6976,
          6988,
          6990,
          7012,
          7019,
          7038,
          7040,
          7083,
          7110,
          7120,
          7124,
          7125,
          7130,
          7133,
          7140,
          7149,
          7196,
          7212,
          7218,
          7234,
          7260,
          7282,
          7297,
          7318,
          7332,
          7346,
          7365,
          7366,
          7401,
          7402,
          7410,
          7412,
          7414,
          7424,
          7440,
          7442,
          7443,
          7448,
          7453,
          7470,
          7472,
          7505,
          7556,
          7584,
          7604,
          7618,
          7624,
          7680,
          7692,
          7707,
          7716,
          7734,
          7752,
          7763,
          7779,
          7780,
          7796,
          7808,
          7853,
          7879,
          7880,
          7898,
          7909,
          7922,
          7944,
          7952,
          7958,
          7980,
          7983,
          7990,
          8000,
          8016,
          8017,
          8027,
          8028,
          8034,
          8057,
          8098,
          8126,
          8157,
          8196,
          8214,
          8216,
          8230,
          8236,
          8244,
          8324,
          8352,
          8364,
          8368,
          8391,
          8434,
          8440,
          8448,
          8476,
          8487,
          8494,
          8498,
          8520,
          8559,
          8564,
          8592,
          8628,
          8640,
          8660,
          8734,
          8804,
          8810,
          8828,
          8831,
          8864,
          8910,
          8922,
          8928,
          8952,
          8970,
          8978,
          8997,
          8999,
          9011,
          9038,
          9069,
          9108,
          9150,
          9152,
          9157,
          9165,
          9168,
          9182,
          9223,
          9270,
          9290,
          9314,
          9353,
          9414,
          9420,
          9427,
          9454,
          9480,
          9500,
          9510,
          9528,
          9542,
          9573,
          9584,
          9662,
          9732,
          9746,
          9766,
          9779,
          9798,
          9882,
          9907,
          9970,
          9976,
          10020,
          10061,
          10066,
          10136,
          10184,
          10185,
          10190,
          10198,
          10208,
          10216,
          10232,
          10241,
          10274,
          10332,
          10335,
          10353,
          10371,
          10398,
          10400,
          10474,
          10491,
          10492,
          10496,
          10497,
          10522,
          10530,
          10543,
          10544,
          10548,
          10581,
          10583,
          10608,
          10640,
          10656,
          10680,
          10692,
          10712,
          10737,
          10781,
          10794,
          10842,
          10880,
          10893,
          10902,
          10908,
          10914,
          10922,
          10928,
          10944,
          10967,
          10976,
          10977,
          11000,
          11008,
          11012,
          11040,
          11058,
          11118,
          11152,
          11211,
          11216,
          11230,
          11290,
          11300,
          11310,
          11316,
          11368,
          11460,
          11464,
          11468,
          11481,
          11540,
          11562,
          11577,
          11592,
          11604,
          11608,
          11609,
          11628,
          11648,
          11660,
          11712,
          11722,
          11748,
          11780,
          11791,
          11866,
          11958,
          11987,
          11989,
          12065,
          12072,
          12087,
          12150,
          12184,
          12204,
          12251,
          12263,
          12369,
          12378,
          12392,
          12510,
          12536,
          12538,
          12554,
          12652,
          12656,
          12676,
          12712,
          12769,
          12810,
          12812,
          12876,
          12900,
          12936,
          12939,
          12960,
          12970,
          12999,
          13009,
          13032,
          13146,
          13168,
          13237,
          13256,
          13341,
          13344,
          13354,
          13373,
          13402,
          13409,
          13450,
          13452,
          13485,
          13512,
          13529,
          13536,
          13542,
          13568,
          13668,
          13672,
          13684,
          13758,
          13769,
          13848,
          13868,
          13892,
          13992,
          14044,
          14064,
          14166,
          14167,
          14168,
          14200,
          14204,
          14220,
          14224,
          14272,
          14375,
          14376,
          14412,
          14424,
          14450,
          14462,
          14472,
          14482,
          14484,
          14563,
          14620,
          14624,
          14776,
          14796,
          14840,
          14844,
          14908,
          14914,
          14943,
          15008,
          15012,
          15018,
          15019,
          15021,
          15060,
          15091,
          15128,
          15145,
          15162,
          15199,
          15272,
          15294,
          15295,
          15316,
          15346,
          15408,
          15436,
          15507,
          15557,
          15561,
          15573,
          15659,
          15702,
          15768,
          15788,
          15800,
          15855,
          15870,
          15874,
          15906,
          15968,
          16005,
          16061,
          16074,
          16090,
          16102,
          16111,
          16126,
          16135,
          16159,
          16194,
          16268,
          16328,
          16488,
          16509,
          16515,
          16560,
          16584,
          16648,
          16656,
          16677,
          16736,
          16832,
          16860,
          16891,
          16912,
          16916,
          16931,
          16932,
          16938,
          16960,
          16975,
          16987,
          17044,
          17058,
          17091,
          17119,
          17196,
          17224,
          17298,
          17357,
          17370,
          17394,
          17421,
          17436,
          17461,
          17465,
          17476,
          17495,
          17526,
          17547,
          17640,
          17701,
          17806,
          17998,
          18008,
          18110,
          18139,
          18236,
          18238,
          18338,
          18340,
          18363,
          18390,
          18396,
          18412,
          18420,
          18513,
          18523,
          18568,
          18774,
          18851,
          18860,
          18939,
          18962,
          19092,
          19104,
          19219,
          19260,
          19304,
          19380,
          19412,
          19492,
          19582,
          19610,
          19638,
          19712,
          19952,
          20016,
          20094,
          20144,
          20160,
          20186,
          20198,
          20200,
          20208,
          20236,
          20331,
          20349,
          20392,
          20408,
          20512,
          20577,
          20594,
          20598,
          20663,
          20746,
          20749,
          20844,
          20871,
          20895,
          20980,
          20996,
          21007,
          21021,
          21105,
          21140,
          21196,
          21237,
          21422,
          21450,
          21595,
          21622,
          21740,
          21741,
          21764,
          21800,
          21840,
          21885,
          21950,
          22000,
          22065,
          22067,
          22190,
          22258,
          22912,
          22923,
          22944,
          22999,
          23022,
          23024,
          23052,
          23060,
          23138,
          23197,
          23350,
          23530,
          23541,
          23596,
          23680,
          23918,
          23932,
          24119,
          24200,
          24253,
          24340,
          24384,
          24466,
          24500,
          24552,
          24612,
          24673,
          24720,
          24736,
          24753,
          24863,
          24864,
          24874,
          24888,
          24928,
          24950,
          24954,
          25000,
          25020,
          25030,
          25129,
          25140,
          25206,
          25308,
          25330,
          25449,
          25506,
          25582,
          25604,
          25650,
          25760,
          25794,
          25806,
          25812,
          25850,
          25984,
          25996,
          26032,
          26043,
          26096,
          26382,
          26446,
          26516,
          26647,
          26739,
          26860,
          26932,
          26960,
          26964,
          26994,
          27552,
          27690,
          27965,
          27982,
          27996,
          28053,
          28086,
          28227,
          28358,
          28454,
          28504,
          28551,
          28562,
          28622,
          28681,
          28868,
          28920,
          28992,
          29064,
          29118,
          29202,
          29204,
          29304,
          29310,
          29520,
          29523,
          29804,
          29905,
          30000,
          30009,
          30014,
          30052,
          30078,
          30220,
          30255,
          30258,
          30261,
          30266,
          30300,
          30336,
          30513,
          30524,
          30554,
          30654,
          30666,
          30816,
          30981,
          31047,
          31050,
          31098,
          31161,
          31218,
          31221,
          31296,
          31432,
          31437,
          31575,
          31606,
          31702,
          31807,
          31917,
          32042,
          32121,
          32214,
          32216,
          32265,
          32530,
          32576,
          32619,
          32637,
          32640,
          32648,
          32752,
          32776,
          32782,
          32868,
          32997,
          33006,
          33072,
          33161,
          33262,
          33324,
          33351,
          33381,
          33404,
          33603,
          33699,
          33774,
          33836,
          33984,
          33993,
          34011,
          34089,
          34131,
          34133,
          34164,
          34169,
          34247,
          34398,
          34584,
          34666,
          34708,
          34712,
          34776,
          34821,
          34872,
          34877,
          34887,
          35157,
          35236,
          35325,
          35328,
          35465,
          35688,
          35711,
          35761,
          35805,
          35826,
          36024,
          36278,
          36372,
          36384,
          36387,
          36405,
          36512,
          36520,
          36708,
          36856,
          36864,
          36972,
          37047,
          37072,
          37098,
          37102,
          37149,
          37254,
          37275,
          37283,
          37292,
          37380,
          37418,
          37590,
          37661,
          37916,
          38066,
          38160,
          38235,
          38268,
          38308,
          38331,
          38396,
          38444,
          38910,
          39423,
          39495,
          39589,
          39768,
          39822,
          39882,
          40023,
          40641,
          40642,
          40698,
          40758,
          41168,
          41214,
          41567,
          41626,
          41661,
          41792,
          41835,
          41981,
          42048,
          42060,
          42064,
          42255,
          42369,
          42389,
          42567,
          42664,
          42729,
          42939,
          43107,
          43209,
          43260,
          43521,
          43584,
          43920,
          44050,
          44110,
          44707,
          44727,
          44740,
          45128,
          45234,
          45333,
          45452,
          45584,
          45708,
          45776,
          45807,
          45843,
          45925,
          45936,
          45963,
          46152,
          46318,
          46364,
          46540,
          46682,
          46904,
          46929,
          47286,
          47406,
          47469,
          47490,
          47613,
          47667,
          47752,
          47805,
          47904,
          48261,
          49148,
          49260,
          49474,
          49863,
          49998,
          50064,
          50113,
          50126,
          50202,
          50370,
          50407,
          50650,
          50685,
          50778,
          50984,
          51077,
          51403,
          51801,
          51962,
          52041,
          53259,
          53400,
          53448,
          53829,
          53857,
          54282,
          54489,
          54523,
          54603,
          54644,
          55260,
          55333,
          55732,
          56646,
          56925,
          57224,
          57440,
          57938,
          58093,
          58292,
          59739,
          59840,
          59982,
          60488,
          60638,
          62973,
          64230,
          64374,
          64544,
          64688,
          64993,
          65300,
          65670,
          65712,
          66144,
          67185,
          68220,
          68304,
          69397,
          69420,
          70103,
          72831,
          73042,
          74093,
          74103,
          74720,
          75870,
          77264,
          78354,
          79652,
          80270,
          80272,
          83378,
          85308,
          86361,
          86502,
          88945,
          90161,
          90616,
          92176,
          93366,
          94497,
          95017,
          109357,
          111471,
          116378,
          116773,
          119540,
          121343,
          129881
         ],
         "xaxis": "x",
         "y": [
          2,
          1,
          1,
          1,
          1,
          1,
          2,
          1,
          1,
          2,
          2,
          1,
          1,
          1,
          3,
          1,
          1,
          3,
          1,
          2,
          1,
          1,
          5,
          1,
          1,
          2,
          2,
          5,
          1,
          1,
          1,
          2,
          3,
          1,
          1,
          1,
          1,
          5,
          1,
          1,
          1,
          2,
          4,
          1,
          1,
          1,
          2,
          1,
          1,
          2,
          3,
          1,
          1,
          1,
          3,
          2,
          1,
          1,
          4,
          1,
          2,
          3,
          1,
          1,
          1,
          1,
          1,
          3,
          4,
          2,
          1,
          2,
          1,
          1,
          3,
          3,
          1,
          1,
          1,
          1,
          2,
          1,
          1,
          6,
          1,
          1,
          1,
          2,
          1,
          4,
          1,
          1,
          1,
          2,
          2,
          1,
          2,
          1,
          2,
          1,
          2,
          1,
          2,
          1,
          1,
          3,
          1,
          2,
          1,
          1,
          1,
          3,
          3,
          3,
          1,
          2,
          1,
          1,
          1,
          2,
          1,
          1,
          3,
          2,
          4,
          1,
          1,
          2,
          6,
          1,
          1,
          3,
          2,
          6,
          2,
          1,
          2,
          1,
          1,
          1,
          1,
          1,
          1,
          1,
          5,
          1,
          3,
          1,
          5,
          1,
          2,
          1,
          2,
          1,
          1,
          3,
          1,
          1,
          4,
          1,
          1,
          3,
          2,
          2,
          2,
          1,
          1,
          1,
          4,
          1,
          1,
          1,
          1,
          1,
          2,
          7,
          1,
          2,
          2,
          1,
          1,
          1,
          1,
          3,
          2,
          3,
          1,
          1,
          4,
          1,
          2,
          1,
          1,
          1,
          1,
          1,
          3,
          1,
          4,
          2,
          1,
          2,
          1,
          2,
          1,
          4,
          1,
          3,
          7,
          5,
          1,
          6,
          1,
          1,
          1,
          1,
          3,
          1,
          1,
          3,
          1,
          1,
          2,
          2,
          1,
          2,
          1,
          2,
          3,
          2,
          1,
          2,
          2,
          3,
          1,
          2,
          2,
          2,
          2,
          1,
          4,
          1,
          1,
          1,
          1,
          1,
          1,
          1,
          3,
          1,
          1,
          1,
          2,
          1,
          5,
          2,
          1,
          3,
          1,
          3,
          1,
          2,
          1,
          1,
          3,
          2,
          1,
          2,
          1,
          1,
          4,
          1,
          1,
          1,
          1,
          1,
          2,
          2,
          1,
          4,
          5,
          3,
          3,
          3,
          1,
          1,
          2,
          1,
          2,
          2,
          1,
          3,
          3,
          1,
          1,
          1,
          2,
          1,
          5,
          1,
          1,
          2,
          4,
          1,
          1,
          3,
          1,
          2,
          3,
          2,
          1,
          1,
          2,
          1,
          3,
          2,
          1,
          1,
          3,
          1,
          3,
          1,
          1,
          1,
          1,
          3,
          1,
          1,
          3,
          1,
          1,
          1,
          2,
          1,
          2,
          1,
          1,
          1,
          1,
          3,
          3,
          3,
          1,
          2,
          2,
          2,
          1,
          1,
          1,
          2,
          1,
          3,
          1,
          1,
          2,
          2,
          1,
          3,
          2,
          1,
          1,
          2,
          1,
          1,
          2,
          1,
          1,
          1,
          1,
          4,
          1,
          2,
          1,
          1,
          2,
          2,
          2,
          1,
          4,
          4,
          3,
          1,
          1,
          2,
          1,
          1,
          1,
          1,
          1,
          2,
          1,
          2,
          1,
          1,
          1,
          1,
          1,
          1,
          1,
          2,
          1,
          1,
          1,
          1,
          1,
          1,
          3,
          1,
          1,
          1,
          1,
          1,
          2,
          1,
          1,
          1,
          1,
          1,
          1,
          1,
          2,
          3,
          1,
          1,
          1,
          1,
          1,
          1,
          1,
          2,
          3,
          2,
          1,
          2,
          2,
          2,
          1,
          1,
          1,
          1,
          1,
          1,
          2,
          1,
          1,
          1,
          4,
          1,
          1,
          1,
          1,
          3,
          1,
          1,
          1,
          1,
          1,
          3,
          1,
          1,
          1,
          1,
          1,
          1,
          2,
          1,
          1,
          1,
          1,
          2,
          1,
          1,
          1,
          1,
          1,
          1,
          1,
          1,
          2,
          1,
          2,
          1,
          2,
          1,
          1,
          1,
          1,
          1,
          1,
          1,
          1,
          4,
          1,
          2,
          1,
          1,
          1,
          1,
          1,
          1,
          1,
          1,
          1,
          1,
          1,
          2,
          1,
          1,
          2,
          1,
          2,
          1,
          2,
          1,
          2,
          1,
          2,
          1,
          1,
          1,
          1,
          1,
          2,
          1,
          1,
          1,
          2,
          1,
          1,
          1,
          1,
          1,
          2,
          1,
          1,
          1,
          1,
          1,
          3,
          2,
          1,
          1,
          1,
          2,
          1,
          1,
          1,
          1,
          2,
          1,
          1,
          2,
          1,
          1,
          1,
          1,
          1,
          2,
          1,
          1,
          1,
          1,
          1,
          1,
          1,
          2,
          1,
          1,
          1,
          1,
          1,
          1,
          1,
          1,
          1,
          1,
          1,
          1,
          1,
          2,
          2,
          1,
          1,
          1,
          1,
          1,
          1,
          1,
          1,
          1,
          2,
          1,
          1,
          2,
          2,
          7,
          1,
          3,
          1,
          2,
          1,
          1,
          2,
          1,
          3,
          1,
          2,
          2,
          1,
          1,
          2,
          3,
          2,
          1,
          1,
          1,
          1,
          1,
          1,
          1,
          1,
          1,
          2,
          1,
          1,
          2,
          1,
          2,
          2,
          1,
          1,
          1,
          1,
          1,
          1,
          1,
          1,
          1,
          1,
          1,
          1,
          1,
          1,
          1,
          1,
          1,
          1,
          1,
          1,
          1,
          2,
          1,
          1,
          1,
          1,
          1,
          3,
          1,
          1,
          1,
          1,
          1,
          1,
          1,
          1,
          1,
          1,
          1,
          1,
          1,
          1,
          1,
          2,
          1,
          1,
          2,
          1,
          1,
          1,
          1,
          1,
          1,
          3,
          1,
          1,
          2,
          1,
          1,
          1,
          2,
          2,
          2,
          1,
          1,
          2,
          1,
          1,
          1,
          1,
          1,
          1,
          1,
          1,
          1,
          1,
          1,
          1,
          1,
          1,
          1,
          1,
          1,
          1,
          1,
          1,
          1,
          1,
          1,
          1,
          2,
          1,
          1,
          1,
          1,
          2,
          1,
          1,
          1,
          1,
          1,
          1,
          2,
          1,
          2,
          2,
          3,
          1,
          1,
          1,
          4,
          1,
          1,
          1,
          1,
          1,
          1,
          1,
          1,
          2,
          2,
          2,
          1,
          4,
          1,
          1,
          1,
          1,
          1,
          1,
          1,
          1,
          1,
          2,
          1,
          1,
          1,
          1,
          1,
          1,
          1,
          1,
          1,
          1,
          2,
          1,
          1,
          1,
          1,
          1,
          1,
          1,
          1,
          1,
          1,
          1,
          1,
          2,
          2,
          1,
          1,
          1,
          1,
          1,
          1,
          1,
          1,
          1,
          1,
          1,
          1,
          1,
          1,
          1,
          1,
          1,
          3,
          1,
          2,
          1,
          1,
          1,
          1,
          1,
          1,
          1,
          1,
          1,
          1,
          1,
          1,
          4,
          2,
          1,
          1,
          1,
          1,
          1,
          3,
          1,
          1,
          1,
          2,
          1,
          1,
          1,
          1,
          2,
          1,
          1,
          1,
          1,
          1,
          1,
          1,
          1,
          1,
          1,
          1,
          1,
          1,
          2,
          2,
          2,
          1,
          1,
          1,
          1,
          1,
          1,
          1,
          1,
          2,
          1,
          1,
          1,
          1,
          1,
          2,
          1,
          1,
          1,
          1,
          1,
          1,
          1,
          2,
          1,
          1,
          1,
          4,
          1,
          1,
          1,
          1,
          1,
          1,
          1,
          1,
          1,
          1,
          2,
          1,
          1,
          1,
          3,
          1,
          2,
          1,
          1,
          1,
          2,
          1,
          1,
          2,
          1,
          2,
          1,
          1,
          2,
          1,
          1,
          1,
          1,
          1,
          1,
          1,
          1,
          1,
          1,
          1,
          1,
          1,
          1,
          1,
          1,
          2,
          1,
          1,
          1,
          1,
          1,
          1,
          1,
          1,
          1,
          1,
          1,
          4,
          1,
          1,
          1,
          1,
          1,
          1,
          2,
          1,
          1,
          2,
          3,
          2,
          1,
          1,
          2,
          1,
          1,
          1,
          2,
          1,
          1,
          1,
          1,
          1,
          2,
          1,
          1,
          1,
          1,
          1,
          1,
          1,
          1,
          1,
          1,
          1,
          1,
          1,
          2,
          1,
          2,
          1,
          3,
          1,
          1,
          1,
          1,
          1,
          1,
          1,
          1,
          1,
          3,
          1,
          1,
          1,
          1,
          1,
          1,
          1,
          1,
          1,
          1,
          1,
          1,
          1,
          1,
          1,
          1,
          1,
          1,
          1,
          1,
          2,
          1,
          1,
          1,
          1,
          3,
          1,
          1,
          2,
          1,
          1,
          1,
          1,
          1,
          1,
          1,
          1,
          1,
          1,
          1,
          4,
          1,
          1,
          1,
          1,
          1,
          1,
          1,
          1,
          3,
          1,
          1,
          1,
          1,
          1,
          1,
          1,
          1,
          1,
          1,
          1,
          1,
          1,
          1,
          1,
          1,
          2,
          1,
          1,
          1,
          1,
          1,
          1,
          3,
          1,
          1,
          1,
          1,
          1,
          1,
          1,
          1,
          1,
          1,
          2,
          2,
          1,
          1,
          1,
          1,
          2,
          1,
          1,
          1,
          2,
          1,
          1,
          1,
          1,
          1,
          1,
          1,
          1,
          1,
          1,
          1,
          1,
          1,
          1,
          1,
          1,
          1,
          1,
          1,
          1,
          1,
          1,
          1,
          1,
          1,
          1,
          1,
          1,
          1,
          1,
          1,
          1,
          1,
          1,
          1,
          1,
          1,
          1,
          2,
          1,
          1,
          1,
          1,
          1,
          1,
          1,
          1,
          1,
          1,
          1,
          1,
          1,
          1,
          1,
          1,
          1,
          1,
          1,
          1,
          1,
          1,
          1,
          1,
          1,
          1,
          1,
          1,
          1,
          1,
          1,
          1,
          1,
          1,
          1,
          1,
          1,
          1,
          1,
          1,
          1,
          1,
          2,
          1,
          1,
          1,
          1,
          1,
          1,
          1,
          1,
          1,
          1,
          1,
          1,
          2,
          2,
          1,
          1,
          1,
          1,
          1,
          1,
          1,
          1,
          1,
          1,
          1,
          1,
          1,
          2,
          1,
          1,
          1,
          1,
          2,
          1,
          1,
          1,
          1,
          2,
          1,
          1,
          1,
          1,
          1,
          2,
          2,
          1,
          1,
          1,
          1,
          1,
          1,
          1,
          1,
          1,
          2,
          1,
          1,
          1,
          1,
          1,
          1,
          1,
          1,
          1,
          1,
          1,
          1,
          1,
          1,
          1,
          1,
          2,
          1,
          1,
          1,
          1,
          1,
          1,
          1,
          1,
          1,
          1,
          1,
          1,
          1,
          1,
          1,
          1,
          1,
          1,
          1,
          1,
          1,
          3,
          1,
          1,
          1,
          1,
          1,
          1,
          1,
          1,
          1,
          1,
          2,
          1,
          1,
          2,
          1,
          1,
          1,
          1,
          1,
          1,
          1,
          1,
          1,
          1,
          1,
          1,
          1,
          1,
          1,
          1,
          1,
          1,
          1,
          1,
          1,
          2,
          1,
          2,
          2,
          1,
          1,
          1,
          2,
          1,
          1,
          1,
          1,
          1,
          1,
          1,
          1,
          2,
          1,
          1,
          1,
          1,
          1,
          1,
          1,
          1,
          1,
          1,
          1,
          1,
          2,
          2,
          1,
          1,
          1,
          1,
          1,
          1,
          1,
          2,
          1,
          1,
          1,
          1,
          1,
          2,
          1,
          1,
          1,
          1,
          1,
          1,
          1,
          1,
          1,
          1,
          1,
          1,
          1,
          1,
          1,
          1,
          2,
          1,
          1,
          1,
          1,
          1,
          1,
          1,
          1,
          2,
          1,
          1,
          1,
          1,
          1,
          1,
          1,
          1,
          1,
          1,
          1,
          1,
          1,
          1,
          1,
          1,
          1,
          1,
          1,
          1,
          1,
          1,
          1,
          1,
          1,
          1,
          1,
          1,
          1,
          1,
          1,
          1,
          1,
          1,
          1,
          1,
          1,
          1,
          1,
          1,
          1,
          1,
          1,
          2,
          1,
          1,
          1,
          1,
          1,
          1,
          1,
          1,
          1,
          1,
          1,
          1,
          1,
          1,
          1,
          1,
          1,
          1,
          1,
          1,
          1,
          1,
          1,
          1,
          1,
          1,
          1,
          1,
          2,
          1,
          1,
          1,
          1,
          1,
          1,
          1,
          1,
          1,
          1,
          1,
          1,
          1,
          1,
          3,
          1,
          1,
          1,
          2,
          1,
          1,
          1,
          1,
          1,
          1,
          2,
          1,
          1,
          1,
          1,
          1,
          1,
          1,
          1,
          1,
          1,
          1,
          1,
          1,
          1,
          1,
          1,
          1,
          1,
          1,
          2,
          1,
          1,
          1,
          1,
          1,
          1,
          1,
          1,
          1,
          1,
          1,
          1,
          1,
          1,
          1,
          1,
          2,
          1,
          1,
          1,
          1,
          1,
          1,
          1,
          1,
          1,
          1,
          1,
          1,
          1,
          1,
          1,
          1,
          2,
          1,
          1,
          1,
          2,
          1,
          1,
          1,
          1,
          1,
          1,
          1,
          1,
          1,
          1,
          1,
          1,
          1,
          1,
          1,
          1,
          1,
          1,
          1,
          1,
          1,
          1,
          1,
          1,
          1,
          1,
          1,
          1,
          1,
          1,
          1,
          1,
          1,
          1,
          1,
          1,
          1,
          1,
          1,
          1,
          1,
          1,
          1,
          1,
          2,
          1,
          1,
          1,
          1,
          1,
          2,
          1,
          1,
          1,
          1,
          1,
          1,
          1,
          1,
          1,
          1,
          1,
          1,
          1,
          1,
          1,
          1,
          1,
          1,
          1,
          1,
          1,
          1,
          1,
          1,
          1,
          2,
          1,
          1,
          2,
          1,
          1,
          1,
          1,
          1,
          1,
          1,
          1,
          1,
          1,
          1,
          1,
          1,
          1,
          1,
          1,
          2,
          1,
          1,
          1,
          1,
          1,
          1,
          1,
          1,
          1,
          1,
          1,
          1,
          1,
          1,
          1,
          1,
          1,
          1,
          1,
          1,
          1,
          1,
          1,
          1,
          1,
          1,
          1,
          1,
          1,
          1,
          1,
          1,
          1,
          1,
          1,
          1,
          1,
          1,
          1,
          1,
          1,
          1,
          1,
          1,
          1,
          2,
          1,
          1,
          1,
          1,
          1,
          1,
          1,
          1,
          1,
          1,
          1,
          1,
          2,
          1,
          1,
          1,
          1,
          1,
          1,
          1,
          1,
          1,
          1,
          1,
          1,
          1,
          1,
          1,
          1,
          1,
          1,
          1,
          1,
          1,
          2,
          1,
          1,
          1,
          1,
          1,
          1,
          1,
          1,
          1,
          1,
          1,
          1,
          1,
          1,
          1,
          1,
          1,
          1,
          1,
          1,
          1,
          1,
          1,
          1,
          1,
          1,
          1,
          1,
          1,
          1,
          1,
          1,
          1,
          1,
          1,
          1,
          1,
          1,
          1,
          1,
          2,
          1,
          1,
          1,
          1,
          1,
          1,
          1,
          1,
          1,
          1,
          1,
          1,
          1,
          1,
          1,
          1,
          1,
          1,
          1,
          1,
          1,
          1,
          1,
          1,
          1,
          1,
          1,
          1,
          1,
          1,
          1,
          1,
          1,
          1,
          1,
          1,
          1,
          1,
          1,
          1,
          1,
          1,
          1,
          1,
          1,
          1,
          1,
          1,
          1,
          1,
          1,
          1,
          1,
          1,
          1,
          1,
          1,
          1,
          1,
          1,
          1,
          1,
          1,
          1,
          1,
          1,
          1,
          1,
          1,
          1,
          1,
          1,
          2,
          1,
          1,
          1,
          1,
          1,
          1,
          1,
          1,
          1,
          1,
          1,
          1,
          1,
          1,
          1,
          1,
          1,
          1,
          1,
          1,
          1,
          1,
          1,
          1,
          1,
          1,
          1,
          1,
          1,
          1,
          1,
          1,
          1,
          1,
          1,
          1,
          1,
          1,
          1,
          1,
          1,
          1,
          1,
          1,
          1,
          1,
          1,
          1,
          1,
          1,
          1,
          1,
          1,
          1,
          1,
          1,
          1,
          1,
          2,
          1,
          1,
          1,
          1,
          1,
          1,
          1,
          1,
          1,
          1,
          1,
          1,
          1,
          1,
          1,
          1,
          1,
          1,
          1,
          1,
          1,
          1,
          1,
          1,
          1,
          1,
          1,
          1,
          1,
          1,
          1,
          1,
          1,
          1,
          1,
          1,
          1,
          1,
          1,
          1,
          1,
          1,
          1,
          1,
          1,
          1,
          1,
          1,
          1,
          1,
          1,
          1,
          1,
          1,
          1,
          1,
          1,
          1,
          1,
          1,
          1,
          1,
          1,
          1,
          1,
          1,
          1,
          1,
          1,
          2,
          1,
          1,
          1,
          2,
          1,
          1,
          1,
          1,
          1,
          1,
          1,
          1,
          1,
          1,
          1
         ],
         "yaxis": "y"
        }
       ],
       "layout": {
        "barmode": "relative",
        "legend": {
         "tracegroupgap": 0
        },
        "template": {
         "data": {
          "bar": [
           {
            "error_x": {
             "color": "#2a3f5f"
            },
            "error_y": {
             "color": "#2a3f5f"
            },
            "marker": {
             "line": {
              "color": "#E5ECF6",
              "width": 0.5
             },
             "pattern": {
              "fillmode": "overlay",
              "size": 10,
              "solidity": 0.2
             }
            },
            "type": "bar"
           }
          ],
          "barpolar": [
           {
            "marker": {
             "line": {
              "color": "#E5ECF6",
              "width": 0.5
             },
             "pattern": {
              "fillmode": "overlay",
              "size": 10,
              "solidity": 0.2
             }
            },
            "type": "barpolar"
           }
          ],
          "carpet": [
           {
            "aaxis": {
             "endlinecolor": "#2a3f5f",
             "gridcolor": "white",
             "linecolor": "white",
             "minorgridcolor": "white",
             "startlinecolor": "#2a3f5f"
            },
            "baxis": {
             "endlinecolor": "#2a3f5f",
             "gridcolor": "white",
             "linecolor": "white",
             "minorgridcolor": "white",
             "startlinecolor": "#2a3f5f"
            },
            "type": "carpet"
           }
          ],
          "choropleth": [
           {
            "colorbar": {
             "outlinewidth": 0,
             "ticks": ""
            },
            "type": "choropleth"
           }
          ],
          "contour": [
           {
            "colorbar": {
             "outlinewidth": 0,
             "ticks": ""
            },
            "colorscale": [
             [
              0,
              "#0d0887"
             ],
             [
              0.1111111111111111,
              "#46039f"
             ],
             [
              0.2222222222222222,
              "#7201a8"
             ],
             [
              0.3333333333333333,
              "#9c179e"
             ],
             [
              0.4444444444444444,
              "#bd3786"
             ],
             [
              0.5555555555555556,
              "#d8576b"
             ],
             [
              0.6666666666666666,
              "#ed7953"
             ],
             [
              0.7777777777777778,
              "#fb9f3a"
             ],
             [
              0.8888888888888888,
              "#fdca26"
             ],
             [
              1,
              "#f0f921"
             ]
            ],
            "type": "contour"
           }
          ],
          "contourcarpet": [
           {
            "colorbar": {
             "outlinewidth": 0,
             "ticks": ""
            },
            "type": "contourcarpet"
           }
          ],
          "heatmap": [
           {
            "colorbar": {
             "outlinewidth": 0,
             "ticks": ""
            },
            "colorscale": [
             [
              0,
              "#0d0887"
             ],
             [
              0.1111111111111111,
              "#46039f"
             ],
             [
              0.2222222222222222,
              "#7201a8"
             ],
             [
              0.3333333333333333,
              "#9c179e"
             ],
             [
              0.4444444444444444,
              "#bd3786"
             ],
             [
              0.5555555555555556,
              "#d8576b"
             ],
             [
              0.6666666666666666,
              "#ed7953"
             ],
             [
              0.7777777777777778,
              "#fb9f3a"
             ],
             [
              0.8888888888888888,
              "#fdca26"
             ],
             [
              1,
              "#f0f921"
             ]
            ],
            "type": "heatmap"
           }
          ],
          "heatmapgl": [
           {
            "colorbar": {
             "outlinewidth": 0,
             "ticks": ""
            },
            "colorscale": [
             [
              0,
              "#0d0887"
             ],
             [
              0.1111111111111111,
              "#46039f"
             ],
             [
              0.2222222222222222,
              "#7201a8"
             ],
             [
              0.3333333333333333,
              "#9c179e"
             ],
             [
              0.4444444444444444,
              "#bd3786"
             ],
             [
              0.5555555555555556,
              "#d8576b"
             ],
             [
              0.6666666666666666,
              "#ed7953"
             ],
             [
              0.7777777777777778,
              "#fb9f3a"
             ],
             [
              0.8888888888888888,
              "#fdca26"
             ],
             [
              1,
              "#f0f921"
             ]
            ],
            "type": "heatmapgl"
           }
          ],
          "histogram": [
           {
            "marker": {
             "pattern": {
              "fillmode": "overlay",
              "size": 10,
              "solidity": 0.2
             }
            },
            "type": "histogram"
           }
          ],
          "histogram2d": [
           {
            "colorbar": {
             "outlinewidth": 0,
             "ticks": ""
            },
            "colorscale": [
             [
              0,
              "#0d0887"
             ],
             [
              0.1111111111111111,
              "#46039f"
             ],
             [
              0.2222222222222222,
              "#7201a8"
             ],
             [
              0.3333333333333333,
              "#9c179e"
             ],
             [
              0.4444444444444444,
              "#bd3786"
             ],
             [
              0.5555555555555556,
              "#d8576b"
             ],
             [
              0.6666666666666666,
              "#ed7953"
             ],
             [
              0.7777777777777778,
              "#fb9f3a"
             ],
             [
              0.8888888888888888,
              "#fdca26"
             ],
             [
              1,
              "#f0f921"
             ]
            ],
            "type": "histogram2d"
           }
          ],
          "histogram2dcontour": [
           {
            "colorbar": {
             "outlinewidth": 0,
             "ticks": ""
            },
            "colorscale": [
             [
              0,
              "#0d0887"
             ],
             [
              0.1111111111111111,
              "#46039f"
             ],
             [
              0.2222222222222222,
              "#7201a8"
             ],
             [
              0.3333333333333333,
              "#9c179e"
             ],
             [
              0.4444444444444444,
              "#bd3786"
             ],
             [
              0.5555555555555556,
              "#d8576b"
             ],
             [
              0.6666666666666666,
              "#ed7953"
             ],
             [
              0.7777777777777778,
              "#fb9f3a"
             ],
             [
              0.8888888888888888,
              "#fdca26"
             ],
             [
              1,
              "#f0f921"
             ]
            ],
            "type": "histogram2dcontour"
           }
          ],
          "mesh3d": [
           {
            "colorbar": {
             "outlinewidth": 0,
             "ticks": ""
            },
            "type": "mesh3d"
           }
          ],
          "parcoords": [
           {
            "line": {
             "colorbar": {
              "outlinewidth": 0,
              "ticks": ""
             }
            },
            "type": "parcoords"
           }
          ],
          "pie": [
           {
            "automargin": true,
            "type": "pie"
           }
          ],
          "scatter": [
           {
            "fillpattern": {
             "fillmode": "overlay",
             "size": 10,
             "solidity": 0.2
            },
            "type": "scatter"
           }
          ],
          "scatter3d": [
           {
            "line": {
             "colorbar": {
              "outlinewidth": 0,
              "ticks": ""
             }
            },
            "marker": {
             "colorbar": {
              "outlinewidth": 0,
              "ticks": ""
             }
            },
            "type": "scatter3d"
           }
          ],
          "scattercarpet": [
           {
            "marker": {
             "colorbar": {
              "outlinewidth": 0,
              "ticks": ""
             }
            },
            "type": "scattercarpet"
           }
          ],
          "scattergeo": [
           {
            "marker": {
             "colorbar": {
              "outlinewidth": 0,
              "ticks": ""
             }
            },
            "type": "scattergeo"
           }
          ],
          "scattergl": [
           {
            "marker": {
             "colorbar": {
              "outlinewidth": 0,
              "ticks": ""
             }
            },
            "type": "scattergl"
           }
          ],
          "scattermapbox": [
           {
            "marker": {
             "colorbar": {
              "outlinewidth": 0,
              "ticks": ""
             }
            },
            "type": "scattermapbox"
           }
          ],
          "scatterpolar": [
           {
            "marker": {
             "colorbar": {
              "outlinewidth": 0,
              "ticks": ""
             }
            },
            "type": "scatterpolar"
           }
          ],
          "scatterpolargl": [
           {
            "marker": {
             "colorbar": {
              "outlinewidth": 0,
              "ticks": ""
             }
            },
            "type": "scatterpolargl"
           }
          ],
          "scatterternary": [
           {
            "marker": {
             "colorbar": {
              "outlinewidth": 0,
              "ticks": ""
             }
            },
            "type": "scatterternary"
           }
          ],
          "surface": [
           {
            "colorbar": {
             "outlinewidth": 0,
             "ticks": ""
            },
            "colorscale": [
             [
              0,
              "#0d0887"
             ],
             [
              0.1111111111111111,
              "#46039f"
             ],
             [
              0.2222222222222222,
              "#7201a8"
             ],
             [
              0.3333333333333333,
              "#9c179e"
             ],
             [
              0.4444444444444444,
              "#bd3786"
             ],
             [
              0.5555555555555556,
              "#d8576b"
             ],
             [
              0.6666666666666666,
              "#ed7953"
             ],
             [
              0.7777777777777778,
              "#fb9f3a"
             ],
             [
              0.8888888888888888,
              "#fdca26"
             ],
             [
              1,
              "#f0f921"
             ]
            ],
            "type": "surface"
           }
          ],
          "table": [
           {
            "cells": {
             "fill": {
              "color": "#EBF0F8"
             },
             "line": {
              "color": "white"
             }
            },
            "header": {
             "fill": {
              "color": "#C8D4E3"
             },
             "line": {
              "color": "white"
             }
            },
            "type": "table"
           }
          ]
         },
         "layout": {
          "annotationdefaults": {
           "arrowcolor": "#2a3f5f",
           "arrowhead": 0,
           "arrowwidth": 1
          },
          "autotypenumbers": "strict",
          "coloraxis": {
           "colorbar": {
            "outlinewidth": 0,
            "ticks": ""
           }
          },
          "colorscale": {
           "diverging": [
            [
             0,
             "#8e0152"
            ],
            [
             0.1,
             "#c51b7d"
            ],
            [
             0.2,
             "#de77ae"
            ],
            [
             0.3,
             "#f1b6da"
            ],
            [
             0.4,
             "#fde0ef"
            ],
            [
             0.5,
             "#f7f7f7"
            ],
            [
             0.6,
             "#e6f5d0"
            ],
            [
             0.7,
             "#b8e186"
            ],
            [
             0.8,
             "#7fbc41"
            ],
            [
             0.9,
             "#4d9221"
            ],
            [
             1,
             "#276419"
            ]
           ],
           "sequential": [
            [
             0,
             "#0d0887"
            ],
            [
             0.1111111111111111,
             "#46039f"
            ],
            [
             0.2222222222222222,
             "#7201a8"
            ],
            [
             0.3333333333333333,
             "#9c179e"
            ],
            [
             0.4444444444444444,
             "#bd3786"
            ],
            [
             0.5555555555555556,
             "#d8576b"
            ],
            [
             0.6666666666666666,
             "#ed7953"
            ],
            [
             0.7777777777777778,
             "#fb9f3a"
            ],
            [
             0.8888888888888888,
             "#fdca26"
            ],
            [
             1,
             "#f0f921"
            ]
           ],
           "sequentialminus": [
            [
             0,
             "#0d0887"
            ],
            [
             0.1111111111111111,
             "#46039f"
            ],
            [
             0.2222222222222222,
             "#7201a8"
            ],
            [
             0.3333333333333333,
             "#9c179e"
            ],
            [
             0.4444444444444444,
             "#bd3786"
            ],
            [
             0.5555555555555556,
             "#d8576b"
            ],
            [
             0.6666666666666666,
             "#ed7953"
            ],
            [
             0.7777777777777778,
             "#fb9f3a"
            ],
            [
             0.8888888888888888,
             "#fdca26"
            ],
            [
             1,
             "#f0f921"
            ]
           ]
          },
          "colorway": [
           "#636efa",
           "#EF553B",
           "#00cc96",
           "#ab63fa",
           "#FFA15A",
           "#19d3f3",
           "#FF6692",
           "#B6E880",
           "#FF97FF",
           "#FECB52"
          ],
          "font": {
           "color": "#2a3f5f"
          },
          "geo": {
           "bgcolor": "white",
           "lakecolor": "white",
           "landcolor": "#E5ECF6",
           "showlakes": true,
           "showland": true,
           "subunitcolor": "white"
          },
          "hoverlabel": {
           "align": "left"
          },
          "hovermode": "closest",
          "mapbox": {
           "style": "light"
          },
          "paper_bgcolor": "white",
          "plot_bgcolor": "#E5ECF6",
          "polar": {
           "angularaxis": {
            "gridcolor": "white",
            "linecolor": "white",
            "ticks": ""
           },
           "bgcolor": "#E5ECF6",
           "radialaxis": {
            "gridcolor": "white",
            "linecolor": "white",
            "ticks": ""
           }
          },
          "scene": {
           "xaxis": {
            "backgroundcolor": "#E5ECF6",
            "gridcolor": "white",
            "gridwidth": 2,
            "linecolor": "white",
            "showbackground": true,
            "ticks": "",
            "zerolinecolor": "white"
           },
           "yaxis": {
            "backgroundcolor": "#E5ECF6",
            "gridcolor": "white",
            "gridwidth": 2,
            "linecolor": "white",
            "showbackground": true,
            "ticks": "",
            "zerolinecolor": "white"
           },
           "zaxis": {
            "backgroundcolor": "#E5ECF6",
            "gridcolor": "white",
            "gridwidth": 2,
            "linecolor": "white",
            "showbackground": true,
            "ticks": "",
            "zerolinecolor": "white"
           }
          },
          "shapedefaults": {
           "line": {
            "color": "#2a3f5f"
           }
          },
          "ternary": {
           "aaxis": {
            "gridcolor": "white",
            "linecolor": "white",
            "ticks": ""
           },
           "baxis": {
            "gridcolor": "white",
            "linecolor": "white",
            "ticks": ""
           },
           "bgcolor": "#E5ECF6",
           "caxis": {
            "gridcolor": "white",
            "linecolor": "white",
            "ticks": ""
           }
          },
          "title": {
           "x": 0.05
          },
          "xaxis": {
           "automargin": true,
           "gridcolor": "white",
           "linecolor": "white",
           "ticks": "",
           "title": {
            "standoff": 15
           },
           "zerolinecolor": "white",
           "zerolinewidth": 2
          },
          "yaxis": {
           "automargin": true,
           "gridcolor": "white",
           "linecolor": "white",
           "ticks": "",
           "title": {
            "standoff": 15
           },
           "zerolinecolor": "white",
           "zerolinewidth": 2
          }
         }
        },
        "title": {
         "text": "Object files per amount of vertices (original)"
        },
        "xaxis": {
         "anchor": "y",
         "domain": [
          0,
          1
         ],
         "title": {
          "text": "faces"
         }
        },
        "yaxis": {
         "anchor": "x",
         "domain": [
          0,
          1
         ],
         "title": {
          "text": "sum of amount of object files"
         }
        }
       }
      }
     },
     "metadata": {},
     "output_type": "display_data"
    },
    {
     "data": {
      "application/vnd.plotly.v1+json": {
       "config": {
        "plotlyServerURL": "https://plot.ly"
       },
       "data": [
        {
         "alignmentgroup": "True",
         "bingroup": "x",
         "histfunc": "sum",
         "hovertemplate": "faces=%{x}<br>sum of amount of object files=%{y}<extra></extra>",
         "legendgroup": "",
         "marker": {
          "color": "lightslategray",
          "pattern": {
           "shape": ""
          }
         },
         "name": "",
         "nbinsx": 93,
         "offsetgroup": "",
         "orientation": "v",
         "showlegend": false,
         "type": "histogram",
         "x": [
          30,
          750,
          761,
          778,
          876,
          1255,
          1483,
          1526,
          1573,
          1633,
          1684,
          1826,
          1873,
          1917,
          2004,
          2083,
          2090,
          2106,
          2154,
          2197,
          2326,
          2343,
          2401,
          2418,
          2423,
          2467,
          2472,
          2528,
          2532,
          2555,
          2608,
          2643,
          2657,
          2673,
          2679,
          2694,
          2703,
          2745,
          2756,
          2765,
          2770,
          2790,
          2810,
          2879,
          2885,
          2894,
          2928,
          2938,
          2943,
          2944,
          2983,
          2985,
          2999,
          3001,
          3029,
          3032,
          3058,
          3059,
          3106,
          3111,
          3112,
          3113,
          3118,
          3119,
          3125,
          3149,
          3158,
          3173,
          3179,
          3186,
          3188,
          3190,
          3196,
          3198,
          3228,
          3237,
          3251,
          3257,
          3299,
          3330,
          3331,
          3335,
          3348,
          3349,
          3364,
          3387,
          3407,
          3408,
          3410,
          3421,
          3431,
          3448,
          3452,
          3456,
          3461,
          3471,
          3476,
          3498,
          3501,
          3505,
          3524,
          3528,
          3539,
          3562,
          3565,
          3566,
          3576,
          3580,
          3583,
          3631,
          3644,
          3656,
          3671,
          3688,
          3693,
          3695,
          3697,
          3700,
          3702,
          3704,
          3706,
          3730,
          3738,
          3741,
          3754,
          3759,
          3787,
          3790,
          3810,
          3813,
          3815,
          3822,
          3845,
          3851,
          3852,
          3855,
          3861,
          3870,
          3886,
          3892,
          3906,
          3912,
          3921,
          3938,
          3948,
          3955,
          3967,
          3976,
          3980,
          3983,
          3990,
          3995,
          3997,
          4027,
          4029,
          4078,
          4089,
          4092,
          4101,
          4103,
          4104,
          4113,
          4128,
          4136,
          4151,
          4157,
          4161,
          4171,
          4173,
          4176,
          4188,
          4198,
          4214,
          4218,
          4219,
          4248,
          4302,
          4304,
          4308,
          4324,
          4335,
          4336,
          4350,
          4365,
          4372,
          4394,
          4395,
          4413,
          4445,
          4471,
          4479,
          4492,
          4516,
          4537,
          4550,
          4564,
          4565,
          4567,
          4576,
          4637,
          4646,
          4656,
          4663,
          4666,
          4672,
          4687,
          4695,
          4696,
          4726,
          4732,
          4735,
          4736,
          4740,
          4749,
          4758,
          4759,
          4761,
          4765,
          4768,
          4771,
          4775,
          4786,
          4792,
          4807,
          4832,
          4839,
          4846,
          4850,
          4855,
          4858,
          4860,
          4867,
          4870,
          4884,
          4885,
          4887,
          4891,
          4897,
          4898,
          4908,
          4917,
          4924,
          4925,
          4948,
          4953,
          4958,
          4973,
          4980,
          5023,
          5033,
          5042,
          5054,
          5061,
          5063,
          5076,
          5078,
          5098,
          5113,
          5138,
          5140,
          5144,
          5146,
          5147,
          5170,
          5188,
          5204,
          5216,
          5217,
          5230,
          5234,
          5239,
          5241,
          5258,
          5292,
          5294,
          5306,
          5322,
          5324,
          5333,
          5339,
          5349,
          5365,
          5414,
          5462,
          5485,
          5489,
          5496,
          5498,
          5508,
          5509,
          5515,
          5524,
          5555,
          5557,
          5577,
          5617,
          5621,
          5631,
          5650,
          5661,
          5666,
          5671,
          5692,
          5694,
          5698,
          5723,
          5724,
          5727,
          5728,
          5730,
          5736,
          5747,
          5767,
          5800,
          5809,
          5822,
          5825,
          5830,
          5831,
          5832,
          5839,
          5846,
          5849,
          5854,
          5862,
          5866,
          5870,
          5873,
          5877,
          5885,
          5887,
          5909,
          5914,
          5923,
          5926,
          5933,
          5946,
          5970,
          5977,
          5984,
          6008,
          6012,
          6030,
          6082,
          6088,
          6089,
          6094,
          6095,
          6097,
          6123,
          6126,
          6132,
          6139,
          6165,
          6166,
          6169,
          6179,
          6193,
          6208,
          6226,
          6227,
          6231,
          6240,
          6247,
          6251,
          6257,
          6264,
          6268,
          6272,
          6279,
          6291,
          6299,
          6304,
          6330,
          6332,
          6334,
          6337,
          6342,
          6343,
          6347,
          6348,
          6350,
          6352,
          6365,
          6388,
          6389,
          6391,
          6392,
          6394,
          6397,
          6405,
          6408,
          6412,
          6416,
          6423,
          6426,
          6455,
          6480,
          6489,
          6490,
          6491,
          6500,
          6508,
          6524,
          6526,
          6542,
          6543,
          6551,
          6558,
          6561,
          6581,
          6592,
          6595,
          6605,
          6607,
          6614,
          6616,
          6618,
          6620,
          6626,
          6628,
          6630,
          6636,
          6644,
          6646,
          6649,
          6652,
          6657,
          6658,
          6662,
          6663,
          6665,
          6672,
          6673,
          6676,
          6682,
          6688,
          6691,
          6692,
          6694,
          6699,
          6701,
          6702,
          6704,
          6706,
          6734,
          6736,
          6744,
          6745,
          6750,
          6751,
          6753,
          6756,
          6769,
          6774,
          6776,
          6788,
          6794,
          6800,
          6804,
          6807,
          6817,
          6824,
          6826,
          6834,
          6836,
          6838,
          6839,
          6863,
          6866,
          6868,
          6869,
          6876,
          6878,
          6881,
          6888,
          6893,
          6894,
          6900,
          6909,
          6910,
          6919,
          6920,
          6922,
          6930,
          6932,
          6937,
          6943,
          6945,
          6948,
          6954,
          6964,
          6965,
          6966,
          6969,
          6971,
          6972,
          6976,
          6980,
          6991,
          6992,
          7003,
          7007,
          7009,
          7011,
          7019,
          7031,
          7036,
          7040,
          7051,
          7053,
          7056,
          7057,
          7060,
          7076,
          7083,
          7091,
          7094,
          7096,
          7103,
          7109,
          7110,
          7115,
          7116,
          7120,
          7121,
          7124,
          7130,
          7135,
          7136,
          7140,
          7142,
          7147,
          7148,
          7150,
          7152,
          7153,
          7157,
          7159,
          7161,
          7164,
          7165,
          7168,
          7192,
          7194,
          7197,
          7200,
          7203,
          7205,
          7208,
          7209,
          7212,
          7216,
          7218,
          7220,
          7221,
          7224,
          7226,
          7230,
          7234,
          7248,
          7253,
          7261,
          7262,
          7264,
          7267,
          7276,
          7278,
          7280,
          7282,
          7288,
          7290,
          7296,
          7297,
          7299,
          7304,
          7309,
          7312,
          7314,
          7318,
          7320,
          7328,
          7332,
          7335,
          7338,
          7339,
          7341,
          7346,
          7348,
          7349,
          7356,
          7365,
          7366,
          7372,
          7374,
          7376,
          7379,
          7386,
          7391,
          7397,
          7402,
          7406,
          7410,
          7412,
          7414,
          7415,
          7416,
          7420,
          7421,
          7422,
          7424,
          7427,
          7438,
          7440,
          7441,
          7442,
          7443,
          7444,
          7448,
          7451,
          7452,
          7453,
          7454,
          7456,
          7461,
          7464,
          7468,
          7472,
          7476,
          7479,
          7489,
          7498,
          7505,
          7508,
          7516,
          7521,
          7523,
          7524,
          7532,
          7534,
          7536,
          7538,
          7539,
          7540,
          7546,
          7549,
          7552,
          7555,
          7556,
          7560,
          7562,
          7564,
          7566,
          7567,
          7570,
          7573,
          7584,
          7586,
          7587,
          7589,
          7592,
          7598,
          7604,
          7607,
          7608,
          7610,
          7615,
          7616,
          7617,
          7618,
          7624,
          7633,
          7641,
          7647,
          7650,
          7661,
          7672,
          7674,
          7680,
          7681,
          7684,
          7690,
          7692,
          7696,
          7700,
          7707,
          7716,
          7720,
          7732,
          7734,
          7736,
          7740,
          7756,
          7760,
          7763,
          7772,
          7776,
          7780,
          7782,
          7791,
          7792,
          7796,
          7800,
          7802,
          7804,
          7808,
          7814,
          7824,
          7828,
          7839,
          7840,
          7842,
          7846,
          7848,
          7850,
          7851,
          7852,
          7860,
          7864,
          7868,
          7871,
          7872,
          7879,
          7880,
          7885,
          7888,
          7895,
          7897,
          7898,
          7899,
          7901,
          7902,
          7904,
          7907,
          7921,
          7922,
          7926,
          7936,
          7940,
          7943,
          7956,
          7958,
          7959,
          7966,
          7968,
          7975,
          7978,
          7980,
          7981,
          7985,
          7991,
          7999,
          8000,
          8007,
          8022,
          8027,
          8029,
          8034,
          8035,
          8036,
          8038,
          8042,
          8046,
          8048,
          8049,
          8051,
          8052,
          8054,
          8058,
          8059,
          8061,
          8062,
          8064,
          8066,
          8067,
          8068,
          8071,
          8073,
          8075,
          8076,
          8078,
          8079,
          8080,
          8081,
          8084,
          8088,
          8089,
          8090,
          8091,
          8092,
          8093,
          8094,
          8095,
          8096,
          8097,
          8098,
          8099,
          8100,
          8115,
          8116,
          8117,
          8128,
          8136,
          8138,
          8144,
          8160,
          8168,
          8176,
          8180,
          8192,
          8196,
          8213,
          8216,
          8218,
          8224,
          8230,
          8232,
          8236,
          8252,
          8254,
          8274,
          8288,
          8290,
          8300,
          8308,
          8312,
          8320,
          8324,
          8329,
          8336,
          8350,
          8368,
          8382,
          8384,
          8391,
          8402,
          8404,
          8413,
          8416,
          8417,
          8420,
          8434,
          8448,
          8456,
          8472,
          8487,
          8494,
          8496,
          8516,
          8524,
          8564,
          8570,
          8576,
          8592,
          8606,
          8621,
          8624,
          8628,
          8704,
          8892,
          8924,
          9317,
          9415,
          9525,
          9541,
          10492,
          10516,
          10949,
          10976,
          11154,
          11564,
          11789,
          12595,
          12652,
          12701,
          12730,
          12874,
          13179,
          13279,
          13486,
          13864,
          14063,
          14092,
          14688,
          14721,
          14951,
          15702,
          16171,
          16665,
          16722,
          16943,
          17037,
          17075,
          17132,
          17234,
          17398,
          17676,
          17706,
          17777,
          17948,
          18013,
          18038,
          18063,
          18075,
          18080,
          18614,
          18619,
          18712,
          18847,
          18970,
          19169,
          19413,
          19511,
          19576,
          19682,
          19735,
          19742,
          19845,
          20049,
          20089,
          20321,
          20730,
          21264,
          21547,
          21728,
          21741,
          21885,
          21890,
          22030,
          22119,
          22400,
          22441,
          22548,
          22636,
          22923,
          23037,
          23873,
          23874,
          24384,
          24728,
          24864,
          24888,
          25308,
          25794,
          25806,
          27552,
          29310,
          30261,
          31218,
          33993,
          34776
         ],
         "xaxis": "x",
         "y": [
          1,
          1,
          1,
          1,
          1,
          1,
          1,
          1,
          1,
          1,
          1,
          1,
          1,
          1,
          1,
          1,
          1,
          1,
          1,
          1,
          1,
          1,
          1,
          1,
          1,
          1,
          1,
          1,
          1,
          1,
          1,
          1,
          1,
          1,
          1,
          1,
          1,
          1,
          1,
          1,
          1,
          1,
          1,
          1,
          1,
          1,
          1,
          1,
          1,
          1,
          1,
          2,
          1,
          1,
          1,
          1,
          1,
          1,
          1,
          1,
          1,
          1,
          1,
          1,
          1,
          1,
          1,
          2,
          1,
          1,
          1,
          1,
          1,
          1,
          1,
          1,
          1,
          1,
          1,
          1,
          1,
          1,
          1,
          1,
          1,
          1,
          1,
          1,
          1,
          1,
          1,
          1,
          1,
          1,
          1,
          1,
          1,
          1,
          1,
          1,
          1,
          1,
          1,
          1,
          1,
          1,
          1,
          1,
          1,
          1,
          1,
          1,
          1,
          1,
          1,
          1,
          1,
          1,
          1,
          1,
          1,
          1,
          1,
          1,
          1,
          1,
          1,
          1,
          1,
          1,
          2,
          1,
          1,
          1,
          1,
          1,
          1,
          1,
          1,
          1,
          1,
          1,
          1,
          1,
          1,
          1,
          1,
          1,
          1,
          1,
          1,
          1,
          1,
          1,
          1,
          1,
          1,
          1,
          1,
          1,
          1,
          1,
          1,
          1,
          1,
          1,
          2,
          1,
          1,
          1,
          1,
          1,
          1,
          1,
          1,
          1,
          1,
          1,
          1,
          1,
          1,
          1,
          2,
          1,
          1,
          1,
          1,
          1,
          1,
          1,
          1,
          1,
          1,
          1,
          1,
          1,
          1,
          1,
          1,
          1,
          2,
          1,
          1,
          1,
          1,
          1,
          1,
          1,
          1,
          2,
          1,
          1,
          1,
          1,
          1,
          1,
          1,
          1,
          2,
          1,
          1,
          1,
          1,
          2,
          1,
          1,
          1,
          1,
          1,
          1,
          1,
          1,
          1,
          1,
          1,
          4,
          1,
          1,
          1,
          1,
          1,
          1,
          1,
          1,
          1,
          1,
          1,
          1,
          1,
          1,
          1,
          2,
          1,
          1,
          1,
          1,
          1,
          1,
          1,
          1,
          1,
          2,
          1,
          1,
          1,
          1,
          2,
          1,
          1,
          1,
          2,
          1,
          1,
          1,
          1,
          1,
          1,
          1,
          1,
          1,
          1,
          1,
          1,
          1,
          1,
          2,
          1,
          1,
          1,
          1,
          1,
          1,
          1,
          2,
          1,
          1,
          1,
          1,
          1,
          1,
          1,
          2,
          1,
          1,
          1,
          1,
          1,
          1,
          1,
          1,
          1,
          2,
          1,
          1,
          1,
          2,
          1,
          1,
          1,
          1,
          1,
          1,
          2,
          1,
          1,
          1,
          1,
          1,
          1,
          2,
          1,
          1,
          1,
          1,
          1,
          1,
          2,
          1,
          2,
          1,
          1,
          2,
          1,
          1,
          1,
          1,
          1,
          1,
          1,
          1,
          1,
          1,
          1,
          2,
          3,
          1,
          1,
          1,
          1,
          1,
          1,
          1,
          1,
          1,
          1,
          1,
          1,
          1,
          1,
          1,
          1,
          1,
          1,
          1,
          1,
          1,
          1,
          1,
          1,
          2,
          1,
          1,
          1,
          1,
          1,
          1,
          1,
          2,
          2,
          1,
          1,
          1,
          1,
          1,
          1,
          1,
          1,
          2,
          1,
          1,
          2,
          1,
          2,
          1,
          1,
          1,
          1,
          1,
          1,
          1,
          1,
          1,
          1,
          1,
          1,
          1,
          1,
          2,
          1,
          1,
          1,
          2,
          1,
          1,
          2,
          1,
          1,
          1,
          1,
          3,
          1,
          1,
          3,
          1,
          1,
          1,
          2,
          2,
          1,
          1,
          2,
          2,
          1,
          1,
          1,
          1,
          1,
          1,
          1,
          1,
          1,
          1,
          1,
          1,
          1,
          1,
          1,
          1,
          1,
          1,
          1,
          1,
          1,
          1,
          1,
          1,
          1,
          1,
          1,
          1,
          1,
          1,
          1,
          1,
          2,
          1,
          1,
          1,
          1,
          1,
          1,
          1,
          1,
          1,
          2,
          1,
          2,
          1,
          1,
          1,
          1,
          1,
          1,
          1,
          1,
          2,
          2,
          2,
          1,
          1,
          2,
          1,
          1,
          1,
          1,
          3,
          1,
          1,
          3,
          1,
          1,
          1,
          1,
          1,
          3,
          1,
          1,
          1,
          1,
          1,
          1,
          3,
          1,
          1,
          1,
          1,
          2,
          1,
          1,
          2,
          1,
          2,
          1,
          2,
          1,
          1,
          1,
          3,
          3,
          1,
          1,
          1,
          2,
          1,
          1,
          1,
          1,
          1,
          1,
          1,
          2,
          1,
          2,
          1,
          1,
          1,
          1,
          1,
          1,
          1,
          2,
          1,
          2,
          1,
          1,
          1,
          1,
          1,
          2,
          1,
          1,
          1,
          3,
          1,
          1,
          1,
          1,
          1,
          1,
          1,
          1,
          1,
          4,
          1,
          1,
          3,
          2,
          2,
          2,
          1,
          1,
          3,
          1,
          1,
          1,
          1,
          1,
          2,
          1,
          1,
          2,
          1,
          1,
          1,
          1,
          1,
          1,
          1,
          1,
          1,
          1,
          1,
          1,
          3,
          1,
          1,
          1,
          1,
          1,
          1,
          1,
          1,
          1,
          2,
          1,
          1,
          2,
          3,
          1,
          1,
          1,
          1,
          1,
          1,
          2,
          1,
          1,
          1,
          1,
          1,
          2,
          2,
          1,
          1,
          1,
          1,
          1,
          1,
          1,
          1,
          3,
          2,
          1,
          1,
          1,
          1,
          2,
          1,
          1,
          1,
          2,
          2,
          1,
          1,
          1,
          1,
          1,
          3,
          1,
          1,
          1,
          1,
          1,
          1,
          1,
          1,
          1,
          1,
          3,
          1,
          1,
          1,
          1,
          3,
          3,
          1,
          1,
          1,
          1,
          1,
          1,
          1,
          1,
          2,
          1,
          1,
          1,
          1,
          1,
          1,
          1,
          1,
          1,
          1,
          2,
          2,
          1,
          1,
          1,
          1,
          2,
          2,
          1,
          2,
          1,
          1,
          1,
          1,
          1,
          1,
          1,
          2,
          2,
          3,
          1,
          2,
          1,
          1,
          1,
          1,
          1,
          1,
          1,
          1,
          1,
          1,
          1,
          1,
          1,
          1,
          1,
          2,
          1,
          1,
          1,
          1,
          2,
          1,
          1,
          1,
          2,
          1,
          1,
          1,
          1,
          2,
          1,
          1,
          1,
          3,
          1,
          1,
          1,
          2,
          1,
          2,
          2,
          2,
          1,
          1,
          1,
          1,
          1,
          2,
          2,
          1,
          2,
          1,
          3,
          1,
          1,
          2,
          4,
          1,
          1,
          1,
          2,
          2,
          4,
          4,
          4,
          4,
          5,
          7,
          5,
          12,
          400,
          944,
          1,
          1,
          1,
          1,
          1,
          1,
          1,
          1,
          1,
          1,
          1,
          2,
          1,
          1,
          1,
          1,
          1,
          1,
          1,
          1,
          1,
          1,
          1,
          2,
          1,
          1,
          1,
          1,
          1,
          2,
          1,
          1,
          1,
          1,
          1,
          1,
          1,
          1,
          1,
          1,
          1,
          1,
          1,
          1,
          2,
          1,
          1,
          1,
          1,
          1,
          1,
          1,
          1,
          1,
          2,
          3,
          1,
          1,
          1,
          1,
          2,
          1,
          1,
          1,
          1,
          1,
          1,
          1,
          1,
          1,
          1,
          1,
          1,
          1,
          1,
          2,
          1,
          1,
          1,
          1,
          1,
          1,
          1,
          1,
          1,
          1,
          1,
          1,
          1,
          1,
          1,
          1,
          1,
          1,
          1,
          1,
          1,
          1,
          1,
          1,
          1,
          1,
          1,
          1,
          1,
          1,
          1,
          1,
          1,
          1,
          1,
          1,
          1,
          1,
          1,
          1,
          1,
          1,
          1,
          1,
          1,
          1,
          1,
          1,
          1,
          1,
          1,
          1,
          1,
          1,
          1,
          1,
          1,
          1,
          1,
          1,
          1,
          1,
          1,
          1,
          1,
          1,
          1,
          1,
          1,
          1,
          1,
          1,
          1,
          1,
          1,
          1,
          1
         ],
         "yaxis": "y"
        }
       ],
       "layout": {
        "barmode": "relative",
        "legend": {
         "tracegroupgap": 0
        },
        "template": {
         "data": {
          "bar": [
           {
            "error_x": {
             "color": "#2a3f5f"
            },
            "error_y": {
             "color": "#2a3f5f"
            },
            "marker": {
             "line": {
              "color": "#E5ECF6",
              "width": 0.5
             },
             "pattern": {
              "fillmode": "overlay",
              "size": 10,
              "solidity": 0.2
             }
            },
            "type": "bar"
           }
          ],
          "barpolar": [
           {
            "marker": {
             "line": {
              "color": "#E5ECF6",
              "width": 0.5
             },
             "pattern": {
              "fillmode": "overlay",
              "size": 10,
              "solidity": 0.2
             }
            },
            "type": "barpolar"
           }
          ],
          "carpet": [
           {
            "aaxis": {
             "endlinecolor": "#2a3f5f",
             "gridcolor": "white",
             "linecolor": "white",
             "minorgridcolor": "white",
             "startlinecolor": "#2a3f5f"
            },
            "baxis": {
             "endlinecolor": "#2a3f5f",
             "gridcolor": "white",
             "linecolor": "white",
             "minorgridcolor": "white",
             "startlinecolor": "#2a3f5f"
            },
            "type": "carpet"
           }
          ],
          "choropleth": [
           {
            "colorbar": {
             "outlinewidth": 0,
             "ticks": ""
            },
            "type": "choropleth"
           }
          ],
          "contour": [
           {
            "colorbar": {
             "outlinewidth": 0,
             "ticks": ""
            },
            "colorscale": [
             [
              0,
              "#0d0887"
             ],
             [
              0.1111111111111111,
              "#46039f"
             ],
             [
              0.2222222222222222,
              "#7201a8"
             ],
             [
              0.3333333333333333,
              "#9c179e"
             ],
             [
              0.4444444444444444,
              "#bd3786"
             ],
             [
              0.5555555555555556,
              "#d8576b"
             ],
             [
              0.6666666666666666,
              "#ed7953"
             ],
             [
              0.7777777777777778,
              "#fb9f3a"
             ],
             [
              0.8888888888888888,
              "#fdca26"
             ],
             [
              1,
              "#f0f921"
             ]
            ],
            "type": "contour"
           }
          ],
          "contourcarpet": [
           {
            "colorbar": {
             "outlinewidth": 0,
             "ticks": ""
            },
            "type": "contourcarpet"
           }
          ],
          "heatmap": [
           {
            "colorbar": {
             "outlinewidth": 0,
             "ticks": ""
            },
            "colorscale": [
             [
              0,
              "#0d0887"
             ],
             [
              0.1111111111111111,
              "#46039f"
             ],
             [
              0.2222222222222222,
              "#7201a8"
             ],
             [
              0.3333333333333333,
              "#9c179e"
             ],
             [
              0.4444444444444444,
              "#bd3786"
             ],
             [
              0.5555555555555556,
              "#d8576b"
             ],
             [
              0.6666666666666666,
              "#ed7953"
             ],
             [
              0.7777777777777778,
              "#fb9f3a"
             ],
             [
              0.8888888888888888,
              "#fdca26"
             ],
             [
              1,
              "#f0f921"
             ]
            ],
            "type": "heatmap"
           }
          ],
          "heatmapgl": [
           {
            "colorbar": {
             "outlinewidth": 0,
             "ticks": ""
            },
            "colorscale": [
             [
              0,
              "#0d0887"
             ],
             [
              0.1111111111111111,
              "#46039f"
             ],
             [
              0.2222222222222222,
              "#7201a8"
             ],
             [
              0.3333333333333333,
              "#9c179e"
             ],
             [
              0.4444444444444444,
              "#bd3786"
             ],
             [
              0.5555555555555556,
              "#d8576b"
             ],
             [
              0.6666666666666666,
              "#ed7953"
             ],
             [
              0.7777777777777778,
              "#fb9f3a"
             ],
             [
              0.8888888888888888,
              "#fdca26"
             ],
             [
              1,
              "#f0f921"
             ]
            ],
            "type": "heatmapgl"
           }
          ],
          "histogram": [
           {
            "marker": {
             "pattern": {
              "fillmode": "overlay",
              "size": 10,
              "solidity": 0.2
             }
            },
            "type": "histogram"
           }
          ],
          "histogram2d": [
           {
            "colorbar": {
             "outlinewidth": 0,
             "ticks": ""
            },
            "colorscale": [
             [
              0,
              "#0d0887"
             ],
             [
              0.1111111111111111,
              "#46039f"
             ],
             [
              0.2222222222222222,
              "#7201a8"
             ],
             [
              0.3333333333333333,
              "#9c179e"
             ],
             [
              0.4444444444444444,
              "#bd3786"
             ],
             [
              0.5555555555555556,
              "#d8576b"
             ],
             [
              0.6666666666666666,
              "#ed7953"
             ],
             [
              0.7777777777777778,
              "#fb9f3a"
             ],
             [
              0.8888888888888888,
              "#fdca26"
             ],
             [
              1,
              "#f0f921"
             ]
            ],
            "type": "histogram2d"
           }
          ],
          "histogram2dcontour": [
           {
            "colorbar": {
             "outlinewidth": 0,
             "ticks": ""
            },
            "colorscale": [
             [
              0,
              "#0d0887"
             ],
             [
              0.1111111111111111,
              "#46039f"
             ],
             [
              0.2222222222222222,
              "#7201a8"
             ],
             [
              0.3333333333333333,
              "#9c179e"
             ],
             [
              0.4444444444444444,
              "#bd3786"
             ],
             [
              0.5555555555555556,
              "#d8576b"
             ],
             [
              0.6666666666666666,
              "#ed7953"
             ],
             [
              0.7777777777777778,
              "#fb9f3a"
             ],
             [
              0.8888888888888888,
              "#fdca26"
             ],
             [
              1,
              "#f0f921"
             ]
            ],
            "type": "histogram2dcontour"
           }
          ],
          "mesh3d": [
           {
            "colorbar": {
             "outlinewidth": 0,
             "ticks": ""
            },
            "type": "mesh3d"
           }
          ],
          "parcoords": [
           {
            "line": {
             "colorbar": {
              "outlinewidth": 0,
              "ticks": ""
             }
            },
            "type": "parcoords"
           }
          ],
          "pie": [
           {
            "automargin": true,
            "type": "pie"
           }
          ],
          "scatter": [
           {
            "fillpattern": {
             "fillmode": "overlay",
             "size": 10,
             "solidity": 0.2
            },
            "type": "scatter"
           }
          ],
          "scatter3d": [
           {
            "line": {
             "colorbar": {
              "outlinewidth": 0,
              "ticks": ""
             }
            },
            "marker": {
             "colorbar": {
              "outlinewidth": 0,
              "ticks": ""
             }
            },
            "type": "scatter3d"
           }
          ],
          "scattercarpet": [
           {
            "marker": {
             "colorbar": {
              "outlinewidth": 0,
              "ticks": ""
             }
            },
            "type": "scattercarpet"
           }
          ],
          "scattergeo": [
           {
            "marker": {
             "colorbar": {
              "outlinewidth": 0,
              "ticks": ""
             }
            },
            "type": "scattergeo"
           }
          ],
          "scattergl": [
           {
            "marker": {
             "colorbar": {
              "outlinewidth": 0,
              "ticks": ""
             }
            },
            "type": "scattergl"
           }
          ],
          "scattermapbox": [
           {
            "marker": {
             "colorbar": {
              "outlinewidth": 0,
              "ticks": ""
             }
            },
            "type": "scattermapbox"
           }
          ],
          "scatterpolar": [
           {
            "marker": {
             "colorbar": {
              "outlinewidth": 0,
              "ticks": ""
             }
            },
            "type": "scatterpolar"
           }
          ],
          "scatterpolargl": [
           {
            "marker": {
             "colorbar": {
              "outlinewidth": 0,
              "ticks": ""
             }
            },
            "type": "scatterpolargl"
           }
          ],
          "scatterternary": [
           {
            "marker": {
             "colorbar": {
              "outlinewidth": 0,
              "ticks": ""
             }
            },
            "type": "scatterternary"
           }
          ],
          "surface": [
           {
            "colorbar": {
             "outlinewidth": 0,
             "ticks": ""
            },
            "colorscale": [
             [
              0,
              "#0d0887"
             ],
             [
              0.1111111111111111,
              "#46039f"
             ],
             [
              0.2222222222222222,
              "#7201a8"
             ],
             [
              0.3333333333333333,
              "#9c179e"
             ],
             [
              0.4444444444444444,
              "#bd3786"
             ],
             [
              0.5555555555555556,
              "#d8576b"
             ],
             [
              0.6666666666666666,
              "#ed7953"
             ],
             [
              0.7777777777777778,
              "#fb9f3a"
             ],
             [
              0.8888888888888888,
              "#fdca26"
             ],
             [
              1,
              "#f0f921"
             ]
            ],
            "type": "surface"
           }
          ],
          "table": [
           {
            "cells": {
             "fill": {
              "color": "#EBF0F8"
             },
             "line": {
              "color": "white"
             }
            },
            "header": {
             "fill": {
              "color": "#C8D4E3"
             },
             "line": {
              "color": "white"
             }
            },
            "type": "table"
           }
          ]
         },
         "layout": {
          "annotationdefaults": {
           "arrowcolor": "#2a3f5f",
           "arrowhead": 0,
           "arrowwidth": 1
          },
          "autotypenumbers": "strict",
          "coloraxis": {
           "colorbar": {
            "outlinewidth": 0,
            "ticks": ""
           }
          },
          "colorscale": {
           "diverging": [
            [
             0,
             "#8e0152"
            ],
            [
             0.1,
             "#c51b7d"
            ],
            [
             0.2,
             "#de77ae"
            ],
            [
             0.3,
             "#f1b6da"
            ],
            [
             0.4,
             "#fde0ef"
            ],
            [
             0.5,
             "#f7f7f7"
            ],
            [
             0.6,
             "#e6f5d0"
            ],
            [
             0.7,
             "#b8e186"
            ],
            [
             0.8,
             "#7fbc41"
            ],
            [
             0.9,
             "#4d9221"
            ],
            [
             1,
             "#276419"
            ]
           ],
           "sequential": [
            [
             0,
             "#0d0887"
            ],
            [
             0.1111111111111111,
             "#46039f"
            ],
            [
             0.2222222222222222,
             "#7201a8"
            ],
            [
             0.3333333333333333,
             "#9c179e"
            ],
            [
             0.4444444444444444,
             "#bd3786"
            ],
            [
             0.5555555555555556,
             "#d8576b"
            ],
            [
             0.6666666666666666,
             "#ed7953"
            ],
            [
             0.7777777777777778,
             "#fb9f3a"
            ],
            [
             0.8888888888888888,
             "#fdca26"
            ],
            [
             1,
             "#f0f921"
            ]
           ],
           "sequentialminus": [
            [
             0,
             "#0d0887"
            ],
            [
             0.1111111111111111,
             "#46039f"
            ],
            [
             0.2222222222222222,
             "#7201a8"
            ],
            [
             0.3333333333333333,
             "#9c179e"
            ],
            [
             0.4444444444444444,
             "#bd3786"
            ],
            [
             0.5555555555555556,
             "#d8576b"
            ],
            [
             0.6666666666666666,
             "#ed7953"
            ],
            [
             0.7777777777777778,
             "#fb9f3a"
            ],
            [
             0.8888888888888888,
             "#fdca26"
            ],
            [
             1,
             "#f0f921"
            ]
           ]
          },
          "colorway": [
           "#636efa",
           "#EF553B",
           "#00cc96",
           "#ab63fa",
           "#FFA15A",
           "#19d3f3",
           "#FF6692",
           "#B6E880",
           "#FF97FF",
           "#FECB52"
          ],
          "font": {
           "color": "#2a3f5f"
          },
          "geo": {
           "bgcolor": "white",
           "lakecolor": "white",
           "landcolor": "#E5ECF6",
           "showlakes": true,
           "showland": true,
           "subunitcolor": "white"
          },
          "hoverlabel": {
           "align": "left"
          },
          "hovermode": "closest",
          "mapbox": {
           "style": "light"
          },
          "paper_bgcolor": "white",
          "plot_bgcolor": "#E5ECF6",
          "polar": {
           "angularaxis": {
            "gridcolor": "white",
            "linecolor": "white",
            "ticks": ""
           },
           "bgcolor": "#E5ECF6",
           "radialaxis": {
            "gridcolor": "white",
            "linecolor": "white",
            "ticks": ""
           }
          },
          "scene": {
           "xaxis": {
            "backgroundcolor": "#E5ECF6",
            "gridcolor": "white",
            "gridwidth": 2,
            "linecolor": "white",
            "showbackground": true,
            "ticks": "",
            "zerolinecolor": "white"
           },
           "yaxis": {
            "backgroundcolor": "#E5ECF6",
            "gridcolor": "white",
            "gridwidth": 2,
            "linecolor": "white",
            "showbackground": true,
            "ticks": "",
            "zerolinecolor": "white"
           },
           "zaxis": {
            "backgroundcolor": "#E5ECF6",
            "gridcolor": "white",
            "gridwidth": 2,
            "linecolor": "white",
            "showbackground": true,
            "ticks": "",
            "zerolinecolor": "white"
           }
          },
          "shapedefaults": {
           "line": {
            "color": "#2a3f5f"
           }
          },
          "ternary": {
           "aaxis": {
            "gridcolor": "white",
            "linecolor": "white",
            "ticks": ""
           },
           "baxis": {
            "gridcolor": "white",
            "linecolor": "white",
            "ticks": ""
           },
           "bgcolor": "#E5ECF6",
           "caxis": {
            "gridcolor": "white",
            "linecolor": "white",
            "ticks": ""
           }
          },
          "title": {
           "x": 0.05
          },
          "xaxis": {
           "automargin": true,
           "gridcolor": "white",
           "linecolor": "white",
           "ticks": "",
           "title": {
            "standoff": 15
           },
           "zerolinecolor": "white",
           "zerolinewidth": 2
          },
          "yaxis": {
           "automargin": true,
           "gridcolor": "white",
           "linecolor": "white",
           "ticks": "",
           "title": {
            "standoff": 15
           },
           "zerolinecolor": "white",
           "zerolinewidth": 2
          }
         }
        },
        "title": {
         "text": "Object files per amount of vertices (resampled)"
        },
        "xaxis": {
         "anchor": "y",
         "domain": [
          0,
          1
         ],
         "title": {
          "text": "faces"
         }
        },
        "yaxis": {
         "anchor": "x",
         "domain": [
          0,
          1
         ],
         "title": {
          "text": "sum of amount of object files"
         }
        }
       }
      }
     },
     "metadata": {},
     "output_type": "display_data"
    }
   ],
   "source": [
    "# X: vertices/faces\n",
    "# Y: shapes amount\n",
    "df_groups_before = df.groupby(\"faces\").size()\n",
    "\n",
    "fig = px.histogram(df_groups_before, x=df_groups_before.index, y=df_groups_before, nbins=93, labels=dict(y=\"amount of object files\"), title=\"Object files per amount of vertices (original)\")\n",
    "fig.update_traces(marker_color='lightslategray')\n",
    "fig.show()\n",
    "\n",
    "df_groups_after = df_resampled.groupby(\"faces\").size()\n",
    "\n",
    "# display(df_groups_after)\n",
    "\n",
    "fig = px.histogram(df_groups_after, x=df_groups_after.index, y=df_groups_after, nbins=93, labels=dict(y=\"amount of object files\"), title=\"Object files per amount of vertices (resampled)\")\n",
    "fig.update_traces(marker_color='lightslategray')\n",
    "fig.show()\n"
   ]
  }
 ],
 "metadata": {
  "kernelspec": {
   "display_name": "Python 3",
   "language": "python",
   "name": "python3"
  },
  "language_info": {
   "codemirror_mode": {
    "name": "ipython",
    "version": 3
   },
   "file_extension": ".py",
   "mimetype": "text/x-python",
   "name": "python",
   "nbconvert_exporter": "python",
   "pygments_lexer": "ipython3",
   "version": "3.11.8"
  }
 },
 "nbformat": 4,
 "nbformat_minor": 2
}

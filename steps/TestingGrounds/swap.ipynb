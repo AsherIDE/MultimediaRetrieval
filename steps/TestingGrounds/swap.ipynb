{
 "cells": [
  {
   "cell_type": "code",
   "execution_count": 2,
   "metadata": {},
   "outputs": [
    {
     "name": "stdout",
     "output_type": "stream",
     "text": [
      "CSV file updated successfully.\n"
     ]
    }
   ],
   "source": [
    "import pandas as pd\n",
    "\n",
    "# Load the original CSV file\n",
    "original_df = pd.read_csv('dataBaseWithNewMetrics.csv')\n",
    "\n",
    "# Load the CSV file with the new values\n",
    "new_values_df = pd.read_csv('newMetrics.csv')\n",
    "\n",
    "# Remove '_normalized' from the 'name' column in the new values dataframe\n",
    "new_values_df['name'] = new_values_df['name'].str.replace('_normalized', '')\n",
    "\n",
    "# Merge the dataframes based on the 'name' column\n",
    "merged_df = original_df.merge(new_values_df[['name', 'compactnessObj', 'rectangularityObj', 'convexityObj']], on='name', suffixes=('', '_new'))\n",
    "\n",
    "# Update the columns with the new values\n",
    "for column in ['compactnessObj', 'rectangularityObj', 'convexityObj']:\n",
    "    merged_df[column] = merged_df[f'{column}_new']\n",
    "\n",
    "# Drop the temporary columns\n",
    "merged_df.drop(columns=[f'{column}_new' for column in ['compactnessObj', 'rectangularityObj', 'convexityObj']], inplace=True)\n",
    "\n",
    "# Save the updated dataframe to a new CSV file\n",
    "merged_df.to_csv('updated.csv', index=False)\n",
    "\n",
    "print(\"CSV file updated successfully.\")\n"
   ]
  }
 ],
 "metadata": {
  "kernelspec": {
   "display_name": "Python 3",
   "language": "python",
   "name": "python3"
  },
  "language_info": {
   "codemirror_mode": {
    "name": "ipython",
    "version": 3
   },
   "file_extension": ".py",
   "mimetype": "text/x-python",
   "name": "python",
   "nbconvert_exporter": "python",
   "pygments_lexer": "ipython3",
   "version": "3.11.8"
  }
 },
 "nbformat": 4,
 "nbformat_minor": 2
}
